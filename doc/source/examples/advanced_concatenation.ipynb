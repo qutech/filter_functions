{
 "cells": [
  {
   "cell_type": "markdown",
   "metadata": {},
   "source": [
    "# Advanced Concatenation\n",
    "## Sequencing primitive gates to a Hadamard\n",
    "In this example we want implement a Hadamard gate,\n",
    "\n",
    "$$\n",
    "    \\text{H}\\doteq\\frac{1}{\\sqrt{2}}\n",
    "        \\begin{pmatrix}\n",
    "            1 &  1 \\\\\n",
    "            1 & -1\n",
    "        \\end{pmatrix},\n",
    "$$\n",
    "\n",
    "using $\\pi/2$ rotations about the $x$- and $y$-axis of the Bloch sphere, $\\pi/2_x$ and $\\pi/2_y$, once with optimized gates and once with primitive ones. The Hadamard transform is given by\n",
    "\n",
    "$$\n",
    "    \\text{H} = \\pi/2_x \\circ \\pi/2_x \\circ \\pi/2_y.\n",
    "$$\n",
    "\n",
    "The optimized gates we shall use are the exchange-based singlet-triplet qubit gates presented in [Cerfontaine et al. (2019)]. For a single qubit, the control Hamiltonian reads\n",
    "\n",
    "$$\n",
    "    {H}_c = \\Delta B_z \\frac{\\sigma_x}{2} + J(\\epsilon)\\frac{\\sigma_z}{2}\n",
    "$$\n",
    "\n",
    "with $\\Delta B_z$ the magnetic field gradient and $J(\\epsilon) = \\exp(\\epsilon)$ the exchange coupling a function of the controllable detuning. Note again that, since we use $\\hbar\\equiv 1$, all energies have units of inverse time, $\\text{ns}^{-1}$ in this case.\n",
    "\n",
    "[Cerfontaine et al. (2019)]: https://arxiv.org/abs/1901.00851"
   ]
  },
  {
   "cell_type": "code",
   "execution_count": null,
   "metadata": {},
   "outputs": [],
   "source": [
    "import sys\n",
    "from pathlib import Path\n",
    "\n",
    "import numpy as np\n",
    "from scipy.io import loadmat\n",
    "\n",
    "import filter_functions as ff"
   ]
  },
  {
   "cell_type": "code",
   "execution_count": null,
   "metadata": {},
   "outputs": [],
   "source": [
    "data_path = Path(sys.path[0]).parent.parent.parent / 'examples/data'\n",
    "gates = ['X2', 'Y2']\n",
    "# Set up Hamiltonian for X2, Y2 gate\n",
    "struct = {'X2': loadmat(str(data_path / 'X2ID.mat')),\n",
    "          'Y2': loadmat(str(data_path / 'Y2ID.mat'))}\n",
    "eps = {key: np.asarray(struct[key]['eps'], order='C') for key in gates}\n",
    "delta_t = {key: np.asarray(struct[key]['t'].ravel(), order='C')\n",
    "           for key in gates}\n",
    "B = {key: np.asarray(struct[key]['B'].ravel(), order='C') for key in gates}\n",
    "\n",
    "J = {key: np.exp(eps[key]) for key in gates}\n",
    "n_dt = {key: len(delta_t[key]) for key in gates}\n",
    "\n",
    "# Total duration of the pulses\n",
    "tau = delta_t['X2'].sum()"
   ]
  },
  {
   "cell_type": "markdown",
   "metadata": {},
   "source": [
    "Since $J$ depends non-trivially on $\\epsilon$, we include the first derivative as a sensitivity to charge noise on $\\epsilon$ in the noise Hamiltonian ${H}_n = \\sum_\\alpha s_\\alpha(t) b_\\alpha(t) B_\\alpha$."
   ]
  },
  {
   "cell_type": "code",
   "execution_count": null,
   "metadata": {},
   "outputs": [],
   "source": [
    "# Set up the Hamiltonian for the PulseSequence\n",
    "d = 2\n",
    "H = np.empty((2, d, d), dtype=complex)\n",
    "\n",
    "Id, Px, Py, Pz = ff.util.paulis\n",
    "H[0] = 1/2*Px\n",
    "H[1] = 1/2*Pz\n",
    "\n",
    "opers = list(H)\n",
    "\n",
    "# Assume noise only on eps\n",
    "c_opers = opers.copy()\n",
    "n_opers = opers[:1]\n",
    "\n",
    "# The coefficients we are interested in are the first index (the gates we\n",
    "# loaded are actually two-qubit gates with an identity gate on the second\n",
    "# qubit).\n",
    "c_coeffs = {key: [J[key][0], B[key][0]*np.ones(n_dt[key])]\n",
    "            for key in gates}\n",
    "# Noise sensitivity J(eps) for eps.\n",
    "n_coeffs = {key: [J[key][0], np.ones(n_dt[key])] for key in gates}\n",
    "\n",
    "# Identifiers for the operators. We can also use verbose strings\n",
    "identifiers = [r'$\\epsilon$', '$b$']\n",
    "\n",
    "H_c = {key: {'optimized': list(zip(c_opers, val, identifiers))}\n",
    "       for key, val in c_coeffs.items()}\n",
    "H_n = {key: {'optimized': list(zip(n_opers, val, identifiers))}\n",
    "       for key, val in n_coeffs.items()}\n",
    "dt = {key: {'optimized': val} for key, val in delta_t.items()}"
   ]
  },
  {
   "cell_type": "markdown",
   "metadata": {},
   "source": [
    "For the primitive pulses, we assume to have full control over the $x$- and $y$-axes of our qubit and simply turn on the control at $t=0$ and turn it off once the $\\pi/2$ rotation is complete. In order to better compare the primitive to the optimized pulses, we assume they are of equal duration `tau` and adjust the control strength of the primitive pulses accordingly."
   ]
  },
  {
   "cell_type": "code",
   "execution_count": null,
   "metadata": {},
   "outputs": [],
   "source": [
    "H_c['X2']['primitive'] = [[1/2*Px, [np.pi/2/tau], '$X$']]\n",
    "H_n['X2']['primitive'] = [[Pz, [1], '$Z$']]\n",
    "dt['X2']['primitive'] = [tau]\n",
    "H_c['Y2']['primitive'] = [[1/2*Py, [np.pi/2/tau], '$Y$']]\n",
    "H_n['Y2']['primitive'] = [[Pz, [1], '$Z$']]\n",
    "dt['Y2']['primitive'] = [tau]"
   ]
  },
  {
   "cell_type": "markdown",
   "metadata": {},
   "source": [
    "## Calculating the pulse correlation filter functions\n",
    "Finally, we can set up the `PulseSequence`s and compute the (fidelity) filter functions. For the Hadamard pulse, we will set an additional flag during concatenation to calculate the 'pulse correlation filter function' which captures the cross-correlational effects of individual pulses on the total pulse sequence's susceptibility to noise."
   ]
  },
  {
   "cell_type": "code",
   "execution_count": null,
   "metadata": {},
   "outputs": [],
   "source": [
    "gate_types = ('optimized', 'primitive')\n",
    "X2 = {key: ff.PulseSequence(H_c['X2'][key], H_n['X2'][key], dt['X2'][key])\n",
    "      for key in gate_types}\n",
    "Y2 = {key: ff.PulseSequence(H_c['Y2'][key], H_n['Y2'][key], dt['Y2'][key])\n",
    "      for key in gate_types}\n",
    "\n",
    "omega = {'optimized': np.linspace(0, 1/tau*1e2, 501),\n",
    "         'primitive': np.linspace(0, 1/tau*2e1, 501)}\n",
    "\n",
    "# %% Get the filter functions\n",
    "FF_X2 = {key: val.get_filter_function(omega[key]) for key, val in X2.items()}\n",
    "FF_Y2 = {key: val.get_filter_function(omega[key]) for key, val in Y2.items()}\n",
    "H = {key: ff.concatenate((Y2, X2, X2), calc_pulse_correlation_FF=True)\n",
    "     for (key, X2), (key, Y2) in zip(X2.items(), Y2.items())}"
   ]
  },
  {
   "cell_type": "markdown",
   "metadata": {},
   "source": [
    "To verify the pulses, we plot the Bloch vector evolution starting from $|0\\rangle$. In this case, we expect the pulse to have the action\n",
    "\n",
    "$$\n",
    "    \\text{H}\\colon |0\\rangle\\to \\frac{|0\\rangle + |1\\rangle}{\\sqrt{2}}\\equiv |+\\rangle.\n",
    "$$\n"
   ]
  },
  {
   "cell_type": "code",
   "execution_count": null,
   "metadata": {},
   "outputs": [],
   "source": [
    "from filter_functions import plotting\n",
    "\n",
    "for gate in gate_types:\n",
    "    plotting.plot_bloch_vector_evolution(H[gate], n_samples=501,\n",
    "                                         figsize=(4, 4))"
   ]
  },
  {
   "cell_type": "markdown",
   "metadata": {},
   "source": [
    "We can now inspect the pulse correlation filter functions $F^{(gg')}(\\omega)$ which for $g=g'$ are just the normal filter functions for the $g$-th pulse:"
   ]
  },
  {
   "cell_type": "code",
   "execution_count": null,
   "metadata": {},
   "outputs": [],
   "source": [
    "pulses = ('Y', 'X_1', 'X_2')\n",
    "for gate_type, hadamard in H.items():\n",
    "    fig, ax, leg = plotting.plot_pulse_correlation_filter_function(\n",
    "        hadamard, xscale='linear', figsize=(9, 6))\n",
    "\n",
    "    # Adjust the titles to something more meaningful\n",
    "    for i in range(3):\n",
    "        for j in range(3):\n",
    "            t = ax[i, j].get_title()[7:]\n",
    "            ax[i, j].set_title('$F^{(' + pulses[i] + pulses[j] + t)"
   ]
  },
  {
   "cell_type": "markdown",
   "metadata": {},
   "source": [
    "We can see that the pulse correlation filter functions for different pulses are neither strictly real nor positive in contrast to the 'usual' filter functions. In fact, the pulse correlation FF are hermitian, that is,\n",
    "\n",
    "$$\n",
    "\\left[F^{(ij)}(\\omega)\\right]^\\dagger = F^{(ij)}(\\omega).\n",
    "$$\n",
    "\n",
    "While the imaginary part cancels out when calculating fidelities, $\\mathcal{I}\\propto\\sum_{ij} \\int\\mathrm{d}\\omega S(\\omega)F^{(ij)}(\\omega)$, the real part does not and the offdiagonals therefore lead to corrections in the total fidelity of a composite pulse, $\\mathcal{I}_\\text{tot}\\neq\\sum_g\\mathcal{I}^{(g)}$ with $\\mathcal{I}^{(g)}$ the infidelities of the individual pulses. These corrections can thus in principle also be negative, leading to improved fidelities for composite pulses."
   ]
  }
 ],
 "metadata": {
  "kernelspec": {
   "display_name": "Python 3",
   "language": "python",
   "name": "python3"
  },
  "language_info": {
   "codemirror_mode": {
    "name": "ipython",
    "version": 3
   },
   "file_extension": ".py",
   "mimetype": "text/x-python",
   "name": "python",
   "nbconvert_exporter": "python",
   "pygments_lexer": "ipython3",
   "version": "3.8.5"
  }
 },
 "nbformat": 4,
 "nbformat_minor": 2
}
