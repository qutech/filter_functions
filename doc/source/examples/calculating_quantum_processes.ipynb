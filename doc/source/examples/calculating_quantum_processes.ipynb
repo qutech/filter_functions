{
 "cells": [
  {
   "cell_type": "markdown",
   "metadata": {},
   "source": [
    "# Calculating Quantum Processes\n",
    "In this example we would like to calculate the error transfer matrices (quantum processes of the error channels) of a two-qubit gateset for singlet-triplet qubits subject to $1/f$-like charge noise that are manipulated via a detuning-controlled exchange interaction. The error transfer matrix is here understood as the Liouville representation of the ensemble averaged error superpropagator $\\langle\\tilde{\\mathcal{U}}(\\tau)\\rangle$. It is completely characterized by the cumulant function,\n",
    "\n",
    "$$\n",
    "\\langle\\mathcal{\\tilde{U}}(\\tau)\\rangle = \\exp K(\\tau),\n",
    "$$\n",
    "\n",
    "where $K(\\tau)$ is a $d^2\\times d^2$ matrix ($d$ being the dimension of the quantum system) expressed in a basis of orthonormal Hermitian matrices $\\mathcal{C}=\\{C_i\\}_{i=0}^{d^2-1}$. It captures the deviation from the identity channel and can be used to extract many useful quantities that describe the channel. For instance, the entanglement infidelity of the pulse is given by\n",
    "\n",
    "$$\n",
    "\\mathcal{I}_\\mathrm{e} = 1 - \\frac{1}{d^2}\\mathrm{tr}\\,\\langle\\tilde{\\mathcal{U}}(\\tau)\\rangle \\approx -\\mathrm{tr}\\,K(\\tau),\n",
    "$$\n",
    "\n",
    "where the approximation holds for small noise, and the state fidelity (probability that a state is returned to itself) for pure input states by\n",
    "\n",
    "$$\n",
    "p_{j\\rightarrow j} = \\langle\\!\\langle\\rho_j\\rvert\\mathcal{Q}\\mathcal{\\tilde{U}}\\lvert\\rho_j\\rangle\\!\\rangle\n",
    "$$\n",
    "\n",
    "with $\\lvert\\rho_j\\rangle\\!\\rangle = \\sum_{k=0}^{d^2-1}\\mathrm{tr}(C_k\\rho_j)\\lvert k\\rangle\\!\\rangle$ the vectorized density matrix in the basis $\\mathcal{C}$ and $\\mathcal{Q}$ the Liouville representation of the total propagator $Q$ of the control pulse.\n",
    "\n",
    "Within `filter_functions`, the cumulant function $K(\\tau)$ is calculated from first-order Magnus expansion terms alone.  These terms induce dissipation. Additional second-order terms, inducing coherent errors, can be neglected if we assume that the experimentalist has calibrated their pulses. For Gaussian noise, higher orders cancel out and the above expressions are exact. In the case of non-Gaussian noise, they become peturbative in the noise parameter $\\xi$, being of order $\\xi^2$.\n",
    "\n",
    "Again we use the optimized gates presented in [Cerfontaine et al. (2019)] and start by loading the data and setting up the control operators $A_i$.\n",
    "\n",
    "[Cerfontaine et al. (2019)]: https://arxiv.org/abs/1901.00851"
   ]
  },
  {
   "cell_type": "code",
   "execution_count": 1,
   "metadata": {},
   "outputs": [],
   "source": [
    "import sys\n",
    "from pathlib import Path\n",
    "\n",
    "import numpy as np\n",
    "from qutip.qip import operations\n",
    "from qutip.visualization import matrix_histogram_complex\n",
    "from scipy import io\n",
    "\n",
    "import filter_functions as ff\n",
    "from filter_functions import numeric, util"
   ]
  },
  {
   "cell_type": "code",
   "execution_count": 2,
   "metadata": {},
   "outputs": [],
   "source": [
    "data_path = Path(sys.path[0]).parent.parent.parent / 'examples/data'\n",
    "\n",
    "gates = ['X2ID', 'Y2ID', 'CNOT']\n",
    "struct = {'X2ID': io.loadmat(str(data_path / 'X2ID.mat')),\n",
    "          'Y2ID': io.loadmat(str(data_path / 'Y2ID.mat')),\n",
    "          'CNOT': io.loadmat(str(data_path / 'CNOT.mat'))}\n",
    "eps = {key: np.asarray(struct[key]['eps'], order='C') for key in gates}\n",
    "dt = {key: np.asarray(struct[key]['t'].ravel(), order='C') for key in gates}\n",
    "B = {key: np.asarray(struct[key]['B'].ravel(), order='C') for key in gates}\n",
    "B_avg = {key: struct[key]['BAvg'].ravel() for key in gates}\n",
    "infid_fast = {key: struct[key]['infid_fast'].ravel() for key in gates}\n",
    "# B_avg same for all\n",
    "B_avg = B_avg['X2ID']\n",
    "T = {key: val.sum() for key, val in dt.items()}\n",
    "\n",
    "J = {key: np.exp(eps[key]) for key in gates}\n",
    "n_dt = {key: len(dt[key]) for key in gates}\n",
    "\n",
    "d = 16\n",
    "H = np.empty((6, d, d), dtype=complex)\n",
    "\n",
    "Id, Px, Py, Pz = util.paulis\n",
    "# Exchange Hamiltonians\n",
    "H[0] = 1/4*sum(util.tensor(P, P, Id, Id) for P in (Px, Py, Pz))\n",
    "H[1] = 1/4*sum(util.tensor(Id, P, P, Id) for P in (Px, Py, Pz))\n",
    "H[2] = 1/4*sum(util.tensor(Id, Id, P, P) for P in (Px, Py, Pz))\n",
    "# Zeeman Hamiltonians\n",
    "H[3] = 1/8*(util.tensor(Pz, Id, Id, Id)*(-3) +\n",
    "            util.tensor(Id, Pz, Id, Id) +\n",
    "            util.tensor(Id, Id, Pz, Id) +\n",
    "            util.tensor(Id, Id, Id, Pz))\n",
    "H[4] = 1/4*(util.tensor(Pz, Id, Id, Id)*(-1) +\n",
    "            util.tensor(Id, Pz, Id, Id)*(-1) +\n",
    "            util.tensor(Id, Id, Pz, Id) +\n",
    "            util.tensor(Id, Id, Id, Pz))\n",
    "H[5] = 1/8*(util.tensor(Pz, Id, Id, Id)*(-1) +\n",
    "            util.tensor(Id, Pz, Id, Id)*(-1) +\n",
    "            util.tensor(Id, Id, Pz, Id)*(-1) +\n",
    "            util.tensor(Id, Id, Id, Pz)*3)\n",
    "\n",
    "# Technically there would also be H_0 (the mean magnetic field), but on the\n",
    "# m_s = 0 subspace it is zero."
   ]
  },
  {
   "cell_type": "markdown",
   "metadata": {},
   "source": [
    "## Defining a custom basis\n",
    "Because we are interested in the fidelity of the two-qubit gates that live on the $4\\times 4$ subspace of the complete $16$-dimensional Hilbert space, we single out the $6\\times 6$ subspace with magnetic spin quantum number $m_s = 0$ in which the qubits are encoded. We have to include the leakage levels $\\bigl\\lbrace\\lvert\\downarrow\\downarrow\\uparrow\\uparrow\\rangle, \\lvert\\uparrow\\uparrow\\downarrow\\downarrow\\rangle\\bigr\\rbrace$ as they are accessible via the intermediate exchange interaction $J(\\epsilon_{23})$ during the gate sequence."
   ]
  },
  {
   "cell_type": "code",
   "execution_count": 3,
   "metadata": {},
   "outputs": [],
   "source": [
    "opers = list(H)\n",
    "\n",
    "# Reduce to 6x6 subspace\n",
    "zerospin_subspace_inds = ((3, 5, 6, 9, 10, 12), (3, 5, 6, 9, 10, 12))\n",
    "d_zerospin_subspace = 6\n",
    "opers = [H[np.ix_(*zerospin_subspace_inds)] for H in H]\n",
    "\n",
    "# Subtract identity to make Hamiltonian traceless (always allowed since we are\n",
    "# not interested in absolute energies)\n",
    "opers = [oper - np.trace(oper)/d_zerospin_subspace*np.eye(d_zerospin_subspace)\n",
    "         for oper in opers]\n",
    "\n",
    "# The coefficients are the exchange couplings and B-field gradients\n",
    "c_coeffs = {key: [J[key][0],\n",
    "                  J[key][1],\n",
    "                  J[key][2],\n",
    "                  B[key][0]*np.ones(n_dt[key]),\n",
    "                  B[key][1]*np.ones(n_dt[key]),\n",
    "                  B[key][2]*np.ones(n_dt[key])] for key in gates}\n",
    "# We include the exponential dependence of J on epsilon by a first-order\n",
    "# derivative (just J back) as noise sensitivity.\n",
    "n_coeffs = {key: [J[key][0],\n",
    "                  J[key][1],\n",
    "                  J[key][2],\n",
    "                  np.ones(n_dt[key]),\n",
    "                  np.ones(n_dt[key]),\n",
    "                  np.ones(n_dt[key])] for key in gates}\n",
    "\n",
    "identifiers = ['J_12', 'J_23', 'J_34', 'B_12', 'B_23', 'B_34']\n",
    "\n",
    "H_c = {key: list(zip(opers, val, identifiers))\n",
    "       for key, val in c_coeffs.items()}\n",
    "H_n = {key: list(zip(opers, val, identifiers))\n",
    "       for key, val in n_coeffs.items()}"
   ]
  },
  {
   "cell_type": "markdown",
   "metadata": {},
   "source": [
    "In order to be able to distinguish the qubit subspace from the leakage subspace, we define a basis that exclusively has elements that only live on either by padding a two-qubit Pauli basis with zeros on the leakage subspace and letting the ``Basis`` constructor fill up the basis so that it is orthonormal and complete on the entire space."
   ]
  },
  {
   "cell_type": "code",
   "execution_count": 4,
   "metadata": {
    "tags": []
   },
   "outputs": [
    {
     "name": "stdout",
     "output_type": "stream",
     "text": [
      "Basis orthonormal: True\n",
      "Basis complete: True\n",
      "Padded IX:\n",
      " [[0.  0.  0.  0.  0.  0. ]\n",
      " [0.  0.  0.5 0.  0.  0. ]\n",
      " [0.  0.5 0.  0.  0.  0. ]\n",
      " [0.  0.  0.  0.  0.5 0. ]\n",
      " [0.  0.  0.  0.5 0.  0. ]\n",
      " [0.  0.  0.  0.  0.  0. ]]\n"
     ]
    }
   ],
   "source": [
    "# Leakage levels are at indices 0 and 5 of the 6x6 Hamiltonian\n",
    "qubit_subspace_inds = ((1, 2, 3, 4), (1, 2, 3, 4))\n",
    "\n",
    "basis = ff.Basis([np.pad(b, 1, 'constant') for b in ff.Basis.pauli(2)])\n",
    "\n",
    "print('Basis orthonormal:', basis.isorthonorm)\n",
    "print('Basis complete:', basis.iscomplete)\n",
    "# Print one element as an example\n",
    "print('Padded IX:\\n', basis[1].real)"
   ]
  },
  {
   "cell_type": "markdown",
   "metadata": {},
   "source": [
    "Now we can initialize the `PulseSequence` instances and diagonalize them to verify they give rise to the correct gates:"
   ]
  },
  {
   "cell_type": "code",
   "execution_count": 5,
   "metadata": {},
   "outputs": [],
   "source": [
    "# Initialize the PulseSequences\n",
    "pulses = {\n",
    "    gate: ff.PulseSequence(H_c[gate], H_n[gate], dt[gate], basis=basis)\n",
    "    for gate in gates\n",
    "}\n",
    "\n",
    "# Target gates\n",
    "U_t = {\n",
    "    'X2ID': util.tensor((Id - 1j*Px)/np.sqrt(2), Id),    # sqrt X\n",
    "    'Y2ID': util.tensor((Id - 1j*Py)/np.sqrt(2), Id),    # sqrt Y\n",
    "    'CNOT': operations.cnot()\n",
    "}"
   ]
  },
  {
   "cell_type": "code",
   "execution_count": 6,
   "metadata": {
    "tags": []
   },
   "outputs": [
    {
     "name": "stdout",
     "output_type": "stream",
     "text": [
      "Correct action of the gates:\n",
      "----------------------------\n",
      "X2ID\tTrue\n",
      "Y2ID\tTrue\n",
      "CNOT\tTrue\n"
     ]
    },
    {
     "data": {
      "image/png": "[encoded data removed]",
      "text/plain": [
       "<Figure size 432x288 with 2 Axes>"
      ]
     },
     "metadata": {
      "needs_background": "light"
     },
     "output_type": "display_data"
    },
    {
     "data": {
      "image/png": "[encoded data removed]",
      "text/plain": [
       "<Figure size 432x288 with 2 Axes>"
      ]
     },
     "metadata": {
      "needs_background": "light"
     },
     "output_type": "display_data"
    },
    {
     "data": {
      "image/png": "[encoded data removed]",
      "text/plain": [
       "<Figure size 432x288 with 2 Axes>"
      ]
     },
     "metadata": {
      "needs_background": "light"
     },
     "output_type": "display_data"
    }
   ],
   "source": [
    "print('Correct action of the gates:')\n",
    "print('----------------------------')\n",
    "for key, pulse in pulses.items():\n",
    "    pulse.diagonalize()\n",
    "    # Reduce to qubit subspace\n",
    "    U = pulse.total_Q[np.ix_(*qubit_subspace_inds)]\n",
    "    # Plot the propagator\n",
    "    matrix_histogram_complex(U)\n",
    "    # Check for equality with the target unitary up to global phase\n",
    "    print(key, util.oper_equiv(U_t[key], U, eps=1e-9)[0], sep='\\t')"
   ]
  },
  {
   "cell_type": "markdown",
   "metadata": {},
   "source": [
    "## Noise power spectral density\n",
    "Now that we have verified that our pulses do what they are supposed to, we can turn to calculating the error transfer matrix given a noise spectrum. As a quick reminder, the noise power spectral density $S_\\alpha(\\omega)$ is defined as the Fourier transform of the autocorrelation function of the noise variable $b_\\alpha(t)$. For *wide-sense stationary* noise the autocorrelation only depends on the time difference and we have\n",
    "\n",
    "$$\n",
    "    \\langle b_\\alpha(t_1)b_\\alpha(t_2)\\rangle = \\int_{-\\infty}^\\infty\\frac{\\mathrm{d}\\omega}{2\\pi}S_\\alpha(\\omega)e^{-i\\omega(t_1 - t_2)}\n",
    "$$\n",
    "\n",
    "where $S_\\alpha(\\omega)$ is the two-sided power spectral density for noise source $\\alpha$. We consider here $1/f$-like noise with a one-sided spectrum of\n",
    "\n",
    "$$\n",
    "    S_\\epsilon(f) = A f^{-0.7}, \\quad S_\\epsilon(f=1\\,\\text{MHz}) = 4\\times 10^{-20}\\,\\text{V}^2/\\text{Hz}\n",
    "$$\n",
    "\n",
    "as reported by [Dial et al. (2013)].\n",
    "\n",
    "[Dial et al. (2013)]: https://doi.org/10.1103/PhysRevLett.110.146804"
   ]
  },
  {
   "cell_type": "code",
   "execution_count": 7,
   "metadata": {},
   "outputs": [],
   "source": [
    "# Voltages are in units of eps0 and energies in units of inverse nanoseconds\n",
    "# (see Cerfontaine et al. (2019))\n",
    "eps0 = 2.7241e-4\n",
    "alpha = 0.7\n",
    "# S(f) = A f^{-\\alpha}\n",
    "# At f = 1 MHz = 1e-3 GHz, S = S_0 = 4e-20 V^2/Hz = 4e-11/eps0^2 1/GHz\n",
    "# Correspondingly, S(\\omega) = A \\omega^{-\\alpha} such that at\n",
    "# \\omega = 2\\pi 10^{-3} GHz, S_0 = 4e-11/eps0^2 1/GHz\n",
    "S_0 = 4e-11/eps0**2\n",
    "A = S_0*(2*np.pi*1e-3)**alpha"
   ]
  },
  {
   "cell_type": "markdown",
   "metadata": {},
   "source": [
    "## Error transfer matrices\n",
    "We are now ready to calculate the error transfer matrix $\\langle\\tilde{\\mathcal{U}}(\\tau)\\rangle$. Since it is completely characterized by the cumulant function $K_\\epsilon(\\tau)$, we will deal with the latter. This has the advantage that we can inspect contributions from different noise sources separately. Because the error transfer matrix is given by the exponential of $K(\\tau)$, contributions from different noise operators will mix due to non-commutativity and a separate discussion of the contributions will neglect terms of order $\\xi^4$.\n",
    "\n",
    "### Performance considerations\n",
    "For the computation of the error transfer matrix it is beneficial for the basis used to be sparse since the elements of the matrix are sums of terms proportional to traces of four basis elements of the form $\\mathrm{tr}(C_i C_j C_k C_l)$. These traces are inherently mostly zero since the basis elements form an orthonormal set. If the elements themselves are sparse, the entire calculation can be performed quite efficiently. The Generalized Gell-Mann bases are sparse bases as most of their elements only have two non-zero entries. The Pauli bases have filling factor $1/2$ on the other hand and thus take longer to compute.\n",
    "\n",
    "Since the traces are cached, this only applies for the first time the error transfer matrix is computed.\n",
    "\n",
    "### Calculation using `filter_functions`\n",
    "The calculation is implemented in the `numeric.calculate_cumulant_function()` function, which takes a `PulseSequence` instance, a noise spectrum and a list of frequencies as arguments. Optionally, we may also pass a list of identifiers corresponding to the noise operators whose contributions we are interested in. In our case we use the exchange terms affected by charge noise. The function will return an array with the separate noise operator contributions on the first axis.\n",
    "\n",
    "Since the `filter_functions` package assumes two-sided spectra, we need to rescale the above spectrum by a factor of two accordingly. This can be done using `util.symmetrize_spectrum()`. Visualization of the cumulant function is implemented by ``plotting.plot_cumulant_function()``."
   ]
  },
  {
   "cell_type": "code",
   "execution_count": 8,
   "metadata": {
    "tags": []
   },
   "outputs": [
    {
     "data": {
      "application/vnd.jupyter.widget-view+json": {
       "model_id": "1b039d48bdcf409e8ab0a02abafc494d",
       "version_major": 2,
       "version_minor": 0
      },
      "text/plain": [
       "HBox(children=(FloatProgress(value=0.0, description='Calculating control matrix', style=ProgressStyle(descript…"
      ]
     },
     "metadata": {},
     "output_type": "display_data"
    },
    {
     "name": "stdout",
     "output_type": "stream",
     "text": [
      "\n"
     ]
    },
    {
     "data": {
      "application/vnd.jupyter.widget-view+json": {
       "model_id": "a54dce274b83448ea06167a7cd76e5da",
       "version_major": 2,
       "version_minor": 0
      },
      "text/plain": [
       "HBox(children=(FloatProgress(value=0.0, description='Calculating control matrix', style=ProgressStyle(descript…"
      ]
     },
     "metadata": {},
     "output_type": "display_data"
    },
    {
     "name": "stdout",
     "output_type": "stream",
     "text": [
      "\n"
     ]
    },
    {
     "data": {
      "application/vnd.jupyter.widget-view+json": {
       "model_id": "fde014a6364841ef97f45b568b6e282f",
       "version_major": 2,
       "version_minor": 0
      },
      "text/plain": [
       "HBox(children=(FloatProgress(value=0.0, description='Calculating control matrix', max=250.0, style=ProgressSty…"
      ]
     },
     "metadata": {},
     "output_type": "display_data"
    },
    {
     "name": "stdout",
     "output_type": "stream",
     "text": [
      "\n"
     ]
    },
    {
     "data": {
      "image/png": "[encoded data removed]",
      "text/plain": [
       "<Figure size 792x1080 with 14 Axes>"
      ]
     },
     "metadata": {
      "needs_background": "light"
     },
     "output_type": "display_data"
    }
   ],
   "source": [
    "from itertools import product\n",
    "import matplotlib.pyplot as plt\n",
    "from filter_functions import plotting\n",
    "\n",
    "fig = plt.figure(figsize=(11, 15))\n",
    "\n",
    "# First basis 16 elements are the Pauli basis on the qubit subspace\n",
    "basis_labels = [''.join(tup) for tup in\n",
    "                product(['I', 'X', 'Y', 'Z'], repeat=2)]\n",
    "# Remaining basis elements were automatically generated and live only on \n",
    "# leakage subspace\n",
    "basis_labels.extend(['$C_{{{}}}$'.format(i) for i in range(16, 36)])\n",
    "\n",
    "cumulant_functions = {}\n",
    "for i, (key, pulse) in enumerate(pulses.items(), 1):\n",
    "    omega_positive = np.geomspace(1/T[key], 1e2, 400)\n",
    "    S_onesided = A/omega_positive**alpha\n",
    "    S_twosided, omega = util.symmetrize_spectrum(S_onesided, omega_positive)\n",
    "\n",
    "    if key == 'CNOT':\n",
    "        identifiers = ['J_12', 'J_23', 'J_34']\n",
    "    else:\n",
    "        # For single qubit pulses intermediate exchange is turned off\n",
    "        identifiers = ['J_12', 'J_34']\n",
    "        \n",
    "    cumulant_functions[key] = numeric.calculate_cumulant_function(\n",
    "        pulse, S_twosided, omega, n_oper_identifiers=identifiers,\n",
    "        show_progressbar=True\n",
    "    )\n",
    "        \n",
    "    # We can call plot_transfer matrix with the same arguments as\n",
    "    # error_transfer_matrix in which case the transfer matrix is calculated on\n",
    "    # the fly, or pass a pre-computed transfer matrix to the function\n",
    "    fig, grid = plotting.plot_cumulant_function(\n",
    "        K=cumulant_functions[key], n_oper_identifiers=identifiers,\n",
    "        basis_labels=basis_labels, grid_kw=dict(rect=10*31+i), figsize=(11, 4),\n",
    "        fig=fig, cbar_label=key, colorscale='log'\n",
    "    )\n",
    "    \n",
    "plt.show()"
   ]
  },
  {
   "cell_type": "markdown",
   "metadata": {},
   "source": [
    "As we can see, for the single-qubit gates the computational and leakage subspaces are sufficiently decoupled and the structure of the error transfer matrix reveals a nice symmetry of noise processes on the two qubits. For the CNOT, this symmetry is not as pronounced and the error transfer matrix for the intermediate exchange $J_{23}$ mixes the computational and leakage subspaces to a small degree."
   ]
  },
  {
   "cell_type": "markdown",
   "metadata": {},
   "source": [
    "## Deriving quantities\n",
    "With the cumulant function calculated, we can now derive different quantities from the error transfer matrix $\\langle\\tilde{\\mathcal{U}}\\rangle = \\exp K$. Here we take a look at the state fidelity of the computational basis states for the CNOT gate and the entanglement fidelities of the gates.\n",
    "\n",
    "### State fidelity\n",
    "The state fidelity is given by (see above)\n",
    "\n",
    "$$\n",
    "p_{j\\rightarrow j} = \\langle\\!\\langle\\rho_j\\rvert\\mathcal{Q}\\mathcal{\\tilde{U}}\\lvert\\rho_j\\rangle\\!\\rangle.\n",
    "$$\n",
    "\n",
    "We can calculate the vectorized density matrices $\\lvert\\rho_j\\rangle\\!\\rangle$ using `ff.basis.expand()` and the Liouville representation of the total propagator of the pulse using `ff.liouville_representation()`."
   ]
  },
  {
   "cell_type": "code",
   "execution_count": 9,
   "metadata": {
    "tags": []
   },
   "outputs": [
    {
     "name": "stdout",
     "output_type": "stream",
     "text": [
      "p(00->00) = 9.9991e-01\n",
      "p(01->01) = 9.9992e-01\n",
      "p(10->10) = 2.3944e-05\n",
      "p(11->11) = 2.3944e-05\n"
     ]
    }
   ],
   "source": [
    "# ff.error_transfer_matrix can also be called with a PulseSequence, spectrum\n",
    "# and list of frequencies to compute the error transfer matrix directly instead\n",
    "# of from a cumulant function\n",
    "transfer_matrices = {gate: ff.error_transfer_matrix(K=K)\n",
    "                     for gate, K in cumulant_functions.items()}\n",
    "\n",
    "pulse = pulses['CNOT']\n",
    "basis = pulse.basis\n",
    "# Also exists as pulse.total_Q_liouville\n",
    "total_Q_liouville = ff.liouville_representation(pulse.total_Q, basis)\n",
    "# Sum up the individual noise operator contributions for simplicity\n",
    "U_tilde = transfer_matrices['CNOT']\n",
    "ket_00, ket_01, ket_10, ket_11 = np.zeros((4, 6, 1))\n",
    "ket_00[1] = 1\n",
    "ket_01[2] = 1\n",
    "ket_10[3] = 1\n",
    "ket_11[4] = 1\n",
    "rhoket_00 = ff.basis.expand(np.outer(ket_00, ket_00), basis).real\n",
    "rhoket_01 = ff.basis.expand(np.outer(ket_01, ket_01), basis).real\n",
    "rhoket_10 = ff.basis.expand(np.outer(ket_10, ket_10), basis).real\n",
    "rhoket_11 = ff.basis.expand(np.outer(ket_11, ket_11), basis).real\n",
    "rhokets = (rhoket_00, rhoket_01, rhoket_10, rhoket_11)\n",
    "labels = ('00', '01', '10', '11')\n",
    "\n",
    "for label, rhoket in zip(labels, rhokets):\n",
    "    F = rhoket.T @ total_Q_liouville @ U_tilde @ rhoket\n",
    "    print('p({l}->{l}) = {v:.4e}'.format(l=label, v=F.real))"
   ]
  },
  {
   "cell_type": "markdown",
   "metadata": {},
   "source": [
    "The probabilities are not exactly one and zero but differ from the target outcome by $\\sim 10^{-5}$ due to the influence of the noise."
   ]
  },
  {
   "cell_type": "markdown",
   "metadata": {},
   "source": [
    "### Entanglement fidelity <a id='fidelity'></a>\n",
    "The entanglement fidelity is given by (see above)\n",
    "\n",
    "$$\n",
    "\\mathcal{I}_\\mathrm{e} = 1 - \\frac{1}{d^2}\\mathrm{tr}\\,\\mathcal{\\tilde{U}}.\n",
    "$$\n",
    "\n",
    "We are only interested in the dynamics on the qubit subspace and thus do not care about contributions from basis elements on the leakage subspace, so that we only trace over the first 16 elements of the error transfer matrix. We will compare the results to the Monte Carlo results for fast noise from the reference.\n",
    "\n",
    "Because the fidelity is an often-employed figure of merit, its calculation is also implemented in a separate function, `ff.infidelity()`, that is much faster than deriving the fidelity from the error transfer matrix because it only calculates the leading order approximation. Its interface is very similiar to that of `ff.error_transfer_matrix()` and is thus not discussed here. Only note that some subtleties apply if calculating the fidelity in the presence of leakage levels."
   ]
  },
  {
   "cell_type": "code",
   "execution_count": 10,
   "metadata": {
    "tags": []
   },
   "outputs": [
    {
     "name": "stdout",
     "output_type": "stream",
     "text": [
      "Gate\tTransfer Matrix\tMonte Carlo\tRelative deviation\n",
      "----------------------------------------------------------\n",
      "X2ID\t7.24e-05\t7.17e-05\t9.5e-03\n",
      "Y2ID\t7.09e-05\t7.03e-05\t8.4e-03\n",
      "CNOT\t7.97e-05\t7.89e-05\t9.5e-03\n"
     ]
    }
   ],
   "source": [
    "print('Gate', 'Transfer Matrix', 'Monte Carlo', 'Relative deviation', sep='\\t')\n",
    "print('----------------------------------------------------------')\n",
    "for key, pulse in pulses.items():\n",
    "    infidelity = 1 - transfer_matrices[key][:16, :16].trace()/4**2\n",
    "    rel_div = (infidelity.sum() - infid_fast[key][1])/infid_fast[key][1]\n",
    "    print(key,\n",
    "          '{:.2e}'.format(infidelity.sum().real),\n",
    "          '{:.2e}'.format(infid_fast[key][1]),\n",
    "          '{:.1e}'.format(rel_div.real),\n",
    "          sep='\\t')"
   ]
  },
  {
   "cell_type": "markdown",
   "metadata": {},
   "source": [
    "## Complete positivity\n",
    "For a map $\\mathcal{U}:\\rho\\rightarrow\\mathcal{U}(\\rho)\\equiv\\rho'$ to be physical, i.e. map density operators to density operators, it needs to be completely positive (CP). Mathematically, this is given iff\n",
    "\n",
    "$$\n",
    "    \\text{choi}(\\mathcal{U}) \\geq 0\n",
    "$$\n",
    "\n",
    "with $\\text{choi}(\\mathcal{U}) = (\\mathcal{U}\\otimes\\mathbb{I})(|\\Omega\\rangle\\langle\\Omega|)$ the Choi matrix representation of the map $\\mathcal{U}$ and $|\\Omega\\rangle$ any maximally entangled state. This is known as the Choi-Jamiołkowski isomorphism of quantum channels and states. As can be shown, the error transfer matrix $\\langle\\mathcal{\\tilde{U}}\\rangle = \\exp K$ is CP, and thus constitutes a valid quantum operation, when taking the decay amplitudes $\\Gamma$ and/or frequency shifts $\\Delta$ into account for the cumulant function. However, when approximating $\\langle\\mathcal{\\tilde{U}}\\rangle\\approx\\mathbb{1} + K$, this need in general not be true anymore. Since simplified expressions for derived quantites, as discussed above, can be obtained in the approximation, complete positivity (or the degree of violation thereof) of the approximated map can hence - in addition to convergence and smallness criteria for the perturbative expansion - serve as a figure of merit of the approximation.\n",
    "\n",
    "Functions related to this topic are collected in the `superoperator` module. For instance, we can check if $\\langle\\mathcal{\\tilde{U}}\\rangle$ is CP using `superoperator.liouville_is_CP` as follows."
   ]
  },
  {
   "cell_type": "code",
   "execution_count": 11,
   "metadata": {},
   "outputs": [
    {
     "name": "stdout",
     "output_type": "stream",
     "text": [
      "X2ID \n",
      "----\n",
      "Error transfer matrix CP: True\n",
      "Smallest Choi eigenvalue: -6.42e-17\n",
      "Approximate error transfer matrix CP: True\n",
      "Smallest Choi eigenvalue: -1.01e-16\n",
      "Y2ID \n",
      "----\n",
      "Error transfer matrix CP: True\n",
      "Smallest Choi eigenvalue: -5.03e-17\n",
      "Approximate error transfer matrix CP: True\n",
      "Smallest Choi eigenvalue: -4.83e-17\n",
      "CNOT \n",
      "----\n",
      "Error transfer matrix CP: True\n",
      "Smallest Choi eigenvalue: 3.48e-14\n",
      "Approximate error transfer matrix CP: True\n",
      "Smallest Choi eigenvalue: 8.11e-16\n"
     ]
    }
   ],
   "source": [
    "from filter_functions import superoperator\n",
    "\n",
    "for key, pulse in pulses.items():\n",
    "    print(key, '\\n----')\n",
    "    # CP is boolean, D and V are eigenvalues and -vectors of the Choi matrix\n",
    "    CP, (D, V) = superoperator.liouville_is_CP(transfer_matrices[key],\n",
    "                                               pulse.basis, return_eig=True)\n",
    "    print(f'Error transfer matrix CP: {CP}')  # all(D >= 0) up to floating point error\n",
    "    print(f'Smallest Choi eigenvalue: {np.min(D):.2e}')\n",
    "    \n",
    "    # Check CPness of approximation:\n",
    "    approximation = np.eye(pulse.d**2) + cumulant_functions[key].sum(0)\n",
    "    CP, (D, V) = superoperator.liouville_is_CP(approximation, pulse.basis,\n",
    "                                               return_eig=True)\n",
    "    print(f'Approximate error transfer matrix CP: {CP}')\n",
    "    print(f'Smallest Choi eigenvalue: {np.min(D):.2e}')"
   ]
  },
  {
   "cell_type": "markdown",
   "metadata": {},
   "source": [
    "## Convergence of the frequency integral\n",
    "Since we are integrating numerically, we should also perform a convergence test in order to see if the frequency resolution is large enough. This is also implemented in `ff.infidelity()`. In this case, the function arguments `S` and `omega` take on a different meaning; `S` should be a `Callable` function handle for computing the spectrum from a list of frequencies, and `omega` should be a dictionary with entries defining the boundary conditions for the convergence test, e.g. the minimum and maximum number of frequency points $n_\\omega$ for the convergence test. For brevity, we only show the convergence for the CNOT."
   ]
  },
  {
   "cell_type": "code",
   "execution_count": 12,
   "metadata": {
    "tags": []
   },
   "outputs": [
    {
     "name": "stdout",
     "output_type": "stream",
     "text": [
      "(11, 6)\n"
     ]
    },
    {
     "data": {
      "text/plain": [
       "Text(0.5, 0.98, 'CNOT convergence')"
      ]
     },
     "execution_count": 12,
     "metadata": {},
     "output_type": "execute_result"
    },
    {
     "data": {
      "image/png": "[encoded data removed]",
      "text/plain": [
       "<Figure size 432x288 with 2 Axes>"
      ]
     },
     "metadata": {
      "needs_background": "light"
     },
     "output_type": "display_data"
    }
   ],
   "source": [
    "def S(omega): return A/omega**alpha\n",
    "\n",
    "# Define the boundary conditions (all of these values also have sensible\n",
    "# defaults)\n",
    "omega = {\n",
    "    'omega_IR': 1e-2/T['CNOT'],\n",
    "    'omega_IV': 100,\n",
    "    'spacing': 'log',\n",
    "    'n_min': 100,\n",
    "    'n_max': 500,\n",
    "    'n_points': 10\n",
    "}\n",
    "\n",
    "\n",
    "n_omega, infids = ff.infidelity(pulses['CNOT'], S, omega, test_convergence=True)\n",
    "print(infids.shape)\n",
    "fig, ax = plotting.plot_infidelity_convergence(n_omega, infids.sum(axis=1))\n",
    "fig.suptitle('CNOT convergence')"
   ]
  },
  {
   "cell_type": "markdown",
   "metadata": {},
   "source": [
    "As we can see, the integral converges for around $n_\\omega = 300$ already. Note that the value of the infidelity here is not consistent with the one computed in [the section above](#fidelity) since `ff.infidelity()` computes the infidelity of the pulse on the complete Hilbert space, not only the computational subspace. Concretely, `ff.infidelity()` computes `transfer_matrices['CNOT'].trace()/6**2`."
   ]
  }
 ],
 "metadata": {
  "kernelspec": {
   "display_name": "Python 3",
   "language": "python",
   "name": "python3"
  },
  "language_info": {
   "codemirror_mode": {
    "name": "ipython",
    "version": 3
   },
   "file_extension": ".py",
   "mimetype": "text/x-python",
   "name": "python",
   "nbconvert_exporter": "python",
   "pygments_lexer": "ipython3",
   "version": "3.8.3"
  },
  "widgets": {
   "application/vnd.jupyter.widget-state+json": {
    "state": {
     "010bf16f80ef4c06b108641afeb833b9": {
      "model_module": "@jupyter-widgets/base",
      "model_module_version": "1.2.0",
      "model_name": "LayoutModel",
      "state": {}
     },
     "0762953ce076440987c6e38195ce83c9": {
      "model_module": "@jupyter-widgets/controls",
      "model_module_version": "1.5.0",
      "model_name": "DescriptionStyleModel",
      "state": {
       "description_width": ""
      }
     },
     "077dbd79885945fba8d4c40032f33716": {
      "model_module": "@jupyter-widgets/controls",
      "model_module_version": "1.5.0",
      "model_name": "HTMLModel",
      "state": {
       "layout": "IPY_MODEL_c404509b99854e19b01077cc6eb55c78",
       "style": "IPY_MODEL_c9f31fde670e443ea67a1208be9b9680",
       "value": " 100/100 [00:00&lt;00:00, 144.75it/s]"
      }
     },
     "0a57c2cef4454d2b83ba1534c9d0eaf3": {
      "model_module": "@jupyter-widgets/controls",
      "model_module_version": "1.5.0",
      "model_name": "DescriptionStyleModel",
      "state": {
       "description_width": ""
      }
     },
     "0dc28bbab3114ad78a4593090933e8cd": {
      "model_module": "@jupyter-widgets/controls",
      "model_module_version": "1.5.0",
      "model_name": "DescriptionStyleModel",
      "state": {
       "description_width": ""
      }
     },
     "0ee64a2c9cad44d7866a2e7527126447": {
      "model_module": "@jupyter-widgets/controls",
      "model_module_version": "1.5.0",
      "model_name": "ProgressStyleModel",
      "state": {
       "description_width": "initial"
      }
     },
     "141d02f5d71646d0bc9ab3c79ed9f238": {
      "model_module": "@jupyter-widgets/controls",
      "model_module_version": "1.5.0",
      "model_name": "ProgressStyleModel",
      "state": {
       "description_width": "initial"
      }
     },
     "147a75f63b9f41998ec3e61a67b19f58": {
      "model_module": "@jupyter-widgets/base",
      "model_module_version": "1.2.0",
      "model_name": "LayoutModel",
      "state": {}
     },
     "16ec94eb78a04ddf82d79163a7b8ff30": {
      "model_module": "@jupyter-widgets/base",
      "model_module_version": "1.2.0",
      "model_name": "LayoutModel",
      "state": {}
     },
     "19f910b9430e4c728c7855cf69db7dbe": {
      "model_module": "@jupyter-widgets/controls",
      "model_module_version": "1.5.0",
      "model_name": "HBoxModel",
      "state": {
       "children": [
        "IPY_MODEL_dec28044fe5241f3a0a87373619528bd",
        "IPY_MODEL_c7548c2dca9b423eb78ec894beea527d"
       ],
       "layout": "IPY_MODEL_4bdc9956a40a432392e727f37c5755fc"
      }
     },
     "1a72225bfa1c4f6c98a1a53385ca7d5c": {
      "model_module": "@jupyter-widgets/base",
      "model_module_version": "1.2.0",
      "model_name": "LayoutModel",
      "state": {}
     },
     "1b039d48bdcf409e8ab0a02abafc494d": {
      "model_module": "@jupyter-widgets/controls",
      "model_module_version": "1.5.0",
      "model_name": "HBoxModel",
      "state": {
       "children": [
        "IPY_MODEL_d11af2e516de469a9feb2449098700b3",
        "IPY_MODEL_f2227a2cbbac433d935091dd1708c938"
       ],
       "layout": "IPY_MODEL_ce7f226541cf442b9dea590a5f637d70"
      }
     },
     "1bd42690bd5f4e3096231fc11e00986e": {
      "model_module": "@jupyter-widgets/base",
      "model_module_version": "1.2.0",
      "model_name": "LayoutModel",
      "state": {}
     },
     "1c6278daa22e4d6b862b591ad251ed80": {
      "model_module": "@jupyter-widgets/base",
      "model_module_version": "1.2.0",
      "model_name": "LayoutModel",
      "state": {}
     },
     "20925ed47e794e8c9e4969bf34e60037": {
      "model_module": "@jupyter-widgets/base",
      "model_module_version": "1.2.0",
      "model_name": "LayoutModel",
      "state": {}
     },
     "2340441232884d62b9b108c54979dba7": {
      "model_module": "@jupyter-widgets/controls",
      "model_module_version": "1.5.0",
      "model_name": "HBoxModel",
      "state": {
       "children": [
        "IPY_MODEL_f43aaee98b3543039922495cd53d0c33",
        "IPY_MODEL_8531c2da7d964193bd4bd35a3d76c63d"
       ],
       "layout": "IPY_MODEL_2b77040fd17d4f78ab60f2d5863ea5dc"
      }
     },
     "270df0005a05473097bc9ef302547bd7": {
      "model_module": "@jupyter-widgets/controls",
      "model_module_version": "1.5.0",
      "model_name": "FloatProgressModel",
      "state": {
       "bar_style": "success",
       "description": "Calculating control matrix: 100%",
       "layout": "IPY_MODEL_cdd02f6ff3694c9a81b8d9769a48a4cd",
       "max": 250,
       "style": "IPY_MODEL_daf5f758aa5c45129dbaa8f94551bbb4",
       "value": 250
      }
     },
     "29d0588c39e443ceb44edfb1187fe7c7": {
      "model_module": "@jupyter-widgets/base",
      "model_module_version": "1.2.0",
      "model_name": "LayoutModel",
      "state": {}
     },
     "29e2773ab7264effacaf653e45573088": {
      "model_module": "@jupyter-widgets/controls",
      "model_module_version": "1.5.0",
      "model_name": "ProgressStyleModel",
      "state": {
       "description_width": "initial"
      }
     },
     "2b77040fd17d4f78ab60f2d5863ea5dc": {
      "model_module": "@jupyter-widgets/base",
      "model_module_version": "1.2.0",
      "model_name": "LayoutModel",
      "state": {}
     },
     "2c7d17ecfd044d7aa45e5f2bd957611d": {
      "model_module": "@jupyter-widgets/base",
      "model_module_version": "1.2.0",
      "model_name": "LayoutModel",
      "state": {}
     },
     "2ee89aeb355740d18bb60925889fe4ec": {
      "model_module": "@jupyter-widgets/controls",
      "model_module_version": "1.5.0",
      "model_name": "HBoxModel",
      "state": {
       "children": [
        "IPY_MODEL_9b5eaab1728a4c919489f25af0e54c33",
        "IPY_MODEL_5478d29ec7fd4fe2a5f99b2ea6c8752a"
       ],
       "layout": "IPY_MODEL_cec74829c2954e11beda9c0a54d82d37"
      }
     },
     "3ce9a3a9974e432c9bdca5c91bc2b0ec": {
      "model_module": "@jupyter-widgets/controls",
      "model_module_version": "1.5.0",
      "model_name": "ProgressStyleModel",
      "state": {
       "description_width": "initial"
      }
     },
     "3f67c7f5043c434694ed06464c13c346": {
      "model_module": "@jupyter-widgets/controls",
      "model_module_version": "1.5.0",
      "model_name": "FloatProgressModel",
      "state": {
       "bar_style": "success",
       "description": "Calculating control matrix: 100%",
       "layout": "IPY_MODEL_010bf16f80ef4c06b108641afeb833b9",
       "style": "IPY_MODEL_ca00bb03fd8c40ae963ce20d9cbfcd28",
       "value": 100
      }
     },
     "4174380b1046471aa5aae8edbfcfb60b": {
      "model_module": "@jupyter-widgets/controls",
      "model_module_version": "1.5.0",
      "model_name": "HBoxModel",
      "state": {
       "children": [
        "IPY_MODEL_4b4098799c164f818351a2e316ea7f9b",
        "IPY_MODEL_998508aab87245e9b117527dc9eb6e5d"
       ],
       "layout": "IPY_MODEL_a757590ac14042149b0f0a3a653e0a23"
      }
     },
     "4183d6129a4a4bb3a2b0cde8dfa5638d": {
      "model_module": "@jupyter-widgets/controls",
      "model_module_version": "1.5.0",
      "model_name": "DescriptionStyleModel",
      "state": {
       "description_width": ""
      }
     },
     "4370129749044d4b9e81eaeb3d42a5ea": {
      "model_module": "@jupyter-widgets/controls",
      "model_module_version": "1.5.0",
      "model_name": "DescriptionStyleModel",
      "state": {
       "description_width": ""
      }
     },
     "4655a9b9c6104dbf85a486a272ccbe4d": {
      "model_module": "@jupyter-widgets/base",
      "model_module_version": "1.2.0",
      "model_name": "LayoutModel",
      "state": {}
     },
     "49c4727113ba471581e203c36704e746": {
      "model_module": "@jupyter-widgets/base",
      "model_module_version": "1.2.0",
      "model_name": "LayoutModel",
      "state": {}
     },
     "4b4098799c164f818351a2e316ea7f9b": {
      "model_module": "@jupyter-widgets/controls",
      "model_module_version": "1.5.0",
      "model_name": "FloatProgressModel",
      "state": {
       "bar_style": "success",
       "description": "Calculating control matrix: 100%",
       "layout": "IPY_MODEL_d50164f16b244052af6a16528da700ec",
       "style": "IPY_MODEL_8b9bb33ae0a04f609f7ee6b12afc45e5",
       "value": 100
      }
     },
     "4bdc9956a40a432392e727f37c5755fc": {
      "model_module": "@jupyter-widgets/base",
      "model_module_version": "1.2.0",
      "model_name": "LayoutModel",
      "state": {}
     },
     "51668696af73439180375526aaa5f650": {
      "model_module": "@jupyter-widgets/base",
      "model_module_version": "1.2.0",
      "model_name": "LayoutModel",
      "state": {}
     },
     "53b534c64fd14a39a46ed8342c6693d4": {
      "model_module": "@jupyter-widgets/controls",
      "model_module_version": "1.5.0",
      "model_name": "HTMLModel",
      "state": {
       "layout": "IPY_MODEL_1bd42690bd5f4e3096231fc11e00986e",
       "style": "IPY_MODEL_4370129749044d4b9e81eaeb3d42a5ea",
       "value": " 250/250 [00:01&lt;00:00, 169.96it/s]"
      }
     },
     "5478d29ec7fd4fe2a5f99b2ea6c8752a": {
      "model_module": "@jupyter-widgets/controls",
      "model_module_version": "1.5.0",
      "model_name": "HTMLModel",
      "state": {
       "layout": "IPY_MODEL_20925ed47e794e8c9e4969bf34e60037",
       "style": "IPY_MODEL_b833b7f847cc4933874817fb426bc0fe",
       "value": " 100/100 [00:01&lt;00:00, 89.85it/s]"
      }
     },
     "5929ff5c99f5460bb21a9b0117c5df08": {
      "model_module": "@jupyter-widgets/controls",
      "model_module_version": "1.5.0",
      "model_name": "DescriptionStyleModel",
      "state": {
       "description_width": ""
      }
     },
     "5db43feb22444799a5bec017b949fa67": {
      "model_module": "@jupyter-widgets/controls",
      "model_module_version": "1.5.0",
      "model_name": "HBoxModel",
      "state": {
       "children": [
        "IPY_MODEL_3f67c7f5043c434694ed06464c13c346",
        "IPY_MODEL_bf4a3cf7848743d495263ed148aea7d0"
       ],
       "layout": "IPY_MODEL_5dcd317c60484dd1b6438a9ebad4ecb4"
      }
     },
     "5dcd317c60484dd1b6438a9ebad4ecb4": {
      "model_module": "@jupyter-widgets/base",
      "model_module_version": "1.2.0",
      "model_name": "LayoutModel",
      "state": {}
     },
     "5ff59a9d5ca04c38aaf6dd6ea6854e13": {
      "model_module": "@jupyter-widgets/controls",
      "model_module_version": "1.5.0",
      "model_name": "ProgressStyleModel",
      "state": {
       "description_width": "initial"
      }
     },
     "6132a7c8cbe74a1396a5dc8984b0ad91": {
      "model_module": "@jupyter-widgets/controls",
      "model_module_version": "1.5.0",
      "model_name": "FloatProgressModel",
      "state": {
       "bar_style": "success",
       "description": "Calculating control matrix: 100%",
       "layout": "IPY_MODEL_92482891be7547ac9176c72d94352566",
       "style": "IPY_MODEL_29e2773ab7264effacaf653e45573088",
       "value": 100
      }
     },
     "6712341e92fd4eca96190e51d2b47479": {
      "model_module": "@jupyter-widgets/base",
      "model_module_version": "1.2.0",
      "model_name": "LayoutModel",
      "state": {}
     },
     "67f96117df3848e6b580ced07d127057": {
      "model_module": "@jupyter-widgets/base",
      "model_module_version": "1.2.0",
      "model_name": "LayoutModel",
      "state": {}
     },
     "6d78511c6549428ca1a53a47357154b4": {
      "model_module": "@jupyter-widgets/controls",
      "model_module_version": "1.5.0",
      "model_name": "HBoxModel",
      "state": {
       "children": [
        "IPY_MODEL_270df0005a05473097bc9ef302547bd7",
        "IPY_MODEL_eb2ca4e4eabc49e5bec6d877ff0f6aa1"
       ],
       "layout": "IPY_MODEL_d7a767083a254490afd09ce8a1a0a3cd"
      }
     },
     "6e835bd595f24bb1869f4e5a64be4edd": {
      "model_module": "@jupyter-widgets/base",
      "model_module_version": "1.2.0",
      "model_name": "LayoutModel",
      "state": {}
     },
     "700c2b3f5e7b48c1a3588e087ecf3e5e": {
      "model_module": "@jupyter-widgets/base",
      "model_module_version": "1.2.0",
      "model_name": "LayoutModel",
      "state": {}
     },
     "78fe6f0ea2c04e2ebe74f9e4faf2dcfb": {
      "model_module": "@jupyter-widgets/base",
      "model_module_version": "1.2.0",
      "model_name": "LayoutModel",
      "state": {}
     },
     "7a23ebf7388748989db54165609f862d": {
      "model_module": "@jupyter-widgets/controls",
      "model_module_version": "1.5.0",
      "model_name": "DescriptionStyleModel",
      "state": {
       "description_width": ""
      }
     },
     "7c4d49960fd94b27a2af44cad1f60be0": {
      "model_module": "@jupyter-widgets/controls",
      "model_module_version": "1.5.0",
      "model_name": "FloatProgressModel",
      "state": {
       "bar_style": "success",
       "description": "Calculating control matrix: 100%",
       "layout": "IPY_MODEL_b0d29cbf316d43628bf732898910984c",
       "style": "IPY_MODEL_0ee64a2c9cad44d7866a2e7527126447",
       "value": 100
      }
     },
     "8066f84c45164358a2fe87e950ed198a": {
      "model_module": "@jupyter-widgets/controls",
      "model_module_version": "1.5.0",
      "model_name": "ProgressStyleModel",
      "state": {
       "description_width": "initial"
      }
     },
     "82395f8508b14ad7973864c5ed774cc2": {
      "model_module": "@jupyter-widgets/controls",
      "model_module_version": "1.5.0",
      "model_name": "DescriptionStyleModel",
      "state": {
       "description_width": ""
      }
     },
     "835fc073583440a394db086b060c16ec": {
      "model_module": "@jupyter-widgets/base",
      "model_module_version": "1.2.0",
      "model_name": "LayoutModel",
      "state": {}
     },
     "850e7078b2ca4a45b925625235f95307": {
      "model_module": "@jupyter-widgets/controls",
      "model_module_version": "1.5.0",
      "model_name": "HTMLModel",
      "state": {
       "layout": "IPY_MODEL_6e835bd595f24bb1869f4e5a64be4edd",
       "style": "IPY_MODEL_82395f8508b14ad7973864c5ed774cc2",
       "value": " 250/250 [00:02&lt;00:00, 118.13it/s]"
      }
     },
     "8531c2da7d964193bd4bd35a3d76c63d": {
      "model_module": "@jupyter-widgets/controls",
      "model_module_version": "1.5.0",
      "model_name": "HTMLModel",
      "state": {
       "layout": "IPY_MODEL_700c2b3f5e7b48c1a3588e087ecf3e5e",
       "style": "IPY_MODEL_b720d9098a8c48e7bdaa22c67e0fdf89",
       "value": " 100/100 [00:00&lt;00:00, 127.44it/s]"
      }
     },
     "880fc2da02ce462dbe44d941b83aecfd": {
      "model_module": "@jupyter-widgets/controls",
      "model_module_version": "1.5.0",
      "model_name": "FloatProgressModel",
      "state": {
       "bar_style": "success",
       "description": "Calculating control matrix: 100%",
       "layout": "IPY_MODEL_29d0588c39e443ceb44edfb1187fe7c7",
       "max": 250,
       "style": "IPY_MODEL_5ff59a9d5ca04c38aaf6dd6ea6854e13",
       "value": 250
      }
     },
     "8b9bb33ae0a04f609f7ee6b12afc45e5": {
      "model_module": "@jupyter-widgets/controls",
      "model_module_version": "1.5.0",
      "model_name": "ProgressStyleModel",
      "state": {
       "description_width": "initial"
      }
     },
     "8bc1ef0f68c4406cb4351dfe1d13374d": {
      "model_module": "@jupyter-widgets/controls",
      "model_module_version": "1.5.0",
      "model_name": "HBoxModel",
      "state": {
       "children": [
        "IPY_MODEL_6132a7c8cbe74a1396a5dc8984b0ad91",
        "IPY_MODEL_f820ad6b70cb48648defcc94f745a951"
       ],
       "layout": "IPY_MODEL_835fc073583440a394db086b060c16ec"
      }
     },
     "8c389db926684d8394ea504534d414ce": {
      "model_module": "@jupyter-widgets/controls",
      "model_module_version": "1.5.0",
      "model_name": "FloatProgressModel",
      "state": {
       "bar_style": "success",
       "description": "Calculating control matrix: 100%",
       "layout": "IPY_MODEL_b0923b86539a4710976d864a04a136ac",
       "style": "IPY_MODEL_e2452189541c4312b604fd9af24b9ad3",
       "value": 100
      }
     },
     "917c81ca2a5d4e06881aae07fed57789": {
      "model_module": "@jupyter-widgets/controls",
      "model_module_version": "1.5.0",
      "model_name": "HTMLModel",
      "state": {
       "layout": "IPY_MODEL_e195764e1619408099f071bbc124560b",
       "style": "IPY_MODEL_5929ff5c99f5460bb21a9b0117c5df08",
       "value": " 100/100 [00:01&lt;00:00, 84.23it/s]"
      }
     },
     "9186df8a4413462e9b947221f861d7e6": {
      "model_module": "@jupyter-widgets/controls",
      "model_module_version": "1.5.0",
      "model_name": "FloatProgressModel",
      "state": {
       "bar_style": "success",
       "description": "Calculating control matrix: 100%",
       "layout": "IPY_MODEL_b66f081ae54d434c82797a15252a967f",
       "max": 250,
       "style": "IPY_MODEL_141d02f5d71646d0bc9ab3c79ed9f238",
       "value": 250
      }
     },
     "92482891be7547ac9176c72d94352566": {
      "model_module": "@jupyter-widgets/base",
      "model_module_version": "1.2.0",
      "model_name": "LayoutModel",
      "state": {}
     },
     "958d658b6f47417c82bcff2f88415e6d": {
      "model_module": "@jupyter-widgets/controls",
      "model_module_version": "1.5.0",
      "model_name": "DescriptionStyleModel",
      "state": {
       "description_width": ""
      }
     },
     "998508aab87245e9b117527dc9eb6e5d": {
      "model_module": "@jupyter-widgets/controls",
      "model_module_version": "1.5.0",
      "model_name": "HTMLModel",
      "state": {
       "layout": "IPY_MODEL_4655a9b9c6104dbf85a486a272ccbe4d",
       "style": "IPY_MODEL_7a23ebf7388748989db54165609f862d",
       "value": " 100/100 [00:00&lt;00:00, 178.37it/s]"
      }
     },
     "99e11daf3ea643049b281e943dfd629c": {
      "model_module": "@jupyter-widgets/controls",
      "model_module_version": "1.5.0",
      "model_name": "ProgressStyleModel",
      "state": {
       "description_width": "initial"
      }
     },
     "9b5eaab1728a4c919489f25af0e54c33": {
      "model_module": "@jupyter-widgets/controls",
      "model_module_version": "1.5.0",
      "model_name": "FloatProgressModel",
      "state": {
       "bar_style": "success",
       "description": "Calculating control matrix: 100%",
       "layout": "IPY_MODEL_e410d0f51e644e978d5887ed06676790",
       "style": "IPY_MODEL_8066f84c45164358a2fe87e950ed198a",
       "value": 100
      }
     },
     "9cbc19fa6e53447ba7646c1d6a410046": {
      "model_module": "@jupyter-widgets/controls",
      "model_module_version": "1.5.0",
      "model_name": "ProgressStyleModel",
      "state": {
       "description_width": "initial"
      }
     },
     "9e0b0cf1e755466c8c6f3e42208f31c6": {
      "model_module": "@jupyter-widgets/base",
      "model_module_version": "1.2.0",
      "model_name": "LayoutModel",
      "state": {}
     },
     "a02215daecd74ee58f17b329fb4b8c53": {
      "model_module": "@jupyter-widgets/controls",
      "model_module_version": "1.5.0",
      "model_name": "DescriptionStyleModel",
      "state": {
       "description_width": ""
      }
     },
     "a0df6b17d69648fbaaf5b720bab40c59": {
      "model_module": "@jupyter-widgets/controls",
      "model_module_version": "1.5.0",
      "model_name": "DescriptionStyleModel",
      "state": {
       "description_width": ""
      }
     },
     "a54dce274b83448ea06167a7cd76e5da": {
      "model_module": "@jupyter-widgets/controls",
      "model_module_version": "1.5.0",
      "model_name": "HBoxModel",
      "state": {
       "children": [
        "IPY_MODEL_a7d70933a84a41e1b10b1d8eb29db034",
        "IPY_MODEL_a93e2e8c820d494d947971f5cacd4434"
       ],
       "layout": "IPY_MODEL_1c6278daa22e4d6b862b591ad251ed80"
      }
     },
     "a7307e2a0fe94b2ebca6465ee403765c": {
      "model_module": "@jupyter-widgets/base",
      "model_module_version": "1.2.0",
      "model_name": "LayoutModel",
      "state": {}
     },
     "a757590ac14042149b0f0a3a653e0a23": {
      "model_module": "@jupyter-widgets/base",
      "model_module_version": "1.2.0",
      "model_name": "LayoutModel",
      "state": {}
     },
     "a7d70933a84a41e1b10b1d8eb29db034": {
      "model_module": "@jupyter-widgets/controls",
      "model_module_version": "1.5.0",
      "model_name": "FloatProgressModel",
      "state": {
       "bar_style": "success",
       "description": "Calculating control matrix: 100%",
       "layout": "IPY_MODEL_b9ebb066e82f472db52264372cbc4c45",
       "style": "IPY_MODEL_ef0d0e1104534626ae5992b10ab18c0c",
       "value": 100
      }
     },
     "a8c86c35cf554615b463bc5c239fa7e8": {
      "model_module": "@jupyter-widgets/controls",
      "model_module_version": "1.5.0",
      "model_name": "HBoxModel",
      "state": {
       "children": [
        "IPY_MODEL_9186df8a4413462e9b947221f861d7e6",
        "IPY_MODEL_53b534c64fd14a39a46ed8342c6693d4"
       ],
       "layout": "IPY_MODEL_cf12eef862c74166b783bc7d4dd014ab"
      }
     },
     "a93e2e8c820d494d947971f5cacd4434": {
      "model_module": "@jupyter-widgets/controls",
      "model_module_version": "1.5.0",
      "model_name": "HTMLModel",
      "state": {
       "layout": "IPY_MODEL_67f96117df3848e6b580ced07d127057",
       "style": "IPY_MODEL_a0df6b17d69648fbaaf5b720bab40c59",
       "value": " 100/100 [00:01&lt;00:00, 68.36it/s]"
      }
     },
     "ac51a214d70543889492a82cd8b9237d": {
      "model_module": "@jupyter-widgets/base",
      "model_module_version": "1.2.0",
      "model_name": "LayoutModel",
      "state": {}
     },
     "b0923b86539a4710976d864a04a136ac": {
      "model_module": "@jupyter-widgets/base",
      "model_module_version": "1.2.0",
      "model_name": "LayoutModel",
      "state": {}
     },
     "b0d29cbf316d43628bf732898910984c": {
      "model_module": "@jupyter-widgets/base",
      "model_module_version": "1.2.0",
      "model_name": "LayoutModel",
      "state": {}
     },
     "b66f081ae54d434c82797a15252a967f": {
      "model_module": "@jupyter-widgets/base",
      "model_module_version": "1.2.0",
      "model_name": "LayoutModel",
      "state": {}
     },
     "b720d9098a8c48e7bdaa22c67e0fdf89": {
      "model_module": "@jupyter-widgets/controls",
      "model_module_version": "1.5.0",
      "model_name": "DescriptionStyleModel",
      "state": {
       "description_width": ""
      }
     },
     "b81fa075c4c04356a556830caa8612e6": {
      "model_module": "@jupyter-widgets/controls",
      "model_module_version": "1.5.0",
      "model_name": "HBoxModel",
      "state": {
       "children": [
        "IPY_MODEL_8c389db926684d8394ea504534d414ce",
        "IPY_MODEL_e3533eace32b420492a483aa356ebd8e"
       ],
       "layout": "IPY_MODEL_2c7d17ecfd044d7aa45e5f2bd957611d"
      }
     },
     "b833b7f847cc4933874817fb426bc0fe": {
      "model_module": "@jupyter-widgets/controls",
      "model_module_version": "1.5.0",
      "model_name": "DescriptionStyleModel",
      "state": {
       "description_width": ""
      }
     },
     "b8efcbe25a1a48e98aa776f57b5c0362": {
      "model_module": "@jupyter-widgets/base",
      "model_module_version": "1.2.0",
      "model_name": "LayoutModel",
      "state": {}
     },
     "b9ebb066e82f472db52264372cbc4c45": {
      "model_module": "@jupyter-widgets/base",
      "model_module_version": "1.2.0",
      "model_name": "LayoutModel",
      "state": {}
     },
     "ba856ee5323e43268700485c2eef63de": {
      "model_module": "@jupyter-widgets/controls",
      "model_module_version": "1.5.0",
      "model_name": "HBoxModel",
      "state": {
       "children": [
        "IPY_MODEL_c0e01d1124914dc484aee2f0ed3c1488",
        "IPY_MODEL_917c81ca2a5d4e06881aae07fed57789"
       ],
       "layout": "IPY_MODEL_a7307e2a0fe94b2ebca6465ee403765c"
      }
     },
     "bf4a3cf7848743d495263ed148aea7d0": {
      "model_module": "@jupyter-widgets/controls",
      "model_module_version": "1.5.0",
      "model_name": "HTMLModel",
      "state": {
       "layout": "IPY_MODEL_51668696af73439180375526aaa5f650",
       "style": "IPY_MODEL_0a57c2cef4454d2b83ba1534c9d0eaf3",
       "value": " 100/100 [00:00&lt;00:00, 107.13it/s]"
      }
     },
     "c0e01d1124914dc484aee2f0ed3c1488": {
      "model_module": "@jupyter-widgets/controls",
      "model_module_version": "1.5.0",
      "model_name": "FloatProgressModel",
      "state": {
       "bar_style": "success",
       "description": "Calculating control matrix: 100%",
       "layout": "IPY_MODEL_16ec94eb78a04ddf82d79163a7b8ff30",
       "style": "IPY_MODEL_3ce9a3a9974e432c9bdca5c91bc2b0ec",
       "value": 100
      }
     },
     "c3fe8ebeb6604615897c1821e712dd72": {
      "model_module": "@jupyter-widgets/controls",
      "model_module_version": "1.5.0",
      "model_name": "HBoxModel",
      "state": {
       "children": [
        "IPY_MODEL_880fc2da02ce462dbe44d941b83aecfd",
        "IPY_MODEL_850e7078b2ca4a45b925625235f95307"
       ],
       "layout": "IPY_MODEL_e51f56c3c99847828cc1e8cf25f40638"
      }
     },
     "c404509b99854e19b01077cc6eb55c78": {
      "model_module": "@jupyter-widgets/base",
      "model_module_version": "1.2.0",
      "model_name": "LayoutModel",
      "state": {}
     },
     "c7548c2dca9b423eb78ec894beea527d": {
      "model_module": "@jupyter-widgets/controls",
      "model_module_version": "1.5.0",
      "model_name": "HTMLModel",
      "state": {
       "layout": "IPY_MODEL_9e0b0cf1e755466c8c6f3e42208f31c6",
       "style": "IPY_MODEL_4183d6129a4a4bb3a2b0cde8dfa5638d",
       "value": " 250/250 [00:02&lt;00:00, 101.53it/s]"
      }
     },
     "c847084bed17477f83ac7efcc7a06009": {
      "model_module": "@jupyter-widgets/base",
      "model_module_version": "1.2.0",
      "model_name": "LayoutModel",
      "state": {}
     },
     "c9f31fde670e443ea67a1208be9b9680": {
      "model_module": "@jupyter-widgets/controls",
      "model_module_version": "1.5.0",
      "model_name": "DescriptionStyleModel",
      "state": {
       "description_width": ""
      }
     },
     "ca00bb03fd8c40ae963ce20d9cbfcd28": {
      "model_module": "@jupyter-widgets/controls",
      "model_module_version": "1.5.0",
      "model_name": "ProgressStyleModel",
      "state": {
       "description_width": "initial"
      }
     },
     "cdd02f6ff3694c9a81b8d9769a48a4cd": {
      "model_module": "@jupyter-widgets/base",
      "model_module_version": "1.2.0",
      "model_name": "LayoutModel",
      "state": {}
     },
     "ce7f226541cf442b9dea590a5f637d70": {
      "model_module": "@jupyter-widgets/base",
      "model_module_version": "1.2.0",
      "model_name": "LayoutModel",
      "state": {}
     },
     "cec74829c2954e11beda9c0a54d82d37": {
      "model_module": "@jupyter-widgets/base",
      "model_module_version": "1.2.0",
      "model_name": "LayoutModel",
      "state": {}
     },
     "cf12eef862c74166b783bc7d4dd014ab": {
      "model_module": "@jupyter-widgets/base",
      "model_module_version": "1.2.0",
      "model_name": "LayoutModel",
      "state": {}
     },
     "d11af2e516de469a9feb2449098700b3": {
      "model_module": "@jupyter-widgets/controls",
      "model_module_version": "1.5.0",
      "model_name": "FloatProgressModel",
      "state": {
       "bar_style": "success",
       "description": "Calculating control matrix: 100%",
       "layout": "IPY_MODEL_e1b12cb7615f442c802bfec0c1fe71c5",
       "style": "IPY_MODEL_99e11daf3ea643049b281e943dfd629c",
       "value": 100
      }
     },
     "d174ff26283045f9b90986b63e202f61": {
      "model_module": "@jupyter-widgets/base",
      "model_module_version": "1.2.0",
      "model_name": "LayoutModel",
      "state": {}
     },
     "d41073d6eeaf44da9d61c9fbbc1e1c7e": {
      "model_module": "@jupyter-widgets/controls",
      "model_module_version": "1.5.0",
      "model_name": "ProgressStyleModel",
      "state": {
       "description_width": "initial"
      }
     },
     "d50164f16b244052af6a16528da700ec": {
      "model_module": "@jupyter-widgets/base",
      "model_module_version": "1.2.0",
      "model_name": "LayoutModel",
      "state": {}
     },
     "d6462493a1a049a3a78635d83ad87fe7": {
      "model_module": "@jupyter-widgets/base",
      "model_module_version": "1.2.0",
      "model_name": "LayoutModel",
      "state": {}
     },
     "d7a767083a254490afd09ce8a1a0a3cd": {
      "model_module": "@jupyter-widgets/base",
      "model_module_version": "1.2.0",
      "model_name": "LayoutModel",
      "state": {}
     },
     "d7e3a79a322c40dfb1a9f92f597f7f7c": {
      "model_module": "@jupyter-widgets/controls",
      "model_module_version": "1.5.0",
      "model_name": "FloatProgressModel",
      "state": {
       "bar_style": "success",
       "description": "Calculating control matrix: 100%",
       "layout": "IPY_MODEL_c847084bed17477f83ac7efcc7a06009",
       "max": 250,
       "style": "IPY_MODEL_9cbc19fa6e53447ba7646c1d6a410046",
       "value": 250
      }
     },
     "daf5f758aa5c45129dbaa8f94551bbb4": {
      "model_module": "@jupyter-widgets/controls",
      "model_module_version": "1.5.0",
      "model_name": "ProgressStyleModel",
      "state": {
       "description_width": "initial"
      }
     },
     "dec28044fe5241f3a0a87373619528bd": {
      "model_module": "@jupyter-widgets/controls",
      "model_module_version": "1.5.0",
      "model_name": "FloatProgressModel",
      "state": {
       "bar_style": "success",
       "description": "Calculating control matrix: 100%",
       "layout": "IPY_MODEL_d6462493a1a049a3a78635d83ad87fe7",
       "max": 250,
       "style": "IPY_MODEL_d41073d6eeaf44da9d61c9fbbc1e1c7e",
       "value": 250
      }
     },
     "e195764e1619408099f071bbc124560b": {
      "model_module": "@jupyter-widgets/base",
      "model_module_version": "1.2.0",
      "model_name": "LayoutModel",
      "state": {}
     },
     "e1b12cb7615f442c802bfec0c1fe71c5": {
      "model_module": "@jupyter-widgets/base",
      "model_module_version": "1.2.0",
      "model_name": "LayoutModel",
      "state": {}
     },
     "e2452189541c4312b604fd9af24b9ad3": {
      "model_module": "@jupyter-widgets/controls",
      "model_module_version": "1.5.0",
      "model_name": "ProgressStyleModel",
      "state": {
       "description_width": "initial"
      }
     },
     "e3533eace32b420492a483aa356ebd8e": {
      "model_module": "@jupyter-widgets/controls",
      "model_module_version": "1.5.0",
      "model_name": "HTMLModel",
      "state": {
       "layout": "IPY_MODEL_1a72225bfa1c4f6c98a1a53385ca7d5c",
       "style": "IPY_MODEL_958d658b6f47417c82bcff2f88415e6d",
       "value": " 100/100 [00:00&lt;00:00, 107.70it/s]"
      }
     },
     "e3d363e6f39041358b34b072b11473ba": {
      "model_module": "@jupyter-widgets/controls",
      "model_module_version": "1.5.0",
      "model_name": "HTMLModel",
      "state": {
       "layout": "IPY_MODEL_6712341e92fd4eca96190e51d2b47479",
       "style": "IPY_MODEL_fd3b104f4cd742ef8283cabd35778a3e",
       "value": " 250/250 [00:02&lt;00:00, 104.19it/s]"
      }
     },
     "e410d0f51e644e978d5887ed06676790": {
      "model_module": "@jupyter-widgets/base",
      "model_module_version": "1.2.0",
      "model_name": "LayoutModel",
      "state": {}
     },
     "e51f56c3c99847828cc1e8cf25f40638": {
      "model_module": "@jupyter-widgets/base",
      "model_module_version": "1.2.0",
      "model_name": "LayoutModel",
      "state": {}
     },
     "e6725e1448a84ef3937c7139da7fc192": {
      "model_module": "@jupyter-widgets/controls",
      "model_module_version": "1.5.0",
      "model_name": "HBoxModel",
      "state": {
       "children": [
        "IPY_MODEL_7c4d49960fd94b27a2af44cad1f60be0",
        "IPY_MODEL_077dbd79885945fba8d4c40032f33716"
       ],
       "layout": "IPY_MODEL_ac51a214d70543889492a82cd8b9237d"
      }
     },
     "eb2ca4e4eabc49e5bec6d877ff0f6aa1": {
      "model_module": "@jupyter-widgets/controls",
      "model_module_version": "1.5.0",
      "model_name": "HTMLModel",
      "state": {
       "layout": "IPY_MODEL_147a75f63b9f41998ec3e61a67b19f58",
       "style": "IPY_MODEL_a02215daecd74ee58f17b329fb4b8c53",
       "value": " 250/250 [00:01&lt;00:00, 203.52it/s]"
      }
     },
     "ef0d0e1104534626ae5992b10ab18c0c": {
      "model_module": "@jupyter-widgets/controls",
      "model_module_version": "1.5.0",
      "model_name": "ProgressStyleModel",
      "state": {
       "description_width": "initial"
      }
     },
     "f2227a2cbbac433d935091dd1708c938": {
      "model_module": "@jupyter-widgets/controls",
      "model_module_version": "1.5.0",
      "model_name": "HTMLModel",
      "state": {
       "layout": "IPY_MODEL_d174ff26283045f9b90986b63e202f61",
       "style": "IPY_MODEL_0762953ce076440987c6e38195ce83c9",
       "value": " 100/100 [00:01&lt;00:00, 67.95it/s]"
      }
     },
     "f43aaee98b3543039922495cd53d0c33": {
      "model_module": "@jupyter-widgets/controls",
      "model_module_version": "1.5.0",
      "model_name": "FloatProgressModel",
      "state": {
       "bar_style": "success",
       "description": "Calculating control matrix: 100%",
       "layout": "IPY_MODEL_b8efcbe25a1a48e98aa776f57b5c0362",
       "style": "IPY_MODEL_f7d03d9541b34d8281defe2a35176bbc",
       "value": 100
      }
     },
     "f7d03d9541b34d8281defe2a35176bbc": {
      "model_module": "@jupyter-widgets/controls",
      "model_module_version": "1.5.0",
      "model_name": "ProgressStyleModel",
      "state": {
       "description_width": "initial"
      }
     },
     "f820ad6b70cb48648defcc94f745a951": {
      "model_module": "@jupyter-widgets/controls",
      "model_module_version": "1.5.0",
      "model_name": "HTMLModel",
      "state": {
       "layout": "IPY_MODEL_78fe6f0ea2c04e2ebe74f9e4faf2dcfb",
       "style": "IPY_MODEL_0dc28bbab3114ad78a4593090933e8cd",
       "value": " 100/100 [00:00&lt;00:00, 155.00it/s]"
      }
     },
     "fd3b104f4cd742ef8283cabd35778a3e": {
      "model_module": "@jupyter-widgets/controls",
      "model_module_version": "1.5.0",
      "model_name": "DescriptionStyleModel",
      "state": {
       "description_width": ""
      }
     },
     "fde014a6364841ef97f45b568b6e282f": {
      "model_module": "@jupyter-widgets/controls",
      "model_module_version": "1.5.0",
      "model_name": "HBoxModel",
      "state": {
       "children": [
        "IPY_MODEL_d7e3a79a322c40dfb1a9f92f597f7f7c",
        "IPY_MODEL_e3d363e6f39041358b34b072b11473ba"
       ],
       "layout": "IPY_MODEL_49c4727113ba471581e203c36704e746"
      }
     }
    },
    "version_major": 2,
    "version_minor": 0
   }
  }
 },
 "nbformat": 4,
 "nbformat_minor": 2
}
