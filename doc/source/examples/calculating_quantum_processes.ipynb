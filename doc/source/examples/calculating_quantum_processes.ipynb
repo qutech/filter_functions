{
 "cells": [
  {
   "cell_type": "markdown",
   "metadata": {},
   "source": [
    "# Calculating Quantum Processes\n",
    "In this example we would like to calculate the error transfer matrices (quantum processes of the error channels) of a two-qubit gateset for singlet-triplet qubits subject to $1/f$-like charge noise that are manipulated via a detuning-controlled exchange interaction. The error transfer matrix is here understood as the Liouville representation of the ensemble averaged error superpropagator $\\langle\\tilde{\\mathcal{U}}(\\tau)\\rangle$. It is completely characterized by the cumulant function,\n",
    "\n",
    "$$\n",
    "\\langle\\mathcal{\\tilde{U}}(\\tau)\\rangle = \\exp\\mathcal{K}(\\tau),\n",
    "$$\n",
    "\n",
    "where $\\mathcal{K}(\\tau)$ is a $d^2\\times d^2$ matrix ($d$ being the dimension of the quantum system) expressed in a basis of orthonormal Hermitian matrices $\\mathcal{C}=\\{C_i\\}_{i=0}^{d^2-1}$. It captures the deviation from the identity channel and can be used to extract many useful quantities that describe the channel. For instance, the entanglement infidelity of the pulse is given by\n",
    "\n",
    "$$\n",
    "\\mathcal{I}_\\mathrm{e} = 1 - \\frac{1}{d^2}\\mathrm{tr}\\,\\langle\\tilde{\\mathcal{U}}(\\tau)\\rangle \\approx -\\mathrm{tr}\\,\\mathcal{K}(\\tau),\n",
    "$$\n",
    "\n",
    "where the approximation holds for small noise, and the state fidelity (probability that a state is returned to itself) for pure input states by\n",
    "\n",
    "$$\n",
    "p_{j\\rightarrow j} = \\langle\\!\\langle\\rho_j\\rvert\\mathcal{Q}\\langle\\mathcal{\\tilde{U}}\\rangle\\lvert\\rho_j\\rangle\\!\\rangle\n",
    "$$\n",
    "\n",
    "with $\\lvert\\rho_j\\rangle\\!\\rangle = \\sum_{k=0}^{d^2-1}\\mathrm{tr}(C_k\\rho_j)\\lvert k\\rangle\\!\\rangle$ the vectorized density matrix in the basis $\\mathcal{C}$ and $\\mathcal{Q}$ the Liouville representation of the total propagator $Q$ of the control pulse.\n",
    "\n",
    "Within `filter_functions`, the cumulant function $\\mathcal{K}(\\tau)$ is calculated from first-order Magnus expansion terms alone.  These terms induce dissipation. Additional second-order terms, inducing coherent errors, can be neglected if we assume that the experimentalist has calibrated their pulses. For Gaussian noise, higher orders cancel out and the above expressions are exact. In the case of non-Gaussian noise, they become peturbative in the noise parameter $\\xi$, being of order $\\xi^2$.\n",
    "\n",
    "Again we use the optimized gates presented in [Cerfontaine et al. (2019)] and start by loading the data and setting up the control operators $A_i$.\n",
    "\n",
    "[Cerfontaine et al. (2019)]: https://arxiv.org/abs/1901.00851"
   ]
  },
  {
   "cell_type": "code",
   "execution_count": 1,
   "metadata": {},
   "outputs": [],
   "source": [
    "import sys\n",
    "from pathlib import Path\n",
    "\n",
    "import numpy as np\n",
    "from qutip.qip import operations\n",
    "from qutip.visualization import matrix_histogram_complex\n",
    "from scipy import io\n",
    "\n",
    "import filter_functions as ff\n",
    "from filter_functions import numeric, util"
   ]
  },
  {
   "cell_type": "code",
   "execution_count": 2,
   "metadata": {},
   "outputs": [],
   "source": [
    "data_path = Path(sys.path[0]).parent.parent.parent / 'examples/data'\n",
    "\n",
    "gates = ['X2ID', 'Y2ID', 'CNOT']\n",
    "struct = {'X2ID': io.loadmat(str(data_path / 'X2ID.mat')),\n",
    "          'Y2ID': io.loadmat(str(data_path / 'Y2ID.mat')),\n",
    "          'CNOT': io.loadmat(str(data_path / 'CNOT.mat'))}\n",
    "eps = {key: np.asarray(struct[key]['eps'], order='C') for key in gates}\n",
    "dt = {key: np.asarray(struct[key]['t'].ravel(), order='C') for key in gates}\n",
    "B = {key: np.asarray(struct[key]['B'].ravel(), order='C') for key in gates}\n",
    "B_avg = {key: struct[key]['BAvg'].ravel() for key in gates}\n",
    "infid_fast = {key: struct[key]['infid_fast'].ravel() for key in gates}\n",
    "# B_avg same for all\n",
    "B_avg = B_avg['X2ID']\n",
    "T = {key: val.sum() for key, val in dt.items()}\n",
    "\n",
    "J = {key: np.exp(eps[key]) for key in gates}\n",
    "n_dt = {key: len(dt[key]) for key in gates}\n",
    "\n",
    "d = 16\n",
    "H = np.empty((6, d, d), dtype=complex)\n",
    "\n",
    "Id, Px, Py, Pz = util.paulis\n",
    "# Exchange Hamiltonians\n",
    "H[0] = 1/4*sum(util.tensor(P, P, Id, Id) for P in (Px, Py, Pz))\n",
    "H[1] = 1/4*sum(util.tensor(Id, P, P, Id) for P in (Px, Py, Pz))\n",
    "H[2] = 1/4*sum(util.tensor(Id, Id, P, P) for P in (Px, Py, Pz))\n",
    "# Zeeman Hamiltonians\n",
    "H[3] = 1/8*(util.tensor(Pz, Id, Id, Id)*(-3) +\n",
    "            util.tensor(Id, Pz, Id, Id) +\n",
    "            util.tensor(Id, Id, Pz, Id) +\n",
    "            util.tensor(Id, Id, Id, Pz))\n",
    "H[4] = 1/4*(util.tensor(Pz, Id, Id, Id)*(-1) +\n",
    "            util.tensor(Id, Pz, Id, Id)*(-1) +\n",
    "            util.tensor(Id, Id, Pz, Id) +\n",
    "            util.tensor(Id, Id, Id, Pz))\n",
    "H[5] = 1/8*(util.tensor(Pz, Id, Id, Id)*(-1) +\n",
    "            util.tensor(Id, Pz, Id, Id)*(-1) +\n",
    "            util.tensor(Id, Id, Pz, Id)*(-1) +\n",
    "            util.tensor(Id, Id, Id, Pz)*3)\n",
    "\n",
    "# Technically there would also be H_0 (the mean magnetic field), but on the\n",
    "# m_s = 0 subspace it is zero."
   ]
  },
  {
   "cell_type": "markdown",
   "metadata": {},
   "source": [
    "## Defining a custom basis\n",
    "Because we are interested in the fidelity of the two-qubit gates that live on the $4\\times 4$ subspace of the complete $16$-dimensional Hilbert space, we single out the $6\\times 6$ subspace with magnetic spin quantum number $m_s = 0$ in which the qubits are encoded. We have to include the leakage levels $\\bigl\\lbrace\\lvert\\downarrow\\downarrow\\uparrow\\uparrow\\rangle, \\lvert\\uparrow\\uparrow\\downarrow\\downarrow\\rangle\\bigr\\rbrace$ as they are accessible via the intermediate exchange interaction $J(\\epsilon_{23})$ during the gate sequence."
   ]
  },
  {
   "cell_type": "code",
   "execution_count": 3,
   "metadata": {},
   "outputs": [],
   "source": [
    "opers = list(H)\n",
    "\n",
    "# Reduce to 6x6 subspace\n",
    "zerospin_subspace_inds = ((3, 5, 6, 9, 10, 12), (3, 5, 6, 9, 10, 12))\n",
    "d_zerospin_subspace = 6\n",
    "opers = [H[np.ix_(*zerospin_subspace_inds)] for H in H]\n",
    "\n",
    "# Subtract identity to make Hamiltonian traceless (always allowed since we are\n",
    "# not interested in absolute energies)\n",
    "opers = [oper - np.trace(oper)/d_zerospin_subspace*np.eye(d_zerospin_subspace)\n",
    "         for oper in opers]\n",
    "\n",
    "# The coefficients are the exchange couplings and B-field gradients\n",
    "c_coeffs = {key: [J[key][0],\n",
    "                  J[key][1],\n",
    "                  J[key][2],\n",
    "                  B[key][0]*np.ones(n_dt[key]),\n",
    "                  B[key][1]*np.ones(n_dt[key]),\n",
    "                  B[key][2]*np.ones(n_dt[key])] for key in gates}\n",
    "# We include the exponential dependence of J on epsilon by a first-order\n",
    "# derivative (just J back) as noise sensitivity.\n",
    "n_coeffs = {key: [J[key][0],\n",
    "                  J[key][1],\n",
    "                  J[key][2],\n",
    "                  np.ones(n_dt[key]),\n",
    "                  np.ones(n_dt[key]),\n",
    "                  np.ones(n_dt[key])] for key in gates}\n",
    "\n",
    "identifiers = ['J_12', 'J_23', 'J_34', 'B_12', 'B_23', 'B_34']\n",
    "\n",
    "H_c = {key: list(zip(opers, val, identifiers))\n",
    "       for key, val in c_coeffs.items()}\n",
    "H_n = {key: list(zip(opers, val, identifiers))\n",
    "       for key, val in n_coeffs.items()}"
   ]
  },
  {
   "cell_type": "markdown",
   "metadata": {},
   "source": [
    "In order to be able to distinguish the qubit subspace from the leakage subspace, we define a basis that exclusively has elements that only live on either by padding a two-qubit Pauli basis with zeros on the leakage subspace and letting the ``Basis`` constructor fill up the basis so that it is orthonormal and complete on the entire space."
   ]
  },
  {
   "cell_type": "code",
   "execution_count": 4,
   "metadata": {
    "tags": []
   },
   "outputs": [
    {
     "name": "stdout",
     "output_type": "stream",
     "text": [
      "Basis orthonormal: True\n",
      "Basis complete: True\n",
      "Padded IX:\n",
      " [[0.  0.  0.  0.  0.  0. ]\n",
      " [0.  0.  0.5 0.  0.  0. ]\n",
      " [0.  0.5 0.  0.  0.  0. ]\n",
      " [0.  0.  0.  0.  0.5 0. ]\n",
      " [0.  0.  0.  0.5 0.  0. ]\n",
      " [0.  0.  0.  0.  0.  0. ]]\n"
     ]
    }
   ],
   "source": [
    "# Leakage levels are at indices 0 and 5 of the 6x6 Hamiltonian\n",
    "qubit_subspace_inds = ((1, 2, 3, 4), (1, 2, 3, 4))\n",
    "\n",
    "subspace_basis = ff.Basis.pauli(2)\n",
    "basis = ff.Basis.from_partial([np.pad(b, 1, 'constant')\n",
    "                               for b in subspace_basis],\n",
    "                              labels=subspace_basis.labels)\n",
    "\n",
    "print('Basis orthonormal:', basis.isorthonorm)\n",
    "print('Basis complete:', basis.iscomplete)\n",
    "# Print one element as an example\n",
    "print(f'Padded {basis.labels[1]}:\\n', basis[1].real)"
   ]
  },
  {
   "cell_type": "markdown",
   "metadata": {},
   "source": [
    "Now we can initialize the `PulseSequence` instances and diagonalize them to verify they give rise to the correct gates:"
   ]
  },
  {
   "cell_type": "code",
   "execution_count": 5,
   "metadata": {},
   "outputs": [],
   "source": [
    "# Initialize the PulseSequences\n",
    "pulses = {\n",
    "    gate: ff.PulseSequence(H_c[gate], H_n[gate], dt[gate], basis=basis)\n",
    "    for gate in gates\n",
    "}\n",
    "\n",
    "# Target gates\n",
    "U_t = {\n",
    "    'X2ID': util.tensor((Id - 1j*Px)/np.sqrt(2), Id),    # sqrt X\n",
    "    'Y2ID': util.tensor((Id - 1j*Py)/np.sqrt(2), Id),    # sqrt Y\n",
    "    'CNOT': operations.cnot()\n",
    "}"
   ]
  },
  {
   "cell_type": "code",
   "execution_count": 6,
   "metadata": {
    "tags": []
   },
   "outputs": [
    {
     "name": "stdout",
     "output_type": "stream",
     "text": [
      "Correct action of the gates:\n",
      "----------------------------\n",
      "X2ID\tTrue\n",
      "Y2ID\tTrue\n",
      "CNOT\tTrue\n"
     ]
    }
   ],
   "source": [
    "print('Correct action of the gates:')\n",
    "print('----------------------------')\n",
    "for key, pulse in pulses.items():\n",
    "    pulse.diagonalize()\n",
    "    # Reduce to qubit subspace\n",
    "    U = pulse.total_propagator[np.ix_(*qubit_subspace_inds)]\n",
    "    # Plot the propagator\n",
    "    matrix_histogram_complex(U)\n",
    "    # Check for equality with the target unitary up to global phase\n",
    "    print(key, util.oper_equiv(U_t[key], U, eps=1e-9)[0], sep='\\t')"
   ]
  },
  {
   "cell_type": "markdown",
   "metadata": {},
   "source": [
    "## Noise power spectral density\n",
    "Now that we have verified that our pulses do what they are supposed to, we can turn to calculating the error transfer matrix given a noise spectrum. As a quick reminder, the noise power spectral density $S_\\alpha(\\omega)$ is defined as the Fourier transform of the autocorrelation function of the noise variable $b_\\alpha(t)$. For *wide-sense stationary* noise the autocorrelation only depends on the time difference and we have\n",
    "\n",
    "$$\n",
    "    \\langle b_\\alpha(t_1)b_\\alpha(t_2)\\rangle = \\int_{-\\infty}^\\infty\\frac{\\mathrm{d}\\omega}{2\\pi}S_\\alpha(\\omega)e^{-i\\omega(t_1 - t_2)}\n",
    "$$\n",
    "\n",
    "where $S_\\alpha(\\omega)$ is the two-sided power spectral density for noise source $\\alpha$. Since the spectrum is classical, it is symmetric about $\\omega=0$ (corresponding to equal rates of excitation from and emission to the environment). We can therefore consider only positive frequencies. \n",
    "\n",
    "Here we use $1/f$-like noise with a one-sided spectrum of\n",
    "\n",
    "$$\n",
    "    S_\\epsilon(f) = A f^{-0.7}, \\quad S_\\epsilon(f=1\\,\\text{MHz}) = 4\\times 10^{-20}\\,\\text{V}^2/\\text{Hz}\n",
    "$$\n",
    "\n",
    "as reported by [Dial et al. (2013)].\n",
    "\n",
    "[Dial et al. (2013)]: https://doi.org/10.1103/PhysRevLett.110.146804"
   ]
  },
  {
   "cell_type": "code",
   "execution_count": 7,
   "metadata": {},
   "outputs": [],
   "source": [
    "# Voltages are in units of eps0 and energies in units of inverse nanoseconds\n",
    "# (see Cerfontaine et al. (2019))\n",
    "eps0 = 2.7241e-4\n",
    "alpha = 0.7\n",
    "# S(f) = A f^{-\\alpha}\n",
    "# At f = 1 MHz = 1e-3 GHz, S = S_0 = 4e-20 V^2/Hz = 4e-11/eps0^2 1/GHz\n",
    "# Correspondingly, S(\\omega) = A \\omega^{-\\alpha} such that at\n",
    "# \\omega = 2\\pi 10^{-3} GHz, S_0 = 4e-11/eps0^2 1/GHz\n",
    "S_0 = 4e-11/eps0**2\n",
    "A = S_0*(2*np.pi*1e-3)**alpha"
   ]
  },
  {
   "cell_type": "markdown",
   "metadata": {},
   "source": [
    "## Error transfer matrices\n",
    "We are now ready to calculate the error transfer matrix $\\langle\\tilde{\\mathcal{U}}(\\tau)\\rangle$. Since it is completely characterized by the cumulant function $\\mathcal{K}_\\epsilon(\\tau)$, we will deal with the latter. This has the advantage that we can inspect contributions from different noise sources separately. Because the error transfer matrix is given by the exponential of $\\mathcal{K}(\\tau)$, contributions from different noise operators will mix due to non-commutativity and a separate discussion of the contributions will neglect terms of order $\\xi^4$.\n",
    "\n",
    "The cumulant function for Gaussian noise sources $(\\alpha,\\beta)$ is given by\n",
    "\n",
    "$$\n",
    "\\mathcal{K}_{\\alpha\\beta}(\\tau) = -\\frac{1}{2}\\sum_{kl}(f_{ijkl}\\Delta_{\\alpha\\beta,kl} + g_{ijkl}\\Gamma_{\\alpha\\beta,kl})\n",
    "$$\n",
    "\n",
    "where $f,g$ are trivial functions of the trace tensor $T$ and $\\Gamma$ $(\\Delta)$ are the decay amplitudes (frequency shifts) capturing decoherence (unitary errors). The decay amplitudes (frequency shifts) are computed from the first (second) order of the Magnus expansion and most of our discussion deals with the former. This is because unitary errors can usually be calibrated out to a large degree and furthermore do not contribute to experimentally accessible quantities like the gate fidelity to leading order.\n",
    "\n",
    "The decay amplitudes $\\Gamma$ can be calculated from the generalized filter function and are thus amenable to the concatenation property of the control matrices. As the second order of the Magnus expansion involves a double time integral, such a simplification is not possible in the case of the frequency shifts $\\Delta$. However, we can define a filter function for them just the same:\n",
    "\n",
    "\\begin{align}\n",
    "    \\Gamma_{\\alpha\\beta,kl} &= \\int\\frac{\\mathrm{d}\\omega}{2\\pi}S_{\\alpha\\beta}(\\omega) F_{\\alpha\\beta,kl}^{(\\Gamma)}(\\omega) \\\\\n",
    "    \\Delta_{\\alpha\\beta,kl} &= \\int\\frac{\\mathrm{d}\\omega}{2\\pi}S_{\\alpha\\beta}(\\omega) F_{\\alpha\\beta,kl}^{(\\Delta)}(\\omega)\n",
    "\\end{align}\n",
    "\n",
    "### Performance considerations\n",
    "For the computation of the error transfer matrix it is beneficial for the basis used to be sparse since the elements of the matrix are sums of terms proportional to traces of four basis elements of the form $\\mathrm{tr}(C_i C_j C_k C_l)$. These traces are inherently mostly zero since the basis elements form an orthonormal set. If the elements themselves are sparse, the entire calculation can be performed quite efficiently. The Generalized Gell-Mann bases are sparse bases as most of their elements only have two non-zero entries. The Pauli bases have filling factor $1/2$ on the other hand and thus take longer to compute.\n",
    "\n",
    "Since the traces are cached, this only applies for the first time the error transfer matrix is computed.\n",
    "\n",
    "### Calculation using `filter_functions`\n",
    "The calculation is implemented in the `numeric.calculate_cumulant_function()` function, which takes a `PulseSequence` instance, a noise spectrum and a list of frequencies as arguments. Optionally, we may also pass a list of identifiers corresponding to the noise operators whose contributions we are interested in. In our case we use the exchange terms affected by charge noise. The function will return an array with the separate noise operator contributions on the first axis. Visualization of the cumulant function is implemented by ``plotting.plot_cumulant_function()``."
   ]
  },
  {
   "cell_type": "code",
   "execution_count": 8,
   "metadata": {
    "tags": []
   },
   "outputs": [
    {
     "data": {
      "application/javascript": [
       "/* Put everything inside the global mpl namespace */\n",
       "/* global mpl */\n",
       "window.mpl = {};\n",
       "\n",
       "mpl.get_websocket_type = function () {\n",
       "    if (typeof WebSocket !== 'undefined') {\n",
       "        return WebSocket;\n",
       "    } else if (typeof MozWebSocket !== 'undefined') {\n",
       "        return MozWebSocket;\n",
       "    } else {\n",
       "        alert(\n",
       "            'Your browser does not have WebSocket support. ' +\n",
       "                'Please try Chrome, Safari or Firefox ≥ 6. ' +\n",
       "                'Firefox 4 and 5 are also supported but you ' +\n",
       "                'have to enable WebSockets in about:config.'\n",
       "        );\n",
       "    }\n",
       "};\n",
       "\n",
       "mpl.figure = function (figure_id, websocket, ondownload, parent_element) {\n",
       "    this.id = figure_id;\n",
       "\n",
       "    this.ws = websocket;\n",
       "\n",
       "    this.supports_binary = this.ws.binaryType !== undefined;\n",
       "\n",
       "    if (!this.supports_binary) {\n",
       "        var warnings = document.getElementById('mpl-warnings');\n",
       "        if (warnings) {\n",
       "            warnings.style.display = 'block';\n",
       "            warnings.textContent =\n",
       "                'This browser does not support binary websocket messages. ' +\n",
       "                'Performance may be slow.';\n",
       "        }\n",
       "    }\n",
       "\n",
       "    this.imageObj = new Image();\n",
       "\n",
       "    this.context = undefined;\n",
       "    this.message = undefined;\n",
       "    this.canvas = undefined;\n",
       "    this.rubberband_canvas = undefined;\n",
       "    this.rubberband_context = undefined;\n",
       "    this.format_dropdown = undefined;\n",
       "\n",
       "    this.image_mode = 'full';\n",
       "\n",
       "    this.root = document.createElement('div');\n",
       "    this.root.setAttribute('style', 'display: inline-block');\n",
       "    this._root_extra_style(this.root);\n",
       "\n",
       "    parent_element.appendChild(this.root);\n",
       "\n",
       "    this._init_header(this);\n",
       "    this._init_canvas(this);\n",
       "    this._init_toolbar(this);\n",
       "\n",
       "    var fig = this;\n",
       "\n",
       "    this.waiting = false;\n",
       "\n",
       "    this.ws.onopen = function () {\n",
       "        fig.send_message('supports_binary', { value: fig.supports_binary });\n",
       "        fig.send_message('send_image_mode', {});\n",
       "        if (fig.ratio !== 1) {\n",
       "            fig.send_message('set_device_pixel_ratio', {\n",
       "                device_pixel_ratio: fig.ratio,\n",
       "            });\n",
       "        }\n",
       "        fig.send_message('refresh', {});\n",
       "    };\n",
       "\n",
       "    this.imageObj.onload = function () {\n",
       "        if (fig.image_mode === 'full') {\n",
       "            // Full images could contain transparency (where diff images\n",
       "            // almost always do), so we need to clear the canvas so that\n",
       "            // there is no ghosting.\n",
       "            fig.context.clearRect(0, 0, fig.canvas.width, fig.canvas.height);\n",
       "        }\n",
       "        fig.context.drawImage(fig.imageObj, 0, 0);\n",
       "    };\n",
       "\n",
       "    this.imageObj.onunload = function () {\n",
       "        fig.ws.close();\n",
       "    };\n",
       "\n",
       "    this.ws.onmessage = this._make_on_message_function(this);\n",
       "\n",
       "    this.ondownload = ondownload;\n",
       "};\n",
       "\n",
       "mpl.figure.prototype._init_header = function () {\n",
       "    var titlebar = document.createElement('div');\n",
       "    titlebar.classList =\n",
       "        'ui-dialog-titlebar ui-widget-header ui-corner-all ui-helper-clearfix';\n",
       "    var titletext = document.createElement('div');\n",
       "    titletext.classList = 'ui-dialog-title';\n",
       "    titletext.setAttribute(\n",
       "        'style',\n",
       "        'width: 100%; text-align: center; padding: 3px;'\n",
       "    );\n",
       "    titlebar.appendChild(titletext);\n",
       "    this.root.appendChild(titlebar);\n",
       "    this.header = titletext;\n",
       "};\n",
       "\n",
       "mpl.figure.prototype._canvas_extra_style = function (_canvas_div) {};\n",
       "\n",
       "mpl.figure.prototype._root_extra_style = function (_canvas_div) {};\n",
       "\n",
       "mpl.figure.prototype._init_canvas = function () {\n",
       "    var fig = this;\n",
       "\n",
       "    var canvas_div = (this.canvas_div = document.createElement('div'));\n",
       "    canvas_div.setAttribute(\n",
       "        'style',\n",
       "        'border: 1px solid #ddd;' +\n",
       "            'box-sizing: content-box;' +\n",
       "            'clear: both;' +\n",
       "            'min-height: 1px;' +\n",
       "            'min-width: 1px;' +\n",
       "            'outline: 0;' +\n",
       "            'overflow: hidden;' +\n",
       "            'position: relative;' +\n",
       "            'resize: both;'\n",
       "    );\n",
       "\n",
       "    function on_keyboard_event_closure(name) {\n",
       "        return function (event) {\n",
       "            return fig.key_event(event, name);\n",
       "        };\n",
       "    }\n",
       "\n",
       "    canvas_div.addEventListener(\n",
       "        'keydown',\n",
       "        on_keyboard_event_closure('key_press')\n",
       "    );\n",
       "    canvas_div.addEventListener(\n",
       "        'keyup',\n",
       "        on_keyboard_event_closure('key_release')\n",
       "    );\n",
       "\n",
       "    this._canvas_extra_style(canvas_div);\n",
       "    this.root.appendChild(canvas_div);\n",
       "\n",
       "    var canvas = (this.canvas = document.createElement('canvas'));\n",
       "    canvas.classList.add('mpl-canvas');\n",
       "    canvas.setAttribute('style', 'box-sizing: content-box;');\n",
       "\n",
       "    this.context = canvas.getContext('2d');\n",
       "\n",
       "    var backingStore =\n",
       "        this.context.backingStorePixelRatio ||\n",
       "        this.context.webkitBackingStorePixelRatio ||\n",
       "        this.context.mozBackingStorePixelRatio ||\n",
       "        this.context.msBackingStorePixelRatio ||\n",
       "        this.context.oBackingStorePixelRatio ||\n",
       "        this.context.backingStorePixelRatio ||\n",
       "        1;\n",
       "\n",
       "    this.ratio = (window.devicePixelRatio || 1) / backingStore;\n",
       "\n",
       "    var rubberband_canvas = (this.rubberband_canvas = document.createElement(\n",
       "        'canvas'\n",
       "    ));\n",
       "    rubberband_canvas.setAttribute(\n",
       "        'style',\n",
       "        'box-sizing: content-box; position: absolute; left: 0; top: 0; z-index: 1;'\n",
       "    );\n",
       "\n",
       "    // Apply a ponyfill if ResizeObserver is not implemented by browser.\n",
       "    if (this.ResizeObserver === undefined) {\n",
       "        if (window.ResizeObserver !== undefined) {\n",
       "            this.ResizeObserver = window.ResizeObserver;\n",
       "        } else {\n",
       "            var obs = _JSXTOOLS_RESIZE_OBSERVER({});\n",
       "            this.ResizeObserver = obs.ResizeObserver;\n",
       "        }\n",
       "    }\n",
       "\n",
       "    this.resizeObserverInstance = new this.ResizeObserver(function (entries) {\n",
       "        var nentries = entries.length;\n",
       "        for (var i = 0; i < nentries; i++) {\n",
       "            var entry = entries[i];\n",
       "            var width, height;\n",
       "            if (entry.contentBoxSize) {\n",
       "                if (entry.contentBoxSize instanceof Array) {\n",
       "                    // Chrome 84 implements new version of spec.\n",
       "                    width = entry.contentBoxSize[0].inlineSize;\n",
       "                    height = entry.contentBoxSize[0].blockSize;\n",
       "                } else {\n",
       "                    // Firefox implements old version of spec.\n",
       "                    width = entry.contentBoxSize.inlineSize;\n",
       "                    height = entry.contentBoxSize.blockSize;\n",
       "                }\n",
       "            } else {\n",
       "                // Chrome <84 implements even older version of spec.\n",
       "                width = entry.contentRect.width;\n",
       "                height = entry.contentRect.height;\n",
       "            }\n",
       "\n",
       "            // Keep the size of the canvas and rubber band canvas in sync with\n",
       "            // the canvas container.\n",
       "            if (entry.devicePixelContentBoxSize) {\n",
       "                // Chrome 84 implements new version of spec.\n",
       "                canvas.setAttribute(\n",
       "                    'width',\n",
       "                    entry.devicePixelContentBoxSize[0].inlineSize\n",
       "                );\n",
       "                canvas.setAttribute(\n",
       "                    'height',\n",
       "                    entry.devicePixelContentBoxSize[0].blockSize\n",
       "                );\n",
       "            } else {\n",
       "                canvas.setAttribute('width', width * fig.ratio);\n",
       "                canvas.setAttribute('height', height * fig.ratio);\n",
       "            }\n",
       "            canvas.setAttribute(\n",
       "                'style',\n",
       "                'width: ' + width + 'px; height: ' + height + 'px;'\n",
       "            );\n",
       "\n",
       "            rubberband_canvas.setAttribute('width', width);\n",
       "            rubberband_canvas.setAttribute('height', height);\n",
       "\n",
       "            // And update the size in Python. We ignore the initial 0/0 size\n",
       "            // that occurs as the element is placed into the DOM, which should\n",
       "            // otherwise not happen due to the minimum size styling.\n",
       "            if (fig.ws.readyState == 1 && width != 0 && height != 0) {\n",
       "                fig.request_resize(width, height);\n",
       "            }\n",
       "        }\n",
       "    });\n",
       "    this.resizeObserverInstance.observe(canvas_div);\n",
       "\n",
       "    function on_mouse_event_closure(name) {\n",
       "        return function (event) {\n",
       "            return fig.mouse_event(event, name);\n",
       "        };\n",
       "    }\n",
       "\n",
       "    rubberband_canvas.addEventListener(\n",
       "        'mousedown',\n",
       "        on_mouse_event_closure('button_press')\n",
       "    );\n",
       "    rubberband_canvas.addEventListener(\n",
       "        'mouseup',\n",
       "        on_mouse_event_closure('button_release')\n",
       "    );\n",
       "    rubberband_canvas.addEventListener(\n",
       "        'dblclick',\n",
       "        on_mouse_event_closure('dblclick')\n",
       "    );\n",
       "    // Throttle sequential mouse events to 1 every 20ms.\n",
       "    rubberband_canvas.addEventListener(\n",
       "        'mousemove',\n",
       "        on_mouse_event_closure('motion_notify')\n",
       "    );\n",
       "\n",
       "    rubberband_canvas.addEventListener(\n",
       "        'mouseenter',\n",
       "        on_mouse_event_closure('figure_enter')\n",
       "    );\n",
       "    rubberband_canvas.addEventListener(\n",
       "        'mouseleave',\n",
       "        on_mouse_event_closure('figure_leave')\n",
       "    );\n",
       "\n",
       "    canvas_div.addEventListener('wheel', function (event) {\n",
       "        if (event.deltaY < 0) {\n",
       "            event.step = 1;\n",
       "        } else {\n",
       "            event.step = -1;\n",
       "        }\n",
       "        on_mouse_event_closure('scroll')(event);\n",
       "    });\n",
       "\n",
       "    canvas_div.appendChild(canvas);\n",
       "    canvas_div.appendChild(rubberband_canvas);\n",
       "\n",
       "    this.rubberband_context = rubberband_canvas.getContext('2d');\n",
       "    this.rubberband_context.strokeStyle = '#000000';\n",
       "\n",
       "    this._resize_canvas = function (width, height, forward) {\n",
       "        if (forward) {\n",
       "            canvas_div.style.width = width + 'px';\n",
       "            canvas_div.style.height = height + 'px';\n",
       "        }\n",
       "    };\n",
       "\n",
       "    // Disable right mouse context menu.\n",
       "    this.rubberband_canvas.addEventListener('contextmenu', function (_e) {\n",
       "        event.preventDefault();\n",
       "        return false;\n",
       "    });\n",
       "\n",
       "    function set_focus() {\n",
       "        canvas.focus();\n",
       "        canvas_div.focus();\n",
       "    }\n",
       "\n",
       "    window.setTimeout(set_focus, 100);\n",
       "};\n",
       "\n",
       "mpl.figure.prototype._init_toolbar = function () {\n",
       "    var fig = this;\n",
       "\n",
       "    var toolbar = document.createElement('div');\n",
       "    toolbar.classList = 'mpl-toolbar';\n",
       "    this.root.appendChild(toolbar);\n",
       "\n",
       "    function on_click_closure(name) {\n",
       "        return function (_event) {\n",
       "            return fig.toolbar_button_onclick(name);\n",
       "        };\n",
       "    }\n",
       "\n",
       "    function on_mouseover_closure(tooltip) {\n",
       "        return function (event) {\n",
       "            if (!event.currentTarget.disabled) {\n",
       "                return fig.toolbar_button_onmouseover(tooltip);\n",
       "            }\n",
       "        };\n",
       "    }\n",
       "\n",
       "    fig.buttons = {};\n",
       "    var buttonGroup = document.createElement('div');\n",
       "    buttonGroup.classList = 'mpl-button-group';\n",
       "    for (var toolbar_ind in mpl.toolbar_items) {\n",
       "        var name = mpl.toolbar_items[toolbar_ind][0];\n",
       "        var tooltip = mpl.toolbar_items[toolbar_ind][1];\n",
       "        var image = mpl.toolbar_items[toolbar_ind][2];\n",
       "        var method_name = mpl.toolbar_items[toolbar_ind][3];\n",
       "\n",
       "        if (!name) {\n",
       "            /* Instead of a spacer, we start a new button group. */\n",
       "            if (buttonGroup.hasChildNodes()) {\n",
       "                toolbar.appendChild(buttonGroup);\n",
       "            }\n",
       "            buttonGroup = document.createElement('div');\n",
       "            buttonGroup.classList = 'mpl-button-group';\n",
       "            continue;\n",
       "        }\n",
       "\n",
       "        var button = (fig.buttons[name] = document.createElement('button'));\n",
       "        button.classList = 'mpl-widget';\n",
       "        button.setAttribute('role', 'button');\n",
       "        button.setAttribute('aria-disabled', 'false');\n",
       "        button.addEventListener('click', on_click_closure(method_name));\n",
       "        button.addEventListener('mouseover', on_mouseover_closure(tooltip));\n",
       "\n",
       "        var icon_img = document.createElement('img');\n",
       "        icon_img.src = '_images/' + image + '.png';\n",
       "        icon_img.srcset = '_images/' + image + '_large.png 2x';\n",
       "        icon_img.alt = tooltip;\n",
       "        button.appendChild(icon_img);\n",
       "\n",
       "        buttonGroup.appendChild(button);\n",
       "    }\n",
       "\n",
       "    if (buttonGroup.hasChildNodes()) {\n",
       "        toolbar.appendChild(buttonGroup);\n",
       "    }\n",
       "\n",
       "    var fmt_picker = document.createElement('select');\n",
       "    fmt_picker.classList = 'mpl-widget';\n",
       "    toolbar.appendChild(fmt_picker);\n",
       "    this.format_dropdown = fmt_picker;\n",
       "\n",
       "    for (var ind in mpl.extensions) {\n",
       "        var fmt = mpl.extensions[ind];\n",
       "        var option = document.createElement('option');\n",
       "        option.selected = fmt === mpl.default_extension;\n",
       "        option.innerHTML = fmt;\n",
       "        fmt_picker.appendChild(option);\n",
       "    }\n",
       "\n",
       "    var status_bar = document.createElement('span');\n",
       "    status_bar.classList = 'mpl-message';\n",
       "    toolbar.appendChild(status_bar);\n",
       "    this.message = status_bar;\n",
       "};\n",
       "\n",
       "mpl.figure.prototype.request_resize = function (x_pixels, y_pixels) {\n",
       "    // Request matplotlib to resize the figure. Matplotlib will then trigger a resize in the client,\n",
       "    // which will in turn request a refresh of the image.\n",
       "    this.send_message('resize', { width: x_pixels, height: y_pixels });\n",
       "};\n",
       "\n",
       "mpl.figure.prototype.send_message = function (type, properties) {\n",
       "    properties['type'] = type;\n",
       "    properties['figure_id'] = this.id;\n",
       "    this.ws.send(JSON.stringify(properties));\n",
       "};\n",
       "\n",
       "mpl.figure.prototype.send_draw_message = function () {\n",
       "    if (!this.waiting) {\n",
       "        this.waiting = true;\n",
       "        this.ws.send(JSON.stringify({ type: 'draw', figure_id: this.id }));\n",
       "    }\n",
       "};\n",
       "\n",
       "mpl.figure.prototype.handle_save = function (fig, _msg) {\n",
       "    var format_dropdown = fig.format_dropdown;\n",
       "    var format = format_dropdown.options[format_dropdown.selectedIndex].value;\n",
       "    fig.ondownload(fig, format);\n",
       "};\n",
       "\n",
       "mpl.figure.prototype.handle_resize = function (fig, msg) {\n",
       "    var size = msg['size'];\n",
       "    if (size[0] !== fig.canvas.width || size[1] !== fig.canvas.height) {\n",
       "        fig._resize_canvas(size[0], size[1], msg['forward']);\n",
       "        fig.send_message('refresh', {});\n",
       "    }\n",
       "};\n",
       "\n",
       "mpl.figure.prototype.handle_rubberband = function (fig, msg) {\n",
       "    var x0 = msg['x0'] / fig.ratio;\n",
       "    var y0 = (fig.canvas.height - msg['y0']) / fig.ratio;\n",
       "    var x1 = msg['x1'] / fig.ratio;\n",
       "    var y1 = (fig.canvas.height - msg['y1']) / fig.ratio;\n",
       "    x0 = Math.floor(x0) + 0.5;\n",
       "    y0 = Math.floor(y0) + 0.5;\n",
       "    x1 = Math.floor(x1) + 0.5;\n",
       "    y1 = Math.floor(y1) + 0.5;\n",
       "    var min_x = Math.min(x0, x1);\n",
       "    var min_y = Math.min(y0, y1);\n",
       "    var width = Math.abs(x1 - x0);\n",
       "    var height = Math.abs(y1 - y0);\n",
       "\n",
       "    fig.rubberband_context.clearRect(\n",
       "        0,\n",
       "        0,\n",
       "        fig.canvas.width / fig.ratio,\n",
       "        fig.canvas.height / fig.ratio\n",
       "    );\n",
       "\n",
       "    fig.rubberband_context.strokeRect(min_x, min_y, width, height);\n",
       "};\n",
       "\n",
       "mpl.figure.prototype.handle_figure_label = function (fig, msg) {\n",
       "    // Updates the figure title.\n",
       "    fig.header.textContent = msg['label'];\n",
       "};\n",
       "\n",
       "mpl.figure.prototype.handle_cursor = function (fig, msg) {\n",
       "    fig.rubberband_canvas.style.cursor = msg['cursor'];\n",
       "};\n",
       "\n",
       "mpl.figure.prototype.handle_message = function (fig, msg) {\n",
       "    fig.message.textContent = msg['message'];\n",
       "};\n",
       "\n",
       "mpl.figure.prototype.handle_draw = function (fig, _msg) {\n",
       "    // Request the server to send over a new figure.\n",
       "    fig.send_draw_message();\n",
       "};\n",
       "\n",
       "mpl.figure.prototype.handle_image_mode = function (fig, msg) {\n",
       "    fig.image_mode = msg['mode'];\n",
       "};\n",
       "\n",
       "mpl.figure.prototype.handle_history_buttons = function (fig, msg) {\n",
       "    for (var key in msg) {\n",
       "        if (!(key in fig.buttons)) {\n",
       "            continue;\n",
       "        }\n",
       "        fig.buttons[key].disabled = !msg[key];\n",
       "        fig.buttons[key].setAttribute('aria-disabled', !msg[key]);\n",
       "    }\n",
       "};\n",
       "\n",
       "mpl.figure.prototype.handle_navigate_mode = function (fig, msg) {\n",
       "    if (msg['mode'] === 'PAN') {\n",
       "        fig.buttons['Pan'].classList.add('active');\n",
       "        fig.buttons['Zoom'].classList.remove('active');\n",
       "    } else if (msg['mode'] === 'ZOOM') {\n",
       "        fig.buttons['Pan'].classList.remove('active');\n",
       "        fig.buttons['Zoom'].classList.add('active');\n",
       "    } else {\n",
       "        fig.buttons['Pan'].classList.remove('active');\n",
       "        fig.buttons['Zoom'].classList.remove('active');\n",
       "    }\n",
       "};\n",
       "\n",
       "mpl.figure.prototype.updated_canvas_event = function () {\n",
       "    // Called whenever the canvas gets updated.\n",
       "    this.send_message('ack', {});\n",
       "};\n",
       "\n",
       "// A function to construct a web socket function for onmessage handling.\n",
       "// Called in the figure constructor.\n",
       "mpl.figure.prototype._make_on_message_function = function (fig) {\n",
       "    return function socket_on_message(evt) {\n",
       "        if (evt.data instanceof Blob) {\n",
       "            var img = evt.data;\n",
       "            if (img.type !== 'image/png') {\n",
       "                /* FIXME: We get \"Resource interpreted as Image but\n",
       "                 * transferred with MIME type text/plain:\" errors on\n",
       "                 * Chrome.  But how to set the MIME type?  It doesn't seem\n",
       "                 * to be part of the websocket stream */\n",
       "                img.type = 'image/png';\n",
       "            }\n",
       "\n",
       "            /* Free the memory for the previous frames */\n",
       "            if (fig.imageObj.src) {\n",
       "                (window.URL || window.webkitURL).revokeObjectURL(\n",
       "                    fig.imageObj.src\n",
       "                );\n",
       "            }\n",
       "\n",
       "            fig.imageObj.src = (window.URL || window.webkitURL).createObjectURL(\n",
       "                img\n",
       "            );\n",
       "            fig.updated_canvas_event();\n",
       "            fig.waiting = false;\n",
       "            return;\n",
       "        } else if (\n",
       "            typeof evt.data === 'string' &&\n",
       "            evt.data.slice(0, 21) === 'data:image/png;base64'\n",
       "        ) {\n",
       "            fig.imageObj.src = evt.data;\n",
       "            fig.updated_canvas_event();\n",
       "            fig.waiting = false;\n",
       "            return;\n",
       "        }\n",
       "\n",
       "        var msg = JSON.parse(evt.data);\n",
       "        var msg_type = msg['type'];\n",
       "\n",
       "        // Call the  \"handle_{type}\" callback, which takes\n",
       "        // the figure and JSON message as its only arguments.\n",
       "        try {\n",
       "            var callback = fig['handle_' + msg_type];\n",
       "        } catch (e) {\n",
       "            console.log(\n",
       "                \"No handler for the '\" + msg_type + \"' message type: \",\n",
       "                msg\n",
       "            );\n",
       "            return;\n",
       "        }\n",
       "\n",
       "        if (callback) {\n",
       "            try {\n",
       "                // console.log(\"Handling '\" + msg_type + \"' message: \", msg);\n",
       "                callback(fig, msg);\n",
       "            } catch (e) {\n",
       "                console.log(\n",
       "                    \"Exception inside the 'handler_\" + msg_type + \"' callback:\",\n",
       "                    e,\n",
       "                    e.stack,\n",
       "                    msg\n",
       "                );\n",
       "            }\n",
       "        }\n",
       "    };\n",
       "};\n",
       "\n",
       "// from https://stackoverflow.com/questions/1114465/getting-mouse-location-in-canvas\n",
       "mpl.findpos = function (e) {\n",
       "    //this section is from http://www.quirksmode.org/js/events_properties.html\n",
       "    var targ;\n",
       "    if (!e) {\n",
       "        e = window.event;\n",
       "    }\n",
       "    if (e.target) {\n",
       "        targ = e.target;\n",
       "    } else if (e.srcElement) {\n",
       "        targ = e.srcElement;\n",
       "    }\n",
       "    if (targ.nodeType === 3) {\n",
       "        // defeat Safari bug\n",
       "        targ = targ.parentNode;\n",
       "    }\n",
       "\n",
       "    // pageX,Y are the mouse positions relative to the document\n",
       "    var boundingRect = targ.getBoundingClientRect();\n",
       "    var x = e.pageX - (boundingRect.left + document.body.scrollLeft);\n",
       "    var y = e.pageY - (boundingRect.top + document.body.scrollTop);\n",
       "\n",
       "    return { x: x, y: y };\n",
       "};\n",
       "\n",
       "/*\n",
       " * return a copy of an object with only non-object keys\n",
       " * we need this to avoid circular references\n",
       " * https://stackoverflow.com/a/24161582/3208463\n",
       " */\n",
       "function simpleKeys(original) {\n",
       "    return Object.keys(original).reduce(function (obj, key) {\n",
       "        if (typeof original[key] !== 'object') {\n",
       "            obj[key] = original[key];\n",
       "        }\n",
       "        return obj;\n",
       "    }, {});\n",
       "}\n",
       "\n",
       "mpl.figure.prototype.mouse_event = function (event, name) {\n",
       "    var canvas_pos = mpl.findpos(event);\n",
       "\n",
       "    if (name === 'button_press') {\n",
       "        this.canvas.focus();\n",
       "        this.canvas_div.focus();\n",
       "    }\n",
       "\n",
       "    var x = canvas_pos.x * this.ratio;\n",
       "    var y = canvas_pos.y * this.ratio;\n",
       "\n",
       "    this.send_message(name, {\n",
       "        x: x,\n",
       "        y: y,\n",
       "        button: event.button,\n",
       "        step: event.step,\n",
       "        guiEvent: simpleKeys(event),\n",
       "    });\n",
       "\n",
       "    /* This prevents the web browser from automatically changing to\n",
       "     * the text insertion cursor when the button is pressed.  We want\n",
       "     * to control all of the cursor setting manually through the\n",
       "     * 'cursor' event from matplotlib */\n",
       "    event.preventDefault();\n",
       "    return false;\n",
       "};\n",
       "\n",
       "mpl.figure.prototype._key_event_extra = function (_event, _name) {\n",
       "    // Handle any extra behaviour associated with a key event\n",
       "};\n",
       "\n",
       "mpl.figure.prototype.key_event = function (event, name) {\n",
       "    // Prevent repeat events\n",
       "    if (name === 'key_press') {\n",
       "        if (event.key === this._key) {\n",
       "            return;\n",
       "        } else {\n",
       "            this._key = event.key;\n",
       "        }\n",
       "    }\n",
       "    if (name === 'key_release') {\n",
       "        this._key = null;\n",
       "    }\n",
       "\n",
       "    var value = '';\n",
       "    if (event.ctrlKey && event.key !== 'Control') {\n",
       "        value += 'ctrl+';\n",
       "    }\n",
       "    else if (event.altKey && event.key !== 'Alt') {\n",
       "        value += 'alt+';\n",
       "    }\n",
       "    else if (event.shiftKey && event.key !== 'Shift') {\n",
       "        value += 'shift+';\n",
       "    }\n",
       "\n",
       "    value += 'k' + event.key;\n",
       "\n",
       "    this._key_event_extra(event, name);\n",
       "\n",
       "    this.send_message(name, { key: value, guiEvent: simpleKeys(event) });\n",
       "    return false;\n",
       "};\n",
       "\n",
       "mpl.figure.prototype.toolbar_button_onclick = function (name) {\n",
       "    if (name === 'download') {\n",
       "        this.handle_save(this, null);\n",
       "    } else {\n",
       "        this.send_message('toolbar_button', { name: name });\n",
       "    }\n",
       "};\n",
       "\n",
       "mpl.figure.prototype.toolbar_button_onmouseover = function (tooltip) {\n",
       "    this.message.textContent = tooltip;\n",
       "};\n",
       "\n",
       "///////////////// REMAINING CONTENT GENERATED BY embed_js.py /////////////////\n",
       "// prettier-ignore\n",
       "var _JSXTOOLS_RESIZE_OBSERVER=function(A){var t,i=new WeakMap,n=new WeakMap,a=new WeakMap,r=new WeakMap,o=new Set;function s(e){if(!(this instanceof s))throw new TypeError(\"Constructor requires 'new' operator\");i.set(this,e)}function h(){throw new TypeError(\"Function is not a constructor\")}function c(e,t,i,n){e=0 in arguments?Number(arguments[0]):0,t=1 in arguments?Number(arguments[1]):0,i=2 in arguments?Number(arguments[2]):0,n=3 in arguments?Number(arguments[3]):0,this.right=(this.x=this.left=e)+(this.width=i),this.bottom=(this.y=this.top=t)+(this.height=n),Object.freeze(this)}function d(){t=requestAnimationFrame(d);var s=new WeakMap,p=new Set;o.forEach((function(t){r.get(t).forEach((function(i){var r=t instanceof window.SVGElement,o=a.get(t),d=r?0:parseFloat(o.paddingTop),f=r?0:parseFloat(o.paddingRight),l=r?0:parseFloat(o.paddingBottom),u=r?0:parseFloat(o.paddingLeft),g=r?0:parseFloat(o.borderTopWidth),m=r?0:parseFloat(o.borderRightWidth),w=r?0:parseFloat(o.borderBottomWidth),b=u+f,F=d+l,v=(r?0:parseFloat(o.borderLeftWidth))+m,W=g+w,y=r?0:t.offsetHeight-W-t.clientHeight,E=r?0:t.offsetWidth-v-t.clientWidth,R=b+v,z=F+W,M=r?t.width:parseFloat(o.width)-R-E,O=r?t.height:parseFloat(o.height)-z-y;if(n.has(t)){var k=n.get(t);if(k[0]===M&&k[1]===O)return}n.set(t,[M,O]);var S=Object.create(h.prototype);S.target=t,S.contentRect=new c(u,d,M,O),s.has(i)||(s.set(i,[]),p.add(i)),s.get(i).push(S)}))})),p.forEach((function(e){i.get(e).call(e,s.get(e),e)}))}return s.prototype.observe=function(i){if(i instanceof window.Element){r.has(i)||(r.set(i,new Set),o.add(i),a.set(i,window.getComputedStyle(i)));var n=r.get(i);n.has(this)||n.add(this),cancelAnimationFrame(t),t=requestAnimationFrame(d)}},s.prototype.unobserve=function(i){if(i instanceof window.Element&&r.has(i)){var n=r.get(i);n.has(this)&&(n.delete(this),n.size||(r.delete(i),o.delete(i))),n.size||r.delete(i),o.size||cancelAnimationFrame(t)}},A.DOMRectReadOnly=c,A.ResizeObserver=s,A.ResizeObserverEntry=h,A}; // eslint-disable-line\n",
       "mpl.toolbar_items = [[\"Home\", \"Reset original view\", \"fa fa-home icon-home\", \"home\"], [\"Back\", \"Back to previous view\", \"fa fa-arrow-left icon-arrow-left\", \"back\"], [\"Forward\", \"Forward to next view\", \"fa fa-arrow-right icon-arrow-right\", \"forward\"], [\"\", \"\", \"\", \"\"], [\"Pan\", \"Left button pans, Right button zooms\\nx/y fixes axis, CTRL fixes aspect\", \"fa fa-arrows icon-move\", \"pan\"], [\"Zoom\", \"Zoom to rectangle\\nx/y fixes axis\", \"fa fa-square-o icon-check-empty\", \"zoom\"], [\"\", \"\", \"\", \"\"], [\"Download\", \"Download plot\", \"fa fa-floppy-o icon-save\", \"download\"]];\n",
       "\n",
       "mpl.extensions = [\"eps\", \"jpeg\", \"pgf\", \"pdf\", \"png\", \"ps\", \"raw\", \"svg\", \"tif\"];\n",
       "\n",
       "mpl.default_extension = \"svg\";/* global mpl */\n",
       "\n",
       "var comm_websocket_adapter = function (comm) {\n",
       "    // Create a \"websocket\"-like object which calls the given IPython comm\n",
       "    // object with the appropriate methods. Currently this is a non binary\n",
       "    // socket, so there is still some room for performance tuning.\n",
       "    var ws = {};\n",
       "\n",
       "    ws.binaryType = comm.kernel.ws.binaryType;\n",
       "    ws.readyState = comm.kernel.ws.readyState;\n",
       "    function updateReadyState(_event) {\n",
       "        if (comm.kernel.ws) {\n",
       "            ws.readyState = comm.kernel.ws.readyState;\n",
       "        } else {\n",
       "            ws.readyState = 3; // Closed state.\n",
       "        }\n",
       "    }\n",
       "    comm.kernel.ws.addEventListener('open', updateReadyState);\n",
       "    comm.kernel.ws.addEventListener('close', updateReadyState);\n",
       "    comm.kernel.ws.addEventListener('error', updateReadyState);\n",
       "\n",
       "    ws.close = function () {\n",
       "        comm.close();\n",
       "    };\n",
       "    ws.send = function (m) {\n",
       "        //console.log('sending', m);\n",
       "        comm.send(m);\n",
       "    };\n",
       "    // Register the callback with on_msg.\n",
       "    comm.on_msg(function (msg) {\n",
       "        //console.log('receiving', msg['content']['data'], msg);\n",
       "        var data = msg['content']['data'];\n",
       "        if (data['blob'] !== undefined) {\n",
       "            data = {\n",
       "                data: new Blob(msg['buffers'], { type: data['blob'] }),\n",
       "            };\n",
       "        }\n",
       "        // Pass the mpl event to the overridden (by mpl) onmessage function.\n",
       "        ws.onmessage(data);\n",
       "    });\n",
       "    return ws;\n",
       "};\n",
       "\n",
       "mpl.mpl_figure_comm = function (comm, msg) {\n",
       "    // This is the function which gets called when the mpl process\n",
       "    // starts-up an IPython Comm through the \"matplotlib\" channel.\n",
       "\n",
       "    var id = msg.content.data.id;\n",
       "    // Get hold of the div created by the display call when the Comm\n",
       "    // socket was opened in Python.\n",
       "    var element = document.getElementById(id);\n",
       "    var ws_proxy = comm_websocket_adapter(comm);\n",
       "\n",
       "    function ondownload(figure, _format) {\n",
       "        window.open(figure.canvas.toDataURL());\n",
       "    }\n",
       "\n",
       "    var fig = new mpl.figure(id, ws_proxy, ondownload, element);\n",
       "\n",
       "    // Call onopen now - mpl needs it, as it is assuming we've passed it a real\n",
       "    // web socket which is closed, not our websocket->open comm proxy.\n",
       "    ws_proxy.onopen();\n",
       "\n",
       "    fig.parent_element = element;\n",
       "    fig.cell_info = mpl.find_output_cell(\"<div id='\" + id + \"'></div>\");\n",
       "    if (!fig.cell_info) {\n",
       "        console.error('Failed to find cell for figure', id, fig);\n",
       "        return;\n",
       "    }\n",
       "    fig.cell_info[0].output_area.element.on(\n",
       "        'cleared',\n",
       "        { fig: fig },\n",
       "        fig._remove_fig_handler\n",
       "    );\n",
       "};\n",
       "\n",
       "mpl.figure.prototype.handle_close = function (fig, msg) {\n",
       "    var width = fig.canvas.width / fig.ratio;\n",
       "    fig.cell_info[0].output_area.element.off(\n",
       "        'cleared',\n",
       "        fig._remove_fig_handler\n",
       "    );\n",
       "    fig.resizeObserverInstance.unobserve(fig.canvas_div);\n",
       "\n",
       "    // Update the output cell to use the data from the current canvas.\n",
       "    fig.push_to_output();\n",
       "    var dataURL = fig.canvas.toDataURL();\n",
       "    // Re-enable the keyboard manager in IPython - without this line, in FF,\n",
       "    // the notebook keyboard shortcuts fail.\n",
       "    IPython.keyboard_manager.enable();\n",
       "    fig.parent_element.innerHTML =\n",
       "        '<img src=\"' + dataURL + '\" width=\"' + width + '\">';\n",
       "    fig.close_ws(fig, msg);\n",
       "};\n",
       "\n",
       "mpl.figure.prototype.close_ws = function (fig, msg) {\n",
       "    fig.send_message('closing', msg);\n",
       "    // fig.ws.close()\n",
       "};\n",
       "\n",
       "mpl.figure.prototype.push_to_output = function (_remove_interactive) {\n",
       "    // Turn the data on the canvas into data in the output cell.\n",
       "    var width = this.canvas.width / this.ratio;\n",
       "    var dataURL = this.canvas.toDataURL();\n",
       "    this.cell_info[1]['text/html'] =\n",
       "        '<img src=\"' + dataURL + '\" width=\"' + width + '\">';\n",
       "};\n",
       "\n",
       "mpl.figure.prototype.updated_canvas_event = function () {\n",
       "    // Tell IPython that the notebook contents must change.\n",
       "    IPython.notebook.set_dirty(true);\n",
       "    this.send_message('ack', {});\n",
       "    var fig = this;\n",
       "    // Wait a second, then push the new image to the DOM so\n",
       "    // that it is saved nicely (might be nice to debounce this).\n",
       "    setTimeout(function () {\n",
       "        fig.push_to_output();\n",
       "    }, 1000);\n",
       "};\n",
       "\n",
       "mpl.figure.prototype._init_toolbar = function () {\n",
       "    var fig = this;\n",
       "\n",
       "    var toolbar = document.createElement('div');\n",
       "    toolbar.classList = 'btn-toolbar';\n",
       "    this.root.appendChild(toolbar);\n",
       "\n",
       "    function on_click_closure(name) {\n",
       "        return function (_event) {\n",
       "            return fig.toolbar_button_onclick(name);\n",
       "        };\n",
       "    }\n",
       "\n",
       "    function on_mouseover_closure(tooltip) {\n",
       "        return function (event) {\n",
       "            if (!event.currentTarget.disabled) {\n",
       "                return fig.toolbar_button_onmouseover(tooltip);\n",
       "            }\n",
       "        };\n",
       "    }\n",
       "\n",
       "    fig.buttons = {};\n",
       "    var buttonGroup = document.createElement('div');\n",
       "    buttonGroup.classList = 'btn-group';\n",
       "    var button;\n",
       "    for (var toolbar_ind in mpl.toolbar_items) {\n",
       "        var name = mpl.toolbar_items[toolbar_ind][0];\n",
       "        var tooltip = mpl.toolbar_items[toolbar_ind][1];\n",
       "        var image = mpl.toolbar_items[toolbar_ind][2];\n",
       "        var method_name = mpl.toolbar_items[toolbar_ind][3];\n",
       "\n",
       "        if (!name) {\n",
       "            /* Instead of a spacer, we start a new button group. */\n",
       "            if (buttonGroup.hasChildNodes()) {\n",
       "                toolbar.appendChild(buttonGroup);\n",
       "            }\n",
       "            buttonGroup = document.createElement('div');\n",
       "            buttonGroup.classList = 'btn-group';\n",
       "            continue;\n",
       "        }\n",
       "\n",
       "        button = fig.buttons[name] = document.createElement('button');\n",
       "        button.classList = 'btn btn-default';\n",
       "        button.href = '#';\n",
       "        button.title = name;\n",
       "        button.innerHTML = '<i class=\"fa ' + image + ' fa-lg\"></i>';\n",
       "        button.addEventListener('click', on_click_closure(method_name));\n",
       "        button.addEventListener('mouseover', on_mouseover_closure(tooltip));\n",
       "        buttonGroup.appendChild(button);\n",
       "    }\n",
       "\n",
       "    if (buttonGroup.hasChildNodes()) {\n",
       "        toolbar.appendChild(buttonGroup);\n",
       "    }\n",
       "\n",
       "    // Add the status bar.\n",
       "    var status_bar = document.createElement('span');\n",
       "    status_bar.classList = 'mpl-message pull-right';\n",
       "    toolbar.appendChild(status_bar);\n",
       "    this.message = status_bar;\n",
       "\n",
       "    // Add the close button to the window.\n",
       "    var buttongrp = document.createElement('div');\n",
       "    buttongrp.classList = 'btn-group inline pull-right';\n",
       "    button = document.createElement('button');\n",
       "    button.classList = 'btn btn-mini btn-primary';\n",
       "    button.href = '#';\n",
       "    button.title = 'Stop Interaction';\n",
       "    button.innerHTML = '<i class=\"fa fa-power-off icon-remove icon-large\"></i>';\n",
       "    button.addEventListener('click', function (_evt) {\n",
       "        fig.handle_close(fig, {});\n",
       "    });\n",
       "    button.addEventListener(\n",
       "        'mouseover',\n",
       "        on_mouseover_closure('Stop Interaction')\n",
       "    );\n",
       "    buttongrp.appendChild(button);\n",
       "    var titlebar = this.root.querySelector('.ui-dialog-titlebar');\n",
       "    titlebar.insertBefore(buttongrp, titlebar.firstChild);\n",
       "};\n",
       "\n",
       "mpl.figure.prototype._remove_fig_handler = function (event) {\n",
       "    var fig = event.data.fig;\n",
       "    if (event.target !== this) {\n",
       "        // Ignore bubbled events from children.\n",
       "        return;\n",
       "    }\n",
       "    fig.close_ws(fig, {});\n",
       "};\n",
       "\n",
       "mpl.figure.prototype._root_extra_style = function (el) {\n",
       "    el.style.boxSizing = 'content-box'; // override notebook setting of border-box.\n",
       "};\n",
       "\n",
       "mpl.figure.prototype._canvas_extra_style = function (el) {\n",
       "    // this is important to make the div 'focusable\n",
       "    el.setAttribute('tabindex', 0);\n",
       "    // reach out to IPython and tell the keyboard manager to turn it's self\n",
       "    // off when our div gets focus\n",
       "\n",
       "    // location in version 3\n",
       "    if (IPython.notebook.keyboard_manager) {\n",
       "        IPython.notebook.keyboard_manager.register_events(el);\n",
       "    } else {\n",
       "        // location in version 2\n",
       "        IPython.keyboard_manager.register_events(el);\n",
       "    }\n",
       "};\n",
       "\n",
       "mpl.figure.prototype._key_event_extra = function (event, _name) {\n",
       "    // Check for shift+enter\n",
       "    if (event.shiftKey && event.which === 13) {\n",
       "        this.canvas_div.blur();\n",
       "        // select the cell after this one\n",
       "        var index = IPython.notebook.find_cell_index(this.cell_info[0]);\n",
       "        IPython.notebook.select(index + 1);\n",
       "    }\n",
       "};\n",
       "\n",
       "mpl.figure.prototype.handle_save = function (fig, _msg) {\n",
       "    fig.ondownload(fig, null);\n",
       "};\n",
       "\n",
       "mpl.find_output_cell = function (html_output) {\n",
       "    // Return the cell and output element which can be found *uniquely* in the notebook.\n",
       "    // Note - this is a bit hacky, but it is done because the \"notebook_saving.Notebook\"\n",
       "    // IPython event is triggered only after the cells have been serialised, which for\n",
       "    // our purposes (turning an active figure into a static one), is too late.\n",
       "    var cells = IPython.notebook.get_cells();\n",
       "    var ncells = cells.length;\n",
       "    for (var i = 0; i < ncells; i++) {\n",
       "        var cell = cells[i];\n",
       "        if (cell.cell_type === 'code') {\n",
       "            for (var j = 0; j < cell.output_area.outputs.length; j++) {\n",
       "                var data = cell.output_area.outputs[j];\n",
       "                if (data.data) {\n",
       "                    // IPython >= 3 moved mimebundle to data attribute of output\n",
       "                    data = data.data;\n",
       "                }\n",
       "                if (data['text/html'] === html_output) {\n",
       "                    return [cell, data, j];\n",
       "                }\n",
       "            }\n",
       "        }\n",
       "    }\n",
       "};\n",
       "\n",
       "// Register the function which deals with the matplotlib target/channel.\n",
       "// The kernel may be null if the page has been refreshed.\n",
       "if (IPython.notebook.kernel !== null) {\n",
       "    IPython.notebook.kernel.comm_manager.register_target(\n",
       "        'matplotlib',\n",
       "        mpl.mpl_figure_comm\n",
       "    );\n",
       "}\n"
      ],
      "text/plain": [
       "<IPython.core.display.Javascript object>"
      ]
     },
     "metadata": {},
     "output_type": "display_data"
    },
    {
     "data": {
      "text/html": [
       "<img src=\"data:image/png;base64,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\" width=\"792\">"
      ],
      "text/plain": [
       "<IPython.core.display.HTML object>"
      ]
     },
     "metadata": {},
     "output_type": "display_data"
    },
    {
     "data": {
      "application/vnd.jupyter.widget-view+json": {
       "model_id": "b31f3beb418d41c8ae04c7d19a1940f9",
       "version_major": 2,
       "version_minor": 0
      },
      "text/plain": [
       "Calculating control matrix:   0%|          | 0/100 [00:00<?, ?it/s]"
      ]
     },
     "metadata": {},
     "output_type": "display_data"
    },
    {
     "data": {
      "application/vnd.jupyter.widget-view+json": {
       "model_id": "74e862d6d7b048b0a1d4abb4880d6964",
       "version_major": 2,
       "version_minor": 0
      },
      "text/plain": [
       "Calculating second order FF:   0%|          | 0/100 [00:00<?, ?it/s]"
      ]
     },
     "metadata": {},
     "output_type": "display_data"
    },
    {
     "data": {
      "application/vnd.jupyter.widget-view+json": {
       "model_id": "f5ffae168348477881030361f04ce1f9",
       "version_major": 2,
       "version_minor": 0
      },
      "text/plain": [
       "Calculating control matrix:   0%|          | 0/100 [00:00<?, ?it/s]"
      ]
     },
     "metadata": {},
     "output_type": "display_data"
    },
    {
     "data": {
      "application/vnd.jupyter.widget-view+json": {
       "model_id": "883a035272984632a334a733edca7595",
       "version_major": 2,
       "version_minor": 0
      },
      "text/plain": [
       "Calculating second order FF:   0%|          | 0/100 [00:00<?, ?it/s]"
      ]
     },
     "metadata": {},
     "output_type": "display_data"
    },
    {
     "data": {
      "application/vnd.jupyter.widget-view+json": {
       "model_id": "3e6f69ea93c843caa8d63a65b132cbea",
       "version_major": 2,
       "version_minor": 0
      },
      "text/plain": [
       "Calculating control matrix:   0%|          | 0/250 [00:00<?, ?it/s]"
      ]
     },
     "metadata": {},
     "output_type": "display_data"
    },
    {
     "data": {
      "application/vnd.jupyter.widget-view+json": {
       "model_id": "16c73b5fbfeb4b52a8e39be8c320d7f6",
       "version_major": 2,
       "version_minor": 0
      },
      "text/plain": [
       "Calculating second order FF:   0%|          | 0/250 [00:00<?, ?it/s]"
      ]
     },
     "metadata": {},
     "output_type": "display_data"
    }
   ],
   "source": [
    "from itertools import product\n",
    "import matplotlib.pyplot as plt\n",
    "from filter_functions import plotting\n",
    "%matplotlib notebook\n",
    "\n",
    "fig = plt.figure(figsize=(11, 15))\n",
    "\n",
    "cumulant_functions = {}\n",
    "for i, (key, pulse) in enumerate(pulses.items(), 1):\n",
    "    omega = np.geomspace(1/T[key], 1e2, 400)\n",
    "    spectrum = A/omega**alpha\n",
    "\n",
    "    if key == 'CNOT':\n",
    "        identifiers = ['J_12', 'J_23', 'J_34']\n",
    "    else:\n",
    "        # For single qubit pulses intermediate exchange is turned off\n",
    "        identifiers = ['J_12', 'J_34']\n",
    "        \n",
    "    cumulant_functions[key] = numeric.calculate_cumulant_function(\n",
    "        pulse, spectrum, omega, n_oper_identifiers=identifiers,\n",
    "        show_progressbar=True, second_order=True\n",
    "    )\n",
    "\n",
    "    # We can call plot_transfer matrix with the same arguments as\n",
    "    # error_transfer_matrix in which case the transfer matrix is calculated on\n",
    "    # the fly, or pass a pre-computed transfer matrix to the function\n",
    "    fig, grid = plotting.plot_cumulant_function(\n",
    "        pulse, cumulant_function=cumulant_functions[key],\n",
    "        n_oper_identifiers=identifiers, grid_kw=dict(rect=10*31+i),\n",
    "        figsize=(11, 4), fig=fig, cbar_label=key, colorscale='log'\n",
    "    )\n",
    "    \n",
    "plt.show()"
   ]
  },
  {
   "cell_type": "markdown",
   "metadata": {},
   "source": [
    "As we can see, for the single-qubit gates the computational and leakage subspaces are sufficiently decoupled and the structure of the error transfer matrix reveals a nice symmetry of noise processes on the two qubits. For the CNOT, this symmetry is not as pronounced and the error transfer matrix for the intermediate exchange $J_{23}$ mixes the computational and leakage subspaces to a small degree."
   ]
  },
  {
   "cell_type": "markdown",
   "metadata": {},
   "source": [
    "## Deriving quantities\n",
    "With the cumulant function calculated, we can now derive different quantities from the error transfer matrix $\\langle\\tilde{\\mathcal{U}}\\rangle = \\exp\\mathcal{K}$. Here we take a look at the state fidelity of the computational basis states for the CNOT gate and the entanglement fidelities of the gates.\n",
    "\n",
    "### State fidelity\n",
    "The state fidelity is given by (see above)\n",
    "\n",
    "$$\n",
    "p_{j\\rightarrow j} = \\langle\\!\\langle\\rho_j\\rvert\\mathcal{Q}\\langle\\mathcal{\\tilde{U}}\\rangle\\lvert\\rho_j\\rangle\\!\\rangle.\n",
    "$$\n",
    "\n",
    "We can calculate the vectorized density matrices $\\lvert\\rho_j\\rangle\\!\\rangle$ using `ff.basis.expand()` and the Liouville representation of the total propagator of the pulse using `ff.liouville_representation()`."
   ]
  },
  {
   "cell_type": "code",
   "execution_count": 9,
   "metadata": {
    "tags": []
   },
   "outputs": [
    {
     "name": "stdout",
     "output_type": "stream",
     "text": [
      "p(00->00) = 9.9992e-01\n",
      "p(01->01) = 9.9992e-01\n",
      "p(10->10) = 2.3184e-05\n",
      "p(11->11) = 2.3184e-05\n"
     ]
    }
   ],
   "source": [
    "# ff.error_transfer_matrix can also be called with a PulseSequence, spectrum\n",
    "# and list of frequencies to compute the error transfer matrix directly instead\n",
    "# of from a cumulant function\n",
    "transfer_matrices = {gate: ff.error_transfer_matrix(cumulant_function=K)\n",
    "                     for gate, K in cumulant_functions.items()}\n",
    "\n",
    "pulse = pulses['CNOT']\n",
    "basis = pulse.basis\n",
    "# Also exists as pulse.total_propagator_liouville\n",
    "total_propagator_liouville = ff.liouville_representation(pulse.total_propagator, basis)\n",
    "# Sum up the individual noise operator contributions for simplicity\n",
    "U_tilde = transfer_matrices['CNOT']\n",
    "ket_00, ket_01, ket_10, ket_11 = np.zeros((4, 6, 1))\n",
    "ket_00[1] = 1\n",
    "ket_01[2] = 1\n",
    "ket_10[3] = 1\n",
    "ket_11[4] = 1\n",
    "rhoket_00 = ff.basis.expand(np.outer(ket_00, ket_00), basis).real\n",
    "rhoket_01 = ff.basis.expand(np.outer(ket_01, ket_01), basis).real\n",
    "rhoket_10 = ff.basis.expand(np.outer(ket_10, ket_10), basis).real\n",
    "rhoket_11 = ff.basis.expand(np.outer(ket_11, ket_11), basis).real\n",
    "rhokets = (rhoket_00, rhoket_01, rhoket_10, rhoket_11)\n",
    "labels = ('00', '01', '10', '11')\n",
    "\n",
    "for label, rhoket in zip(labels, rhokets):\n",
    "    F = rhoket.T @ total_propagator_liouville @ U_tilde @ rhoket\n",
    "    print('p({l}->{l}) = {v:.4e}'.format(l=label, v=F.real))"
   ]
  },
  {
   "cell_type": "markdown",
   "metadata": {},
   "source": [
    "The probabilities are not exactly one and zero but differ from the target outcome by $\\sim 10^{-5}$ due to the influence of the noise."
   ]
  },
  {
   "cell_type": "markdown",
   "metadata": {},
   "source": [
    "### Entanglement fidelity <a id='fidelity'></a>\n",
    "The entanglement fidelity is given by (see above)\n",
    "\n",
    "$$\n",
    "\\mathcal{I}_\\mathrm{e} = 1 - \\frac{1}{d^2}\\mathrm{tr}\\,\\langle\\mathcal{\\tilde{U}}\\rangle.\n",
    "$$\n",
    "\n",
    "We are only interested in the dynamics on the qubit subspace and thus do not care about contributions from basis elements on the leakage subspace, so that we only trace over the first 16 elements of the error transfer matrix. We will compare the results to the Monte Carlo results for fast noise from the reference.\n",
    "\n",
    "Because the fidelity is an often-employed figure of merit, its calculation is also implemented in a separate function, `ff.infidelity()`, that is much faster than deriving the fidelity from the error transfer matrix because it only calculates the leading order approximation. Its interface is very similiar to that of `ff.error_transfer_matrix()` and is thus not discussed here. Only note that some subtleties apply if calculating the fidelity in the presence of leakage levels."
   ]
  },
  {
   "cell_type": "code",
   "execution_count": 10,
   "metadata": {
    "tags": []
   },
   "outputs": [
    {
     "name": "stdout",
     "output_type": "stream",
     "text": [
      "Gate\tTransfer Matrix\tMonte Carlo\tRelative deviation\n",
      "----------------------------------------------------------\n",
      "X2ID\t7.08e-05\t7.17e-05\t-1.3e-02\n",
      "Y2ID\t6.95e-05\t7.03e-05\t-1.2e-02\n",
      "CNOT\t7.84e-05\t7.89e-05\t-6.9e-03\n"
     ]
    }
   ],
   "source": [
    "print('Gate', 'Transfer Matrix', 'Monte Carlo', 'Relative deviation', sep='\\t')\n",
    "print('----------------------------------------------------------')\n",
    "for key, pulse in pulses.items():\n",
    "    infidelity = 1 - abs(transfer_matrices[key][:16, :16].trace())/4**2\n",
    "    rel_div = (infidelity.sum() - infid_fast[key][1])/infid_fast[key][1]\n",
    "    print(key,\n",
    "          '{:.2e}'.format(infidelity.sum()),\n",
    "          '{:.2e}'.format(infid_fast[key][1]),\n",
    "          '{:.1e}'.format(rel_div),\n",
    "          sep='\\t')"
   ]
  },
  {
   "cell_type": "markdown",
   "metadata": {},
   "source": [
    "## Complete positivity\n",
    "For a map $\\mathcal{U}:\\rho\\rightarrow\\mathcal{U}(\\rho)\\equiv\\rho'$ to be physical, i.e. map density operators to density operators, it needs to be completely positive (CP). Mathematically, this is given iff\n",
    "\n",
    "$$\n",
    "    \\text{choi}(\\mathcal{U}) \\geq 0\n",
    "$$\n",
    "\n",
    "with $\\text{choi}(\\mathcal{U}) = (\\mathcal{U}\\otimes\\mathbb{I})(|\\Omega\\rangle\\langle\\Omega|)$ the Choi matrix representation of the map $\\mathcal{U}$ and $|\\Omega\\rangle$ any maximally entangled state. This is known as the Choi-Jamiołkowski isomorphism of quantum channels and states. As can be shown, the error transfer matrix $\\langle\\mathcal{\\tilde{U}}\\rangle = \\exp\\mathcal{K}$ is CP, and thus constitutes a valid quantum operation, when taking the decay amplitudes $\\Gamma$ and/or frequency shifts $\\Delta$ into account for the cumulant function. However, when approximating $\\langle\\mathcal{\\tilde{U}}\\rangle\\approx\\mathbb{1} + \\mathcal{K}$, this need in general not be true anymore. Since simplified expressions for derived quantites, as discussed above, can be obtained in the approximation, complete positivity (or the degree of violation thereof) of the approximated map can hence - in addition to convergence and smallness criteria for the perturbative expansion - serve as a figure of merit of the approximation.\n",
    "\n",
    "Functions related to this topic are collected in the `superoperator` module. For instance, we can check if $\\langle\\mathcal{\\tilde{U}}\\rangle$ is CP using `superoperator.liouville_is_CP` as follows."
   ]
  },
  {
   "cell_type": "code",
   "execution_count": 11,
   "metadata": {},
   "outputs": [
    {
     "name": "stdout",
     "output_type": "stream",
     "text": [
      "----\n",
      "X2ID\n",
      "----\n",
      "Error transfer matrix CP: True\n",
      "Smallest Choi eigenvalue: -3.45e-16\n",
      "Approximate error transfer matrix CP: True\n",
      "Smallest Choi eigenvalue: -4.44e-16\n",
      "----\n",
      "Y2ID\n",
      "----\n",
      "Error transfer matrix CP: True\n",
      "Smallest Choi eigenvalue: -5.24e-16\n",
      "Approximate error transfer matrix CP: True\n",
      "Smallest Choi eigenvalue: -1.20e-15\n",
      "----\n",
      "CNOT\n",
      "----\n",
      "Error transfer matrix CP: True\n",
      "Smallest Choi eigenvalue: 2.08e-13\n",
      "Approximate error transfer matrix CP: True\n",
      "Smallest Choi eigenvalue: 4.93e-15\n"
     ]
    }
   ],
   "source": [
    "from filter_functions import superoperator\n",
    "\n",
    "for key, pulse in pulses.items():\n",
    "    print('----', key, '----', sep='\\n')\n",
    "    # CP is boolean, D and V are eigenvalues and -vectors of the Choi matrix\n",
    "    CP, (D, V) = superoperator.liouville_is_CP(transfer_matrices[key],\n",
    "                                               pulse.basis, return_eig=True)\n",
    "    print(f'Error transfer matrix CP: {CP}')  # all(D >= 0) up to floating point error\n",
    "    print(f'Smallest Choi eigenvalue: {np.min(D):.2e}')\n",
    "    \n",
    "    # Check CPness of approximation:\n",
    "    approximation = np.eye(pulse.d**2) + cumulant_functions[key].sum(0)\n",
    "    CP, (D, V) = superoperator.liouville_is_CP(approximation, pulse.basis,\n",
    "                                               return_eig=True)\n",
    "    print(f'Approximate error transfer matrix CP: {CP}')\n",
    "    print(f'Smallest Choi eigenvalue: {np.min(D):.2e}')"
   ]
  },
  {
   "cell_type": "markdown",
   "metadata": {},
   "source": [
    "## Convergence of the frequency integral\n",
    "Since we are integrating numerically, we should also perform a convergence test in order to see if the frequency resolution is large enough. This is also implemented in `ff.infidelity()`. In this case, the function arguments `S` and `omega` take on a different meaning; `spectrum` should be a `Callable` function handle for computing the spectrum from a list of frequencies, and `omega` should be a dictionary with entries defining the boundary conditions for the convergence test, e.g. the minimum and maximum number of frequency points $n_\\omega$ for the convergence test. For brevity, we only show the convergence for the CNOT."
   ]
  },
  {
   "cell_type": "code",
   "execution_count": 12,
   "metadata": {
    "tags": []
   },
   "outputs": [
    {
     "name": "stdout",
     "output_type": "stream",
     "text": [
      "(11, 6)\n"
     ]
    },
    {
     "data": {
      "application/javascript": [
       "/* Put everything inside the global mpl namespace */\n",
       "/* global mpl */\n",
       "window.mpl = {};\n",
       "\n",
       "mpl.get_websocket_type = function () {\n",
       "    if (typeof WebSocket !== 'undefined') {\n",
       "        return WebSocket;\n",
       "    } else if (typeof MozWebSocket !== 'undefined') {\n",
       "        return MozWebSocket;\n",
       "    } else {\n",
       "        alert(\n",
       "            'Your browser does not have WebSocket support. ' +\n",
       "                'Please try Chrome, Safari or Firefox ≥ 6. ' +\n",
       "                'Firefox 4 and 5 are also supported but you ' +\n",
       "                'have to enable WebSockets in about:config.'\n",
       "        );\n",
       "    }\n",
       "};\n",
       "\n",
       "mpl.figure = function (figure_id, websocket, ondownload, parent_element) {\n",
       "    this.id = figure_id;\n",
       "\n",
       "    this.ws = websocket;\n",
       "\n",
       "    this.supports_binary = this.ws.binaryType !== undefined;\n",
       "\n",
       "    if (!this.supports_binary) {\n",
       "        var warnings = document.getElementById('mpl-warnings');\n",
       "        if (warnings) {\n",
       "            warnings.style.display = 'block';\n",
       "            warnings.textContent =\n",
       "                'This browser does not support binary websocket messages. ' +\n",
       "                'Performance may be slow.';\n",
       "        }\n",
       "    }\n",
       "\n",
       "    this.imageObj = new Image();\n",
       "\n",
       "    this.context = undefined;\n",
       "    this.message = undefined;\n",
       "    this.canvas = undefined;\n",
       "    this.rubberband_canvas = undefined;\n",
       "    this.rubberband_context = undefined;\n",
       "    this.format_dropdown = undefined;\n",
       "\n",
       "    this.image_mode = 'full';\n",
       "\n",
       "    this.root = document.createElement('div');\n",
       "    this.root.setAttribute('style', 'display: inline-block');\n",
       "    this._root_extra_style(this.root);\n",
       "\n",
       "    parent_element.appendChild(this.root);\n",
       "\n",
       "    this._init_header(this);\n",
       "    this._init_canvas(this);\n",
       "    this._init_toolbar(this);\n",
       "\n",
       "    var fig = this;\n",
       "\n",
       "    this.waiting = false;\n",
       "\n",
       "    this.ws.onopen = function () {\n",
       "        fig.send_message('supports_binary', { value: fig.supports_binary });\n",
       "        fig.send_message('send_image_mode', {});\n",
       "        if (fig.ratio !== 1) {\n",
       "            fig.send_message('set_device_pixel_ratio', {\n",
       "                device_pixel_ratio: fig.ratio,\n",
       "            });\n",
       "        }\n",
       "        fig.send_message('refresh', {});\n",
       "    };\n",
       "\n",
       "    this.imageObj.onload = function () {\n",
       "        if (fig.image_mode === 'full') {\n",
       "            // Full images could contain transparency (where diff images\n",
       "            // almost always do), so we need to clear the canvas so that\n",
       "            // there is no ghosting.\n",
       "            fig.context.clearRect(0, 0, fig.canvas.width, fig.canvas.height);\n",
       "        }\n",
       "        fig.context.drawImage(fig.imageObj, 0, 0);\n",
       "    };\n",
       "\n",
       "    this.imageObj.onunload = function () {\n",
       "        fig.ws.close();\n",
       "    };\n",
       "\n",
       "    this.ws.onmessage = this._make_on_message_function(this);\n",
       "\n",
       "    this.ondownload = ondownload;\n",
       "};\n",
       "\n",
       "mpl.figure.prototype._init_header = function () {\n",
       "    var titlebar = document.createElement('div');\n",
       "    titlebar.classList =\n",
       "        'ui-dialog-titlebar ui-widget-header ui-corner-all ui-helper-clearfix';\n",
       "    var titletext = document.createElement('div');\n",
       "    titletext.classList = 'ui-dialog-title';\n",
       "    titletext.setAttribute(\n",
       "        'style',\n",
       "        'width: 100%; text-align: center; padding: 3px;'\n",
       "    );\n",
       "    titlebar.appendChild(titletext);\n",
       "    this.root.appendChild(titlebar);\n",
       "    this.header = titletext;\n",
       "};\n",
       "\n",
       "mpl.figure.prototype._canvas_extra_style = function (_canvas_div) {};\n",
       "\n",
       "mpl.figure.prototype._root_extra_style = function (_canvas_div) {};\n",
       "\n",
       "mpl.figure.prototype._init_canvas = function () {\n",
       "    var fig = this;\n",
       "\n",
       "    var canvas_div = (this.canvas_div = document.createElement('div'));\n",
       "    canvas_div.setAttribute(\n",
       "        'style',\n",
       "        'border: 1px solid #ddd;' +\n",
       "            'box-sizing: content-box;' +\n",
       "            'clear: both;' +\n",
       "            'min-height: 1px;' +\n",
       "            'min-width: 1px;' +\n",
       "            'outline: 0;' +\n",
       "            'overflow: hidden;' +\n",
       "            'position: relative;' +\n",
       "            'resize: both;'\n",
       "    );\n",
       "\n",
       "    function on_keyboard_event_closure(name) {\n",
       "        return function (event) {\n",
       "            return fig.key_event(event, name);\n",
       "        };\n",
       "    }\n",
       "\n",
       "    canvas_div.addEventListener(\n",
       "        'keydown',\n",
       "        on_keyboard_event_closure('key_press')\n",
       "    );\n",
       "    canvas_div.addEventListener(\n",
       "        'keyup',\n",
       "        on_keyboard_event_closure('key_release')\n",
       "    );\n",
       "\n",
       "    this._canvas_extra_style(canvas_div);\n",
       "    this.root.appendChild(canvas_div);\n",
       "\n",
       "    var canvas = (this.canvas = document.createElement('canvas'));\n",
       "    canvas.classList.add('mpl-canvas');\n",
       "    canvas.setAttribute('style', 'box-sizing: content-box;');\n",
       "\n",
       "    this.context = canvas.getContext('2d');\n",
       "\n",
       "    var backingStore =\n",
       "        this.context.backingStorePixelRatio ||\n",
       "        this.context.webkitBackingStorePixelRatio ||\n",
       "        this.context.mozBackingStorePixelRatio ||\n",
       "        this.context.msBackingStorePixelRatio ||\n",
       "        this.context.oBackingStorePixelRatio ||\n",
       "        this.context.backingStorePixelRatio ||\n",
       "        1;\n",
       "\n",
       "    this.ratio = (window.devicePixelRatio || 1) / backingStore;\n",
       "\n",
       "    var rubberband_canvas = (this.rubberband_canvas = document.createElement(\n",
       "        'canvas'\n",
       "    ));\n",
       "    rubberband_canvas.setAttribute(\n",
       "        'style',\n",
       "        'box-sizing: content-box; position: absolute; left: 0; top: 0; z-index: 1;'\n",
       "    );\n",
       "\n",
       "    // Apply a ponyfill if ResizeObserver is not implemented by browser.\n",
       "    if (this.ResizeObserver === undefined) {\n",
       "        if (window.ResizeObserver !== undefined) {\n",
       "            this.ResizeObserver = window.ResizeObserver;\n",
       "        } else {\n",
       "            var obs = _JSXTOOLS_RESIZE_OBSERVER({});\n",
       "            this.ResizeObserver = obs.ResizeObserver;\n",
       "        }\n",
       "    }\n",
       "\n",
       "    this.resizeObserverInstance = new this.ResizeObserver(function (entries) {\n",
       "        var nentries = entries.length;\n",
       "        for (var i = 0; i < nentries; i++) {\n",
       "            var entry = entries[i];\n",
       "            var width, height;\n",
       "            if (entry.contentBoxSize) {\n",
       "                if (entry.contentBoxSize instanceof Array) {\n",
       "                    // Chrome 84 implements new version of spec.\n",
       "                    width = entry.contentBoxSize[0].inlineSize;\n",
       "                    height = entry.contentBoxSize[0].blockSize;\n",
       "                } else {\n",
       "                    // Firefox implements old version of spec.\n",
       "                    width = entry.contentBoxSize.inlineSize;\n",
       "                    height = entry.contentBoxSize.blockSize;\n",
       "                }\n",
       "            } else {\n",
       "                // Chrome <84 implements even older version of spec.\n",
       "                width = entry.contentRect.width;\n",
       "                height = entry.contentRect.height;\n",
       "            }\n",
       "\n",
       "            // Keep the size of the canvas and rubber band canvas in sync with\n",
       "            // the canvas container.\n",
       "            if (entry.devicePixelContentBoxSize) {\n",
       "                // Chrome 84 implements new version of spec.\n",
       "                canvas.setAttribute(\n",
       "                    'width',\n",
       "                    entry.devicePixelContentBoxSize[0].inlineSize\n",
       "                );\n",
       "                canvas.setAttribute(\n",
       "                    'height',\n",
       "                    entry.devicePixelContentBoxSize[0].blockSize\n",
       "                );\n",
       "            } else {\n",
       "                canvas.setAttribute('width', width * fig.ratio);\n",
       "                canvas.setAttribute('height', height * fig.ratio);\n",
       "            }\n",
       "            canvas.setAttribute(\n",
       "                'style',\n",
       "                'width: ' + width + 'px; height: ' + height + 'px;'\n",
       "            );\n",
       "\n",
       "            rubberband_canvas.setAttribute('width', width);\n",
       "            rubberband_canvas.setAttribute('height', height);\n",
       "\n",
       "            // And update the size in Python. We ignore the initial 0/0 size\n",
       "            // that occurs as the element is placed into the DOM, which should\n",
       "            // otherwise not happen due to the minimum size styling.\n",
       "            if (fig.ws.readyState == 1 && width != 0 && height != 0) {\n",
       "                fig.request_resize(width, height);\n",
       "            }\n",
       "        }\n",
       "    });\n",
       "    this.resizeObserverInstance.observe(canvas_div);\n",
       "\n",
       "    function on_mouse_event_closure(name) {\n",
       "        return function (event) {\n",
       "            return fig.mouse_event(event, name);\n",
       "        };\n",
       "    }\n",
       "\n",
       "    rubberband_canvas.addEventListener(\n",
       "        'mousedown',\n",
       "        on_mouse_event_closure('button_press')\n",
       "    );\n",
       "    rubberband_canvas.addEventListener(\n",
       "        'mouseup',\n",
       "        on_mouse_event_closure('button_release')\n",
       "    );\n",
       "    rubberband_canvas.addEventListener(\n",
       "        'dblclick',\n",
       "        on_mouse_event_closure('dblclick')\n",
       "    );\n",
       "    // Throttle sequential mouse events to 1 every 20ms.\n",
       "    rubberband_canvas.addEventListener(\n",
       "        'mousemove',\n",
       "        on_mouse_event_closure('motion_notify')\n",
       "    );\n",
       "\n",
       "    rubberband_canvas.addEventListener(\n",
       "        'mouseenter',\n",
       "        on_mouse_event_closure('figure_enter')\n",
       "    );\n",
       "    rubberband_canvas.addEventListener(\n",
       "        'mouseleave',\n",
       "        on_mouse_event_closure('figure_leave')\n",
       "    );\n",
       "\n",
       "    canvas_div.addEventListener('wheel', function (event) {\n",
       "        if (event.deltaY < 0) {\n",
       "            event.step = 1;\n",
       "        } else {\n",
       "            event.step = -1;\n",
       "        }\n",
       "        on_mouse_event_closure('scroll')(event);\n",
       "    });\n",
       "\n",
       "    canvas_div.appendChild(canvas);\n",
       "    canvas_div.appendChild(rubberband_canvas);\n",
       "\n",
       "    this.rubberband_context = rubberband_canvas.getContext('2d');\n",
       "    this.rubberband_context.strokeStyle = '#000000';\n",
       "\n",
       "    this._resize_canvas = function (width, height, forward) {\n",
       "        if (forward) {\n",
       "            canvas_div.style.width = width + 'px';\n",
       "            canvas_div.style.height = height + 'px';\n",
       "        }\n",
       "    };\n",
       "\n",
       "    // Disable right mouse context menu.\n",
       "    this.rubberband_canvas.addEventListener('contextmenu', function (_e) {\n",
       "        event.preventDefault();\n",
       "        return false;\n",
       "    });\n",
       "\n",
       "    function set_focus() {\n",
       "        canvas.focus();\n",
       "        canvas_div.focus();\n",
       "    }\n",
       "\n",
       "    window.setTimeout(set_focus, 100);\n",
       "};\n",
       "\n",
       "mpl.figure.prototype._init_toolbar = function () {\n",
       "    var fig = this;\n",
       "\n",
       "    var toolbar = document.createElement('div');\n",
       "    toolbar.classList = 'mpl-toolbar';\n",
       "    this.root.appendChild(toolbar);\n",
       "\n",
       "    function on_click_closure(name) {\n",
       "        return function (_event) {\n",
       "            return fig.toolbar_button_onclick(name);\n",
       "        };\n",
       "    }\n",
       "\n",
       "    function on_mouseover_closure(tooltip) {\n",
       "        return function (event) {\n",
       "            if (!event.currentTarget.disabled) {\n",
       "                return fig.toolbar_button_onmouseover(tooltip);\n",
       "            }\n",
       "        };\n",
       "    }\n",
       "\n",
       "    fig.buttons = {};\n",
       "    var buttonGroup = document.createElement('div');\n",
       "    buttonGroup.classList = 'mpl-button-group';\n",
       "    for (var toolbar_ind in mpl.toolbar_items) {\n",
       "        var name = mpl.toolbar_items[toolbar_ind][0];\n",
       "        var tooltip = mpl.toolbar_items[toolbar_ind][1];\n",
       "        var image = mpl.toolbar_items[toolbar_ind][2];\n",
       "        var method_name = mpl.toolbar_items[toolbar_ind][3];\n",
       "\n",
       "        if (!name) {\n",
       "            /* Instead of a spacer, we start a new button group. */\n",
       "            if (buttonGroup.hasChildNodes()) {\n",
       "                toolbar.appendChild(buttonGroup);\n",
       "            }\n",
       "            buttonGroup = document.createElement('div');\n",
       "            buttonGroup.classList = 'mpl-button-group';\n",
       "            continue;\n",
       "        }\n",
       "\n",
       "        var button = (fig.buttons[name] = document.createElement('button'));\n",
       "        button.classList = 'mpl-widget';\n",
       "        button.setAttribute('role', 'button');\n",
       "        button.setAttribute('aria-disabled', 'false');\n",
       "        button.addEventListener('click', on_click_closure(method_name));\n",
       "        button.addEventListener('mouseover', on_mouseover_closure(tooltip));\n",
       "\n",
       "        var icon_img = document.createElement('img');\n",
       "        icon_img.src = '_images/' + image + '.png';\n",
       "        icon_img.srcset = '_images/' + image + '_large.png 2x';\n",
       "        icon_img.alt = tooltip;\n",
       "        button.appendChild(icon_img);\n",
       "\n",
       "        buttonGroup.appendChild(button);\n",
       "    }\n",
       "\n",
       "    if (buttonGroup.hasChildNodes()) {\n",
       "        toolbar.appendChild(buttonGroup);\n",
       "    }\n",
       "\n",
       "    var fmt_picker = document.createElement('select');\n",
       "    fmt_picker.classList = 'mpl-widget';\n",
       "    toolbar.appendChild(fmt_picker);\n",
       "    this.format_dropdown = fmt_picker;\n",
       "\n",
       "    for (var ind in mpl.extensions) {\n",
       "        var fmt = mpl.extensions[ind];\n",
       "        var option = document.createElement('option');\n",
       "        option.selected = fmt === mpl.default_extension;\n",
       "        option.innerHTML = fmt;\n",
       "        fmt_picker.appendChild(option);\n",
       "    }\n",
       "\n",
       "    var status_bar = document.createElement('span');\n",
       "    status_bar.classList = 'mpl-message';\n",
       "    toolbar.appendChild(status_bar);\n",
       "    this.message = status_bar;\n",
       "};\n",
       "\n",
       "mpl.figure.prototype.request_resize = function (x_pixels, y_pixels) {\n",
       "    // Request matplotlib to resize the figure. Matplotlib will then trigger a resize in the client,\n",
       "    // which will in turn request a refresh of the image.\n",
       "    this.send_message('resize', { width: x_pixels, height: y_pixels });\n",
       "};\n",
       "\n",
       "mpl.figure.prototype.send_message = function (type, properties) {\n",
       "    properties['type'] = type;\n",
       "    properties['figure_id'] = this.id;\n",
       "    this.ws.send(JSON.stringify(properties));\n",
       "};\n",
       "\n",
       "mpl.figure.prototype.send_draw_message = function () {\n",
       "    if (!this.waiting) {\n",
       "        this.waiting = true;\n",
       "        this.ws.send(JSON.stringify({ type: 'draw', figure_id: this.id }));\n",
       "    }\n",
       "};\n",
       "\n",
       "mpl.figure.prototype.handle_save = function (fig, _msg) {\n",
       "    var format_dropdown = fig.format_dropdown;\n",
       "    var format = format_dropdown.options[format_dropdown.selectedIndex].value;\n",
       "    fig.ondownload(fig, format);\n",
       "};\n",
       "\n",
       "mpl.figure.prototype.handle_resize = function (fig, msg) {\n",
       "    var size = msg['size'];\n",
       "    if (size[0] !== fig.canvas.width || size[1] !== fig.canvas.height) {\n",
       "        fig._resize_canvas(size[0], size[1], msg['forward']);\n",
       "        fig.send_message('refresh', {});\n",
       "    }\n",
       "};\n",
       "\n",
       "mpl.figure.prototype.handle_rubberband = function (fig, msg) {\n",
       "    var x0 = msg['x0'] / fig.ratio;\n",
       "    var y0 = (fig.canvas.height - msg['y0']) / fig.ratio;\n",
       "    var x1 = msg['x1'] / fig.ratio;\n",
       "    var y1 = (fig.canvas.height - msg['y1']) / fig.ratio;\n",
       "    x0 = Math.floor(x0) + 0.5;\n",
       "    y0 = Math.floor(y0) + 0.5;\n",
       "    x1 = Math.floor(x1) + 0.5;\n",
       "    y1 = Math.floor(y1) + 0.5;\n",
       "    var min_x = Math.min(x0, x1);\n",
       "    var min_y = Math.min(y0, y1);\n",
       "    var width = Math.abs(x1 - x0);\n",
       "    var height = Math.abs(y1 - y0);\n",
       "\n",
       "    fig.rubberband_context.clearRect(\n",
       "        0,\n",
       "        0,\n",
       "        fig.canvas.width / fig.ratio,\n",
       "        fig.canvas.height / fig.ratio\n",
       "    );\n",
       "\n",
       "    fig.rubberband_context.strokeRect(min_x, min_y, width, height);\n",
       "};\n",
       "\n",
       "mpl.figure.prototype.handle_figure_label = function (fig, msg) {\n",
       "    // Updates the figure title.\n",
       "    fig.header.textContent = msg['label'];\n",
       "};\n",
       "\n",
       "mpl.figure.prototype.handle_cursor = function (fig, msg) {\n",
       "    fig.rubberband_canvas.style.cursor = msg['cursor'];\n",
       "};\n",
       "\n",
       "mpl.figure.prototype.handle_message = function (fig, msg) {\n",
       "    fig.message.textContent = msg['message'];\n",
       "};\n",
       "\n",
       "mpl.figure.prototype.handle_draw = function (fig, _msg) {\n",
       "    // Request the server to send over a new figure.\n",
       "    fig.send_draw_message();\n",
       "};\n",
       "\n",
       "mpl.figure.prototype.handle_image_mode = function (fig, msg) {\n",
       "    fig.image_mode = msg['mode'];\n",
       "};\n",
       "\n",
       "mpl.figure.prototype.handle_history_buttons = function (fig, msg) {\n",
       "    for (var key in msg) {\n",
       "        if (!(key in fig.buttons)) {\n",
       "            continue;\n",
       "        }\n",
       "        fig.buttons[key].disabled = !msg[key];\n",
       "        fig.buttons[key].setAttribute('aria-disabled', !msg[key]);\n",
       "    }\n",
       "};\n",
       "\n",
       "mpl.figure.prototype.handle_navigate_mode = function (fig, msg) {\n",
       "    if (msg['mode'] === 'PAN') {\n",
       "        fig.buttons['Pan'].classList.add('active');\n",
       "        fig.buttons['Zoom'].classList.remove('active');\n",
       "    } else if (msg['mode'] === 'ZOOM') {\n",
       "        fig.buttons['Pan'].classList.remove('active');\n",
       "        fig.buttons['Zoom'].classList.add('active');\n",
       "    } else {\n",
       "        fig.buttons['Pan'].classList.remove('active');\n",
       "        fig.buttons['Zoom'].classList.remove('active');\n",
       "    }\n",
       "};\n",
       "\n",
       "mpl.figure.prototype.updated_canvas_event = function () {\n",
       "    // Called whenever the canvas gets updated.\n",
       "    this.send_message('ack', {});\n",
       "};\n",
       "\n",
       "// A function to construct a web socket function for onmessage handling.\n",
       "// Called in the figure constructor.\n",
       "mpl.figure.prototype._make_on_message_function = function (fig) {\n",
       "    return function socket_on_message(evt) {\n",
       "        if (evt.data instanceof Blob) {\n",
       "            var img = evt.data;\n",
       "            if (img.type !== 'image/png') {\n",
       "                /* FIXME: We get \"Resource interpreted as Image but\n",
       "                 * transferred with MIME type text/plain:\" errors on\n",
       "                 * Chrome.  But how to set the MIME type?  It doesn't seem\n",
       "                 * to be part of the websocket stream */\n",
       "                img.type = 'image/png';\n",
       "            }\n",
       "\n",
       "            /* Free the memory for the previous frames */\n",
       "            if (fig.imageObj.src) {\n",
       "                (window.URL || window.webkitURL).revokeObjectURL(\n",
       "                    fig.imageObj.src\n",
       "                );\n",
       "            }\n",
       "\n",
       "            fig.imageObj.src = (window.URL || window.webkitURL).createObjectURL(\n",
       "                img\n",
       "            );\n",
       "            fig.updated_canvas_event();\n",
       "            fig.waiting = false;\n",
       "            return;\n",
       "        } else if (\n",
       "            typeof evt.data === 'string' &&\n",
       "            evt.data.slice(0, 21) === 'data:image/png;base64'\n",
       "        ) {\n",
       "            fig.imageObj.src = evt.data;\n",
       "            fig.updated_canvas_event();\n",
       "            fig.waiting = false;\n",
       "            return;\n",
       "        }\n",
       "\n",
       "        var msg = JSON.parse(evt.data);\n",
       "        var msg_type = msg['type'];\n",
       "\n",
       "        // Call the  \"handle_{type}\" callback, which takes\n",
       "        // the figure and JSON message as its only arguments.\n",
       "        try {\n",
       "            var callback = fig['handle_' + msg_type];\n",
       "        } catch (e) {\n",
       "            console.log(\n",
       "                \"No handler for the '\" + msg_type + \"' message type: \",\n",
       "                msg\n",
       "            );\n",
       "            return;\n",
       "        }\n",
       "\n",
       "        if (callback) {\n",
       "            try {\n",
       "                // console.log(\"Handling '\" + msg_type + \"' message: \", msg);\n",
       "                callback(fig, msg);\n",
       "            } catch (e) {\n",
       "                console.log(\n",
       "                    \"Exception inside the 'handler_\" + msg_type + \"' callback:\",\n",
       "                    e,\n",
       "                    e.stack,\n",
       "                    msg\n",
       "                );\n",
       "            }\n",
       "        }\n",
       "    };\n",
       "};\n",
       "\n",
       "// from https://stackoverflow.com/questions/1114465/getting-mouse-location-in-canvas\n",
       "mpl.findpos = function (e) {\n",
       "    //this section is from http://www.quirksmode.org/js/events_properties.html\n",
       "    var targ;\n",
       "    if (!e) {\n",
       "        e = window.event;\n",
       "    }\n",
       "    if (e.target) {\n",
       "        targ = e.target;\n",
       "    } else if (e.srcElement) {\n",
       "        targ = e.srcElement;\n",
       "    }\n",
       "    if (targ.nodeType === 3) {\n",
       "        // defeat Safari bug\n",
       "        targ = targ.parentNode;\n",
       "    }\n",
       "\n",
       "    // pageX,Y are the mouse positions relative to the document\n",
       "    var boundingRect = targ.getBoundingClientRect();\n",
       "    var x = e.pageX - (boundingRect.left + document.body.scrollLeft);\n",
       "    var y = e.pageY - (boundingRect.top + document.body.scrollTop);\n",
       "\n",
       "    return { x: x, y: y };\n",
       "};\n",
       "\n",
       "/*\n",
       " * return a copy of an object with only non-object keys\n",
       " * we need this to avoid circular references\n",
       " * https://stackoverflow.com/a/24161582/3208463\n",
       " */\n",
       "function simpleKeys(original) {\n",
       "    return Object.keys(original).reduce(function (obj, key) {\n",
       "        if (typeof original[key] !== 'object') {\n",
       "            obj[key] = original[key];\n",
       "        }\n",
       "        return obj;\n",
       "    }, {});\n",
       "}\n",
       "\n",
       "mpl.figure.prototype.mouse_event = function (event, name) {\n",
       "    var canvas_pos = mpl.findpos(event);\n",
       "\n",
       "    if (name === 'button_press') {\n",
       "        this.canvas.focus();\n",
       "        this.canvas_div.focus();\n",
       "    }\n",
       "\n",
       "    var x = canvas_pos.x * this.ratio;\n",
       "    var y = canvas_pos.y * this.ratio;\n",
       "\n",
       "    this.send_message(name, {\n",
       "        x: x,\n",
       "        y: y,\n",
       "        button: event.button,\n",
       "        step: event.step,\n",
       "        guiEvent: simpleKeys(event),\n",
       "    });\n",
       "\n",
       "    /* This prevents the web browser from automatically changing to\n",
       "     * the text insertion cursor when the button is pressed.  We want\n",
       "     * to control all of the cursor setting manually through the\n",
       "     * 'cursor' event from matplotlib */\n",
       "    event.preventDefault();\n",
       "    return false;\n",
       "};\n",
       "\n",
       "mpl.figure.prototype._key_event_extra = function (_event, _name) {\n",
       "    // Handle any extra behaviour associated with a key event\n",
       "};\n",
       "\n",
       "mpl.figure.prototype.key_event = function (event, name) {\n",
       "    // Prevent repeat events\n",
       "    if (name === 'key_press') {\n",
       "        if (event.key === this._key) {\n",
       "            return;\n",
       "        } else {\n",
       "            this._key = event.key;\n",
       "        }\n",
       "    }\n",
       "    if (name === 'key_release') {\n",
       "        this._key = null;\n",
       "    }\n",
       "\n",
       "    var value = '';\n",
       "    if (event.ctrlKey && event.key !== 'Control') {\n",
       "        value += 'ctrl+';\n",
       "    }\n",
       "    else if (event.altKey && event.key !== 'Alt') {\n",
       "        value += 'alt+';\n",
       "    }\n",
       "    else if (event.shiftKey && event.key !== 'Shift') {\n",
       "        value += 'shift+';\n",
       "    }\n",
       "\n",
       "    value += 'k' + event.key;\n",
       "\n",
       "    this._key_event_extra(event, name);\n",
       "\n",
       "    this.send_message(name, { key: value, guiEvent: simpleKeys(event) });\n",
       "    return false;\n",
       "};\n",
       "\n",
       "mpl.figure.prototype.toolbar_button_onclick = function (name) {\n",
       "    if (name === 'download') {\n",
       "        this.handle_save(this, null);\n",
       "    } else {\n",
       "        this.send_message('toolbar_button', { name: name });\n",
       "    }\n",
       "};\n",
       "\n",
       "mpl.figure.prototype.toolbar_button_onmouseover = function (tooltip) {\n",
       "    this.message.textContent = tooltip;\n",
       "};\n",
       "\n",
       "///////////////// REMAINING CONTENT GENERATED BY embed_js.py /////////////////\n",
       "// prettier-ignore\n",
       "var _JSXTOOLS_RESIZE_OBSERVER=function(A){var t,i=new WeakMap,n=new WeakMap,a=new WeakMap,r=new WeakMap,o=new Set;function s(e){if(!(this instanceof s))throw new TypeError(\"Constructor requires 'new' operator\");i.set(this,e)}function h(){throw new TypeError(\"Function is not a constructor\")}function c(e,t,i,n){e=0 in arguments?Number(arguments[0]):0,t=1 in arguments?Number(arguments[1]):0,i=2 in arguments?Number(arguments[2]):0,n=3 in arguments?Number(arguments[3]):0,this.right=(this.x=this.left=e)+(this.width=i),this.bottom=(this.y=this.top=t)+(this.height=n),Object.freeze(this)}function d(){t=requestAnimationFrame(d);var s=new WeakMap,p=new Set;o.forEach((function(t){r.get(t).forEach((function(i){var r=t instanceof window.SVGElement,o=a.get(t),d=r?0:parseFloat(o.paddingTop),f=r?0:parseFloat(o.paddingRight),l=r?0:parseFloat(o.paddingBottom),u=r?0:parseFloat(o.paddingLeft),g=r?0:parseFloat(o.borderTopWidth),m=r?0:parseFloat(o.borderRightWidth),w=r?0:parseFloat(o.borderBottomWidth),b=u+f,F=d+l,v=(r?0:parseFloat(o.borderLeftWidth))+m,W=g+w,y=r?0:t.offsetHeight-W-t.clientHeight,E=r?0:t.offsetWidth-v-t.clientWidth,R=b+v,z=F+W,M=r?t.width:parseFloat(o.width)-R-E,O=r?t.height:parseFloat(o.height)-z-y;if(n.has(t)){var k=n.get(t);if(k[0]===M&&k[1]===O)return}n.set(t,[M,O]);var S=Object.create(h.prototype);S.target=t,S.contentRect=new c(u,d,M,O),s.has(i)||(s.set(i,[]),p.add(i)),s.get(i).push(S)}))})),p.forEach((function(e){i.get(e).call(e,s.get(e),e)}))}return s.prototype.observe=function(i){if(i instanceof window.Element){r.has(i)||(r.set(i,new Set),o.add(i),a.set(i,window.getComputedStyle(i)));var n=r.get(i);n.has(this)||n.add(this),cancelAnimationFrame(t),t=requestAnimationFrame(d)}},s.prototype.unobserve=function(i){if(i instanceof window.Element&&r.has(i)){var n=r.get(i);n.has(this)&&(n.delete(this),n.size||(r.delete(i),o.delete(i))),n.size||r.delete(i),o.size||cancelAnimationFrame(t)}},A.DOMRectReadOnly=c,A.ResizeObserver=s,A.ResizeObserverEntry=h,A}; // eslint-disable-line\n",
       "mpl.toolbar_items = [[\"Home\", \"Reset original view\", \"fa fa-home icon-home\", \"home\"], [\"Back\", \"Back to previous view\", \"fa fa-arrow-left icon-arrow-left\", \"back\"], [\"Forward\", \"Forward to next view\", \"fa fa-arrow-right icon-arrow-right\", \"forward\"], [\"\", \"\", \"\", \"\"], [\"Pan\", \"Left button pans, Right button zooms\\nx/y fixes axis, CTRL fixes aspect\", \"fa fa-arrows icon-move\", \"pan\"], [\"Zoom\", \"Zoom to rectangle\\nx/y fixes axis\", \"fa fa-square-o icon-check-empty\", \"zoom\"], [\"\", \"\", \"\", \"\"], [\"Download\", \"Download plot\", \"fa fa-floppy-o icon-save\", \"download\"]];\n",
       "\n",
       "mpl.extensions = [\"eps\", \"jpeg\", \"pgf\", \"pdf\", \"png\", \"ps\", \"raw\", \"svg\", \"tif\"];\n",
       "\n",
       "mpl.default_extension = \"svg\";/* global mpl */\n",
       "\n",
       "var comm_websocket_adapter = function (comm) {\n",
       "    // Create a \"websocket\"-like object which calls the given IPython comm\n",
       "    // object with the appropriate methods. Currently this is a non binary\n",
       "    // socket, so there is still some room for performance tuning.\n",
       "    var ws = {};\n",
       "\n",
       "    ws.binaryType = comm.kernel.ws.binaryType;\n",
       "    ws.readyState = comm.kernel.ws.readyState;\n",
       "    function updateReadyState(_event) {\n",
       "        if (comm.kernel.ws) {\n",
       "            ws.readyState = comm.kernel.ws.readyState;\n",
       "        } else {\n",
       "            ws.readyState = 3; // Closed state.\n",
       "        }\n",
       "    }\n",
       "    comm.kernel.ws.addEventListener('open', updateReadyState);\n",
       "    comm.kernel.ws.addEventListener('close', updateReadyState);\n",
       "    comm.kernel.ws.addEventListener('error', updateReadyState);\n",
       "\n",
       "    ws.close = function () {\n",
       "        comm.close();\n",
       "    };\n",
       "    ws.send = function (m) {\n",
       "        //console.log('sending', m);\n",
       "        comm.send(m);\n",
       "    };\n",
       "    // Register the callback with on_msg.\n",
       "    comm.on_msg(function (msg) {\n",
       "        //console.log('receiving', msg['content']['data'], msg);\n",
       "        var data = msg['content']['data'];\n",
       "        if (data['blob'] !== undefined) {\n",
       "            data = {\n",
       "                data: new Blob(msg['buffers'], { type: data['blob'] }),\n",
       "            };\n",
       "        }\n",
       "        // Pass the mpl event to the overridden (by mpl) onmessage function.\n",
       "        ws.onmessage(data);\n",
       "    });\n",
       "    return ws;\n",
       "};\n",
       "\n",
       "mpl.mpl_figure_comm = function (comm, msg) {\n",
       "    // This is the function which gets called when the mpl process\n",
       "    // starts-up an IPython Comm through the \"matplotlib\" channel.\n",
       "\n",
       "    var id = msg.content.data.id;\n",
       "    // Get hold of the div created by the display call when the Comm\n",
       "    // socket was opened in Python.\n",
       "    var element = document.getElementById(id);\n",
       "    var ws_proxy = comm_websocket_adapter(comm);\n",
       "\n",
       "    function ondownload(figure, _format) {\n",
       "        window.open(figure.canvas.toDataURL());\n",
       "    }\n",
       "\n",
       "    var fig = new mpl.figure(id, ws_proxy, ondownload, element);\n",
       "\n",
       "    // Call onopen now - mpl needs it, as it is assuming we've passed it a real\n",
       "    // web socket which is closed, not our websocket->open comm proxy.\n",
       "    ws_proxy.onopen();\n",
       "\n",
       "    fig.parent_element = element;\n",
       "    fig.cell_info = mpl.find_output_cell(\"<div id='\" + id + \"'></div>\");\n",
       "    if (!fig.cell_info) {\n",
       "        console.error('Failed to find cell for figure', id, fig);\n",
       "        return;\n",
       "    }\n",
       "    fig.cell_info[0].output_area.element.on(\n",
       "        'cleared',\n",
       "        { fig: fig },\n",
       "        fig._remove_fig_handler\n",
       "    );\n",
       "};\n",
       "\n",
       "mpl.figure.prototype.handle_close = function (fig, msg) {\n",
       "    var width = fig.canvas.width / fig.ratio;\n",
       "    fig.cell_info[0].output_area.element.off(\n",
       "        'cleared',\n",
       "        fig._remove_fig_handler\n",
       "    );\n",
       "    fig.resizeObserverInstance.unobserve(fig.canvas_div);\n",
       "\n",
       "    // Update the output cell to use the data from the current canvas.\n",
       "    fig.push_to_output();\n",
       "    var dataURL = fig.canvas.toDataURL();\n",
       "    // Re-enable the keyboard manager in IPython - without this line, in FF,\n",
       "    // the notebook keyboard shortcuts fail.\n",
       "    IPython.keyboard_manager.enable();\n",
       "    fig.parent_element.innerHTML =\n",
       "        '<img src=\"' + dataURL + '\" width=\"' + width + '\">';\n",
       "    fig.close_ws(fig, msg);\n",
       "};\n",
       "\n",
       "mpl.figure.prototype.close_ws = function (fig, msg) {\n",
       "    fig.send_message('closing', msg);\n",
       "    // fig.ws.close()\n",
       "};\n",
       "\n",
       "mpl.figure.prototype.push_to_output = function (_remove_interactive) {\n",
       "    // Turn the data on the canvas into data in the output cell.\n",
       "    var width = this.canvas.width / this.ratio;\n",
       "    var dataURL = this.canvas.toDataURL();\n",
       "    this.cell_info[1]['text/html'] =\n",
       "        '<img src=\"' + dataURL + '\" width=\"' + width + '\">';\n",
       "};\n",
       "\n",
       "mpl.figure.prototype.updated_canvas_event = function () {\n",
       "    // Tell IPython that the notebook contents must change.\n",
       "    IPython.notebook.set_dirty(true);\n",
       "    this.send_message('ack', {});\n",
       "    var fig = this;\n",
       "    // Wait a second, then push the new image to the DOM so\n",
       "    // that it is saved nicely (might be nice to debounce this).\n",
       "    setTimeout(function () {\n",
       "        fig.push_to_output();\n",
       "    }, 1000);\n",
       "};\n",
       "\n",
       "mpl.figure.prototype._init_toolbar = function () {\n",
       "    var fig = this;\n",
       "\n",
       "    var toolbar = document.createElement('div');\n",
       "    toolbar.classList = 'btn-toolbar';\n",
       "    this.root.appendChild(toolbar);\n",
       "\n",
       "    function on_click_closure(name) {\n",
       "        return function (_event) {\n",
       "            return fig.toolbar_button_onclick(name);\n",
       "        };\n",
       "    }\n",
       "\n",
       "    function on_mouseover_closure(tooltip) {\n",
       "        return function (event) {\n",
       "            if (!event.currentTarget.disabled) {\n",
       "                return fig.toolbar_button_onmouseover(tooltip);\n",
       "            }\n",
       "        };\n",
       "    }\n",
       "\n",
       "    fig.buttons = {};\n",
       "    var buttonGroup = document.createElement('div');\n",
       "    buttonGroup.classList = 'btn-group';\n",
       "    var button;\n",
       "    for (var toolbar_ind in mpl.toolbar_items) {\n",
       "        var name = mpl.toolbar_items[toolbar_ind][0];\n",
       "        var tooltip = mpl.toolbar_items[toolbar_ind][1];\n",
       "        var image = mpl.toolbar_items[toolbar_ind][2];\n",
       "        var method_name = mpl.toolbar_items[toolbar_ind][3];\n",
       "\n",
       "        if (!name) {\n",
       "            /* Instead of a spacer, we start a new button group. */\n",
       "            if (buttonGroup.hasChildNodes()) {\n",
       "                toolbar.appendChild(buttonGroup);\n",
       "            }\n",
       "            buttonGroup = document.createElement('div');\n",
       "            buttonGroup.classList = 'btn-group';\n",
       "            continue;\n",
       "        }\n",
       "\n",
       "        button = fig.buttons[name] = document.createElement('button');\n",
       "        button.classList = 'btn btn-default';\n",
       "        button.href = '#';\n",
       "        button.title = name;\n",
       "        button.innerHTML = '<i class=\"fa ' + image + ' fa-lg\"></i>';\n",
       "        button.addEventListener('click', on_click_closure(method_name));\n",
       "        button.addEventListener('mouseover', on_mouseover_closure(tooltip));\n",
       "        buttonGroup.appendChild(button);\n",
       "    }\n",
       "\n",
       "    if (buttonGroup.hasChildNodes()) {\n",
       "        toolbar.appendChild(buttonGroup);\n",
       "    }\n",
       "\n",
       "    // Add the status bar.\n",
       "    var status_bar = document.createElement('span');\n",
       "    status_bar.classList = 'mpl-message pull-right';\n",
       "    toolbar.appendChild(status_bar);\n",
       "    this.message = status_bar;\n",
       "\n",
       "    // Add the close button to the window.\n",
       "    var buttongrp = document.createElement('div');\n",
       "    buttongrp.classList = 'btn-group inline pull-right';\n",
       "    button = document.createElement('button');\n",
       "    button.classList = 'btn btn-mini btn-primary';\n",
       "    button.href = '#';\n",
       "    button.title = 'Stop Interaction';\n",
       "    button.innerHTML = '<i class=\"fa fa-power-off icon-remove icon-large\"></i>';\n",
       "    button.addEventListener('click', function (_evt) {\n",
       "        fig.handle_close(fig, {});\n",
       "    });\n",
       "    button.addEventListener(\n",
       "        'mouseover',\n",
       "        on_mouseover_closure('Stop Interaction')\n",
       "    );\n",
       "    buttongrp.appendChild(button);\n",
       "    var titlebar = this.root.querySelector('.ui-dialog-titlebar');\n",
       "    titlebar.insertBefore(buttongrp, titlebar.firstChild);\n",
       "};\n",
       "\n",
       "mpl.figure.prototype._remove_fig_handler = function (event) {\n",
       "    var fig = event.data.fig;\n",
       "    if (event.target !== this) {\n",
       "        // Ignore bubbled events from children.\n",
       "        return;\n",
       "    }\n",
       "    fig.close_ws(fig, {});\n",
       "};\n",
       "\n",
       "mpl.figure.prototype._root_extra_style = function (el) {\n",
       "    el.style.boxSizing = 'content-box'; // override notebook setting of border-box.\n",
       "};\n",
       "\n",
       "mpl.figure.prototype._canvas_extra_style = function (el) {\n",
       "    // this is important to make the div 'focusable\n",
       "    el.setAttribute('tabindex', 0);\n",
       "    // reach out to IPython and tell the keyboard manager to turn it's self\n",
       "    // off when our div gets focus\n",
       "\n",
       "    // location in version 3\n",
       "    if (IPython.notebook.keyboard_manager) {\n",
       "        IPython.notebook.keyboard_manager.register_events(el);\n",
       "    } else {\n",
       "        // location in version 2\n",
       "        IPython.keyboard_manager.register_events(el);\n",
       "    }\n",
       "};\n",
       "\n",
       "mpl.figure.prototype._key_event_extra = function (event, _name) {\n",
       "    // Check for shift+enter\n",
       "    if (event.shiftKey && event.which === 13) {\n",
       "        this.canvas_div.blur();\n",
       "        // select the cell after this one\n",
       "        var index = IPython.notebook.find_cell_index(this.cell_info[0]);\n",
       "        IPython.notebook.select(index + 1);\n",
       "    }\n",
       "};\n",
       "\n",
       "mpl.figure.prototype.handle_save = function (fig, _msg) {\n",
       "    fig.ondownload(fig, null);\n",
       "};\n",
       "\n",
       "mpl.find_output_cell = function (html_output) {\n",
       "    // Return the cell and output element which can be found *uniquely* in the notebook.\n",
       "    // Note - this is a bit hacky, but it is done because the \"notebook_saving.Notebook\"\n",
       "    // IPython event is triggered only after the cells have been serialised, which for\n",
       "    // our purposes (turning an active figure into a static one), is too late.\n",
       "    var cells = IPython.notebook.get_cells();\n",
       "    var ncells = cells.length;\n",
       "    for (var i = 0; i < ncells; i++) {\n",
       "        var cell = cells[i];\n",
       "        if (cell.cell_type === 'code') {\n",
       "            for (var j = 0; j < cell.output_area.outputs.length; j++) {\n",
       "                var data = cell.output_area.outputs[j];\n",
       "                if (data.data) {\n",
       "                    // IPython >= 3 moved mimebundle to data attribute of output\n",
       "                    data = data.data;\n",
       "                }\n",
       "                if (data['text/html'] === html_output) {\n",
       "                    return [cell, data, j];\n",
       "                }\n",
       "            }\n",
       "        }\n",
       "    }\n",
       "};\n",
       "\n",
       "// Register the function which deals with the matplotlib target/channel.\n",
       "// The kernel may be null if the page has been refreshed.\n",
       "if (IPython.notebook.kernel !== null) {\n",
       "    IPython.notebook.kernel.comm_manager.register_target(\n",
       "        'matplotlib',\n",
       "        mpl.mpl_figure_comm\n",
       "    );\n",
       "}\n"
      ],
      "text/plain": [
       "<IPython.core.display.Javascript object>"
      ]
     },
     "metadata": {},
     "output_type": "display_data"
    },
    {
     "data": {
      "text/html": [
       "<img src=\"data:image/png;base64,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\" width=\"461\">"
      ],
      "text/plain": [
       "<IPython.core.display.HTML object>"
      ]
     },
     "metadata": {},
     "output_type": "display_data"
    },
    {
     "data": {
      "text/plain": [
       "Text(0.5, 0.98, 'CNOT convergence')"
      ]
     },
     "execution_count": 12,
     "metadata": {},
     "output_type": "execute_result"
    }
   ],
   "source": [
    "def spectrum(omega): return A/omega**alpha\n",
    "\n",
    "# Define the boundary conditions (all of these values also have sensible\n",
    "# defaults)\n",
    "omega = {\n",
    "    'omega_IR': 1e-2/T['CNOT'],\n",
    "    'omega_IV': 100,\n",
    "    'spacing': 'log',\n",
    "    'n_min': 100,\n",
    "    'n_max': 500,\n",
    "    'n_points': 10\n",
    "}\n",
    "\n",
    "n_omega, infids = ff.infidelity(pulses['CNOT'], spectrum, omega,\n",
    "                                test_convergence=True)\n",
    "print(infids.shape)\n",
    "fig, ax = plotting.plot_infidelity_convergence(n_omega, infids.sum(axis=1))\n",
    "fig.suptitle('CNOT convergence')"
   ]
  },
  {
   "cell_type": "markdown",
   "metadata": {},
   "source": [
    "As we can see, the integral converges for around $n_\\omega = 300$ already. Note that the value of the infidelity here is not consistent with the one computed in [the section above](#fidelity) since `ff.infidelity()` computes the infidelity of the pulse on the complete Hilbert space, not only the computational subspace. Concretely, `ff.infidelity()` computes `transfer_matrices['CNOT'].trace()/6**2`."
   ]
  }
 ],
 "metadata": {
  "kernelspec": {
   "display_name": "Python 3 (ipykernel)",
   "language": "python",
   "name": "python3"
  },
  "language_info": {
   "codemirror_mode": {
    "name": "ipython",
    "version": 3
   },
   "file_extension": ".py",
   "mimetype": "text/x-python",
   "name": "python",
   "nbconvert_exporter": "python",
   "pygments_lexer": "ipython3",
   "version": "3.10.0"
  },
  "widgets": {
   "application/vnd.jupyter.widget-state+json": {
    "state": {
     "00ce31bc79c34dcd9a75f019e8f06b8b": {
      "model_module": "@jupyter-widgets/controls",
      "model_module_version": "1.5.0",
      "model_name": "HTMLModel",
      "state": {
       "layout": "IPY_MODEL_1cd9774533c0438a815efb6556437ab3",
       "style": "IPY_MODEL_78111d3c097c4989bda0110488f17dbe",
       "value": " 100/100 [00:39&lt;00:00,  2.87it/s]"
      }
     },
     "010bf16f80ef4c06b108641afeb833b9": {
      "model_module": "@jupyter-widgets/base",
      "model_module_version": "1.2.0",
      "model_name": "LayoutModel",
      "state": {}
     },
     "01ed40322eb24cd0a1ee5af414affb09": {
      "model_module": "@jupyter-widgets/base",
      "model_module_version": "1.2.0",
      "model_name": "LayoutModel",
      "state": {}
     },
     "026a0ebee5e34029a355bdf5a895f379": {
      "model_module": "@jupyter-widgets/controls",
      "model_module_version": "1.5.0",
      "model_name": "DescriptionStyleModel",
      "state": {
       "description_width": ""
      }
     },
     "03e89ad9308543d980cf86c3d20a70cc": {
      "model_module": "@jupyter-widgets/base",
      "model_module_version": "1.2.0",
      "model_name": "LayoutModel",
      "state": {}
     },
     "052391c04da8415e9c21ab04c8fda939": {
      "model_module": "@jupyter-widgets/controls",
      "model_module_version": "1.5.0",
      "model_name": "DescriptionStyleModel",
      "state": {
       "description_width": ""
      }
     },
     "05c1563e35bd4d31aea2675ee3d0e6eb": {
      "model_module": "@jupyter-widgets/base",
      "model_module_version": "1.2.0",
      "model_name": "LayoutModel",
      "state": {}
     },
     "06b4c6ec622f41c5a2c91a59fa78c4aa": {
      "model_module": "@jupyter-widgets/controls",
      "model_module_version": "1.5.0",
      "model_name": "DescriptionStyleModel",
      "state": {
       "description_width": ""
      }
     },
     "0762953ce076440987c6e38195ce83c9": {
      "model_module": "@jupyter-widgets/controls",
      "model_module_version": "1.5.0",
      "model_name": "DescriptionStyleModel",
      "state": {
       "description_width": ""
      }
     },
     "077dbd79885945fba8d4c40032f33716": {
      "model_module": "@jupyter-widgets/controls",
      "model_module_version": "1.5.0",
      "model_name": "HTMLModel",
      "state": {
       "layout": "IPY_MODEL_c404509b99854e19b01077cc6eb55c78",
       "style": "IPY_MODEL_c9f31fde670e443ea67a1208be9b9680",
       "value": " 100/100 [00:00&lt;00:00, 144.75it/s]"
      }
     },
     "07b8db535cf84b04b984a68e89bdd276": {
      "model_module": "@jupyter-widgets/controls",
      "model_module_version": "1.5.0",
      "model_name": "FloatProgressModel",
      "state": {
       "bar_style": "success",
       "layout": "IPY_MODEL_784eb1a60f7b426cbfca0067ce9e019b",
       "style": "IPY_MODEL_7709c080bf5b460f8de36f323733c424",
       "value": 100
      }
     },
     "0825621abaab406a97b5f6c8ec30f8ca": {
      "model_module": "@jupyter-widgets/controls",
      "model_module_version": "1.5.0",
      "model_name": "FloatProgressModel",
      "state": {
       "bar_style": "success",
       "layout": "IPY_MODEL_f96125325d2c44f98d720f8e49bca8e4",
       "style": "IPY_MODEL_46abaf200ef24298acced526eadf8965",
       "value": 100
      }
     },
     "08468d9aac9048c79585de8f9ff16191": {
      "model_module": "@jupyter-widgets/controls",
      "model_module_version": "1.5.0",
      "model_name": "ProgressStyleModel",
      "state": {
       "description_width": "initial"
      }
     },
     "085887f8de8040d99e5cebbbae12e655": {
      "model_module": "@jupyter-widgets/base",
      "model_module_version": "1.2.0",
      "model_name": "LayoutModel",
      "state": {}
     },
     "0885eb96d0ff4667a5060daf2626e301": {
      "model_module": "@jupyter-widgets/base",
      "model_module_version": "1.2.0",
      "model_name": "LayoutModel",
      "state": {}
     },
     "091e4a016e004b1bb8f3dc7926d1c436": {
      "model_module": "@jupyter-widgets/base",
      "model_module_version": "1.2.0",
      "model_name": "LayoutModel",
      "state": {}
     },
     "094bad7dc14542a6ba69d07b45ceaffa": {
      "model_module": "@jupyter-widgets/base",
      "model_module_version": "1.2.0",
      "model_name": "LayoutModel",
      "state": {}
     },
     "0a30bf14d753406586282e4b4a69fb67": {
      "model_module": "@jupyter-widgets/base",
      "model_module_version": "1.2.0",
      "model_name": "LayoutModel",
      "state": {}
     },
     "0a57c2cef4454d2b83ba1534c9d0eaf3": {
      "model_module": "@jupyter-widgets/controls",
      "model_module_version": "1.5.0",
      "model_name": "DescriptionStyleModel",
      "state": {
       "description_width": ""
      }
     },
     "0aab098963be4f97a02b66b7c4f2d1eb": {
      "model_module": "@jupyter-widgets/controls",
      "model_module_version": "1.5.0",
      "model_name": "HTMLModel",
      "state": {
       "layout": "IPY_MODEL_c074b9fd544741d38dd138fd44172265",
       "style": "IPY_MODEL_f95bb7b88b1f4923a3bcdeb26814f288",
       "value": "Calculating second order FF: 100%"
      }
     },
     "0aad69b5f27940b39e13230e0ab4ddbf": {
      "model_module": "@jupyter-widgets/controls",
      "model_module_version": "1.5.0",
      "model_name": "FloatProgressModel",
      "state": {
       "bar_style": "success",
       "layout": "IPY_MODEL_94f0855b6f73410f982b8b56427443ba",
       "style": "IPY_MODEL_0d7e78b9c765452184b9ae3d799b781d",
       "value": 100
      }
     },
     "0b0b723302134f82b6c2bc9d03109257": {
      "model_module": "@jupyter-widgets/base",
      "model_module_version": "1.2.0",
      "model_name": "LayoutModel",
      "state": {}
     },
     "0b5a7c29ad434c29b2835c184e9408fc": {
      "model_module": "@jupyter-widgets/base",
      "model_module_version": "1.2.0",
      "model_name": "LayoutModel",
      "state": {}
     },
     "0b66c16b5b134828a884021f6b750cef": {
      "model_module": "@jupyter-widgets/controls",
      "model_module_version": "1.5.0",
      "model_name": "DescriptionStyleModel",
      "state": {
       "description_width": ""
      }
     },
     "0bdcdf35d9cf47bf94b307ab9a0542a4": {
      "model_module": "@jupyter-widgets/controls",
      "model_module_version": "1.5.0",
      "model_name": "DescriptionStyleModel",
      "state": {
       "description_width": ""
      }
     },
     "0d0af1d9f26249d789b656c4b04fb6f8": {
      "model_module": "@jupyter-widgets/base",
      "model_module_version": "1.2.0",
      "model_name": "LayoutModel",
      "state": {}
     },
     "0d0e8180f8f145798914c9022f550a14": {
      "model_module": "@jupyter-widgets/controls",
      "model_module_version": "1.5.0",
      "model_name": "FloatProgressModel",
      "state": {
       "bar_style": "success",
       "layout": "IPY_MODEL_200ecc36ca164a218b66f68a8a0cbbb9",
       "max": 250,
       "style": "IPY_MODEL_10d0c899b12a4e048ade79426da34bc6",
       "value": 250
      }
     },
     "0d7e78b9c765452184b9ae3d799b781d": {
      "model_module": "@jupyter-widgets/controls",
      "model_module_version": "1.5.0",
      "model_name": "ProgressStyleModel",
      "state": {
       "description_width": ""
      }
     },
     "0dc28bbab3114ad78a4593090933e8cd": {
      "model_module": "@jupyter-widgets/controls",
      "model_module_version": "1.5.0",
      "model_name": "DescriptionStyleModel",
      "state": {
       "description_width": ""
      }
     },
     "0e156a83465b46338575c33a25f4d4a1": {
      "model_module": "@jupyter-widgets/base",
      "model_module_version": "1.2.0",
      "model_name": "LayoutModel",
      "state": {}
     },
     "0e725523fc7841e89cd75adcf503af69": {
      "model_module": "@jupyter-widgets/controls",
      "model_module_version": "1.5.0",
      "model_name": "HTMLModel",
      "state": {
       "layout": "IPY_MODEL_8ac96d553e4648d6af976b4293f626c3",
       "style": "IPY_MODEL_4b0155e484d844d5a1e62c82bdbef543",
       "value": "Calculating control matrix: 100%"
      }
     },
     "0eb65048a28a441aad0d68ff0de60c1c": {
      "model_module": "@jupyter-widgets/controls",
      "model_module_version": "1.5.0",
      "model_name": "ProgressStyleModel",
      "state": {
       "description_width": ""
      }
     },
     "0ee64a2c9cad44d7866a2e7527126447": {
      "model_module": "@jupyter-widgets/controls",
      "model_module_version": "1.5.0",
      "model_name": "ProgressStyleModel",
      "state": {
       "description_width": "initial"
      }
     },
     "0eededfdf2fb4bb39f72dc10701d8d8b": {
      "model_module": "@jupyter-widgets/controls",
      "model_module_version": "1.5.0",
      "model_name": "HTMLModel",
      "state": {
       "layout": "IPY_MODEL_5dde22886c46410bbd7910278dcdda97",
       "value": "Calculating control matrix: 100%"
      }
     },
     "0f630858067c457b93d35717403f98a7": {
      "model_module": "@jupyter-widgets/base",
      "model_module_version": "1.2.0",
      "model_name": "LayoutModel",
      "state": {}
     },
     "0f95ffadf0794db4a14818b1414f89cc": {
      "model_module": "@jupyter-widgets/controls",
      "model_module_version": "1.5.0",
      "model_name": "DescriptionStyleModel",
      "state": {
       "description_width": ""
      }
     },
     "103e589ffc044d3aa6ce625db2126035": {
      "model_module": "@jupyter-widgets/controls",
      "model_module_version": "1.5.0",
      "model_name": "ProgressStyleModel",
      "state": {
       "description_width": "initial"
      }
     },
     "10c1d9c03ea84de985c33f1591f1c3ce": {
      "model_module": "@jupyter-widgets/base",
      "model_module_version": "1.2.0",
      "model_name": "LayoutModel",
      "state": {}
     },
     "10d0c899b12a4e048ade79426da34bc6": {
      "model_module": "@jupyter-widgets/controls",
      "model_module_version": "1.5.0",
      "model_name": "ProgressStyleModel",
      "state": {
       "description_width": ""
      }
     },
     "10f9f84005604195a65826baa8f5ce0d": {
      "model_module": "@jupyter-widgets/base",
      "model_module_version": "1.2.0",
      "model_name": "LayoutModel",
      "state": {}
     },
     "1177614c59824dae96f19325184eea55": {
      "model_module": "@jupyter-widgets/base",
      "model_module_version": "1.2.0",
      "model_name": "LayoutModel",
      "state": {}
     },
     "11917d7a98de4b59940a1e1103598684": {
      "model_module": "@jupyter-widgets/controls",
      "model_module_version": "1.5.0",
      "model_name": "DescriptionStyleModel",
      "state": {
       "description_width": ""
      }
     },
     "1197f4fe86ae4cacb33a638080beb6c1": {
      "model_module": "@jupyter-widgets/controls",
      "model_module_version": "1.5.0",
      "model_name": "FloatProgressModel",
      "state": {
       "bar_style": "success",
       "description": "Calculating control matrix: 100%",
       "layout": "IPY_MODEL_93b33f36e38143cf86d0fa9672992231",
       "style": "IPY_MODEL_103e589ffc044d3aa6ce625db2126035",
       "value": 100
      }
     },
     "1231fa2a4dbf45a58f2d7119f2f2ff37": {
      "model_module": "@jupyter-widgets/controls",
      "model_module_version": "1.5.0",
      "model_name": "DescriptionStyleModel",
      "state": {
       "description_width": ""
      }
     },
     "12f88297cccc4cd3897ecbe69b748d93": {
      "model_module": "@jupyter-widgets/base",
      "model_module_version": "1.2.0",
      "model_name": "LayoutModel",
      "state": {}
     },
     "1338b1d2e6964e0b8404e78cdcb72513": {
      "model_module": "@jupyter-widgets/controls",
      "model_module_version": "1.5.0",
      "model_name": "FloatProgressModel",
      "state": {
       "bar_style": "success",
       "layout": "IPY_MODEL_bd3bb35d95e24ea1b43270c7a8ad27e4",
       "style": "IPY_MODEL_1b3b4c2cc5eb4f77beb257a5ba90f3db",
       "value": 100
      }
     },
     "1396af94724743eaa7ab263267aff322": {
      "model_module": "@jupyter-widgets/controls",
      "model_module_version": "1.5.0",
      "model_name": "FloatProgressModel",
      "state": {
       "bar_style": "success",
       "layout": "IPY_MODEL_8f9a0f69399b409d9b98076ad57a8f9e",
       "style": "IPY_MODEL_bc1e1b084aa2408585c8b139a8904dda",
       "value": 100
      }
     },
     "13d35562a1c048e5aa0ffdf5173970f2": {
      "model_module": "@jupyter-widgets/controls",
      "model_module_version": "1.5.0",
      "model_name": "HTMLModel",
      "state": {
       "layout": "IPY_MODEL_1a5160c1b6414c9ea091bc9c238e3ec3",
       "style": "IPY_MODEL_82b98977e85e46fa8ca94eb42f1d1e59",
       "value": " 100/100 [00:00&lt;00:00, 106.49it/s]"
      }
     },
     "141d02f5d71646d0bc9ab3c79ed9f238": {
      "model_module": "@jupyter-widgets/controls",
      "model_module_version": "1.5.0",
      "model_name": "ProgressStyleModel",
      "state": {
       "description_width": "initial"
      }
     },
     "147a75f63b9f41998ec3e61a67b19f58": {
      "model_module": "@jupyter-widgets/base",
      "model_module_version": "1.2.0",
      "model_name": "LayoutModel",
      "state": {}
     },
     "150cb3fac9f74383be0b2bdcb02d7e6e": {
      "model_module": "@jupyter-widgets/controls",
      "model_module_version": "1.5.0",
      "model_name": "HBoxModel",
      "state": {
       "children": [
        "IPY_MODEL_16532b0db15d44c289a43328636ce9c1",
        "IPY_MODEL_cd4de010c8884d48a835786bdcda5df7",
        "IPY_MODEL_173ac12532994d7b8fe26213f3d32e6f"
       ],
       "layout": "IPY_MODEL_d391d232c8fa421bac71e3d1376e7f4d"
      }
     },
     "15b27475dc7744bf888ca818318e73aa": {
      "model_module": "@jupyter-widgets/base",
      "model_module_version": "1.2.0",
      "model_name": "LayoutModel",
      "state": {}
     },
     "16532b0db15d44c289a43328636ce9c1": {
      "model_module": "@jupyter-widgets/controls",
      "model_module_version": "1.5.0",
      "model_name": "HTMLModel",
      "state": {
       "layout": "IPY_MODEL_a223e4bac43c47aba19b0e5a770a6e8c",
       "style": "IPY_MODEL_1cefcf20c0e94954a6c94fa6dab74fca",
       "value": "Calculating control matrix: 100%"
      }
     },
     "16c73b5fbfeb4b52a8e39be8c320d7f6": {
      "model_module": "@jupyter-widgets/controls",
      "model_module_version": "1.5.0",
      "model_name": "HBoxModel",
      "state": {
       "children": [
        "IPY_MODEL_c6582a1c23ce414a8dec2798f4094a82",
        "IPY_MODEL_723749bbdb20463db89002da0ba7fd92",
        "IPY_MODEL_69a4f50e729f4f39b950e93b56effa9e"
       ],
       "layout": "IPY_MODEL_ac7831722c3f464cbeab84209314a974"
      }
     },
     "16eb1ad677d94dacb7966c0b76016411": {
      "model_module": "@jupyter-widgets/base",
      "model_module_version": "1.2.0",
      "model_name": "LayoutModel",
      "state": {}
     },
     "16ec94eb78a04ddf82d79163a7b8ff30": {
      "model_module": "@jupyter-widgets/base",
      "model_module_version": "1.2.0",
      "model_name": "LayoutModel",
      "state": {}
     },
     "16ef17e099c14aca97e8458009d90de5": {
      "model_module": "@jupyter-widgets/controls",
      "model_module_version": "1.5.0",
      "model_name": "DescriptionStyleModel",
      "state": {
       "description_width": ""
      }
     },
     "172d233066ea42ce906ac1f94f60210d": {
      "model_module": "@jupyter-widgets/controls",
      "model_module_version": "1.5.0",
      "model_name": "HTMLModel",
      "state": {
       "layout": "IPY_MODEL_3d51109de8404d01b93be8db14d16172",
       "style": "IPY_MODEL_399793cef4624fce9799ce6628854bf8",
       "value": " 100/100 [00:00&lt;00:00, 305.28it/s]"
      }
     },
     "173ac12532994d7b8fe26213f3d32e6f": {
      "model_module": "@jupyter-widgets/controls",
      "model_module_version": "1.5.0",
      "model_name": "HTMLModel",
      "state": {
       "layout": "IPY_MODEL_78ddd81445ea4e10a91bee04c0f03835",
       "style": "IPY_MODEL_cdc0251521304ac895defa81b4be5436",
       "value": " 100/100 [00:00&lt;00:00, 418.83it/s]"
      }
     },
     "17ddbf87ea4a46fc957cc3a3918cdd17": {
      "model_module": "@jupyter-widgets/base",
      "model_module_version": "1.2.0",
      "model_name": "LayoutModel",
      "state": {}
     },
     "18a20af20939462e845d0f6650990b86": {
      "model_module": "@jupyter-widgets/base",
      "model_module_version": "1.2.0",
      "model_name": "LayoutModel",
      "state": {}
     },
     "19ae6d32aabc40de8ba1cefa1c0953cc": {
      "model_module": "@jupyter-widgets/base",
      "model_module_version": "1.2.0",
      "model_name": "LayoutModel",
      "state": {}
     },
     "19f910b9430e4c728c7855cf69db7dbe": {
      "model_module": "@jupyter-widgets/controls",
      "model_module_version": "1.5.0",
      "model_name": "HBoxModel",
      "state": {
       "children": [
        "IPY_MODEL_dec28044fe5241f3a0a87373619528bd",
        "IPY_MODEL_c7548c2dca9b423eb78ec894beea527d"
       ],
       "layout": "IPY_MODEL_4bdc9956a40a432392e727f37c5755fc"
      }
     },
     "1a2ac6e053f44ad68927aa74c88a5105": {
      "model_module": "@jupyter-widgets/base",
      "model_module_version": "1.2.0",
      "model_name": "LayoutModel",
      "state": {}
     },
     "1a4155cbfed743628861f96e1582addd": {
      "model_module": "@jupyter-widgets/controls",
      "model_module_version": "1.5.0",
      "model_name": "HTMLModel",
      "state": {
       "layout": "IPY_MODEL_fe4353d7aa5b4f1899bf1f0ee8aca7f8",
       "style": "IPY_MODEL_c8096f1a51974add97294fa9ad460159",
       "value": "Calculating second order FF: 100%"
      }
     },
     "1a5160c1b6414c9ea091bc9c238e3ec3": {
      "model_module": "@jupyter-widgets/base",
      "model_module_version": "1.2.0",
      "model_name": "LayoutModel",
      "state": {}
     },
     "1a653a36e25c498d9a9e9d9d0ec2f1e1": {
      "model_module": "@jupyter-widgets/base",
      "model_module_version": "1.2.0",
      "model_name": "LayoutModel",
      "state": {}
     },
     "1a72225bfa1c4f6c98a1a53385ca7d5c": {
      "model_module": "@jupyter-widgets/base",
      "model_module_version": "1.2.0",
      "model_name": "LayoutModel",
      "state": {}
     },
     "1a967f69efc249739765394ff67ebdf4": {
      "model_module": "@jupyter-widgets/base",
      "model_module_version": "1.2.0",
      "model_name": "LayoutModel",
      "state": {}
     },
     "1b039d48bdcf409e8ab0a02abafc494d": {
      "model_module": "@jupyter-widgets/controls",
      "model_module_version": "1.5.0",
      "model_name": "HBoxModel",
      "state": {
       "children": [
        "IPY_MODEL_d11af2e516de469a9feb2449098700b3",
        "IPY_MODEL_f2227a2cbbac433d935091dd1708c938"
       ],
       "layout": "IPY_MODEL_ce7f226541cf442b9dea590a5f637d70"
      }
     },
     "1b3b4c2cc5eb4f77beb257a5ba90f3db": {
      "model_module": "@jupyter-widgets/controls",
      "model_module_version": "1.5.0",
      "model_name": "ProgressStyleModel",
      "state": {
       "description_width": ""
      }
     },
     "1ba68064be4c472bacc321bd0fde5e77": {
      "model_module": "@jupyter-widgets/controls",
      "model_module_version": "1.5.0",
      "model_name": "DescriptionStyleModel",
      "state": {
       "description_width": ""
      }
     },
     "1bd42690bd5f4e3096231fc11e00986e": {
      "model_module": "@jupyter-widgets/base",
      "model_module_version": "1.2.0",
      "model_name": "LayoutModel",
      "state": {}
     },
     "1c1debc5129745e29baf3a81c97e34c0": {
      "model_module": "@jupyter-widgets/controls",
      "model_module_version": "1.5.0",
      "model_name": "FloatProgressModel",
      "state": {
       "bar_style": "success",
       "description": "Calculating control matrix: 100%",
       "layout": "IPY_MODEL_704acbe9e3484cf9913ec75296229b17",
       "style": "IPY_MODEL_cf180db0f3dc4085be49201499b78c82",
       "value": 100
      }
     },
     "1c289042c9344620a2f8725531d8d0d4": {
      "model_module": "@jupyter-widgets/base",
      "model_module_version": "1.2.0",
      "model_name": "LayoutModel",
      "state": {}
     },
     "1c6278daa22e4d6b862b591ad251ed80": {
      "model_module": "@jupyter-widgets/base",
      "model_module_version": "1.2.0",
      "model_name": "LayoutModel",
      "state": {}
     },
     "1cd9774533c0438a815efb6556437ab3": {
      "model_module": "@jupyter-widgets/base",
      "model_module_version": "1.2.0",
      "model_name": "LayoutModel",
      "state": {}
     },
     "1cefcf20c0e94954a6c94fa6dab74fca": {
      "model_module": "@jupyter-widgets/controls",
      "model_module_version": "1.5.0",
      "model_name": "DescriptionStyleModel",
      "state": {
       "description_width": ""
      }
     },
     "1d1cabb625964e8d9b85ff238db0605b": {
      "model_module": "@jupyter-widgets/controls",
      "model_module_version": "1.5.0",
      "model_name": "FloatProgressModel",
      "state": {
       "bar_style": "success",
       "layout": "IPY_MODEL_a2df15e179ed46cda22a4091ffb4f02b",
       "style": "IPY_MODEL_57a5aaeb9cd342e5a6e202e668de2652",
       "value": 100
      }
     },
     "1db6a2ee9d0f4f8f9361a86752afd25a": {
      "model_module": "@jupyter-widgets/base",
      "model_module_version": "1.2.0",
      "model_name": "LayoutModel",
      "state": {}
     },
     "1dc3491e8213471a969247d4b0f6dfe5": {
      "model_module": "@jupyter-widgets/base",
      "model_module_version": "1.2.0",
      "model_name": "LayoutModel",
      "state": {}
     },
     "1e43dff0f386444486e72f9f0143c03f": {
      "model_module": "@jupyter-widgets/controls",
      "model_module_version": "1.5.0",
      "model_name": "DescriptionStyleModel",
      "state": {
       "description_width": ""
      }
     },
     "1e487d2d986142ab8083bb756040c727": {
      "model_module": "@jupyter-widgets/controls",
      "model_module_version": "1.5.0",
      "model_name": "HBoxModel",
      "state": {
       "children": [
        "IPY_MODEL_1a4155cbfed743628861f96e1582addd",
        "IPY_MODEL_1396af94724743eaa7ab263267aff322",
        "IPY_MODEL_1e7bcaa563284d9fbc8e04af555d4563"
       ],
       "layout": "IPY_MODEL_ce983f0c27794250936197b9a008a87d"
      }
     },
     "1e7bcaa563284d9fbc8e04af555d4563": {
      "model_module": "@jupyter-widgets/controls",
      "model_module_version": "1.5.0",
      "model_name": "HTMLModel",
      "state": {
       "layout": "IPY_MODEL_c92f7c19c3d942e691856a81062d8ce8",
       "style": "IPY_MODEL_d8a1b01b2a6d4080aae5c7ab86410843",
       "value": " 100/100 [00:36&lt;00:00,  2.79it/s]"
      }
     },
     "1ec61ffd0c1c4e45b47380e1fecaaf56": {
      "model_module": "@jupyter-widgets/base",
      "model_module_version": "1.2.0",
      "model_name": "LayoutModel",
      "state": {}
     },
     "1ec8b333d4d24cb9bec2ba9850dc7eeb": {
      "model_module": "@jupyter-widgets/controls",
      "model_module_version": "1.5.0",
      "model_name": "ProgressStyleModel",
      "state": {
       "description_width": ""
      }
     },
     "200ecc36ca164a218b66f68a8a0cbbb9": {
      "model_module": "@jupyter-widgets/base",
      "model_module_version": "1.2.0",
      "model_name": "LayoutModel",
      "state": {}
     },
     "202c8186c22b4f2b9332a7f6cddefc37": {
      "model_module": "@jupyter-widgets/base",
      "model_module_version": "1.2.0",
      "model_name": "LayoutModel",
      "state": {}
     },
     "204107b2588047888e29ebdd194463fd": {
      "model_module": "@jupyter-widgets/controls",
      "model_module_version": "1.5.0",
      "model_name": "HTMLModel",
      "state": {
       "layout": "IPY_MODEL_c4edacd29adf4312a11aedb8c60e295a",
       "style": "IPY_MODEL_816e595a418b4dffb9936c25a82e684a",
       "value": " 250/250 [00:02&lt;00:00, 106.56it/s]"
      }
     },
     "20925ed47e794e8c9e4969bf34e60037": {
      "model_module": "@jupyter-widgets/base",
      "model_module_version": "1.2.0",
      "model_name": "LayoutModel",
      "state": {}
     },
     "224977730ed04542bc4a93c83700fc08": {
      "model_module": "@jupyter-widgets/base",
      "model_module_version": "1.2.0",
      "model_name": "LayoutModel",
      "state": {}
     },
     "22c54625328545f69ae32b099369833f": {
      "model_module": "@jupyter-widgets/base",
      "model_module_version": "1.2.0",
      "model_name": "LayoutModel",
      "state": {}
     },
     "23396ec2a1d24c5b87dd33faac6f2c63": {
      "model_module": "@jupyter-widgets/controls",
      "model_module_version": "1.5.0",
      "model_name": "HBoxModel",
      "state": {
       "children": [
        null,
        null,
        "IPY_MODEL_8525b0b0c5bb4e9d94bbcb2b3687d254"
       ],
       "layout": "IPY_MODEL_f2b839c695cd4331a458d7669c3618be"
      }
     },
     "2340441232884d62b9b108c54979dba7": {
      "model_module": "@jupyter-widgets/controls",
      "model_module_version": "1.5.0",
      "model_name": "HBoxModel",
      "state": {
       "children": [
        "IPY_MODEL_f43aaee98b3543039922495cd53d0c33",
        "IPY_MODEL_8531c2da7d964193bd4bd35a3d76c63d"
       ],
       "layout": "IPY_MODEL_2b77040fd17d4f78ab60f2d5863ea5dc"
      }
     },
     "2382303f767341dda8a67c679c4eec78": {
      "model_module": "@jupyter-widgets/controls",
      "model_module_version": "1.5.0",
      "model_name": "ProgressStyleModel",
      "state": {
       "description_width": ""
      }
     },
     "24422e798d3047c78ee310e38d8b8aaf": {
      "model_module": "@jupyter-widgets/controls",
      "model_module_version": "1.5.0",
      "model_name": "DescriptionStyleModel",
      "state": {
       "description_width": ""
      }
     },
     "26f0a9d8d6774b81a6f149a4de8722d0": {
      "model_module": "@jupyter-widgets/controls",
      "model_module_version": "1.5.0",
      "model_name": "HTMLModel",
      "state": {
       "layout": "IPY_MODEL_e66453e743054dedb04adb9877e8708c",
       "style": "IPY_MODEL_11917d7a98de4b59940a1e1103598684",
       "value": "Calculating control matrix: 100%"
      }
     },
     "270df0005a05473097bc9ef302547bd7": {
      "model_module": "@jupyter-widgets/controls",
      "model_module_version": "1.5.0",
      "model_name": "FloatProgressModel",
      "state": {
       "bar_style": "success",
       "description": "Calculating control matrix: 100%",
       "layout": "IPY_MODEL_cdd02f6ff3694c9a81b8d9769a48a4cd",
       "max": 250,
       "style": "IPY_MODEL_daf5f758aa5c45129dbaa8f94551bbb4",
       "value": 250
      }
     },
     "27552bd371364250a134c8c56d087717": {
      "model_module": "@jupyter-widgets/controls",
      "model_module_version": "1.5.0",
      "model_name": "FloatProgressModel",
      "state": {
       "bar_style": "success",
       "layout": "IPY_MODEL_1a2ac6e053f44ad68927aa74c88a5105",
       "style": "IPY_MODEL_6380530639cb400494884ff508100683",
       "value": 100
      }
     },
     "27945967fe1f4a15b5f05ab9c6975c53": {
      "model_module": "@jupyter-widgets/base",
      "model_module_version": "1.2.0",
      "model_name": "LayoutModel",
      "state": {}
     },
     "27bfff18cbd74467b765a4c88cc64720": {
      "model_module": "@jupyter-widgets/base",
      "model_module_version": "1.2.0",
      "model_name": "LayoutModel",
      "state": {}
     },
     "2885137c2fff48beba10cb5a29b1862a": {
      "model_module": "@jupyter-widgets/base",
      "model_module_version": "1.2.0",
      "model_name": "LayoutModel",
      "state": {}
     },
     "29d0588c39e443ceb44edfb1187fe7c7": {
      "model_module": "@jupyter-widgets/base",
      "model_module_version": "1.2.0",
      "model_name": "LayoutModel",
      "state": {}
     },
     "29e2773ab7264effacaf653e45573088": {
      "model_module": "@jupyter-widgets/controls",
      "model_module_version": "1.5.0",
      "model_name": "ProgressStyleModel",
      "state": {
       "description_width": "initial"
      }
     },
     "29f04c565993483ca13827c4260a4509": {
      "model_module": "@jupyter-widgets/controls",
      "model_module_version": "1.5.0",
      "model_name": "HTMLModel",
      "state": {
       "layout": "IPY_MODEL_091e4a016e004b1bb8f3dc7926d1c436",
       "style": "IPY_MODEL_2ac4a5d0e8c941d69b9d9159cc5352a6",
       "value": "Calculating control matrix: 100%"
      }
     },
     "2ac4a5d0e8c941d69b9d9159cc5352a6": {
      "model_module": "@jupyter-widgets/controls",
      "model_module_version": "1.5.0",
      "model_name": "DescriptionStyleModel",
      "state": {
       "description_width": ""
      }
     },
     "2ac4aef7096a49239cfc9206588456c2": {
      "model_module": "@jupyter-widgets/controls",
      "model_module_version": "1.5.0",
      "model_name": "DescriptionStyleModel",
      "state": {
       "description_width": ""
      }
     },
     "2b1db76992fc4aeab66647f3c1256c92": {
      "model_module": "@jupyter-widgets/controls",
      "model_module_version": "1.5.0",
      "model_name": "ProgressStyleModel",
      "state": {
       "description_width": "initial"
      }
     },
     "2b3c400ffd1144cd83f6bb5a4e249d11": {
      "model_module": "@jupyter-widgets/base",
      "model_module_version": "1.2.0",
      "model_name": "LayoutModel",
      "state": {}
     },
     "2b5b27491e9a49acb38a776a711f0ca0": {
      "model_module": "@jupyter-widgets/base",
      "model_module_version": "1.2.0",
      "model_name": "LayoutModel",
      "state": {}
     },
     "2b77040fd17d4f78ab60f2d5863ea5dc": {
      "model_module": "@jupyter-widgets/base",
      "model_module_version": "1.2.0",
      "model_name": "LayoutModel",
      "state": {}
     },
     "2b7faa2b0e6746d0a10806ddc0637710": {
      "model_module": "@jupyter-widgets/base",
      "model_module_version": "1.2.0",
      "model_name": "LayoutModel",
      "state": {}
     },
     "2bac32339b2b47f5b6f79239dd1839a1": {
      "model_module": "@jupyter-widgets/controls",
      "model_module_version": "1.5.0",
      "model_name": "HTMLModel",
      "state": {
       "layout": "IPY_MODEL_c7ac4cd5707348bf841660810e10ebf7",
       "style": "IPY_MODEL_9b4d7ca807854a46b5b4de4f4d4a9473",
       "value": " 100/100 [00:00&lt;00:00, 349.16it/s]"
      }
     },
     "2c063f8a40df440696f000e42ab6c1c1": {
      "model_module": "@jupyter-widgets/controls",
      "model_module_version": "1.5.0",
      "model_name": "HTMLModel",
      "state": {
       "layout": "IPY_MODEL_66adc482cd7747d985402635ee208d4e",
       "style": "IPY_MODEL_6ab6e043b81544688d5fda8b566606d1",
       "value": "Calculating control matrix: 100%"
      }
     },
     "2c266e88021c4e8d87bc87dbdac1352c": {
      "model_module": "@jupyter-widgets/controls",
      "model_module_version": "1.5.0",
      "model_name": "DescriptionStyleModel",
      "state": {
       "description_width": ""
      }
     },
     "2c7d17ecfd044d7aa45e5f2bd957611d": {
      "model_module": "@jupyter-widgets/base",
      "model_module_version": "1.2.0",
      "model_name": "LayoutModel",
      "state": {}
     },
     "2d0dae1e3fe747acb5084077d48a5a88": {
      "model_module": "@jupyter-widgets/controls",
      "model_module_version": "1.5.0",
      "model_name": "DescriptionStyleModel",
      "state": {
       "description_width": ""
      }
     },
     "2e2bcd15b8874be28a28561bf67b884e": {
      "model_module": "@jupyter-widgets/controls",
      "model_module_version": "1.5.0",
      "model_name": "HBoxModel",
      "state": {
       "children": [
        "IPY_MODEL_2c063f8a40df440696f000e42ab6c1c1",
        "IPY_MODEL_07b8db535cf84b04b984a68e89bdd276",
        "IPY_MODEL_efb81ac2fc83448cbfa8b35bb5bdf662"
       ],
       "layout": "IPY_MODEL_c9b86cefc55f48d187b5491695a8f8ae"
      }
     },
     "2ee89aeb355740d18bb60925889fe4ec": {
      "model_module": "@jupyter-widgets/controls",
      "model_module_version": "1.5.0",
      "model_name": "HBoxModel",
      "state": {
       "children": [
        "IPY_MODEL_9b5eaab1728a4c919489f25af0e54c33",
        "IPY_MODEL_5478d29ec7fd4fe2a5f99b2ea6c8752a"
       ],
       "layout": "IPY_MODEL_cec74829c2954e11beda9c0a54d82d37"
      }
     },
     "2eedad2de2d7437d98119c02c87a123c": {
      "model_module": "@jupyter-widgets/controls",
      "model_module_version": "1.5.0",
      "model_name": "ProgressStyleModel",
      "state": {
       "description_width": ""
      }
     },
     "2f23a70515744a7cb1575695d1b676d8": {
      "model_module": "@jupyter-widgets/base",
      "model_module_version": "1.2.0",
      "model_name": "LayoutModel",
      "state": {}
     },
     "2f659440686b4b6dbcba0729f1e8950c": {
      "model_module": "@jupyter-widgets/base",
      "model_module_version": "1.2.0",
      "model_name": "LayoutModel",
      "state": {}
     },
     "3159e3dd80a74a469916715a432f1754": {
      "model_module": "@jupyter-widgets/controls",
      "model_module_version": "1.5.0",
      "model_name": "ProgressStyleModel",
      "state": {
       "description_width": "initial"
      }
     },
     "315ac1618324496299ae13b0be5220cb": {
      "model_module": "@jupyter-widgets/controls",
      "model_module_version": "1.5.0",
      "model_name": "HTMLModel",
      "state": {
       "layout": "IPY_MODEL_3a22f5f52b8a46d3b0eaf6d5e7556d9c",
       "style": "IPY_MODEL_eb911820fd7b4287a72a7343806d08b4",
       "value": " 100/100 [00:00&lt;00:00, 104.27it/s]"
      }
     },
     "321a9887288043b9958d847a09481b77": {
      "model_module": "@jupyter-widgets/controls",
      "model_module_version": "1.5.0",
      "model_name": "HBoxModel",
      "state": {
       "children": [
        "IPY_MODEL_e7aff010b8aa4c1d8f33053fa4a208ce",
        "IPY_MODEL_3abd743f6f714d1b92b97d7d76097b0d",
        "IPY_MODEL_4ac7b1d733944f24afee82fdb390b9d3"
       ],
       "layout": "IPY_MODEL_7f856489c6ea4bd6b8e2f880003652c8"
      }
     },
     "34f359cc0e824f31b85bddfd2cfe79c6": {
      "model_module": "@jupyter-widgets/controls",
      "model_module_version": "1.5.0",
      "model_name": "FloatProgressModel",
      "state": {
       "bar_style": "success",
       "layout": "IPY_MODEL_1db6a2ee9d0f4f8f9361a86752afd25a",
       "max": 250,
       "style": "IPY_MODEL_ac5da51da4c4463aa50cc5b398dbf31e",
       "value": 250
      }
     },
     "35ecf0ded1d748a5902529826e7f9a05": {
      "model_module": "@jupyter-widgets/base",
      "model_module_version": "1.2.0",
      "model_name": "LayoutModel",
      "state": {}
     },
     "37b06f517bea4edd86d591c692a60e8f": {
      "model_module": "@jupyter-widgets/controls",
      "model_module_version": "1.5.0",
      "model_name": "HBoxModel",
      "state": {
       "children": [
        "IPY_MODEL_1197f4fe86ae4cacb33a638080beb6c1",
        "IPY_MODEL_8098615e5cbc44959dfabc2507c6e0ca"
       ],
       "layout": "IPY_MODEL_66bf1627766e4e8c9ff273d157061b97"
      }
     },
     "38990ca6abf145d8bd0d165f72e517e9": {
      "model_module": "@jupyter-widgets/controls",
      "model_module_version": "1.5.0",
      "model_name": "HTMLModel",
      "state": {
       "layout": "IPY_MODEL_27945967fe1f4a15b5f05ab9c6975c53",
       "style": "IPY_MODEL_0f95ffadf0794db4a14818b1414f89cc",
       "value": " 100/100 [00:00&lt;00:00, 362.40it/s]"
      }
     },
     "399793cef4624fce9799ce6628854bf8": {
      "model_module": "@jupyter-widgets/controls",
      "model_module_version": "1.5.0",
      "model_name": "DescriptionStyleModel",
      "state": {
       "description_width": ""
      }
     },
     "3a22f5f52b8a46d3b0eaf6d5e7556d9c": {
      "model_module": "@jupyter-widgets/base",
      "model_module_version": "1.2.0",
      "model_name": "LayoutModel",
      "state": {}
     },
     "3a97ce6562154ac5a6ca74ca8d621fcf": {
      "model_module": "@jupyter-widgets/controls",
      "model_module_version": "1.5.0",
      "model_name": "ProgressStyleModel",
      "state": {
       "description_width": ""
      }
     },
     "3abd743f6f714d1b92b97d7d76097b0d": {
      "model_module": "@jupyter-widgets/controls",
      "model_module_version": "1.5.0",
      "model_name": "FloatProgressModel",
      "state": {
       "bar_style": "success",
       "layout": "IPY_MODEL_1177614c59824dae96f19325184eea55",
       "max": 250,
       "style": "IPY_MODEL_f8e76ad75de94507b2d927a3b905c26e",
       "value": 250
      }
     },
     "3b1e16a7177a403f938d024e675c0e6e": {
      "model_module": "@jupyter-widgets/controls",
      "model_module_version": "1.5.0",
      "model_name": "HBoxModel",
      "state": {
       "children": [
        "IPY_MODEL_8681aafa9ae14cc0b71457960a00f91b",
        "IPY_MODEL_ee309959db034e81929a263c9863f444"
       ],
       "layout": "IPY_MODEL_5fae92fbec6846aaaa50e1032ecb6e68"
      }
     },
     "3b5d0285e48245e9a2e99f0295cbf1ce": {
      "model_module": "@jupyter-widgets/base",
      "model_module_version": "1.2.0",
      "model_name": "LayoutModel",
      "state": {}
     },
     "3b919e7a05424b84b78742d289e4860d": {
      "model_module": "@jupyter-widgets/base",
      "model_module_version": "1.2.0",
      "model_name": "LayoutModel",
      "state": {}
     },
     "3cb0e200d037462e906248dd9bbec13b": {
      "model_module": "@jupyter-widgets/controls",
      "model_module_version": "1.5.0",
      "model_name": "ProgressStyleModel",
      "state": {
       "description_width": "initial"
      }
     },
     "3ce9a3a9974e432c9bdca5c91bc2b0ec": {
      "model_module": "@jupyter-widgets/controls",
      "model_module_version": "1.5.0",
      "model_name": "ProgressStyleModel",
      "state": {
       "description_width": "initial"
      }
     },
     "3d35d6c230764319b4098894a3dac49e": {
      "model_module": "@jupyter-widgets/base",
      "model_module_version": "1.2.0",
      "model_name": "LayoutModel",
      "state": {}
     },
     "3d51109de8404d01b93be8db14d16172": {
      "model_module": "@jupyter-widgets/base",
      "model_module_version": "1.2.0",
      "model_name": "LayoutModel",
      "state": {}
     },
     "3d5c198838bc43ce997f6f335cb35047": {
      "model_module": "@jupyter-widgets/controls",
      "model_module_version": "1.5.0",
      "model_name": "HBoxModel",
      "state": {
       "children": [
        "IPY_MODEL_844add067bd245bea6f60e294f79f2df",
        "IPY_MODEL_54b3b5742ce145d894d900c53d65c639"
       ],
       "layout": "IPY_MODEL_40bf4326856049b0be6e9783acf48c5a"
      }
     },
     "3d66ee227eeb4b8b8c77a821e91f5a16": {
      "model_module": "@jupyter-widgets/controls",
      "model_module_version": "1.5.0",
      "model_name": "HTMLModel",
      "state": {
       "layout": "IPY_MODEL_094bad7dc14542a6ba69d07b45ceaffa",
       "style": "IPY_MODEL_c26a5d3bde5f43639259d7cc788437db",
       "value": " 100/100 [00:00&lt;00:00, 380.95it/s]"
      }
     },
     "3e6f69ea93c843caa8d63a65b132cbea": {
      "model_module": "@jupyter-widgets/controls",
      "model_module_version": "1.5.0",
      "model_name": "HBoxModel",
      "state": {
       "children": [
        "IPY_MODEL_4d8e9791df704043aa0527a8538f7675",
        "IPY_MODEL_0d0e8180f8f145798914c9022f550a14",
        "IPY_MODEL_b3264de47b224173b230089fc599d5ac"
       ],
       "layout": "IPY_MODEL_d399bd2369cf44faa80bbf1838e04f55"
      }
     },
     "3ef9761f0e194e8cb4884567c828c918": {
      "model_module": "@jupyter-widgets/controls",
      "model_module_version": "1.5.0",
      "model_name": "ProgressStyleModel",
      "state": {
       "description_width": ""
      }
     },
     "3f31b10ae7ee4767be23d33924231069": {
      "model_module": "@jupyter-widgets/base",
      "model_module_version": "1.2.0",
      "model_name": "LayoutModel",
      "state": {}
     },
     "3f67c7f5043c434694ed06464c13c346": {
      "model_module": "@jupyter-widgets/controls",
      "model_module_version": "1.5.0",
      "model_name": "FloatProgressModel",
      "state": {
       "bar_style": "success",
       "description": "Calculating control matrix: 100%",
       "layout": "IPY_MODEL_010bf16f80ef4c06b108641afeb833b9",
       "style": "IPY_MODEL_ca00bb03fd8c40ae963ce20d9cbfcd28",
       "value": 100
      }
     },
     "3fc263341c704421a200a32e87f392e0": {
      "model_module": "@jupyter-widgets/controls",
      "model_module_version": "1.5.0",
      "model_name": "ProgressStyleModel",
      "state": {
       "description_width": ""
      }
     },
     "40101171c9684ce193ecf2fab0a0a793": {
      "model_module": "@jupyter-widgets/controls",
      "model_module_version": "1.5.0",
      "model_name": "HBoxModel",
      "state": {
       "children": [
        "IPY_MODEL_cfc3359738e84081a4c79ff1d4e223f7",
        "IPY_MODEL_fb020e66422a48a991ed391e98df7bc1",
        "IPY_MODEL_dd4837efa82e412cb8a9ff734900ca94"
       ],
       "layout": "IPY_MODEL_42a08e7e76b14bec96733d7d4b5b7cc7"
      }
     },
     "40321705ee6e4bb4bc7c2ec0d6304b39": {
      "model_module": "@jupyter-widgets/controls",
      "model_module_version": "1.5.0",
      "model_name": "HTMLModel",
      "state": {
       "layout": "IPY_MODEL_a3e58be2e6ff464486979ab77532ddf4",
       "style": "IPY_MODEL_4e84183cdda141678421d9f21fa090c2",
       "value": " 100/100 [00:00&lt;00:00, 273.81it/s]"
      }
     },
     "40691132006548f9a8d6ac44a09c82a2": {
      "model_module": "@jupyter-widgets/controls",
      "model_module_version": "1.5.0",
      "model_name": "HTMLModel",
      "state": {
       "layout": "IPY_MODEL_a7e5ee9750d54f088403f522ca214ba3",
       "style": "IPY_MODEL_e6deabb3392040c282c712aefc0e08d8",
       "value": " 250/250 [00:00&lt;00:00, 343.84it/s]"
      }
     },
     "40bf4326856049b0be6e9783acf48c5a": {
      "model_module": "@jupyter-widgets/base",
      "model_module_version": "1.2.0",
      "model_name": "LayoutModel",
      "state": {}
     },
     "4174380b1046471aa5aae8edbfcfb60b": {
      "model_module": "@jupyter-widgets/controls",
      "model_module_version": "1.5.0",
      "model_name": "HBoxModel",
      "state": {
       "children": [
        "IPY_MODEL_4b4098799c164f818351a2e316ea7f9b",
        "IPY_MODEL_998508aab87245e9b117527dc9eb6e5d"
       ],
       "layout": "IPY_MODEL_a757590ac14042149b0f0a3a653e0a23"
      }
     },
     "4183d6129a4a4bb3a2b0cde8dfa5638d": {
      "model_module": "@jupyter-widgets/controls",
      "model_module_version": "1.5.0",
      "model_name": "DescriptionStyleModel",
      "state": {
       "description_width": ""
      }
     },
     "42a08e7e76b14bec96733d7d4b5b7cc7": {
      "model_module": "@jupyter-widgets/base",
      "model_module_version": "1.2.0",
      "model_name": "LayoutModel",
      "state": {}
     },
     "4370129749044d4b9e81eaeb3d42a5ea": {
      "model_module": "@jupyter-widgets/controls",
      "model_module_version": "1.5.0",
      "model_name": "DescriptionStyleModel",
      "state": {
       "description_width": ""
      }
     },
     "43e5127902eb4958937d0371487689b4": {
      "model_module": "@jupyter-widgets/base",
      "model_module_version": "1.2.0",
      "model_name": "LayoutModel",
      "state": {}
     },
     "45601dc7b3a24e9a8f50d09241630e6a": {
      "model_module": "@jupyter-widgets/controls",
      "model_module_version": "1.5.0",
      "model_name": "DescriptionStyleModel",
      "state": {
       "description_width": ""
      }
     },
     "45700ddd578d44e581a13b2612b26f92": {
      "model_module": "@jupyter-widgets/controls",
      "model_module_version": "1.5.0",
      "model_name": "DescriptionStyleModel",
      "state": {
       "description_width": ""
      }
     },
     "46099b9fe32047feafe5e68e887e5ec4": {
      "model_module": "@jupyter-widgets/base",
      "model_module_version": "1.2.0",
      "model_name": "LayoutModel",
      "state": {}
     },
     "464ab3ea5cc742ce9a133efd41371656": {
      "model_module": "@jupyter-widgets/base",
      "model_module_version": "1.2.0",
      "model_name": "LayoutModel",
      "state": {}
     },
     "4655a9b9c6104dbf85a486a272ccbe4d": {
      "model_module": "@jupyter-widgets/base",
      "model_module_version": "1.2.0",
      "model_name": "LayoutModel",
      "state": {}
     },
     "467378e70c1a47599a6311f87491c8af": {
      "model_module": "@jupyter-widgets/controls",
      "model_module_version": "1.5.0",
      "model_name": "HBoxModel",
      "state": {
       "children": [
        "IPY_MODEL_a6309be279874682ba5fbddf508cd50f",
        "IPY_MODEL_761b9e9b347345b0b1f823c1f043c040"
       ],
       "layout": "IPY_MODEL_eee129c3d29543fea0216f612b116ee7"
      }
     },
     "46abaf200ef24298acced526eadf8965": {
      "model_module": "@jupyter-widgets/controls",
      "model_module_version": "1.5.0",
      "model_name": "ProgressStyleModel",
      "state": {
       "description_width": ""
      }
     },
     "472fea1d3efd4dd0bceb8df02e42577d": {
      "model_module": "@jupyter-widgets/controls",
      "model_module_version": "1.5.0",
      "model_name": "DescriptionStyleModel",
      "state": {
       "description_width": ""
      }
     },
     "47e317cd69614c74bbbb936f7aff5437": {
      "model_module": "@jupyter-widgets/base",
      "model_module_version": "1.2.0",
      "model_name": "LayoutModel",
      "state": {}
     },
     "47f25fc200d24f068ecd6fe495d5df5c": {
      "model_module": "@jupyter-widgets/base",
      "model_module_version": "1.2.0",
      "model_name": "LayoutModel",
      "state": {}
     },
     "49c4727113ba471581e203c36704e746": {
      "model_module": "@jupyter-widgets/base",
      "model_module_version": "1.2.0",
      "model_name": "LayoutModel",
      "state": {}
     },
     "4a3f1f8ef2554d4da53859e07fe8af9b": {
      "model_module": "@jupyter-widgets/base",
      "model_module_version": "1.2.0",
      "model_name": "LayoutModel",
      "state": {}
     },
     "4a475b93426d43cfaef83cc1cea3ce8a": {
      "model_module": "@jupyter-widgets/base",
      "model_module_version": "1.2.0",
      "model_name": "LayoutModel",
      "state": {}
     },
     "4ac7b1d733944f24afee82fdb390b9d3": {
      "model_module": "@jupyter-widgets/controls",
      "model_module_version": "1.5.0",
      "model_name": "HTMLModel",
      "state": {
       "layout": "IPY_MODEL_963aed27165b4dc2b70ede9b69730d59",
       "style": "IPY_MODEL_1231fa2a4dbf45a58f2d7119f2f2ff37",
       "value": " 250/250 [00:00&lt;00:00, 418.72it/s]"
      }
     },
     "4accb4a202004de1bb9d750d430fec12": {
      "model_module": "@jupyter-widgets/controls",
      "model_module_version": "1.5.0",
      "model_name": "ProgressStyleModel",
      "state": {
       "description_width": ""
      }
     },
     "4b0155e484d844d5a1e62c82bdbef543": {
      "model_module": "@jupyter-widgets/controls",
      "model_module_version": "1.5.0",
      "model_name": "DescriptionStyleModel",
      "state": {
       "description_width": ""
      }
     },
     "4b4098799c164f818351a2e316ea7f9b": {
      "model_module": "@jupyter-widgets/controls",
      "model_module_version": "1.5.0",
      "model_name": "FloatProgressModel",
      "state": {
       "bar_style": "success",
       "description": "Calculating control matrix: 100%",
       "layout": "IPY_MODEL_d50164f16b244052af6a16528da700ec",
       "style": "IPY_MODEL_8b9bb33ae0a04f609f7ee6b12afc45e5",
       "value": 100
      }
     },
     "4b4b017086af4f50a7b1cca19e109105": {
      "model_module": "@jupyter-widgets/controls",
      "model_module_version": "1.5.0",
      "model_name": "DescriptionStyleModel",
      "state": {
       "description_width": ""
      }
     },
     "4bd089d7e70c445ca81eb24748c05d18": {
      "model_module": "@jupyter-widgets/controls",
      "model_module_version": "1.5.0",
      "model_name": "HTMLModel",
      "state": {
       "layout": "IPY_MODEL_94d292c3367042009183a78dcbd506c2",
       "value": "Calculating second order FF: 100%"
      }
     },
     "4bdc9956a40a432392e727f37c5755fc": {
      "model_module": "@jupyter-widgets/base",
      "model_module_version": "1.2.0",
      "model_name": "LayoutModel",
      "state": {}
     },
     "4beea64560f7486187447f7abfb691e5": {
      "model_module": "@jupyter-widgets/controls",
      "model_module_version": "1.5.0",
      "model_name": "DescriptionStyleModel",
      "state": {
       "description_width": ""
      }
     },
     "4d50b1a6eafd402489a5da8582282367": {
      "model_module": "@jupyter-widgets/base",
      "model_module_version": "1.2.0",
      "model_name": "LayoutModel",
      "state": {}
     },
     "4d8e9791df704043aa0527a8538f7675": {
      "model_module": "@jupyter-widgets/controls",
      "model_module_version": "1.5.0",
      "model_name": "HTMLModel",
      "state": {
       "layout": "IPY_MODEL_43e5127902eb4958937d0371487689b4",
       "style": "IPY_MODEL_7a4eaf3315454ca1afc4f518dd19b706",
       "value": "Calculating control matrix: 100%"
      }
     },
     "4e375f1a48054d95961e4dd1a7cacdc0": {
      "model_module": "@jupyter-widgets/base",
      "model_module_version": "1.2.0",
      "model_name": "LayoutModel",
      "state": {}
     },
     "4e84183cdda141678421d9f21fa090c2": {
      "model_module": "@jupyter-widgets/controls",
      "model_module_version": "1.5.0",
      "model_name": "DescriptionStyleModel",
      "state": {
       "description_width": ""
      }
     },
     "4ecca4c819004f9cabf128bb67904abe": {
      "model_module": "@jupyter-widgets/controls",
      "model_module_version": "1.5.0",
      "model_name": "DescriptionStyleModel",
      "state": {
       "description_width": ""
      }
     },
     "4f1249a6420944c1a50918acce9150da": {
      "model_module": "@jupyter-widgets/controls",
      "model_module_version": "1.5.0",
      "model_name": "ProgressStyleModel",
      "state": {
       "description_width": "initial"
      }
     },
     "4f21729196774af89bd075ba8f578dff": {
      "model_module": "@jupyter-widgets/controls",
      "model_module_version": "1.5.0",
      "model_name": "DescriptionStyleModel",
      "state": {
       "description_width": ""
      }
     },
     "4f4e3c7e60eb4ffd95f57af6b134a44b": {
      "model_module": "@jupyter-widgets/base",
      "model_module_version": "1.2.0",
      "model_name": "LayoutModel",
      "state": {}
     },
     "4f53e78928944596ae655bb7601be04c": {
      "model_module": "@jupyter-widgets/base",
      "model_module_version": "1.2.0",
      "model_name": "LayoutModel",
      "state": {}
     },
     "4f605084e3144caf990cdc1407cdaa99": {
      "model_module": "@jupyter-widgets/controls",
      "model_module_version": "1.5.0",
      "model_name": "HTMLModel",
      "state": {
       "layout": "IPY_MODEL_5a92d63f784e42138206b61fafbfe325",
       "style": "IPY_MODEL_8e018b64550840318ccda9016befbd1c",
       "value": "Calculating control matrix: 100%"
      }
     },
     "50130b58226346b8b3502f2038991ac0": {
      "model_module": "@jupyter-widgets/controls",
      "model_module_version": "1.5.0",
      "model_name": "HBoxModel",
      "state": {
       "children": [
        "IPY_MODEL_bbe821e812e54f7c813e7898ac7f8b80",
        "IPY_MODEL_edbd3b05bbdc493090132eef01ede114",
        "IPY_MODEL_00ce31bc79c34dcd9a75f019e8f06b8b"
       ],
       "layout": "IPY_MODEL_d61726aaf7f440a1ab09a1bfeafeefe6"
      }
     },
     "504df4491dfe4de9a6f0cb6a83c4acdd": {
      "model_module": "@jupyter-widgets/base",
      "model_module_version": "1.2.0",
      "model_name": "LayoutModel",
      "state": {}
     },
     "50d671f2a8624ab0a94e7ee1adabdf35": {
      "model_module": "@jupyter-widgets/controls",
      "model_module_version": "1.5.0",
      "model_name": "FloatProgressModel",
      "state": {
       "bar_style": "success",
       "layout": "IPY_MODEL_c321c6bcc3b248feb7e8ed585c213e53",
       "max": 250,
       "style": "IPY_MODEL_acd60aa990f748bbb080ed9baccd3311",
       "value": 250
      }
     },
     "5135fbf9aac642e6bafbd64bd2bf3f43": {
      "model_module": "@jupyter-widgets/base",
      "model_module_version": "1.2.0",
      "model_name": "LayoutModel",
      "state": {}
     },
     "515749e2b24046db8cff3aa6cbf14d65": {
      "model_module": "@jupyter-widgets/controls",
      "model_module_version": "1.5.0",
      "model_name": "DescriptionStyleModel",
      "state": {
       "description_width": ""
      }
     },
     "51668696af73439180375526aaa5f650": {
      "model_module": "@jupyter-widgets/base",
      "model_module_version": "1.2.0",
      "model_name": "LayoutModel",
      "state": {}
     },
     "52235c7dc56e4758be2d939600c8453a": {
      "model_module": "@jupyter-widgets/base",
      "model_module_version": "1.2.0",
      "model_name": "LayoutModel",
      "state": {}
     },
     "526137c22edc41a2940931960824ac54": {
      "model_module": "@jupyter-widgets/controls",
      "model_module_version": "1.5.0",
      "model_name": "DescriptionStyleModel",
      "state": {
       "description_width": ""
      }
     },
     "5322e98213904a88a03b058f07769860": {
      "model_module": "@jupyter-widgets/controls",
      "model_module_version": "1.5.0",
      "model_name": "FloatProgressModel",
      "state": {
       "bar_style": "success",
       "layout": "IPY_MODEL_dae77b22e1b943328e86c19b9cff1356",
       "style": "IPY_MODEL_3ef9761f0e194e8cb4884567c828c918",
       "value": 100
      }
     },
     "53b534c64fd14a39a46ed8342c6693d4": {
      "model_module": "@jupyter-widgets/controls",
      "model_module_version": "1.5.0",
      "model_name": "HTMLModel",
      "state": {
       "layout": "IPY_MODEL_1bd42690bd5f4e3096231fc11e00986e",
       "style": "IPY_MODEL_4370129749044d4b9e81eaeb3d42a5ea",
       "value": " 250/250 [00:01&lt;00:00, 169.96it/s]"
      }
     },
     "5478d29ec7fd4fe2a5f99b2ea6c8752a": {
      "model_module": "@jupyter-widgets/controls",
      "model_module_version": "1.5.0",
      "model_name": "HTMLModel",
      "state": {
       "layout": "IPY_MODEL_20925ed47e794e8c9e4969bf34e60037",
       "style": "IPY_MODEL_b833b7f847cc4933874817fb426bc0fe",
       "value": " 100/100 [00:01&lt;00:00, 89.85it/s]"
      }
     },
     "54b3b5742ce145d894d900c53d65c639": {
      "model_module": "@jupyter-widgets/controls",
      "model_module_version": "1.5.0",
      "model_name": "HTMLModel",
      "state": {
       "layout": "IPY_MODEL_648278ee8bb24cc4a723f373116f5f41",
       "style": "IPY_MODEL_567c15a390b840e8bb1a216323040d30",
       "value": " 250/250 [00:01&lt;00:00, 171.06it/s]"
      }
     },
     "55437d3bdde3437d893021c7fe0ccbd6": {
      "model_module": "@jupyter-widgets/controls",
      "model_module_version": "1.5.0",
      "model_name": "HTMLModel",
      "state": {
       "layout": "IPY_MODEL_0f630858067c457b93d35717403f98a7",
       "style": "IPY_MODEL_f5e08944a82f49a58fe64ee18d8de852",
       "value": "Calculating control matrix: 100%"
      }
     },
     "55d471e9c2d24f70a3b5bb69632621b4": {
      "model_module": "@jupyter-widgets/controls",
      "model_module_version": "1.5.0",
      "model_name": "HBoxModel",
      "state": {
       "children": [
        "IPY_MODEL_71168f1d634b42428334a41aa2911d82",
        null,
        "IPY_MODEL_c66106f8bf1d4899ba07a247857ba158"
       ],
       "layout": "IPY_MODEL_a80d58b901b64bbf89195764269b534d"
      }
     },
     "567c15a390b840e8bb1a216323040d30": {
      "model_module": "@jupyter-widgets/controls",
      "model_module_version": "1.5.0",
      "model_name": "DescriptionStyleModel",
      "state": {
       "description_width": ""
      }
     },
     "57777a8c741f4a208eda0778acac8690": {
      "model_module": "@jupyter-widgets/controls",
      "model_module_version": "1.5.0",
      "model_name": "DescriptionStyleModel",
      "state": {
       "description_width": ""
      }
     },
     "57a5aaeb9cd342e5a6e202e668de2652": {
      "model_module": "@jupyter-widgets/controls",
      "model_module_version": "1.5.0",
      "model_name": "ProgressStyleModel",
      "state": {
       "description_width": ""
      }
     },
     "584af686f2ea4020ba0479d8ecfbaa7a": {
      "model_module": "@jupyter-widgets/controls",
      "model_module_version": "1.5.0",
      "model_name": "HTMLModel",
      "state": {
       "layout": "IPY_MODEL_cd3e5da805054b53acb03a63b2347744",
       "style": "IPY_MODEL_993a1cc1ebaf485399c89e2c61c60e7f",
       "value": "Calculating control matrix: 100%"
      }
     },
     "58c3a2aee3c0438688bfe14be3b662d4": {
      "model_module": "@jupyter-widgets/base",
      "model_module_version": "1.2.0",
      "model_name": "LayoutModel",
      "state": {}
     },
     "5929ff5c99f5460bb21a9b0117c5df08": {
      "model_module": "@jupyter-widgets/controls",
      "model_module_version": "1.5.0",
      "model_name": "DescriptionStyleModel",
      "state": {
       "description_width": ""
      }
     },
     "5a64cf9283714b3ebf0757d791bbe1f2": {
      "model_module": "@jupyter-widgets/controls",
      "model_module_version": "1.5.0",
      "model_name": "HTMLModel",
      "state": {
       "layout": "IPY_MODEL_b2d9909392b340469c5bcb557faff817",
       "style": "IPY_MODEL_4f21729196774af89bd075ba8f578dff",
       "value": " 100/100 [00:00&lt;00:00, 234.47it/s]"
      }
     },
     "5a92d63f784e42138206b61fafbfe325": {
      "model_module": "@jupyter-widgets/base",
      "model_module_version": "1.2.0",
      "model_name": "LayoutModel",
      "state": {}
     },
     "5bd6e045b18c47c3aaa288fe49e53f7a": {
      "model_module": "@jupyter-widgets/controls",
      "model_module_version": "1.5.0",
      "model_name": "FloatProgressModel",
      "state": {
       "bar_style": "success",
       "layout": "IPY_MODEL_1a967f69efc249739765394ff67ebdf4",
       "max": 250,
       "style": "IPY_MODEL_1ec8b333d4d24cb9bec2ba9850dc7eeb",
       "value": 250
      }
     },
     "5d4dcb3a79a44f69bcb349cb68020eda": {
      "model_module": "@jupyter-widgets/controls",
      "model_module_version": "1.5.0",
      "model_name": "HBoxModel",
      "state": {
       "children": [
        "IPY_MODEL_584af686f2ea4020ba0479d8ecfbaa7a",
        "IPY_MODEL_e073898a0d0148bbbb4f4d021e2465a3",
        "IPY_MODEL_38990ca6abf145d8bd0d165f72e517e9"
       ],
       "layout": "IPY_MODEL_db04f726b4d7450b8403b626d365a70d"
      }
     },
     "5d76382b204547ac9fc0f216a1f7af78": {
      "model_module": "@jupyter-widgets/controls",
      "model_module_version": "1.5.0",
      "model_name": "HTMLModel",
      "state": {
       "layout": "IPY_MODEL_5ef4f3b928494617a0b5cf7cd52ebff5",
       "style": "IPY_MODEL_0bdcdf35d9cf47bf94b307ab9a0542a4",
       "value": " 250/250 [00:00&lt;00:00, 596.35it/s]"
      }
     },
     "5db43feb22444799a5bec017b949fa67": {
      "model_module": "@jupyter-widgets/controls",
      "model_module_version": "1.5.0",
      "model_name": "HBoxModel",
      "state": {
       "children": [
        "IPY_MODEL_3f67c7f5043c434694ed06464c13c346",
        "IPY_MODEL_bf4a3cf7848743d495263ed148aea7d0"
       ],
       "layout": "IPY_MODEL_5dcd317c60484dd1b6438a9ebad4ecb4"
      }
     },
     "5dcd317c60484dd1b6438a9ebad4ecb4": {
      "model_module": "@jupyter-widgets/base",
      "model_module_version": "1.2.0",
      "model_name": "LayoutModel",
      "state": {}
     },
     "5dde22886c46410bbd7910278dcdda97": {
      "model_module": "@jupyter-widgets/base",
      "model_module_version": "1.2.0",
      "model_name": "LayoutModel",
      "state": {}
     },
     "5e7f1a0b62814e24bd16f80ade80fd6b": {
      "model_module": "@jupyter-widgets/base",
      "model_module_version": "1.2.0",
      "model_name": "LayoutModel",
      "state": {}
     },
     "5ef4f3b928494617a0b5cf7cd52ebff5": {
      "model_module": "@jupyter-widgets/base",
      "model_module_version": "1.2.0",
      "model_name": "LayoutModel",
      "state": {}
     },
     "5fae92fbec6846aaaa50e1032ecb6e68": {
      "model_module": "@jupyter-widgets/base",
      "model_module_version": "1.2.0",
      "model_name": "LayoutModel",
      "state": {}
     },
     "5fe50ad3f3a24c5980ecdc445e8e5a4d": {
      "model_module": "@jupyter-widgets/controls",
      "model_module_version": "1.5.0",
      "model_name": "FloatProgressModel",
      "state": {
       "bar_style": "success",
       "layout": "IPY_MODEL_0885eb96d0ff4667a5060daf2626e301",
       "style": "IPY_MODEL_7c9fd63ee97f4769966936f460b45b88",
       "value": 100
      }
     },
     "5ff59a9d5ca04c38aaf6dd6ea6854e13": {
      "model_module": "@jupyter-widgets/controls",
      "model_module_version": "1.5.0",
      "model_name": "ProgressStyleModel",
      "state": {
       "description_width": "initial"
      }
     },
     "604441e7a8bb4aef942929b609ac750c": {
      "model_module": "@jupyter-widgets/controls",
      "model_module_version": "1.5.0",
      "model_name": "HTMLModel",
      "state": {
       "layout": "IPY_MODEL_35ecf0ded1d748a5902529826e7f9a05",
       "style": "IPY_MODEL_2c266e88021c4e8d87bc87dbdac1352c",
       "value": " 250/250 [00:02&lt;00:00, 114.72it/s]"
      }
     },
     "6132a7c8cbe74a1396a5dc8984b0ad91": {
      "model_module": "@jupyter-widgets/controls",
      "model_module_version": "1.5.0",
      "model_name": "FloatProgressModel",
      "state": {
       "bar_style": "success",
       "description": "Calculating control matrix: 100%",
       "layout": "IPY_MODEL_92482891be7547ac9176c72d94352566",
       "style": "IPY_MODEL_29e2773ab7264effacaf653e45573088",
       "value": 100
      }
     },
     "615b83b8f71d46c98c60a888aa8ade30": {
      "model_module": "@jupyter-widgets/controls",
      "model_module_version": "1.5.0",
      "model_name": "DescriptionStyleModel",
      "state": {
       "description_width": ""
      }
     },
     "6186a2af70044506ae119e0fea7e9e76": {
      "model_module": "@jupyter-widgets/controls",
      "model_module_version": "1.5.0",
      "model_name": "HTMLModel",
      "state": {
       "layout": "IPY_MODEL_a2b08f024e77437cad2a81300488bd40",
       "style": "IPY_MODEL_1e43dff0f386444486e72f9f0143c03f",
       "value": " 250/250 [00:01&lt;00:00, 235.04it/s]"
      }
     },
     "61c92e4ea71645e6944c516a4d12f471": {
      "model_module": "@jupyter-widgets/controls",
      "model_module_version": "1.5.0",
      "model_name": "HBoxModel",
      "state": {
       "children": [
        "IPY_MODEL_29f04c565993483ca13827c4260a4509",
        "IPY_MODEL_0825621abaab406a97b5f6c8ec30f8ca",
        "IPY_MODEL_8e17e87bcc1741618de6452d0241cc49"
       ],
       "layout": "IPY_MODEL_6eb47de15dc740d3b06aa15a92ac6166"
      }
     },
     "6380530639cb400494884ff508100683": {
      "model_module": "@jupyter-widgets/controls",
      "model_module_version": "1.5.0",
      "model_name": "ProgressStyleModel",
      "state": {
       "description_width": ""
      }
     },
     "63d9bcdec28d45b29fb9276841c871c4": {
      "model_module": "@jupyter-widgets/controls",
      "model_module_version": "1.5.0",
      "model_name": "HTMLModel",
      "state": {
       "layout": "IPY_MODEL_05c1563e35bd4d31aea2675ee3d0e6eb",
       "style": "IPY_MODEL_526137c22edc41a2940931960824ac54",
       "value": "Calculating control matrix: 100%"
      }
     },
     "648278ee8bb24cc4a723f373116f5f41": {
      "model_module": "@jupyter-widgets/base",
      "model_module_version": "1.2.0",
      "model_name": "LayoutModel",
      "state": {}
     },
     "649fe0bb25784500a0d104e0abdf0eed": {
      "model_module": "@jupyter-widgets/controls",
      "model_module_version": "1.5.0",
      "model_name": "HTMLModel",
      "state": {
       "layout": "IPY_MODEL_9392f45f1f1b435c841e50189285f354",
       "value": "Calculating second order FF: 100%"
      }
     },
     "658e20571ee14aa7a143f9d98d834d66": {
      "model_module": "@jupyter-widgets/controls",
      "model_module_version": "1.5.0",
      "model_name": "HBoxModel",
      "state": {
       "children": [
        "IPY_MODEL_ca67935220a045eaa0b8a823d1aede6e",
        "IPY_MODEL_604441e7a8bb4aef942929b609ac750c"
       ],
       "layout": "IPY_MODEL_a9f7ad488d744028aac8e5b03f1c4f3d"
      }
     },
     "663e694e59ab4b76a2731b41bab7bcc6": {
      "model_module": "@jupyter-widgets/base",
      "model_module_version": "1.2.0",
      "model_name": "LayoutModel",
      "state": {}
     },
     "6658b7b5e6004e6ca781f0c32a38c561": {
      "model_module": "@jupyter-widgets/controls",
      "model_module_version": "1.5.0",
      "model_name": "HTMLModel",
      "state": {
       "layout": "IPY_MODEL_7e7c9dffe4294000b470fda9bef54417",
       "style": "IPY_MODEL_c31cbba52a3441b3aea975f7e7b6d5ef",
       "value": " 100/100 [00:00&lt;00:00, 251.42it/s]"
      }
     },
     "66adc482cd7747d985402635ee208d4e": {
      "model_module": "@jupyter-widgets/base",
      "model_module_version": "1.2.0",
      "model_name": "LayoutModel",
      "state": {}
     },
     "66bf1627766e4e8c9ff273d157061b97": {
      "model_module": "@jupyter-widgets/base",
      "model_module_version": "1.2.0",
      "model_name": "LayoutModel",
      "state": {}
     },
     "6712341e92fd4eca96190e51d2b47479": {
      "model_module": "@jupyter-widgets/base",
      "model_module_version": "1.2.0",
      "model_name": "LayoutModel",
      "state": {}
     },
     "6788ec4fe6e74d68ac3c91360422384e": {
      "model_module": "@jupyter-widgets/controls",
      "model_module_version": "1.5.0",
      "model_name": "HBoxModel",
      "state": {
       "children": [
        null,
        null,
        "IPY_MODEL_f3019291f347489ab0a4336ee1ce9cbb"
       ]
      }
     },
     "67f96117df3848e6b580ced07d127057": {
      "model_module": "@jupyter-widgets/base",
      "model_module_version": "1.2.0",
      "model_name": "LayoutModel",
      "state": {}
     },
     "6958f608332549af90f991ed8da8d670": {
      "model_module": "@jupyter-widgets/controls",
      "model_module_version": "1.5.0",
      "model_name": "DescriptionStyleModel",
      "state": {
       "description_width": ""
      }
     },
     "69a4f50e729f4f39b950e93b56effa9e": {
      "model_module": "@jupyter-widgets/controls",
      "model_module_version": "1.5.0",
      "model_name": "HTMLModel",
      "state": {
       "layout": "IPY_MODEL_58c3a2aee3c0438688bfe14be3b662d4",
       "style": "IPY_MODEL_e6419211aba0471d8401b705ecc233ba",
       "value": " 250/250 [02:15&lt;00:00,  1.78it/s]"
      }
     },
     "6a2ca028b76b4f71905dd65c67edc9c1": {
      "model_module": "@jupyter-widgets/controls",
      "model_module_version": "1.5.0",
      "model_name": "ProgressStyleModel",
      "state": {
       "description_width": ""
      }
     },
     "6ab6e043b81544688d5fda8b566606d1": {
      "model_module": "@jupyter-widgets/controls",
      "model_module_version": "1.5.0",
      "model_name": "DescriptionStyleModel",
      "state": {
       "description_width": ""
      }
     },
     "6b201dac30774cd8b2df6c2272e57227": {
      "model_module": "@jupyter-widgets/controls",
      "model_module_version": "1.5.0",
      "model_name": "DescriptionStyleModel",
      "state": {
       "description_width": ""
      }
     },
     "6b4a474cb5074010aebb212826254f53": {
      "model_module": "@jupyter-widgets/base",
      "model_module_version": "1.2.0",
      "model_name": "LayoutModel",
      "state": {}
     },
     "6b5f000e2656451d9637725bc72174cc": {
      "model_module": "@jupyter-widgets/controls",
      "model_module_version": "1.5.0",
      "model_name": "ProgressStyleModel",
      "state": {
       "description_width": ""
      }
     },
     "6b8dafe839da4f70973849f12f7a243b": {
      "model_module": "@jupyter-widgets/base",
      "model_module_version": "1.2.0",
      "model_name": "LayoutModel",
      "state": {}
     },
     "6c08d70a1ec949e6818e74945aa318cf": {
      "model_module": "@jupyter-widgets/controls",
      "model_module_version": "1.5.0",
      "model_name": "ProgressStyleModel",
      "state": {
       "description_width": ""
      }
     },
     "6cc4fb75420c40b2b74bbe140cd668b2": {
      "model_module": "@jupyter-widgets/base",
      "model_module_version": "1.2.0",
      "model_name": "LayoutModel",
      "state": {}
     },
     "6cfe368e29694683838250dca0245ae7": {
      "model_module": "@jupyter-widgets/controls",
      "model_module_version": "1.5.0",
      "model_name": "ProgressStyleModel",
      "state": {
       "description_width": ""
      }
     },
     "6d78511c6549428ca1a53a47357154b4": {
      "model_module": "@jupyter-widgets/controls",
      "model_module_version": "1.5.0",
      "model_name": "HBoxModel",
      "state": {
       "children": [
        "IPY_MODEL_270df0005a05473097bc9ef302547bd7",
        "IPY_MODEL_eb2ca4e4eabc49e5bec6d877ff0f6aa1"
       ],
       "layout": "IPY_MODEL_d7a767083a254490afd09ce8a1a0a3cd"
      }
     },
     "6dcab4f9512449d3a559634b46eab66e": {
      "model_module": "@jupyter-widgets/controls",
      "model_module_version": "1.5.0",
      "model_name": "HTMLModel",
      "state": {
       "layout": "IPY_MODEL_bee3bfb534f44c4cb36b76fb431aff78",
       "style": "IPY_MODEL_c798f23cda604a46ae01ec410a94e6a4",
       "value": " 100/100 [00:00&lt;00:00, 153.14it/s]"
      }
     },
     "6e1d0256e49c48bf9ad5e3b96650affb": {
      "model_module": "@jupyter-widgets/controls",
      "model_module_version": "1.5.0",
      "model_name": "HBoxModel",
      "state": {
       "children": [
        "IPY_MODEL_e7a2dbafa4034b27a80a70938b8116fe",
        "IPY_MODEL_34f359cc0e824f31b85bddfd2cfe79c6",
        "IPY_MODEL_c74604a1362d47c1aa834e2ccd82fd7e"
       ],
       "layout": "IPY_MODEL_c7e4aa8fdaf44cd5bb7201f25d8d94e7"
      }
     },
     "6e56dae183e445b383345a979943d7b5": {
      "model_module": "@jupyter-widgets/base",
      "model_module_version": "1.2.0",
      "model_name": "LayoutModel",
      "state": {}
     },
     "6e750e9fbb9b43eb9521bec72679df49": {
      "model_module": "@jupyter-widgets/controls",
      "model_module_version": "1.5.0",
      "model_name": "FloatProgressModel",
      "state": {
       "bar_style": "success",
       "description": "Calculating control matrix: 100%",
       "layout": "IPY_MODEL_c19e5d8b85b2421393ed4e51e45e746a",
       "style": "IPY_MODEL_f29f4e64a3c240bfb9407ada724f8945",
       "value": 100
      }
     },
     "6e835bd595f24bb1869f4e5a64be4edd": {
      "model_module": "@jupyter-widgets/base",
      "model_module_version": "1.2.0",
      "model_name": "LayoutModel",
      "state": {}
     },
     "6eb47de15dc740d3b06aa15a92ac6166": {
      "model_module": "@jupyter-widgets/base",
      "model_module_version": "1.2.0",
      "model_name": "LayoutModel",
      "state": {}
     },
     "6ecd2d19ff494fc5936b0cc8e526b980": {
      "model_module": "@jupyter-widgets/controls",
      "model_module_version": "1.5.0",
      "model_name": "HTMLModel",
      "state": {
       "layout": "IPY_MODEL_86cb11835e9d4881a097dcca04af1386",
       "value": " 100/100 [00:48&lt;00:00,  2.09it/s]"
      }
     },
     "6eee011b0316489a8a83b6954bf59692": {
      "model_module": "@jupyter-widgets/controls",
      "model_module_version": "1.5.0",
      "model_name": "HTMLModel",
      "state": {
       "layout": "IPY_MODEL_bce866c3594648248788881efe92a5cb",
       "style": "IPY_MODEL_ec4f4e8d26f04171b96e62b579c51724",
       "value": "Calculating second order FF: 100%"
      }
     },
     "6f200be46f2141f68779b0a8dbeefda4": {
      "model_module": "@jupyter-widgets/base",
      "model_module_version": "1.2.0",
      "model_name": "LayoutModel",
      "state": {}
     },
     "6fa2b1b81ea94f6ab09394d6cb551722": {
      "model_module": "@jupyter-widgets/controls",
      "model_module_version": "1.5.0",
      "model_name": "FloatProgressModel",
      "state": {
       "bar_style": "success",
       "description": "Calculating control matrix: 100%",
       "layout": "IPY_MODEL_ea53e40fa0ae470c944633c4fb807836",
       "style": "IPY_MODEL_782ed0337519414b892d6ac5f2cb6de7",
       "value": 100
      }
     },
     "700235b4b79644a2bbb71c4af0913559": {
      "model_module": "@jupyter-widgets/controls",
      "model_module_version": "1.5.0",
      "model_name": "ProgressStyleModel",
      "state": {
       "description_width": ""
      }
     },
     "700c2b3f5e7b48c1a3588e087ecf3e5e": {
      "model_module": "@jupyter-widgets/base",
      "model_module_version": "1.2.0",
      "model_name": "LayoutModel",
      "state": {}
     },
     "704acbe9e3484cf9913ec75296229b17": {
      "model_module": "@jupyter-widgets/base",
      "model_module_version": "1.2.0",
      "model_name": "LayoutModel",
      "state": {}
     },
     "706db4ca57b64990bf8984a91ea3fe9c": {
      "model_module": "@jupyter-widgets/controls",
      "model_module_version": "1.5.0",
      "model_name": "DescriptionStyleModel",
      "state": {
       "description_width": ""
      }
     },
     "71168f1d634b42428334a41aa2911d82": {
      "model_module": "@jupyter-widgets/controls",
      "model_module_version": "1.5.0",
      "model_name": "HTMLModel",
      "state": {
       "layout": "IPY_MODEL_ddfb4c6051da4663910413a90828edc2",
       "style": "IPY_MODEL_7389075f9b3443f3b5c4e706e35d5915",
       "value": "Calculating control matrix: 100%"
      }
     },
     "7165026565ae45ab977218c73869f84d": {
      "model_module": "@jupyter-widgets/base",
      "model_module_version": "1.2.0",
      "model_name": "LayoutModel",
      "state": {}
     },
     "71798a282f35446b9eba008883d20ff6": {
      "model_module": "@jupyter-widgets/controls",
      "model_module_version": "1.5.0",
      "model_name": "DescriptionStyleModel",
      "state": {
       "description_width": ""
      }
     },
     "7202b95253c44edbab209dc42dc20f2c": {
      "model_module": "@jupyter-widgets/base",
      "model_module_version": "1.2.0",
      "model_name": "LayoutModel",
      "state": {}
     },
     "7213e1b136db45cdb81d6f3811c62f48": {
      "model_module": "@jupyter-widgets/controls",
      "model_module_version": "1.5.0",
      "model_name": "HBoxModel",
      "state": {
       "children": [
        null,
        null,
        "IPY_MODEL_6ecd2d19ff494fc5936b0cc8e526b980"
       ]
      }
     },
     "723749bbdb20463db89002da0ba7fd92": {
      "model_module": "@jupyter-widgets/controls",
      "model_module_version": "1.5.0",
      "model_name": "FloatProgressModel",
      "state": {
       "bar_style": "success",
       "layout": "IPY_MODEL_6b4a474cb5074010aebb212826254f53",
       "max": 250,
       "style": "IPY_MODEL_6a2ca028b76b4f71905dd65c67edc9c1",
       "value": 250
      }
     },
     "7301155b6daf455fb8abe805fa3b21fa": {
      "model_module": "@jupyter-widgets/base",
      "model_module_version": "1.2.0",
      "model_name": "LayoutModel",
      "state": {}
     },
     "73651b04ea364210b03af7895d50293e": {
      "model_module": "@jupyter-widgets/controls",
      "model_module_version": "1.5.0",
      "model_name": "HBoxModel",
      "state": {
       "children": [
        null,
        null,
        "IPY_MODEL_40691132006548f9a8d6ac44a09c82a2"
       ]
      }
     },
     "7389075f9b3443f3b5c4e706e35d5915": {
      "model_module": "@jupyter-widgets/controls",
      "model_module_version": "1.5.0",
      "model_name": "DescriptionStyleModel",
      "state": {
       "description_width": ""
      }
     },
     "747ce4b4e9f143aa9ebb6e085cfa01d2": {
      "model_module": "@jupyter-widgets/base",
      "model_module_version": "1.2.0",
      "model_name": "LayoutModel",
      "state": {}
     },
     "748ce5a6404144f0ac43423923fdd602": {
      "model_module": "@jupyter-widgets/base",
      "model_module_version": "1.2.0",
      "model_name": "LayoutModel",
      "state": {}
     },
     "74e862d6d7b048b0a1d4abb4880d6964": {
      "model_module": "@jupyter-widgets/controls",
      "model_module_version": "1.5.0",
      "model_name": "HBoxModel",
      "state": {
       "children": [
        "IPY_MODEL_929587584963497286f72bdd918cf664",
        "IPY_MODEL_fd2f2ec4391f47f59782ba0baf34a5eb",
        "IPY_MODEL_c6b629debd0f45aba80eb2236815affd"
       ],
       "layout": "IPY_MODEL_78e4841448824470b8b9e7b4f66bf3f5"
      }
     },
     "75fb43b8863642a4b4435e7819b9eae9": {
      "model_module": "@jupyter-widgets/controls",
      "model_module_version": "1.5.0",
      "model_name": "HBoxModel",
      "state": {
       "children": [
        "IPY_MODEL_c4b37ad42aef4c1c98c2a8e5facc7b4a",
        "IPY_MODEL_e4c3053f27bd4b80aecc76aabf38ff24",
        "IPY_MODEL_fed7ae2c33224c6b89673e84a462f8b7"
       ],
       "layout": "IPY_MODEL_77c9f83e46b143c197236e4b53d7d057"
      }
     },
     "761b9e9b347345b0b1f823c1f043c040": {
      "model_module": "@jupyter-widgets/controls",
      "model_module_version": "1.5.0",
      "model_name": "HTMLModel",
      "state": {
       "layout": "IPY_MODEL_4a475b93426d43cfaef83cc1cea3ce8a",
       "style": "IPY_MODEL_6958f608332549af90f991ed8da8d670",
       "value": " 100/100 [00:01&lt;00:00, 88.89it/s]"
      }
     },
     "766fa5f27005490d89e8bd38b8f68d05": {
      "model_module": "@jupyter-widgets/controls",
      "model_module_version": "1.5.0",
      "model_name": "HTMLModel",
      "state": {
       "layout": "IPY_MODEL_b65c71d14d8248adaf1d0d81f7d58ba5",
       "style": "IPY_MODEL_026a0ebee5e34029a355bdf5a895f379",
       "value": "Calculating control matrix: 100%"
      }
     },
     "7709c080bf5b460f8de36f323733c424": {
      "model_module": "@jupyter-widgets/controls",
      "model_module_version": "1.5.0",
      "model_name": "ProgressStyleModel",
      "state": {
       "description_width": ""
      }
     },
     "7737999fdcf64a9489709d612d921cd0": {
      "model_module": "@jupyter-widgets/controls",
      "model_module_version": "1.5.0",
      "model_name": "DescriptionStyleModel",
      "state": {
       "description_width": ""
      }
     },
     "77c1b2a36f7445e3b4acb0bed35c5004": {
      "model_module": "@jupyter-widgets/base",
      "model_module_version": "1.2.0",
      "model_name": "LayoutModel",
      "state": {}
     },
     "77c9f83e46b143c197236e4b53d7d057": {
      "model_module": "@jupyter-widgets/base",
      "model_module_version": "1.2.0",
      "model_name": "LayoutModel",
      "state": {}
     },
     "77de60b7e44245d2b63e0e38aab04f87": {
      "model_module": "@jupyter-widgets/controls",
      "model_module_version": "1.5.0",
      "model_name": "HBoxModel",
      "state": {
       "children": [
        "IPY_MODEL_1c1debc5129745e29baf3a81c97e34c0",
        "IPY_MODEL_6dcab4f9512449d3a559634b46eab66e"
       ],
       "layout": "IPY_MODEL_77c1b2a36f7445e3b4acb0bed35c5004"
      }
     },
     "78111d3c097c4989bda0110488f17dbe": {
      "model_module": "@jupyter-widgets/controls",
      "model_module_version": "1.5.0",
      "model_name": "DescriptionStyleModel",
      "state": {
       "description_width": ""
      }
     },
     "782ed0337519414b892d6ac5f2cb6de7": {
      "model_module": "@jupyter-widgets/controls",
      "model_module_version": "1.5.0",
      "model_name": "ProgressStyleModel",
      "state": {
       "description_width": "initial"
      }
     },
     "784eb1a60f7b426cbfca0067ce9e019b": {
      "model_module": "@jupyter-widgets/base",
      "model_module_version": "1.2.0",
      "model_name": "LayoutModel",
      "state": {}
     },
     "78ddd81445ea4e10a91bee04c0f03835": {
      "model_module": "@jupyter-widgets/base",
      "model_module_version": "1.2.0",
      "model_name": "LayoutModel",
      "state": {}
     },
     "78df1c3c0c9446159c2f85bc9313668c": {
      "model_module": "@jupyter-widgets/controls",
      "model_module_version": "1.5.0",
      "model_name": "ProgressStyleModel",
      "state": {
       "description_width": ""
      }
     },
     "78e4841448824470b8b9e7b4f66bf3f5": {
      "model_module": "@jupyter-widgets/base",
      "model_module_version": "1.2.0",
      "model_name": "LayoutModel",
      "state": {}
     },
     "78fe6f0ea2c04e2ebe74f9e4faf2dcfb": {
      "model_module": "@jupyter-widgets/base",
      "model_module_version": "1.2.0",
      "model_name": "LayoutModel",
      "state": {}
     },
     "792c30a84a1249899cccc0733028ac25": {
      "model_module": "@jupyter-widgets/controls",
      "model_module_version": "1.5.0",
      "model_name": "HBoxModel",
      "state": {
       "children": [
        "IPY_MODEL_6eee011b0316489a8a83b6954bf59692",
        "IPY_MODEL_50d671f2a8624ab0a94e7ee1adabdf35",
        "IPY_MODEL_9cdf46dbc8ca4254bd124aa3095a5ed6"
       ],
       "layout": "IPY_MODEL_10c1d9c03ea84de985c33f1591f1c3ce"
      }
     },
     "7947688381904cedad91541d6aba0af2": {
      "model_module": "@jupyter-widgets/controls",
      "model_module_version": "1.5.0",
      "model_name": "ProgressStyleModel",
      "state": {
       "description_width": "initial"
      }
     },
     "79750fef65c749108566a70992fda571": {
      "model_module": "@jupyter-widgets/controls",
      "model_module_version": "1.5.0",
      "model_name": "HTMLModel",
      "state": {
       "layout": "IPY_MODEL_fbf49844666d43bfb04be6212dc9b267",
       "style": "IPY_MODEL_c42963d63a68421a9f721b8a23a5c228",
       "value": "Calculating control matrix: 100%"
      }
     },
     "7a05b9dfcfea4399ae0368082481b5b1": {
      "model_module": "@jupyter-widgets/controls",
      "model_module_version": "1.5.0",
      "model_name": "DescriptionStyleModel",
      "state": {
       "description_width": ""
      }
     },
     "7a23ebf7388748989db54165609f862d": {
      "model_module": "@jupyter-widgets/controls",
      "model_module_version": "1.5.0",
      "model_name": "DescriptionStyleModel",
      "state": {
       "description_width": ""
      }
     },
     "7a2d4fadfd5e44b9bcb9cb95e3749740": {
      "model_module": "@jupyter-widgets/controls",
      "model_module_version": "1.5.0",
      "model_name": "HTMLModel",
      "state": {
       "layout": "IPY_MODEL_e86b0e2315e14234917b452296f712b1",
       "style": "IPY_MODEL_45601dc7b3a24e9a8f50d09241630e6a",
       "value": "Calculating control matrix: 100%"
      }
     },
     "7a4eaf3315454ca1afc4f518dd19b706": {
      "model_module": "@jupyter-widgets/controls",
      "model_module_version": "1.5.0",
      "model_name": "DescriptionStyleModel",
      "state": {
       "description_width": ""
      }
     },
     "7c4d49960fd94b27a2af44cad1f60be0": {
      "model_module": "@jupyter-widgets/controls",
      "model_module_version": "1.5.0",
      "model_name": "FloatProgressModel",
      "state": {
       "bar_style": "success",
       "description": "Calculating control matrix: 100%",
       "layout": "IPY_MODEL_b0d29cbf316d43628bf732898910984c",
       "style": "IPY_MODEL_0ee64a2c9cad44d7866a2e7527126447",
       "value": 100
      }
     },
     "7c9fd63ee97f4769966936f460b45b88": {
      "model_module": "@jupyter-widgets/controls",
      "model_module_version": "1.5.0",
      "model_name": "ProgressStyleModel",
      "state": {
       "description_width": ""
      }
     },
     "7d5c1059131142738657133a8c6b0190": {
      "model_module": "@jupyter-widgets/base",
      "model_module_version": "1.2.0",
      "model_name": "LayoutModel",
      "state": {}
     },
     "7dcfbc448f8e48a38cf7e52739c31af8": {
      "model_module": "@jupyter-widgets/base",
      "model_module_version": "1.2.0",
      "model_name": "LayoutModel",
      "state": {}
     },
     "7e67eddd3f0140d7b6331f25b17e7e9a": {
      "model_module": "@jupyter-widgets/base",
      "model_module_version": "1.2.0",
      "model_name": "LayoutModel",
      "state": {}
     },
     "7e7c9dffe4294000b470fda9bef54417": {
      "model_module": "@jupyter-widgets/base",
      "model_module_version": "1.2.0",
      "model_name": "LayoutModel",
      "state": {}
     },
     "7f856489c6ea4bd6b8e2f880003652c8": {
      "model_module": "@jupyter-widgets/base",
      "model_module_version": "1.2.0",
      "model_name": "LayoutModel",
      "state": {}
     },
     "8018813271344ad79152df4105e6efd3": {
      "model_module": "@jupyter-widgets/controls",
      "model_module_version": "1.5.0",
      "model_name": "HBoxModel",
      "state": {
       "children": [
        "IPY_MODEL_55437d3bdde3437d893021c7fe0ccbd6",
        "IPY_MODEL_1338b1d2e6964e0b8404e78cdcb72513",
        "IPY_MODEL_c723a4fe9c3b48fca2722ea02c0d4045"
       ],
       "layout": "IPY_MODEL_3f31b10ae7ee4767be23d33924231069"
      }
     },
     "8036ff5f82af43dd9c1b1c6c50f64308": {
      "model_module": "@jupyter-widgets/controls",
      "model_module_version": "1.5.0",
      "model_name": "HBoxModel",
      "state": {
       "children": [
        "IPY_MODEL_ebb999ba151d4a90b7917e61dee69ae0",
        "IPY_MODEL_315ac1618324496299ae13b0be5220cb"
       ],
       "layout": "IPY_MODEL_12f88297cccc4cd3897ecbe69b748d93"
      }
     },
     "804cf1ad2dd94cce898566c27616dc52": {
      "model_module": "@jupyter-widgets/controls",
      "model_module_version": "1.5.0",
      "model_name": "HTMLModel",
      "state": {
       "layout": "IPY_MODEL_b84ca7711f754804bb3a0038ce2bd88b",
       "value": " 250/250 [01:57&lt;00:00,  2.18it/s]"
      }
     },
     "8066f84c45164358a2fe87e950ed198a": {
      "model_module": "@jupyter-widgets/controls",
      "model_module_version": "1.5.0",
      "model_name": "ProgressStyleModel",
      "state": {
       "description_width": "initial"
      }
     },
     "8098615e5cbc44959dfabc2507c6e0ca": {
      "model_module": "@jupyter-widgets/controls",
      "model_module_version": "1.5.0",
      "model_name": "HTMLModel",
      "state": {
       "layout": "IPY_MODEL_4f4e3c7e60eb4ffd95f57af6b134a44b",
       "style": "IPY_MODEL_aefd37ec9f4b4339ba3125df06701502",
       "value": " 100/100 [00:00&lt;00:00, 110.74it/s]"
      }
     },
     "816e595a418b4dffb9936c25a82e684a": {
      "model_module": "@jupyter-widgets/controls",
      "model_module_version": "1.5.0",
      "model_name": "DescriptionStyleModel",
      "state": {
       "description_width": ""
      }
     },
     "82395f8508b14ad7973864c5ed774cc2": {
      "model_module": "@jupyter-widgets/controls",
      "model_module_version": "1.5.0",
      "model_name": "DescriptionStyleModel",
      "state": {
       "description_width": ""
      }
     },
     "82b98977e85e46fa8ca94eb42f1d1e59": {
      "model_module": "@jupyter-widgets/controls",
      "model_module_version": "1.5.0",
      "model_name": "DescriptionStyleModel",
      "state": {
       "description_width": ""
      }
     },
     "830e9fcebdc1402aa30f066c39b37d7c": {
      "model_module": "@jupyter-widgets/base",
      "model_module_version": "1.2.0",
      "model_name": "LayoutModel",
      "state": {}
     },
     "835fc073583440a394db086b060c16ec": {
      "model_module": "@jupyter-widgets/base",
      "model_module_version": "1.2.0",
      "model_name": "LayoutModel",
      "state": {}
     },
     "844add067bd245bea6f60e294f79f2df": {
      "model_module": "@jupyter-widgets/controls",
      "model_module_version": "1.5.0",
      "model_name": "FloatProgressModel",
      "state": {
       "bar_style": "success",
       "description": "Calculating control matrix: 100%",
       "layout": "IPY_MODEL_747ce4b4e9f143aa9ebb6e085cfa01d2",
       "max": 250,
       "style": "IPY_MODEL_3159e3dd80a74a469916715a432f1754",
       "value": 250
      }
     },
     "84d4051be5ef499589313bfffe826a4a": {
      "model_module": "@jupyter-widgets/controls",
      "model_module_version": "1.5.0",
      "model_name": "DescriptionStyleModel",
      "state": {
       "description_width": ""
      }
     },
     "850e7078b2ca4a45b925625235f95307": {
      "model_module": "@jupyter-widgets/controls",
      "model_module_version": "1.5.0",
      "model_name": "HTMLModel",
      "state": {
       "layout": "IPY_MODEL_6e835bd595f24bb1869f4e5a64be4edd",
       "style": "IPY_MODEL_82395f8508b14ad7973864c5ed774cc2",
       "value": " 250/250 [00:02&lt;00:00, 118.13it/s]"
      }
     },
     "8525b0b0c5bb4e9d94bbcb2b3687d254": {
      "model_module": "@jupyter-widgets/controls",
      "model_module_version": "1.5.0",
      "model_name": "HTMLModel",
      "state": {
       "style": "IPY_MODEL_0b66c16b5b134828a884021f6b750cef",
       "value": " 250/250 [00:00&lt;00:00, 361.92it/s]"
      }
     },
     "8531c2da7d964193bd4bd35a3d76c63d": {
      "model_module": "@jupyter-widgets/controls",
      "model_module_version": "1.5.0",
      "model_name": "HTMLModel",
      "state": {
       "layout": "IPY_MODEL_700c2b3f5e7b48c1a3588e087ecf3e5e",
       "style": "IPY_MODEL_b720d9098a8c48e7bdaa22c67e0fdf89",
       "value": " 100/100 [00:00&lt;00:00, 127.44it/s]"
      }
     },
     "8600b8ecfb354d83b9fe74009afd6cef": {
      "model_module": "@jupyter-widgets/base",
      "model_module_version": "1.2.0",
      "model_name": "LayoutModel",
      "state": {}
     },
     "8681aafa9ae14cc0b71457960a00f91b": {
      "model_module": "@jupyter-widgets/controls",
      "model_module_version": "1.5.0",
      "model_name": "FloatProgressModel",
      "state": {
       "bar_style": "success",
       "description": "Calculating control matrix: 100%",
       "layout": "IPY_MODEL_feafc0ba21b04c30bf13087f4db8c9f9",
       "style": "IPY_MODEL_7947688381904cedad91541d6aba0af2",
       "value": 100
      }
     },
     "86cb11835e9d4881a097dcca04af1386": {
      "model_module": "@jupyter-widgets/base",
      "model_module_version": "1.2.0",
      "model_name": "LayoutModel",
      "state": {}
     },
     "880fc2da02ce462dbe44d941b83aecfd": {
      "model_module": "@jupyter-widgets/controls",
      "model_module_version": "1.5.0",
      "model_name": "FloatProgressModel",
      "state": {
       "bar_style": "success",
       "description": "Calculating control matrix: 100%",
       "layout": "IPY_MODEL_29d0588c39e443ceb44edfb1187fe7c7",
       "max": 250,
       "style": "IPY_MODEL_5ff59a9d5ca04c38aaf6dd6ea6854e13",
       "value": 250
      }
     },
     "883a035272984632a334a733edca7595": {
      "model_module": "@jupyter-widgets/controls",
      "model_module_version": "1.5.0",
      "model_name": "HBoxModel",
      "state": {
       "children": [
        "IPY_MODEL_0aab098963be4f97a02b66b7c4f2d1eb",
        "IPY_MODEL_0aad69b5f27940b39e13230e0ab4ddbf",
        "IPY_MODEL_ab334ae9691349848ee2d03b6b4fb957"
       ],
       "layout": "IPY_MODEL_01ed40322eb24cd0a1ee5af414affb09"
      }
     },
     "89624bda6cd74d86a02e991e61aae4de": {
      "model_module": "@jupyter-widgets/controls",
      "model_module_version": "1.5.0",
      "model_name": "HBoxModel",
      "state": {
       "children": [
        "IPY_MODEL_d60201a4e93d40de9d340a0208aeae02",
        null,
        null
       ]
      }
     },
     "8a3cca53bdcd4e2ab16e888b79c5cd81": {
      "model_module": "@jupyter-widgets/base",
      "model_module_version": "1.2.0",
      "model_name": "LayoutModel",
      "state": {}
     },
     "8a4b1dd95b01415eb4e85d98d47233bd": {
      "model_module": "@jupyter-widgets/base",
      "model_module_version": "1.2.0",
      "model_name": "LayoutModel",
      "state": {}
     },
     "8a7bc64543284a8895a4e3de44eac4fd": {
      "model_module": "@jupyter-widgets/base",
      "model_module_version": "1.2.0",
      "model_name": "LayoutModel",
      "state": {}
     },
     "8a8c899ebc4b49aabaf78c5b9a2263ff": {
      "model_module": "@jupyter-widgets/base",
      "model_module_version": "1.2.0",
      "model_name": "LayoutModel",
      "state": {}
     },
     "8ac96d553e4648d6af976b4293f626c3": {
      "model_module": "@jupyter-widgets/base",
      "model_module_version": "1.2.0",
      "model_name": "LayoutModel",
      "state": {}
     },
     "8aed3ffc51f84fb6bd4f57b526b34af2": {
      "model_module": "@jupyter-widgets/controls",
      "model_module_version": "1.5.0",
      "model_name": "FloatProgressModel",
      "state": {
       "bar_style": "success",
       "layout": "IPY_MODEL_2f659440686b4b6dbcba0729f1e8950c",
       "style": "IPY_MODEL_2382303f767341dda8a67c679c4eec78",
       "value": 100
      }
     },
     "8b2de5752c22405ca04b533f777d9e41": {
      "model_module": "@jupyter-widgets/controls",
      "model_module_version": "1.5.0",
      "model_name": "FloatProgressModel",
      "state": {
       "bar_style": "success",
       "description": "Calculating control matrix: 100%",
       "layout": "IPY_MODEL_0e156a83465b46338575c33a25f4d4a1",
       "max": 250,
       "style": "IPY_MODEL_a4610407076647bea2b14b8e13231637",
       "value": 250
      }
     },
     "8b9bb33ae0a04f609f7ee6b12afc45e5": {
      "model_module": "@jupyter-widgets/controls",
      "model_module_version": "1.5.0",
      "model_name": "ProgressStyleModel",
      "state": {
       "description_width": "initial"
      }
     },
     "8bc1ef0f68c4406cb4351dfe1d13374d": {
      "model_module": "@jupyter-widgets/controls",
      "model_module_version": "1.5.0",
      "model_name": "HBoxModel",
      "state": {
       "children": [
        "IPY_MODEL_6132a7c8cbe74a1396a5dc8984b0ad91",
        "IPY_MODEL_f820ad6b70cb48648defcc94f745a951"
       ],
       "layout": "IPY_MODEL_835fc073583440a394db086b060c16ec"
      }
     },
     "8bfa98ad8c4245549c8cf0c025fa39d1": {
      "model_module": "@jupyter-widgets/controls",
      "model_module_version": "1.5.0",
      "model_name": "FloatProgressModel",
      "state": {
       "bar_style": "success",
       "description": "Calculating control matrix: 100%",
       "layout": "IPY_MODEL_1ec61ffd0c1c4e45b47380e1fecaaf56",
       "style": "IPY_MODEL_3cb0e200d037462e906248dd9bbec13b",
       "value": 100
      }
     },
     "8c090ca1fb234f1cae4b1a1ec3690bd1": {
      "model_module": "@jupyter-widgets/controls",
      "model_module_version": "1.5.0",
      "model_name": "ProgressStyleModel",
      "state": {
       "description_width": "initial"
      }
     },
     "8c389db926684d8394ea504534d414ce": {
      "model_module": "@jupyter-widgets/controls",
      "model_module_version": "1.5.0",
      "model_name": "FloatProgressModel",
      "state": {
       "bar_style": "success",
       "description": "Calculating control matrix: 100%",
       "layout": "IPY_MODEL_b0923b86539a4710976d864a04a136ac",
       "style": "IPY_MODEL_e2452189541c4312b604fd9af24b9ad3",
       "value": 100
      }
     },
     "8d28d2936aca40298505f6d7534483e3": {
      "model_module": "@jupyter-widgets/controls",
      "model_module_version": "1.5.0",
      "model_name": "DescriptionStyleModel",
      "state": {
       "description_width": ""
      }
     },
     "8d5b57a7159845b9a92fdcabe15199e5": {
      "model_module": "@jupyter-widgets/controls",
      "model_module_version": "1.5.0",
      "model_name": "HBoxModel",
      "state": {
       "children": [
        null,
        "IPY_MODEL_5fe50ad3f3a24c5980ecdc445e8e5a4d",
        null
       ],
       "layout": "IPY_MODEL_0b5a7c29ad434c29b2835c184e9408fc"
      }
     },
     "8e018b64550840318ccda9016befbd1c": {
      "model_module": "@jupyter-widgets/controls",
      "model_module_version": "1.5.0",
      "model_name": "DescriptionStyleModel",
      "state": {
       "description_width": ""
      }
     },
     "8e17e87bcc1741618de6452d0241cc49": {
      "model_module": "@jupyter-widgets/controls",
      "model_module_version": "1.5.0",
      "model_name": "HTMLModel",
      "state": {
       "layout": "IPY_MODEL_6e56dae183e445b383345a979943d7b5",
       "style": "IPY_MODEL_06b4c6ec622f41c5a2c91a59fa78c4aa",
       "value": " 100/100 [00:00&lt;00:00, 357.73it/s]"
      }
     },
     "8eef468e64a34ae68b425d16a191c813": {
      "model_module": "@jupyter-widgets/controls",
      "model_module_version": "1.5.0",
      "model_name": "FloatProgressModel",
      "state": {
       "bar_style": "success",
       "layout": "IPY_MODEL_f19f32564d6c4fe386e7efa28b809e11",
       "style": "IPY_MODEL_4accb4a202004de1bb9d750d430fec12",
       "value": 100
      }
     },
     "8f45fdd6562a4895bc55942df1200d65": {
      "model_module": "@jupyter-widgets/base",
      "model_module_version": "1.2.0",
      "model_name": "LayoutModel",
      "state": {}
     },
     "8f9333287015412ab088ee5027e99d02": {
      "model_module": "@jupyter-widgets/controls",
      "model_module_version": "1.5.0",
      "model_name": "HBoxModel",
      "state": {
       "children": [
        "IPY_MODEL_6e750e9fbb9b43eb9521bec72679df49",
        "IPY_MODEL_9e8069212c1e4acebd29a49f834a6889"
       ],
       "layout": "IPY_MODEL_3b5d0285e48245e9a2e99f0295cbf1ce"
      }
     },
     "8f9a0f69399b409d9b98076ad57a8f9e": {
      "model_module": "@jupyter-widgets/base",
      "model_module_version": "1.2.0",
      "model_name": "LayoutModel",
      "state": {}
     },
     "8fc1aff1588e49a980af284d87f94e5d": {
      "model_module": "@jupyter-widgets/base",
      "model_module_version": "1.2.0",
      "model_name": "LayoutModel",
      "state": {}
     },
     "90f88152dfbe407ba29e7953968135f5": {
      "model_module": "@jupyter-widgets/base",
      "model_module_version": "1.2.0",
      "model_name": "LayoutModel",
      "state": {}
     },
     "917c81ca2a5d4e06881aae07fed57789": {
      "model_module": "@jupyter-widgets/controls",
      "model_module_version": "1.5.0",
      "model_name": "HTMLModel",
      "state": {
       "layout": "IPY_MODEL_e195764e1619408099f071bbc124560b",
       "style": "IPY_MODEL_5929ff5c99f5460bb21a9b0117c5df08",
       "value": " 100/100 [00:01&lt;00:00, 84.23it/s]"
      }
     },
     "9186df8a4413462e9b947221f861d7e6": {
      "model_module": "@jupyter-widgets/controls",
      "model_module_version": "1.5.0",
      "model_name": "FloatProgressModel",
      "state": {
       "bar_style": "success",
       "description": "Calculating control matrix: 100%",
       "layout": "IPY_MODEL_b66f081ae54d434c82797a15252a967f",
       "max": 250,
       "style": "IPY_MODEL_141d02f5d71646d0bc9ab3c79ed9f238",
       "value": 250
      }
     },
     "92482891be7547ac9176c72d94352566": {
      "model_module": "@jupyter-widgets/base",
      "model_module_version": "1.2.0",
      "model_name": "LayoutModel",
      "state": {}
     },
     "924f9bb0bd0247acb04c9b2f4105f5a2": {
      "model_module": "@jupyter-widgets/controls",
      "model_module_version": "1.5.0",
      "model_name": "DescriptionStyleModel",
      "state": {
       "description_width": ""
      }
     },
     "929587584963497286f72bdd918cf664": {
      "model_module": "@jupyter-widgets/controls",
      "model_module_version": "1.5.0",
      "model_name": "HTMLModel",
      "state": {
       "layout": "IPY_MODEL_8f45fdd6562a4895bc55942df1200d65",
       "style": "IPY_MODEL_7737999fdcf64a9489709d612d921cd0",
       "value": "Calculating second order FF: 100%"
      }
     },
     "9359c436439642b282448dcd1145791e": {
      "model_module": "@jupyter-widgets/base",
      "model_module_version": "1.2.0",
      "model_name": "LayoutModel",
      "state": {}
     },
     "9392f45f1f1b435c841e50189285f354": {
      "model_module": "@jupyter-widgets/base",
      "model_module_version": "1.2.0",
      "model_name": "LayoutModel",
      "state": {}
     },
     "93b33f36e38143cf86d0fa9672992231": {
      "model_module": "@jupyter-widgets/base",
      "model_module_version": "1.2.0",
      "model_name": "LayoutModel",
      "state": {}
     },
     "9421be15f0d241428aff5b3813dac69d": {
      "model_module": "@jupyter-widgets/base",
      "model_module_version": "1.2.0",
      "model_name": "LayoutModel",
      "state": {}
     },
     "94d292c3367042009183a78dcbd506c2": {
      "model_module": "@jupyter-widgets/base",
      "model_module_version": "1.2.0",
      "model_name": "LayoutModel",
      "state": {}
     },
     "94f0855b6f73410f982b8b56427443ba": {
      "model_module": "@jupyter-widgets/base",
      "model_module_version": "1.2.0",
      "model_name": "LayoutModel",
      "state": {}
     },
     "951ab5a32e2e4fe2b5d6a3bd4ac2fdfa": {
      "model_module": "@jupyter-widgets/base",
      "model_module_version": "1.2.0",
      "model_name": "LayoutModel",
      "state": {}
     },
     "958d658b6f47417c82bcff2f88415e6d": {
      "model_module": "@jupyter-widgets/controls",
      "model_module_version": "1.5.0",
      "model_name": "DescriptionStyleModel",
      "state": {
       "description_width": ""
      }
     },
     "963aed27165b4dc2b70ede9b69730d59": {
      "model_module": "@jupyter-widgets/base",
      "model_module_version": "1.2.0",
      "model_name": "LayoutModel",
      "state": {}
     },
     "9699e12882af47f2a5968bd14eb157f5": {
      "model_module": "@jupyter-widgets/controls",
      "model_module_version": "1.5.0",
      "model_name": "HBoxModel",
      "state": {
       "children": [
        "IPY_MODEL_79750fef65c749108566a70992fda571",
        "IPY_MODEL_8aed3ffc51f84fb6bd4f57b526b34af2",
        "IPY_MODEL_ad51cb41da1744159db0b99ccf2ac245"
       ],
       "layout": "IPY_MODEL_90f88152dfbe407ba29e7953968135f5"
      }
     },
     "96cec666c257494684f2d83db6d12d6a": {
      "model_module": "@jupyter-widgets/base",
      "model_module_version": "1.2.0",
      "model_name": "LayoutModel",
      "state": {}
     },
     "97bd59be80c44225a08731c052509caf": {
      "model_module": "@jupyter-widgets/controls",
      "model_module_version": "1.5.0",
      "model_name": "HTMLModel",
      "state": {
       "layout": "IPY_MODEL_22c54625328545f69ae32b099369833f",
       "style": "IPY_MODEL_2ac4aef7096a49239cfc9206588456c2",
       "value": " 100/100 [00:00&lt;00:00, 351.85it/s]"
      }
     },
     "97db951ebd9a49cf85c165884edb6cc2": {
      "model_module": "@jupyter-widgets/controls",
      "model_module_version": "1.5.0",
      "model_name": "HTMLModel",
      "state": {
       "layout": "IPY_MODEL_d12a066e3963409592caec6904338839",
       "style": "IPY_MODEL_4ecca4c819004f9cabf128bb67904abe",
       "value": " 100/100 [00:01&lt;00:00, 85.77it/s]"
      }
     },
     "98c61252c52c4104a9f9e17ac4d51567": {
      "model_module": "@jupyter-widgets/controls",
      "model_module_version": "1.5.0",
      "model_name": "ProgressStyleModel",
      "state": {
       "description_width": "initial"
      }
     },
     "993a1cc1ebaf485399c89e2c61c60e7f": {
      "model_module": "@jupyter-widgets/controls",
      "model_module_version": "1.5.0",
      "model_name": "DescriptionStyleModel",
      "state": {
       "description_width": ""
      }
     },
     "99443efc616949ab86ab02eb91c5430b": {
      "model_module": "@jupyter-widgets/base",
      "model_module_version": "1.2.0",
      "model_name": "LayoutModel",
      "state": {}
     },
     "995fac42aac9406c975352b48f959f02": {
      "model_module": "@jupyter-widgets/controls",
      "model_module_version": "1.5.0",
      "model_name": "FloatProgressModel",
      "state": {
       "bar_style": "success",
       "layout": "IPY_MODEL_7165026565ae45ab977218c73869f84d",
       "value": 100
      }
     },
     "998508aab87245e9b117527dc9eb6e5d": {
      "model_module": "@jupyter-widgets/controls",
      "model_module_version": "1.5.0",
      "model_name": "HTMLModel",
      "state": {
       "layout": "IPY_MODEL_4655a9b9c6104dbf85a486a272ccbe4d",
       "style": "IPY_MODEL_7a23ebf7388748989db54165609f862d",
       "value": " 100/100 [00:00&lt;00:00, 178.37it/s]"
      }
     },
     "99e11daf3ea643049b281e943dfd629c": {
      "model_module": "@jupyter-widgets/controls",
      "model_module_version": "1.5.0",
      "model_name": "ProgressStyleModel",
      "state": {
       "description_width": "initial"
      }
     },
     "9a06eb74da6743baa49644a7b3d759bf": {
      "model_module": "@jupyter-widgets/controls",
      "model_module_version": "1.5.0",
      "model_name": "HBoxModel",
      "state": {
       "children": [
        "IPY_MODEL_8b2de5752c22405ca04b533f777d9e41",
        "IPY_MODEL_b256b5e561fc4b88be14d1c1bb74b402"
       ],
       "layout": "IPY_MODEL_202c8186c22b4f2b9332a7f6cddefc37"
      }
     },
     "9a7ddfe17a3e45d6b0317951abd398c2": {
      "model_module": "@jupyter-widgets/controls",
      "model_module_version": "1.5.0",
      "model_name": "DescriptionStyleModel",
      "state": {
       "description_width": ""
      }
     },
     "9b4d7ca807854a46b5b4de4f4d4a9473": {
      "model_module": "@jupyter-widgets/controls",
      "model_module_version": "1.5.0",
      "model_name": "DescriptionStyleModel",
      "state": {
       "description_width": ""
      }
     },
     "9b5eaab1728a4c919489f25af0e54c33": {
      "model_module": "@jupyter-widgets/controls",
      "model_module_version": "1.5.0",
      "model_name": "FloatProgressModel",
      "state": {
       "bar_style": "success",
       "description": "Calculating control matrix: 100%",
       "layout": "IPY_MODEL_e410d0f51e644e978d5887ed06676790",
       "style": "IPY_MODEL_8066f84c45164358a2fe87e950ed198a",
       "value": 100
      }
     },
     "9caa8fecad7e442c8b5d6dae0912a9f2": {
      "model_module": "@jupyter-widgets/controls",
      "model_module_version": "1.5.0",
      "model_name": "HBoxModel",
      "state": {
       "children": [
        "IPY_MODEL_6fa2b1b81ea94f6ab09394d6cb551722",
        "IPY_MODEL_40321705ee6e4bb4bc7c2ec0d6304b39"
       ],
       "layout": "IPY_MODEL_3d35d6c230764319b4098894a3dac49e"
      }
     },
     "9cbc19fa6e53447ba7646c1d6a410046": {
      "model_module": "@jupyter-widgets/controls",
      "model_module_version": "1.5.0",
      "model_name": "ProgressStyleModel",
      "state": {
       "description_width": "initial"
      }
     },
     "9cde7904e4de41178d76c4be4105fc74": {
      "model_module": "@jupyter-widgets/base",
      "model_module_version": "1.2.0",
      "model_name": "LayoutModel",
      "state": {}
     },
     "9cdf46dbc8ca4254bd124aa3095a5ed6": {
      "model_module": "@jupyter-widgets/controls",
      "model_module_version": "1.5.0",
      "model_name": "HTMLModel",
      "state": {
       "layout": "IPY_MODEL_a8517f07711d42a3820eec54bc66951a",
       "style": "IPY_MODEL_da50f8a85fe44621b6dcc3a09a0f1111",
       "value": " 250/250 [01:28&lt;00:00,  2.92it/s]"
      }
     },
     "9e0392fd372244a9990b83d444e9d171": {
      "model_module": "@jupyter-widgets/controls",
      "model_module_version": "1.5.0",
      "model_name": "ProgressStyleModel",
      "state": {
       "description_width": ""
      }
     },
     "9e0b0cf1e755466c8c6f3e42208f31c6": {
      "model_module": "@jupyter-widgets/base",
      "model_module_version": "1.2.0",
      "model_name": "LayoutModel",
      "state": {}
     },
     "9e8069212c1e4acebd29a49f834a6889": {
      "model_module": "@jupyter-widgets/controls",
      "model_module_version": "1.5.0",
      "model_name": "HTMLModel",
      "state": {
       "layout": "IPY_MODEL_bbb7cc6b84904458a5f8d8e08809d207",
       "style": "IPY_MODEL_24422e798d3047c78ee310e38d8b8aaf",
       "value": " 100/100 [00:00&lt;00:00, 117.00it/s]"
      }
     },
     "9e81469362b14650974cd73629ce3c09": {
      "model_module": "@jupyter-widgets/controls",
      "model_module_version": "1.5.0",
      "model_name": "DescriptionStyleModel",
      "state": {
       "description_width": ""
      }
     },
     "a02215daecd74ee58f17b329fb4b8c53": {
      "model_module": "@jupyter-widgets/controls",
      "model_module_version": "1.5.0",
      "model_name": "DescriptionStyleModel",
      "state": {
       "description_width": ""
      }
     },
     "a02b3505b1f74d0d96d3f8dc4299d340": {
      "model_module": "@jupyter-widgets/controls",
      "model_module_version": "1.5.0",
      "model_name": "HBoxModel",
      "state": {
       "children": [
        "IPY_MODEL_0e725523fc7841e89cd75adcf503af69",
        "IPY_MODEL_ad116e781c464aeeb4eb8a7be6518c32",
        "IPY_MODEL_6186a2af70044506ae119e0fea7e9e76"
       ],
       "layout": "IPY_MODEL_2b3c400ffd1144cd83f6bb5a4e249d11"
      }
     },
     "a0df6b17d69648fbaaf5b720bab40c59": {
      "model_module": "@jupyter-widgets/controls",
      "model_module_version": "1.5.0",
      "model_name": "DescriptionStyleModel",
      "state": {
       "description_width": ""
      }
     },
     "a10afc1b522845acba9547e2986b74ea": {
      "model_module": "@jupyter-widgets/controls",
      "model_module_version": "1.5.0",
      "model_name": "DescriptionStyleModel",
      "state": {
       "description_width": ""
      }
     },
     "a223e4bac43c47aba19b0e5a770a6e8c": {
      "model_module": "@jupyter-widgets/base",
      "model_module_version": "1.2.0",
      "model_name": "LayoutModel",
      "state": {}
     },
     "a263f58f67a647969d9af92f6e72e370": {
      "model_module": "@jupyter-widgets/controls",
      "model_module_version": "1.5.0",
      "model_name": "FloatProgressModel",
      "state": {
       "bar_style": "success",
       "description": "Calculating control matrix: 100%",
       "layout": "IPY_MODEL_7d5c1059131142738657133a8c6b0190",
       "style": "IPY_MODEL_c40080a310694c87b0322fb16db06dec",
       "value": 100
      }
     },
     "a2b08f024e77437cad2a81300488bd40": {
      "model_module": "@jupyter-widgets/base",
      "model_module_version": "1.2.0",
      "model_name": "LayoutModel",
      "state": {}
     },
     "a2df15e179ed46cda22a4091ffb4f02b": {
      "model_module": "@jupyter-widgets/base",
      "model_module_version": "1.2.0",
      "model_name": "LayoutModel",
      "state": {}
     },
     "a3e58be2e6ff464486979ab77532ddf4": {
      "model_module": "@jupyter-widgets/base",
      "model_module_version": "1.2.0",
      "model_name": "LayoutModel",
      "state": {}
     },
     "a4610407076647bea2b14b8e13231637": {
      "model_module": "@jupyter-widgets/controls",
      "model_module_version": "1.5.0",
      "model_name": "ProgressStyleModel",
      "state": {
       "description_width": "initial"
      }
     },
     "a54dce274b83448ea06167a7cd76e5da": {
      "model_module": "@jupyter-widgets/controls",
      "model_module_version": "1.5.0",
      "model_name": "HBoxModel",
      "state": {
       "children": [
        "IPY_MODEL_a7d70933a84a41e1b10b1d8eb29db034",
        "IPY_MODEL_a93e2e8c820d494d947971f5cacd4434"
       ],
       "layout": "IPY_MODEL_1c6278daa22e4d6b862b591ad251ed80"
      }
     },
     "a55324c8c94346b68b0aeae577e1191f": {
      "model_module": "@jupyter-widgets/controls",
      "model_module_version": "1.5.0",
      "model_name": "DescriptionStyleModel",
      "state": {
       "description_width": ""
      }
     },
     "a6309be279874682ba5fbddf508cd50f": {
      "model_module": "@jupyter-widgets/controls",
      "model_module_version": "1.5.0",
      "model_name": "FloatProgressModel",
      "state": {
       "bar_style": "success",
       "description": "Calculating control matrix: 100%",
       "layout": "IPY_MODEL_ad2d08d851ca435fad71228bb078f964",
       "style": "IPY_MODEL_f9c4e1ee6c324211845bb9e9beb0ced1",
       "value": 100
      }
     },
     "a673226356254e88a9f6515156102b7e": {
      "model_module": "@jupyter-widgets/base",
      "model_module_version": "1.2.0",
      "model_name": "LayoutModel",
      "state": {}
     },
     "a7307e2a0fe94b2ebca6465ee403765c": {
      "model_module": "@jupyter-widgets/base",
      "model_module_version": "1.2.0",
      "model_name": "LayoutModel",
      "state": {}
     },
     "a7517a5498824d1a8563a67516a2bb1b": {
      "model_module": "@jupyter-widgets/controls",
      "model_module_version": "1.5.0",
      "model_name": "FloatProgressModel",
      "state": {
       "bar_style": "success",
       "layout": "IPY_MODEL_0d0af1d9f26249d789b656c4b04fb6f8",
       "style": "IPY_MODEL_9e0392fd372244a9990b83d444e9d171",
       "value": 100
      }
     },
     "a757590ac14042149b0f0a3a653e0a23": {
      "model_module": "@jupyter-widgets/base",
      "model_module_version": "1.2.0",
      "model_name": "LayoutModel",
      "state": {}
     },
     "a7a1af0e604f41d9969aae232c3daeef": {
      "model_module": "@jupyter-widgets/controls",
      "model_module_version": "1.5.0",
      "model_name": "HTMLModel",
      "state": {
       "layout": "IPY_MODEL_cb62adbf47c04999914a90461bcf4d75",
       "style": "IPY_MODEL_16ef17e099c14aca97e8458009d90de5",
       "value": "Calculating control matrix: 100%"
      }
     },
     "a7d70933a84a41e1b10b1d8eb29db034": {
      "model_module": "@jupyter-widgets/controls",
      "model_module_version": "1.5.0",
      "model_name": "FloatProgressModel",
      "state": {
       "bar_style": "success",
       "description": "Calculating control matrix: 100%",
       "layout": "IPY_MODEL_b9ebb066e82f472db52264372cbc4c45",
       "style": "IPY_MODEL_ef0d0e1104534626ae5992b10ab18c0c",
       "value": 100
      }
     },
     "a7e5ee9750d54f088403f522ca214ba3": {
      "model_module": "@jupyter-widgets/base",
      "model_module_version": "1.2.0",
      "model_name": "LayoutModel",
      "state": {}
     },
     "a7fc8d30a150407c884518a75aad95f4": {
      "model_module": "@jupyter-widgets/controls",
      "model_module_version": "1.5.0",
      "model_name": "HTMLModel",
      "state": {
       "value": " 100/100 [00:50&lt;00:00,  2.04it/s]"
      }
     },
     "a80d58b901b64bbf89195764269b534d": {
      "model_module": "@jupyter-widgets/base",
      "model_module_version": "1.2.0",
      "model_name": "LayoutModel",
      "state": {}
     },
     "a8517f07711d42a3820eec54bc66951a": {
      "model_module": "@jupyter-widgets/base",
      "model_module_version": "1.2.0",
      "model_name": "LayoutModel",
      "state": {}
     },
     "a896fc57e9724a71ba7e8048f213f604": {
      "model_module": "@jupyter-widgets/controls",
      "model_module_version": "1.5.0",
      "model_name": "DescriptionStyleModel",
      "state": {
       "description_width": ""
      }
     },
     "a8c86c35cf554615b463bc5c239fa7e8": {
      "model_module": "@jupyter-widgets/controls",
      "model_module_version": "1.5.0",
      "model_name": "HBoxModel",
      "state": {
       "children": [
        "IPY_MODEL_9186df8a4413462e9b947221f861d7e6",
        "IPY_MODEL_53b534c64fd14a39a46ed8342c6693d4"
       ],
       "layout": "IPY_MODEL_cf12eef862c74166b783bc7d4dd014ab"
      }
     },
     "a93e2e8c820d494d947971f5cacd4434": {
      "model_module": "@jupyter-widgets/controls",
      "model_module_version": "1.5.0",
      "model_name": "HTMLModel",
      "state": {
       "layout": "IPY_MODEL_67f96117df3848e6b580ced07d127057",
       "style": "IPY_MODEL_a0df6b17d69648fbaaf5b720bab40c59",
       "value": " 100/100 [00:01&lt;00:00, 68.36it/s]"
      }
     },
     "a9f7ad488d744028aac8e5b03f1c4f3d": {
      "model_module": "@jupyter-widgets/base",
      "model_module_version": "1.2.0",
      "model_name": "LayoutModel",
      "state": {}
     },
     "a9f8f5cdb2144e13b7f1f0552a29b5e2": {
      "model_module": "@jupyter-widgets/base",
      "model_module_version": "1.2.0",
      "model_name": "LayoutModel",
      "state": {}
     },
     "aa8bfb626427457da266819c03775988": {
      "model_module": "@jupyter-widgets/controls",
      "model_module_version": "1.5.0",
      "model_name": "HBoxModel",
      "state": {
       "children": [
        "IPY_MODEL_7a2d4fadfd5e44b9bcb9cb95e3749740",
        "IPY_MODEL_1d1cabb625964e8d9b85ff238db0605b",
        "IPY_MODEL_c4eb58b44de64170b83ab246087208fd"
       ],
       "layout": "IPY_MODEL_4e375f1a48054d95961e4dd1a7cacdc0"
      }
     },
     "ab13f6d297324b3cabc7582ccba237a7": {
      "model_module": "@jupyter-widgets/controls",
      "model_module_version": "1.5.0",
      "model_name": "ProgressStyleModel",
      "state": {
       "description_width": ""
      }
     },
     "ab334ae9691349848ee2d03b6b4fb957": {
      "model_module": "@jupyter-widgets/controls",
      "model_module_version": "1.5.0",
      "model_name": "HTMLModel",
      "state": {
       "layout": "IPY_MODEL_7202b95253c44edbab209dc42dc20f2c",
       "style": "IPY_MODEL_d15043d9f658460f906631e7035c8e74",
       "value": " 100/100 [00:53&lt;00:00,  1.90it/s]"
      }
     },
     "ac1245348fe1475785d419dba0beed59": {
      "model_module": "@jupyter-widgets/controls",
      "model_module_version": "1.5.0",
      "model_name": "DescriptionStyleModel",
      "state": {
       "description_width": ""
      }
     },
     "ac51a214d70543889492a82cd8b9237d": {
      "model_module": "@jupyter-widgets/base",
      "model_module_version": "1.2.0",
      "model_name": "LayoutModel",
      "state": {}
     },
     "ac5da51da4c4463aa50cc5b398dbf31e": {
      "model_module": "@jupyter-widgets/controls",
      "model_module_version": "1.5.0",
      "model_name": "ProgressStyleModel",
      "state": {
       "description_width": ""
      }
     },
     "ac6ed85234924dc5adc05a6eabd4b1a6": {
      "model_module": "@jupyter-widgets/controls",
      "model_module_version": "1.5.0",
      "model_name": "FloatProgressModel",
      "state": {
       "bar_style": "success",
       "layout": "IPY_MODEL_b032c3a7fac34ca1be5729971dc64079",
       "style": "IPY_MODEL_ab13f6d297324b3cabc7582ccba237a7",
       "value": 100
      }
     },
     "ac7831722c3f464cbeab84209314a974": {
      "model_module": "@jupyter-widgets/base",
      "model_module_version": "1.2.0",
      "model_name": "LayoutModel",
      "state": {}
     },
     "acd60aa990f748bbb080ed9baccd3311": {
      "model_module": "@jupyter-widgets/controls",
      "model_module_version": "1.5.0",
      "model_name": "ProgressStyleModel",
      "state": {
       "description_width": ""
      }
     },
     "ad116e781c464aeeb4eb8a7be6518c32": {
      "model_module": "@jupyter-widgets/controls",
      "model_module_version": "1.5.0",
      "model_name": "FloatProgressModel",
      "state": {
       "bar_style": "success",
       "layout": "IPY_MODEL_c796a211e55e4f33bc322cd19d9568cd",
       "max": 250,
       "style": "IPY_MODEL_c08a2611bfd3415ba1a6ddd846480853",
       "value": 250
      }
     },
     "ad2d08d851ca435fad71228bb078f964": {
      "model_module": "@jupyter-widgets/base",
      "model_module_version": "1.2.0",
      "model_name": "LayoutModel",
      "state": {}
     },
     "ad51cb41da1744159db0b99ccf2ac245": {
      "model_module": "@jupyter-widgets/controls",
      "model_module_version": "1.5.0",
      "model_name": "HTMLModel",
      "state": {
       "layout": "IPY_MODEL_663e694e59ab4b76a2731b41bab7bcc6",
       "style": "IPY_MODEL_84d4051be5ef499589313bfffe826a4a",
       "value": " 100/100 [00:00&lt;00:00, 313.97it/s]"
      }
     },
     "ad742738ab524e108cbcaa8e7a822636": {
      "model_module": "@jupyter-widgets/controls",
      "model_module_version": "1.5.0",
      "model_name": "FloatProgressModel",
      "state": {
       "bar_style": "success",
       "layout": "IPY_MODEL_c8dd887d7a134ef29c0071a33bf6ea2a",
       "max": 250,
       "style": "IPY_MODEL_cdc200fb1f4f42bf8d8a987f073ea7ad",
       "value": 250
      }
     },
     "ae7f3ab61aa74acb91f9b4532c82a72b": {
      "model_module": "@jupyter-widgets/controls",
      "model_module_version": "1.5.0",
      "model_name": "FloatProgressModel",
      "state": {
       "bar_style": "success",
       "layout": "IPY_MODEL_27bfff18cbd74467b765a4c88cc64720",
       "style": "IPY_MODEL_0eb65048a28a441aad0d68ff0de60c1c",
       "value": 100
      }
     },
     "aefd37ec9f4b4339ba3125df06701502": {
      "model_module": "@jupyter-widgets/controls",
      "model_module_version": "1.5.0",
      "model_name": "DescriptionStyleModel",
      "state": {
       "description_width": ""
      }
     },
     "afa11ea71fbe4b6a8baef755f1bcfc64": {
      "model_module": "@jupyter-widgets/controls",
      "model_module_version": "1.5.0",
      "model_name": "HTMLModel",
      "state": {
       "layout": "IPY_MODEL_b090a8eccffc46c7afcbdf38f00eb613",
       "style": "IPY_MODEL_8d28d2936aca40298505f6d7534483e3",
       "value": " 250/250 [00:00&lt;00:00, 485.02it/s]"
      }
     },
     "b032c3a7fac34ca1be5729971dc64079": {
      "model_module": "@jupyter-widgets/base",
      "model_module_version": "1.2.0",
      "model_name": "LayoutModel",
      "state": {}
     },
     "b090a8eccffc46c7afcbdf38f00eb613": {
      "model_module": "@jupyter-widgets/base",
      "model_module_version": "1.2.0",
      "model_name": "LayoutModel",
      "state": {}
     },
     "b0923b86539a4710976d864a04a136ac": {
      "model_module": "@jupyter-widgets/base",
      "model_module_version": "1.2.0",
      "model_name": "LayoutModel",
      "state": {}
     },
     "b0d29cbf316d43628bf732898910984c": {
      "model_module": "@jupyter-widgets/base",
      "model_module_version": "1.2.0",
      "model_name": "LayoutModel",
      "state": {}
     },
     "b256b5e561fc4b88be14d1c1bb74b402": {
      "model_module": "@jupyter-widgets/controls",
      "model_module_version": "1.5.0",
      "model_name": "HTMLModel",
      "state": {
       "layout": "IPY_MODEL_9421be15f0d241428aff5b3813dac69d",
       "style": "IPY_MODEL_57777a8c741f4a208eda0778acac8690",
       "value": " 250/250 [00:00&lt;00:00, 322.78it/s]"
      }
     },
     "b2d9909392b340469c5bcb557faff817": {
      "model_module": "@jupyter-widgets/base",
      "model_module_version": "1.2.0",
      "model_name": "LayoutModel",
      "state": {}
     },
     "b30e488103394245aa08e1b2bfc6b952": {
      "model_module": "@jupyter-widgets/controls",
      "model_module_version": "1.5.0",
      "model_name": "HTMLModel",
      "state": {
       "layout": "IPY_MODEL_c1bfa656d8454b2bb1bb956330f7d4c5",
       "style": "IPY_MODEL_f4eae7193e494a3ea4a01bec535e5db9",
       "value": " 100/100 [00:00&lt;00:00, 115.12it/s]"
      }
     },
     "b31f3beb418d41c8ae04c7d19a1940f9": {
      "model_module": "@jupyter-widgets/controls",
      "model_module_version": "1.5.0",
      "model_name": "HBoxModel",
      "state": {
       "children": [
        "IPY_MODEL_c1d77d0ce6884e2eb8a76d114a266834",
        "IPY_MODEL_ae7f3ab61aa74acb91f9b4532c82a72b",
        "IPY_MODEL_172d233066ea42ce906ac1f94f60210d"
       ],
       "layout": "IPY_MODEL_cf88291907014f5dbf504c03e6cb96c9"
      }
     },
     "b3264de47b224173b230089fc599d5ac": {
      "model_module": "@jupyter-widgets/controls",
      "model_module_version": "1.5.0",
      "model_name": "HTMLModel",
      "state": {
       "layout": "IPY_MODEL_2b5b27491e9a49acb38a776a711f0ca0",
       "style": "IPY_MODEL_4b4b017086af4f50a7b1cca19e109105",
       "value": " 250/250 [00:00&lt;00:00, 345.71it/s]"
      }
     },
     "b6513dd2b42540a9a05cbd199ef8f4b0": {
      "model_module": "@jupyter-widgets/controls",
      "model_module_version": "1.5.0",
      "model_name": "FloatProgressModel",
      "state": {
       "bar_style": "success",
       "layout": "IPY_MODEL_f740bae29d1f4e17ba1f51e6f0203a8b",
       "style": "IPY_MODEL_bae082946b6f4c32b463660d363610cc",
       "value": 100
      }
     },
     "b65c71d14d8248adaf1d0d81f7d58ba5": {
      "model_module": "@jupyter-widgets/base",
      "model_module_version": "1.2.0",
      "model_name": "LayoutModel",
      "state": {}
     },
     "b66f081ae54d434c82797a15252a967f": {
      "model_module": "@jupyter-widgets/base",
      "model_module_version": "1.2.0",
      "model_name": "LayoutModel",
      "state": {}
     },
     "b720d9098a8c48e7bdaa22c67e0fdf89": {
      "model_module": "@jupyter-widgets/controls",
      "model_module_version": "1.5.0",
      "model_name": "DescriptionStyleModel",
      "state": {
       "description_width": ""
      }
     },
     "b81fa075c4c04356a556830caa8612e6": {
      "model_module": "@jupyter-widgets/controls",
      "model_module_version": "1.5.0",
      "model_name": "HBoxModel",
      "state": {
       "children": [
        "IPY_MODEL_8c389db926684d8394ea504534d414ce",
        "IPY_MODEL_e3533eace32b420492a483aa356ebd8e"
       ],
       "layout": "IPY_MODEL_2c7d17ecfd044d7aa45e5f2bd957611d"
      }
     },
     "b833b7f847cc4933874817fb426bc0fe": {
      "model_module": "@jupyter-widgets/controls",
      "model_module_version": "1.5.0",
      "model_name": "DescriptionStyleModel",
      "state": {
       "description_width": ""
      }
     },
     "b84ca7711f754804bb3a0038ce2bd88b": {
      "model_module": "@jupyter-widgets/base",
      "model_module_version": "1.2.0",
      "model_name": "LayoutModel",
      "state": {}
     },
     "b8efcbe25a1a48e98aa776f57b5c0362": {
      "model_module": "@jupyter-widgets/base",
      "model_module_version": "1.2.0",
      "model_name": "LayoutModel",
      "state": {}
     },
     "b9ebb066e82f472db52264372cbc4c45": {
      "model_module": "@jupyter-widgets/base",
      "model_module_version": "1.2.0",
      "model_name": "LayoutModel",
      "state": {}
     },
     "ba856ee5323e43268700485c2eef63de": {
      "model_module": "@jupyter-widgets/controls",
      "model_module_version": "1.5.0",
      "model_name": "HBoxModel",
      "state": {
       "children": [
        "IPY_MODEL_c0e01d1124914dc484aee2f0ed3c1488",
        "IPY_MODEL_917c81ca2a5d4e06881aae07fed57789"
       ],
       "layout": "IPY_MODEL_a7307e2a0fe94b2ebca6465ee403765c"
      }
     },
     "bae082946b6f4c32b463660d363610cc": {
      "model_module": "@jupyter-widgets/controls",
      "model_module_version": "1.5.0",
      "model_name": "ProgressStyleModel",
      "state": {
       "description_width": ""
      }
     },
     "bb92eef28b5849ebae21c5631be55b03": {
      "model_module": "@jupyter-widgets/controls",
      "model_module_version": "1.5.0",
      "model_name": "HTMLModel",
      "state": {
       "layout": "IPY_MODEL_a673226356254e88a9f6515156102b7e",
       "style": "IPY_MODEL_924f9bb0bd0247acb04c9b2f4105f5a2",
       "value": "Calculating control matrix: 100%"
      }
     },
     "bbb7cc6b84904458a5f8d8e08809d207": {
      "model_module": "@jupyter-widgets/base",
      "model_module_version": "1.2.0",
      "model_name": "LayoutModel",
      "state": {}
     },
     "bbb9f53916e2410fa23cad4206e9ab57": {
      "model_module": "@jupyter-widgets/controls",
      "model_module_version": "1.5.0",
      "model_name": "DescriptionStyleModel",
      "state": {
       "description_width": ""
      }
     },
     "bbd6955e3db4427faf6c46bfca20d5da": {
      "model_module": "@jupyter-widgets/controls",
      "model_module_version": "1.5.0",
      "model_name": "HBoxModel",
      "state": {
       "children": [
        "IPY_MODEL_a7a1af0e604f41d9969aae232c3daeef",
        "IPY_MODEL_5322e98213904a88a03b058f07769860",
        "IPY_MODEL_cb5cf58920af45f8b07bc8189f0660ad"
       ],
       "layout": "IPY_MODEL_3b919e7a05424b84b78742d289e4860d"
      }
     },
     "bbe821e812e54f7c813e7898ac7f8b80": {
      "model_module": "@jupyter-widgets/controls",
      "model_module_version": "1.5.0",
      "model_name": "HTMLModel",
      "state": {
       "layout": "IPY_MODEL_9cde7904e4de41178d76c4be4105fc74",
       "style": "IPY_MODEL_ef85d932ff724922b9ddad7a7987a58a",
       "value": "Calculating second order FF: 100%"
      }
     },
     "bbeefa75c2d9454d86c5ac1c0758dc88": {
      "model_module": "@jupyter-widgets/controls",
      "model_module_version": "1.5.0",
      "model_name": "HTMLModel",
      "state": {
       "layout": "IPY_MODEL_d991b67421ed4f3d90756301574a2cfe",
       "style": "IPY_MODEL_d377f26d3dd24a469570ea7573b61a69",
       "value": " 100/100 [00:46&lt;00:00,  2.11it/s]"
      }
     },
     "bbf789830e864be1bc664b2f678e2bde": {
      "model_module": "@jupyter-widgets/controls",
      "model_module_version": "1.5.0",
      "model_name": "HBoxModel",
      "state": {
       "children": [
        "IPY_MODEL_a263f58f67a647969d9af92f6e72e370",
        "IPY_MODEL_97db951ebd9a49cf85c165884edb6cc2"
       ],
       "layout": "IPY_MODEL_8a7bc64543284a8895a4e3de44eac4fd"
      }
     },
     "bc1e1b084aa2408585c8b139a8904dda": {
      "model_module": "@jupyter-widgets/controls",
      "model_module_version": "1.5.0",
      "model_name": "ProgressStyleModel",
      "state": {
       "description_width": ""
      }
     },
     "bc8344969d014a00a92550b15df5a6bd": {
      "model_module": "@jupyter-widgets/controls",
      "model_module_version": "1.5.0",
      "model_name": "DescriptionStyleModel",
      "state": {
       "description_width": ""
      }
     },
     "bce866c3594648248788881efe92a5cb": {
      "model_module": "@jupyter-widgets/base",
      "model_module_version": "1.2.0",
      "model_name": "LayoutModel",
      "state": {}
     },
     "bd3bb35d95e24ea1b43270c7a8ad27e4": {
      "model_module": "@jupyter-widgets/base",
      "model_module_version": "1.2.0",
      "model_name": "LayoutModel",
      "state": {}
     },
     "bdcea95ee73449f2a4bf4dd6e1ecc90f": {
      "model_module": "@jupyter-widgets/controls",
      "model_module_version": "1.5.0",
      "model_name": "HBoxModel",
      "state": {
       "children": [
        "IPY_MODEL_766fa5f27005490d89e8bd38b8f68d05",
        "IPY_MODEL_5bd6e045b18c47c3aaa288fe49e53f7a",
        "IPY_MODEL_d097167c990049eb943f0b0d01336793"
       ],
       "layout": "IPY_MODEL_db13657881c94a44b09db2b58ff45d56"
      }
     },
     "beb0cd7f1d514f8b91a017a2d3b23c86": {
      "model_module": "@jupyter-widgets/controls",
      "model_module_version": "1.5.0",
      "model_name": "ProgressStyleModel",
      "state": {
       "description_width": ""
      }
     },
     "bee3bfb534f44c4cb36b76fb431aff78": {
      "model_module": "@jupyter-widgets/base",
      "model_module_version": "1.2.0",
      "model_name": "LayoutModel",
      "state": {}
     },
     "bf4a3cf7848743d495263ed148aea7d0": {
      "model_module": "@jupyter-widgets/controls",
      "model_module_version": "1.5.0",
      "model_name": "HTMLModel",
      "state": {
       "layout": "IPY_MODEL_51668696af73439180375526aaa5f650",
       "style": "IPY_MODEL_0a57c2cef4454d2b83ba1534c9d0eaf3",
       "value": " 100/100 [00:00&lt;00:00, 107.13it/s]"
      }
     },
     "c074b9fd544741d38dd138fd44172265": {
      "model_module": "@jupyter-widgets/base",
      "model_module_version": "1.2.0",
      "model_name": "LayoutModel",
      "state": {}
     },
     "c08a2611bfd3415ba1a6ddd846480853": {
      "model_module": "@jupyter-widgets/controls",
      "model_module_version": "1.5.0",
      "model_name": "ProgressStyleModel",
      "state": {
       "description_width": ""
      }
     },
     "c0e01d1124914dc484aee2f0ed3c1488": {
      "model_module": "@jupyter-widgets/controls",
      "model_module_version": "1.5.0",
      "model_name": "FloatProgressModel",
      "state": {
       "bar_style": "success",
       "description": "Calculating control matrix: 100%",
       "layout": "IPY_MODEL_16ec94eb78a04ddf82d79163a7b8ff30",
       "style": "IPY_MODEL_3ce9a3a9974e432c9bdca5c91bc2b0ec",
       "value": 100
      }
     },
     "c12bf8b90bfb4f7f98e845ef96e2940a": {
      "model_module": "@jupyter-widgets/base",
      "model_module_version": "1.2.0",
      "model_name": "LayoutModel",
      "state": {}
     },
     "c19e5d8b85b2421393ed4e51e45e746a": {
      "model_module": "@jupyter-widgets/base",
      "model_module_version": "1.2.0",
      "model_name": "LayoutModel",
      "state": {}
     },
     "c1bfa656d8454b2bb1bb956330f7d4c5": {
      "model_module": "@jupyter-widgets/base",
      "model_module_version": "1.2.0",
      "model_name": "LayoutModel",
      "state": {}
     },
     "c1d77d0ce6884e2eb8a76d114a266834": {
      "model_module": "@jupyter-widgets/controls",
      "model_module_version": "1.5.0",
      "model_name": "HTMLModel",
      "state": {
       "layout": "IPY_MODEL_ca6cfc93fc9940408387a4925378213d",
       "style": "IPY_MODEL_45700ddd578d44e581a13b2612b26f92",
       "value": "Calculating control matrix: 100%"
      }
     },
     "c26a5d3bde5f43639259d7cc788437db": {
      "model_module": "@jupyter-widgets/controls",
      "model_module_version": "1.5.0",
      "model_name": "DescriptionStyleModel",
      "state": {
       "description_width": ""
      }
     },
     "c31cbba52a3441b3aea975f7e7b6d5ef": {
      "model_module": "@jupyter-widgets/controls",
      "model_module_version": "1.5.0",
      "model_name": "DescriptionStyleModel",
      "state": {
       "description_width": ""
      }
     },
     "c321c6bcc3b248feb7e8ed585c213e53": {
      "model_module": "@jupyter-widgets/base",
      "model_module_version": "1.2.0",
      "model_name": "LayoutModel",
      "state": {}
     },
     "c3fe8ebeb6604615897c1821e712dd72": {
      "model_module": "@jupyter-widgets/controls",
      "model_module_version": "1.5.0",
      "model_name": "HBoxModel",
      "state": {
       "children": [
        "IPY_MODEL_880fc2da02ce462dbe44d941b83aecfd",
        "IPY_MODEL_850e7078b2ca4a45b925625235f95307"
       ],
       "layout": "IPY_MODEL_e51f56c3c99847828cc1e8cf25f40638"
      }
     },
     "c40080a310694c87b0322fb16db06dec": {
      "model_module": "@jupyter-widgets/controls",
      "model_module_version": "1.5.0",
      "model_name": "ProgressStyleModel",
      "state": {
       "description_width": "initial"
      }
     },
     "c404509b99854e19b01077cc6eb55c78": {
      "model_module": "@jupyter-widgets/base",
      "model_module_version": "1.2.0",
      "model_name": "LayoutModel",
      "state": {}
     },
     "c42963d63a68421a9f721b8a23a5c228": {
      "model_module": "@jupyter-widgets/controls",
      "model_module_version": "1.5.0",
      "model_name": "DescriptionStyleModel",
      "state": {
       "description_width": ""
      }
     },
     "c4b37ad42aef4c1c98c2a8e5facc7b4a": {
      "model_module": "@jupyter-widgets/controls",
      "model_module_version": "1.5.0",
      "model_name": "HTMLModel",
      "state": {
       "layout": "IPY_MODEL_15b27475dc7744bf888ca818318e73aa",
       "style": "IPY_MODEL_d3ede07c454d494592db6dcdd3fd51e2",
       "value": "Calculating second order FF: 100%"
      }
     },
     "c4eb58b44de64170b83ab246087208fd": {
      "model_module": "@jupyter-widgets/controls",
      "model_module_version": "1.5.0",
      "model_name": "HTMLModel",
      "state": {
       "layout": "IPY_MODEL_52235c7dc56e4758be2d939600c8453a",
       "style": "IPY_MODEL_fa3076a1f46c42cdaf403e954636a5a3",
       "value": " 100/100 [00:00&lt;00:00, 350.38it/s]"
      }
     },
     "c4edacd29adf4312a11aedb8c60e295a": {
      "model_module": "@jupyter-widgets/base",
      "model_module_version": "1.2.0",
      "model_name": "LayoutModel",
      "state": {}
     },
     "c64ae15a945545a59c8bda87519908b8": {
      "model_module": "@jupyter-widgets/base",
      "model_module_version": "1.2.0",
      "model_name": "LayoutModel",
      "state": {}
     },
     "c6582a1c23ce414a8dec2798f4094a82": {
      "model_module": "@jupyter-widgets/controls",
      "model_module_version": "1.5.0",
      "model_name": "HTMLModel",
      "state": {
       "layout": "IPY_MODEL_6cc4fb75420c40b2b74bbe140cd668b2",
       "style": "IPY_MODEL_71798a282f35446b9eba008883d20ff6",
       "value": "Calculating second order FF: 100%"
      }
     },
     "c66106f8bf1d4899ba07a247857ba158": {
      "model_module": "@jupyter-widgets/controls",
      "model_module_version": "1.5.0",
      "model_name": "HTMLModel",
      "state": {
       "style": "IPY_MODEL_472fea1d3efd4dd0bceb8df02e42577d",
       "value": " 100/100 [00:00&lt;00:00, 372.86it/s]"
      }
     },
     "c67a31fc7b174212b98c26e416a5c9d8": {
      "model_module": "@jupyter-widgets/base",
      "model_module_version": "1.2.0",
      "model_name": "LayoutModel",
      "state": {}
     },
     "c6b629debd0f45aba80eb2236815affd": {
      "model_module": "@jupyter-widgets/controls",
      "model_module_version": "1.5.0",
      "model_name": "HTMLModel",
      "state": {
       "layout": "IPY_MODEL_7e67eddd3f0140d7b6331f25b17e7e9a",
       "style": "IPY_MODEL_e67e41125ac046f2b985e308babec027",
       "value": " 100/100 [00:56&lt;00:00,  1.83it/s]"
      }
     },
     "c723a4fe9c3b48fca2722ea02c0d4045": {
      "model_module": "@jupyter-widgets/controls",
      "model_module_version": "1.5.0",
      "model_name": "HTMLModel",
      "state": {
       "layout": "IPY_MODEL_2885137c2fff48beba10cb5a29b1862a",
       "style": "IPY_MODEL_052391c04da8415e9c21ab04c8fda939",
       "value": " 100/100 [00:00&lt;00:00, 457.79it/s]"
      }
     },
     "c74604a1362d47c1aa834e2ccd82fd7e": {
      "model_module": "@jupyter-widgets/controls",
      "model_module_version": "1.5.0",
      "model_name": "HTMLModel",
      "state": {
       "layout": "IPY_MODEL_46099b9fe32047feafe5e68e887e5ec4",
       "style": "IPY_MODEL_7a05b9dfcfea4399ae0368082481b5b1",
       "value": " 250/250 [00:00&lt;00:00, 373.58it/s]"
      }
     },
     "c7548c2dca9b423eb78ec894beea527d": {
      "model_module": "@jupyter-widgets/controls",
      "model_module_version": "1.5.0",
      "model_name": "HTMLModel",
      "state": {
       "layout": "IPY_MODEL_9e0b0cf1e755466c8c6f3e42208f31c6",
       "style": "IPY_MODEL_4183d6129a4a4bb3a2b0cde8dfa5638d",
       "value": " 250/250 [00:02&lt;00:00, 101.53it/s]"
      }
     },
     "c796a211e55e4f33bc322cd19d9568cd": {
      "model_module": "@jupyter-widgets/base",
      "model_module_version": "1.2.0",
      "model_name": "LayoutModel",
      "state": {}
     },
     "c798f23cda604a46ae01ec410a94e6a4": {
      "model_module": "@jupyter-widgets/controls",
      "model_module_version": "1.5.0",
      "model_name": "DescriptionStyleModel",
      "state": {
       "description_width": ""
      }
     },
     "c7ac4cd5707348bf841660810e10ebf7": {
      "model_module": "@jupyter-widgets/base",
      "model_module_version": "1.2.0",
      "model_name": "LayoutModel",
      "state": {}
     },
     "c7e4aa8fdaf44cd5bb7201f25d8d94e7": {
      "model_module": "@jupyter-widgets/base",
      "model_module_version": "1.2.0",
      "model_name": "LayoutModel",
      "state": {}
     },
     "c8096f1a51974add97294fa9ad460159": {
      "model_module": "@jupyter-widgets/controls",
      "model_module_version": "1.5.0",
      "model_name": "DescriptionStyleModel",
      "state": {
       "description_width": ""
      }
     },
     "c81a5197e41943e98ca9039dc4a96bde": {
      "model_module": "@jupyter-widgets/controls",
      "model_module_version": "1.5.0",
      "model_name": "HBoxModel",
      "state": {
       "children": [
        "IPY_MODEL_f13e62871f22488ba5c5547fec20f4a7",
        "IPY_MODEL_204107b2588047888e29ebdd194463fd"
       ],
       "layout": "IPY_MODEL_18a20af20939462e845d0f6650990b86"
      }
     },
     "c847084bed17477f83ac7efcc7a06009": {
      "model_module": "@jupyter-widgets/base",
      "model_module_version": "1.2.0",
      "model_name": "LayoutModel",
      "state": {}
     },
     "c87a9bcc2a5541a185ccc63601b53d8a": {
      "model_module": "@jupyter-widgets/controls",
      "model_module_version": "1.5.0",
      "model_name": "DescriptionStyleModel",
      "state": {
       "description_width": ""
      }
     },
     "c88f7e9fb92348fea3172e2a3841451d": {
      "model_module": "@jupyter-widgets/base",
      "model_module_version": "1.2.0",
      "model_name": "LayoutModel",
      "state": {}
     },
     "c8dd887d7a134ef29c0071a33bf6ea2a": {
      "model_module": "@jupyter-widgets/base",
      "model_module_version": "1.2.0",
      "model_name": "LayoutModel",
      "state": {}
     },
     "c92f7c19c3d942e691856a81062d8ce8": {
      "model_module": "@jupyter-widgets/base",
      "model_module_version": "1.2.0",
      "model_name": "LayoutModel",
      "state": {}
     },
     "c9b86cefc55f48d187b5491695a8f8ae": {
      "model_module": "@jupyter-widgets/base",
      "model_module_version": "1.2.0",
      "model_name": "LayoutModel",
      "state": {}
     },
     "c9f31fde670e443ea67a1208be9b9680": {
      "model_module": "@jupyter-widgets/controls",
      "model_module_version": "1.5.0",
      "model_name": "DescriptionStyleModel",
      "state": {
       "description_width": ""
      }
     },
     "ca00bb03fd8c40ae963ce20d9cbfcd28": {
      "model_module": "@jupyter-widgets/controls",
      "model_module_version": "1.5.0",
      "model_name": "ProgressStyleModel",
      "state": {
       "description_width": "initial"
      }
     },
     "ca1f008b05c74812a7ded0e74abd1266": {
      "model_module": "@jupyter-widgets/base",
      "model_module_version": "1.2.0",
      "model_name": "LayoutModel",
      "state": {}
     },
     "ca67935220a045eaa0b8a823d1aede6e": {
      "model_module": "@jupyter-widgets/controls",
      "model_module_version": "1.5.0",
      "model_name": "FloatProgressModel",
      "state": {
       "bar_style": "success",
       "description": "Calculating control matrix: 100%",
       "layout": "IPY_MODEL_99443efc616949ab86ab02eb91c5430b",
       "max": 250,
       "style": "IPY_MODEL_4f1249a6420944c1a50918acce9150da",
       "value": 250
      }
     },
     "ca6cfc93fc9940408387a4925378213d": {
      "model_module": "@jupyter-widgets/base",
      "model_module_version": "1.2.0",
      "model_name": "LayoutModel",
      "state": {}
     },
     "cb5cf58920af45f8b07bc8189f0660ad": {
      "model_module": "@jupyter-widgets/controls",
      "model_module_version": "1.5.0",
      "model_name": "HTMLModel",
      "state": {
       "layout": "IPY_MODEL_d7736c47b46e411a9f1bb889a56dd6c3",
       "style": "IPY_MODEL_f2b102211c914dcd886d9bfa5e57ba28",
       "value": " 100/100 [00:00&lt;00:00, 400.69it/s]"
      }
     },
     "cb62adbf47c04999914a90461bcf4d75": {
      "model_module": "@jupyter-widgets/base",
      "model_module_version": "1.2.0",
      "model_name": "LayoutModel",
      "state": {}
     },
     "cc84a102f36a4f818b4b17b1fe26eebd": {
      "model_module": "@jupyter-widgets/controls",
      "model_module_version": "1.5.0",
      "model_name": "HBoxModel",
      "state": {
       "children": [
        "IPY_MODEL_26f0a9d8d6774b81a6f149a4de8722d0",
        "IPY_MODEL_cdb0d16b12ef49e5bf6d3a5cbd73b122",
        "IPY_MODEL_5a64cf9283714b3ebf0757d791bbe1f2"
       ],
       "layout": "IPY_MODEL_7dcfbc448f8e48a38cf7e52739c31af8"
      }
     },
     "cd3e5da805054b53acb03a63b2347744": {
      "model_module": "@jupyter-widgets/base",
      "model_module_version": "1.2.0",
      "model_name": "LayoutModel",
      "state": {}
     },
     "cd4de010c8884d48a835786bdcda5df7": {
      "model_module": "@jupyter-widgets/controls",
      "model_module_version": "1.5.0",
      "model_name": "FloatProgressModel",
      "state": {
       "bar_style": "success",
       "layout": "IPY_MODEL_2b7faa2b0e6746d0a10806ddc0637710",
       "style": "IPY_MODEL_3fc263341c704421a200a32e87f392e0",
       "value": 100
      }
     },
     "cdb03500d95d427fb2019f8e972460e2": {
      "model_module": "@jupyter-widgets/controls",
      "model_module_version": "1.5.0",
      "model_name": "HTMLModel",
      "state": {
       "layout": "IPY_MODEL_a9f8f5cdb2144e13b7f1f0552a29b5e2",
       "style": "IPY_MODEL_9a7ddfe17a3e45d6b0317951abd398c2",
       "value": "Calculating control matrix: 100%"
      }
     },
     "cdb0d16b12ef49e5bf6d3a5cbd73b122": {
      "model_module": "@jupyter-widgets/controls",
      "model_module_version": "1.5.0",
      "model_name": "FloatProgressModel",
      "state": {
       "bar_style": "success",
       "layout": "IPY_MODEL_464ab3ea5cc742ce9a133efd41371656",
       "style": "IPY_MODEL_cf8ab2667d494736b7bcddc6f501f3bd",
       "value": 100
      }
     },
     "cdc0251521304ac895defa81b4be5436": {
      "model_module": "@jupyter-widgets/controls",
      "model_module_version": "1.5.0",
      "model_name": "DescriptionStyleModel",
      "state": {
       "description_width": ""
      }
     },
     "cdc200fb1f4f42bf8d8a987f073ea7ad": {
      "model_module": "@jupyter-widgets/controls",
      "model_module_version": "1.5.0",
      "model_name": "ProgressStyleModel",
      "state": {
       "description_width": ""
      }
     },
     "cdd02f6ff3694c9a81b8d9769a48a4cd": {
      "model_module": "@jupyter-widgets/base",
      "model_module_version": "1.2.0",
      "model_name": "LayoutModel",
      "state": {}
     },
     "ce7f226541cf442b9dea590a5f637d70": {
      "model_module": "@jupyter-widgets/base",
      "model_module_version": "1.2.0",
      "model_name": "LayoutModel",
      "state": {}
     },
     "ce983f0c27794250936197b9a008a87d": {
      "model_module": "@jupyter-widgets/base",
      "model_module_version": "1.2.0",
      "model_name": "LayoutModel",
      "state": {}
     },
     "cec74829c2954e11beda9c0a54d82d37": {
      "model_module": "@jupyter-widgets/base",
      "model_module_version": "1.2.0",
      "model_name": "LayoutModel",
      "state": {}
     },
     "cf12eef862c74166b783bc7d4dd014ab": {
      "model_module": "@jupyter-widgets/base",
      "model_module_version": "1.2.0",
      "model_name": "LayoutModel",
      "state": {}
     },
     "cf180db0f3dc4085be49201499b78c82": {
      "model_module": "@jupyter-widgets/controls",
      "model_module_version": "1.5.0",
      "model_name": "ProgressStyleModel",
      "state": {
       "description_width": "initial"
      }
     },
     "cf88291907014f5dbf504c03e6cb96c9": {
      "model_module": "@jupyter-widgets/base",
      "model_module_version": "1.2.0",
      "model_name": "LayoutModel",
      "state": {}
     },
     "cf8ab2667d494736b7bcddc6f501f3bd": {
      "model_module": "@jupyter-widgets/controls",
      "model_module_version": "1.5.0",
      "model_name": "ProgressStyleModel",
      "state": {
       "description_width": ""
      }
     },
     "cfc3359738e84081a4c79ff1d4e223f7": {
      "model_module": "@jupyter-widgets/controls",
      "model_module_version": "1.5.0",
      "model_name": "HTMLModel",
      "state": {
       "layout": "IPY_MODEL_7301155b6daf455fb8abe805fa3b21fa",
       "style": "IPY_MODEL_1ba68064be4c472bacc321bd0fde5e77",
       "value": "Calculating control matrix: 100%"
      }
     },
     "d097167c990049eb943f0b0d01336793": {
      "model_module": "@jupyter-widgets/controls",
      "model_module_version": "1.5.0",
      "model_name": "HTMLModel",
      "state": {
       "layout": "IPY_MODEL_d3f2823bc6f64374ad32066538bae2ae",
       "style": "IPY_MODEL_9e81469362b14650974cd73629ce3c09",
       "value": " 250/250 [00:00&lt;00:00, 392.61it/s]"
      }
     },
     "d11af2e516de469a9feb2449098700b3": {
      "model_module": "@jupyter-widgets/controls",
      "model_module_version": "1.5.0",
      "model_name": "FloatProgressModel",
      "state": {
       "bar_style": "success",
       "description": "Calculating control matrix: 100%",
       "layout": "IPY_MODEL_e1b12cb7615f442c802bfec0c1fe71c5",
       "style": "IPY_MODEL_99e11daf3ea643049b281e943dfd629c",
       "value": 100
      }
     },
     "d12a066e3963409592caec6904338839": {
      "model_module": "@jupyter-widgets/base",
      "model_module_version": "1.2.0",
      "model_name": "LayoutModel",
      "state": {}
     },
     "d15043d9f658460f906631e7035c8e74": {
      "model_module": "@jupyter-widgets/controls",
      "model_module_version": "1.5.0",
      "model_name": "DescriptionStyleModel",
      "state": {
       "description_width": ""
      }
     },
     "d166ec093116495881c7d9922c395c52": {
      "model_module": "@jupyter-widgets/controls",
      "model_module_version": "1.5.0",
      "model_name": "HBoxModel",
      "state": {
       "children": [
        "IPY_MODEL_63d9bcdec28d45b29fb9276841c871c4",
        "IPY_MODEL_b6513dd2b42540a9a05cbd199ef8f4b0",
        "IPY_MODEL_2bac32339b2b47f5b6f79239dd1839a1"
       ],
       "layout": "IPY_MODEL_8a8c899ebc4b49aabaf78c5b9a2263ff"
      }
     },
     "d174ff26283045f9b90986b63e202f61": {
      "model_module": "@jupyter-widgets/base",
      "model_module_version": "1.2.0",
      "model_name": "LayoutModel",
      "state": {}
     },
     "d23d505e256a469c87f876003bf63d18": {
      "model_module": "@jupyter-widgets/controls",
      "model_module_version": "1.5.0",
      "model_name": "FloatProgressModel",
      "state": {
       "bar_style": "success",
       "layout": "IPY_MODEL_0a30bf14d753406586282e4b4a69fb67",
       "max": 250,
       "value": 250
      }
     },
     "d2bcb05e829c4b40882e553d02fc0a7a": {
      "model_module": "@jupyter-widgets/controls",
      "model_module_version": "1.5.0",
      "model_name": "HBoxModel",
      "state": {
       "children": [
        "IPY_MODEL_8bfa98ad8c4245549c8cf0c025fa39d1",
        "IPY_MODEL_13d35562a1c048e5aa0ffdf5173970f2"
       ],
       "layout": "IPY_MODEL_085887f8de8040d99e5cebbbae12e655"
      }
     },
     "d377f26d3dd24a469570ea7573b61a69": {
      "model_module": "@jupyter-widgets/controls",
      "model_module_version": "1.5.0",
      "model_name": "DescriptionStyleModel",
      "state": {
       "description_width": ""
      }
     },
     "d37c889259e2477e929b73d6f20fe676": {
      "model_module": "@jupyter-widgets/controls",
      "model_module_version": "1.5.0",
      "model_name": "FloatProgressModel",
      "state": {
       "bar_style": "success",
       "layout": "IPY_MODEL_8600b8ecfb354d83b9fe74009afd6cef",
       "max": 250,
       "style": "IPY_MODEL_beb0cd7f1d514f8b91a017a2d3b23c86",
       "value": 250
      }
     },
     "d391d232c8fa421bac71e3d1376e7f4d": {
      "model_module": "@jupyter-widgets/base",
      "model_module_version": "1.2.0",
      "model_name": "LayoutModel",
      "state": {}
     },
     "d399bd2369cf44faa80bbf1838e04f55": {
      "model_module": "@jupyter-widgets/base",
      "model_module_version": "1.2.0",
      "model_name": "LayoutModel",
      "state": {}
     },
     "d3ede07c454d494592db6dcdd3fd51e2": {
      "model_module": "@jupyter-widgets/controls",
      "model_module_version": "1.5.0",
      "model_name": "DescriptionStyleModel",
      "state": {
       "description_width": ""
      }
     },
     "d3f2823bc6f64374ad32066538bae2ae": {
      "model_module": "@jupyter-widgets/base",
      "model_module_version": "1.2.0",
      "model_name": "LayoutModel",
      "state": {}
     },
     "d41073d6eeaf44da9d61c9fbbc1e1c7e": {
      "model_module": "@jupyter-widgets/controls",
      "model_module_version": "1.5.0",
      "model_name": "ProgressStyleModel",
      "state": {
       "description_width": "initial"
      }
     },
     "d50164f16b244052af6a16528da700ec": {
      "model_module": "@jupyter-widgets/base",
      "model_module_version": "1.2.0",
      "model_name": "LayoutModel",
      "state": {}
     },
     "d55a3ec09318405681c2d3683e4832d8": {
      "model_module": "@jupyter-widgets/controls",
      "model_module_version": "1.5.0",
      "model_name": "HTMLModel",
      "state": {
       "layout": "IPY_MODEL_5135fbf9aac642e6bafbd64bd2bf3f43",
       "value": " 100/100 [00:46&lt;00:00,  2.25it/s]"
      }
     },
     "d5b366f0bac446a586b3d925f038ae18": {
      "model_module": "@jupyter-widgets/base",
      "model_module_version": "1.2.0",
      "model_name": "LayoutModel",
      "state": {}
     },
     "d60201a4e93d40de9d340a0208aeae02": {
      "model_module": "@jupyter-widgets/controls",
      "model_module_version": "1.5.0",
      "model_name": "HTMLModel",
      "state": {
       "value": "Calculating second order FF: 100%"
      }
     },
     "d61726aaf7f440a1ab09a1bfeafeefe6": {
      "model_module": "@jupyter-widgets/base",
      "model_module_version": "1.2.0",
      "model_name": "LayoutModel",
      "state": {}
     },
     "d6462493a1a049a3a78635d83ad87fe7": {
      "model_module": "@jupyter-widgets/base",
      "model_module_version": "1.2.0",
      "model_name": "LayoutModel",
      "state": {}
     },
     "d665e157cc684fa59e8115ee4430be55": {
      "model_module": "@jupyter-widgets/base",
      "model_module_version": "1.2.0",
      "model_name": "LayoutModel",
      "state": {}
     },
     "d7736c47b46e411a9f1bb889a56dd6c3": {
      "model_module": "@jupyter-widgets/base",
      "model_module_version": "1.2.0",
      "model_name": "LayoutModel",
      "state": {}
     },
     "d7a767083a254490afd09ce8a1a0a3cd": {
      "model_module": "@jupyter-widgets/base",
      "model_module_version": "1.2.0",
      "model_name": "LayoutModel",
      "state": {}
     },
     "d7e3a79a322c40dfb1a9f92f597f7f7c": {
      "model_module": "@jupyter-widgets/controls",
      "model_module_version": "1.5.0",
      "model_name": "FloatProgressModel",
      "state": {
       "bar_style": "success",
       "description": "Calculating control matrix: 100%",
       "layout": "IPY_MODEL_c847084bed17477f83ac7efcc7a06009",
       "max": 250,
       "style": "IPY_MODEL_9cbc19fa6e53447ba7646c1d6a410046",
       "value": 250
      }
     },
     "d8a1b01b2a6d4080aae5c7ab86410843": {
      "model_module": "@jupyter-widgets/controls",
      "model_module_version": "1.5.0",
      "model_name": "DescriptionStyleModel",
      "state": {
       "description_width": ""
      }
     },
     "d8fb2a7b4ba548bd95e5572259451725": {
      "model_module": "@jupyter-widgets/controls",
      "model_module_version": "1.5.0",
      "model_name": "HTMLModel",
      "state": {
       "layout": "IPY_MODEL_6f200be46f2141f68779b0a8dbeefda4",
       "style": "IPY_MODEL_c87a9bcc2a5541a185ccc63601b53d8a",
       "value": "Calculating control matrix: 100%"
      }
     },
     "d936cf5b5abf4766b766318199df39a6": {
      "model_module": "@jupyter-widgets/controls",
      "model_module_version": "1.5.0",
      "model_name": "DescriptionStyleModel",
      "state": {
       "description_width": ""
      }
     },
     "d991b67421ed4f3d90756301574a2cfe": {
      "model_module": "@jupyter-widgets/base",
      "model_module_version": "1.2.0",
      "model_name": "LayoutModel",
      "state": {}
     },
     "da50f8a85fe44621b6dcc3a09a0f1111": {
      "model_module": "@jupyter-widgets/controls",
      "model_module_version": "1.5.0",
      "model_name": "DescriptionStyleModel",
      "state": {
       "description_width": ""
      }
     },
     "dae77b22e1b943328e86c19b9cff1356": {
      "model_module": "@jupyter-widgets/base",
      "model_module_version": "1.2.0",
      "model_name": "LayoutModel",
      "state": {}
     },
     "daf5f758aa5c45129dbaa8f94551bbb4": {
      "model_module": "@jupyter-widgets/controls",
      "model_module_version": "1.5.0",
      "model_name": "ProgressStyleModel",
      "state": {
       "description_width": "initial"
      }
     },
     "db04f726b4d7450b8403b626d365a70d": {
      "model_module": "@jupyter-widgets/base",
      "model_module_version": "1.2.0",
      "model_name": "LayoutModel",
      "state": {}
     },
     "db13657881c94a44b09db2b58ff45d56": {
      "model_module": "@jupyter-widgets/base",
      "model_module_version": "1.2.0",
      "model_name": "LayoutModel",
      "state": {}
     },
     "dbfe9488e215404f86597e2db96fc41d": {
      "model_module": "@jupyter-widgets/controls",
      "model_module_version": "1.5.0",
      "model_name": "HTMLModel",
      "state": {
       "layout": "IPY_MODEL_d665e157cc684fa59e8115ee4430be55",
       "style": "IPY_MODEL_a10afc1b522845acba9547e2986b74ea",
       "value": "Calculating control matrix: 100%"
      }
     },
     "dd4837efa82e412cb8a9ff734900ca94": {
      "model_module": "@jupyter-widgets/controls",
      "model_module_version": "1.5.0",
      "model_name": "HTMLModel",
      "state": {
       "layout": "IPY_MODEL_19ae6d32aabc40de8ba1cefa1c0953cc",
       "style": "IPY_MODEL_2d0dae1e3fe747acb5084077d48a5a88",
       "value": " 100/100 [00:00&lt;00:00, 318.60it/s]"
      }
     },
     "ddfb4c6051da4663910413a90828edc2": {
      "model_module": "@jupyter-widgets/base",
      "model_module_version": "1.2.0",
      "model_name": "LayoutModel",
      "state": {}
     },
     "dea9efba30824a419ff15eba2782b521": {
      "model_module": "@jupyter-widgets/base",
      "model_module_version": "1.2.0",
      "model_name": "LayoutModel",
      "state": {}
     },
     "dec28044fe5241f3a0a87373619528bd": {
      "model_module": "@jupyter-widgets/controls",
      "model_module_version": "1.5.0",
      "model_name": "FloatProgressModel",
      "state": {
       "bar_style": "success",
       "description": "Calculating control matrix: 100%",
       "layout": "IPY_MODEL_d6462493a1a049a3a78635d83ad87fe7",
       "max": 250,
       "style": "IPY_MODEL_d41073d6eeaf44da9d61c9fbbc1e1c7e",
       "value": 250
      }
     },
     "e073898a0d0148bbbb4f4d021e2465a3": {
      "model_module": "@jupyter-widgets/controls",
      "model_module_version": "1.5.0",
      "model_name": "FloatProgressModel",
      "state": {
       "bar_style": "success",
       "layout": "IPY_MODEL_f7d4b3f898014eb7aeeba3cc50944f67",
       "style": "IPY_MODEL_78df1c3c0c9446159c2f85bc9313668c",
       "value": 100
      }
     },
     "e11fd38e03a1463da7b32a07f11291c7": {
      "model_module": "@jupyter-widgets/controls",
      "model_module_version": "1.5.0",
      "model_name": "HBoxModel",
      "state": {
       "children": [
        "IPY_MODEL_f8e6da6c52fa46c38bffa320e46065e6",
        "IPY_MODEL_b30e488103394245aa08e1b2bfc6b952"
       ],
       "layout": "IPY_MODEL_10f9f84005604195a65826baa8f5ce0d"
      }
     },
     "e1792371b22344a3b32c7a003337636e": {
      "model_module": "@jupyter-widgets/controls",
      "model_module_version": "1.5.0",
      "model_name": "HTMLModel",
      "state": {
       "style": "IPY_MODEL_bbb9f53916e2410fa23cad4206e9ab57",
       "value": " 100/100 [00:00&lt;00:00, 346.30it/s]"
      }
     },
     "e195764e1619408099f071bbc124560b": {
      "model_module": "@jupyter-widgets/base",
      "model_module_version": "1.2.0",
      "model_name": "LayoutModel",
      "state": {}
     },
     "e19d61a022d543889a4920e25fd360bb": {
      "model_module": "@jupyter-widgets/controls",
      "model_module_version": "1.5.0",
      "model_name": "HTMLModel",
      "state": {
       "layout": "IPY_MODEL_e43b614a4c05402ab39347c45ec29287",
       "value": "Calculating second order FF: 100%"
      }
     },
     "e1b12cb7615f442c802bfec0c1fe71c5": {
      "model_module": "@jupyter-widgets/base",
      "model_module_version": "1.2.0",
      "model_name": "LayoutModel",
      "state": {}
     },
     "e1cbf2cbf5c4440c8c064b6eca95b383": {
      "model_module": "@jupyter-widgets/controls",
      "model_module_version": "1.5.0",
      "model_name": "ProgressStyleModel",
      "state": {
       "description_width": ""
      }
     },
     "e1f3ca6c5fb4467c985be6bde6a550f6": {
      "model_module": "@jupyter-widgets/controls",
      "model_module_version": "1.5.0",
      "model_name": "HBoxModel",
      "state": {
       "children": [
        "IPY_MODEL_bb92eef28b5849ebae21c5631be55b03",
        "IPY_MODEL_27552bd371364250a134c8c56d087717",
        "IPY_MODEL_3d66ee227eeb4b8b8c77a821e91f5a16"
       ],
       "layout": "IPY_MODEL_47f25fc200d24f068ecd6fe495d5df5c"
      }
     },
     "e2452189541c4312b604fd9af24b9ad3": {
      "model_module": "@jupyter-widgets/controls",
      "model_module_version": "1.5.0",
      "model_name": "ProgressStyleModel",
      "state": {
       "description_width": "initial"
      }
     },
     "e3533eace32b420492a483aa356ebd8e": {
      "model_module": "@jupyter-widgets/controls",
      "model_module_version": "1.5.0",
      "model_name": "HTMLModel",
      "state": {
       "layout": "IPY_MODEL_1a72225bfa1c4f6c98a1a53385ca7d5c",
       "style": "IPY_MODEL_958d658b6f47417c82bcff2f88415e6d",
       "value": " 100/100 [00:00&lt;00:00, 107.70it/s]"
      }
     },
     "e3d363e6f39041358b34b072b11473ba": {
      "model_module": "@jupyter-widgets/controls",
      "model_module_version": "1.5.0",
      "model_name": "HTMLModel",
      "state": {
       "layout": "IPY_MODEL_6712341e92fd4eca96190e51d2b47479",
       "style": "IPY_MODEL_fd3b104f4cd742ef8283cabd35778a3e",
       "value": " 250/250 [00:02&lt;00:00, 104.19it/s]"
      }
     },
     "e410d0f51e644e978d5887ed06676790": {
      "model_module": "@jupyter-widgets/base",
      "model_module_version": "1.2.0",
      "model_name": "LayoutModel",
      "state": {}
     },
     "e414601f19b54a8fa69f5969d450d68a": {
      "model_module": "@jupyter-widgets/controls",
      "model_module_version": "1.5.0",
      "model_name": "HBoxModel",
      "state": {
       "children": [
        "IPY_MODEL_d8fb2a7b4ba548bd95e5572259451725",
        "IPY_MODEL_d37c889259e2477e929b73d6f20fe676",
        "IPY_MODEL_5d76382b204547ac9fc0f216a1f7af78"
       ],
       "layout": "IPY_MODEL_fd0f19709ac3402ea1d591d1afadc3cd"
      }
     },
     "e43b614a4c05402ab39347c45ec29287": {
      "model_module": "@jupyter-widgets/base",
      "model_module_version": "1.2.0",
      "model_name": "LayoutModel",
      "state": {}
     },
     "e4c3053f27bd4b80aecc76aabf38ff24": {
      "model_module": "@jupyter-widgets/controls",
      "model_module_version": "1.5.0",
      "model_name": "FloatProgressModel",
      "state": {
       "bar_style": "success",
       "layout": "IPY_MODEL_47e317cd69614c74bbbb936f7aff5437",
       "style": "IPY_MODEL_e6853e878fe64639a968c38a866d759d",
       "value": 100
      }
     },
     "e51f56c3c99847828cc1e8cf25f40638": {
      "model_module": "@jupyter-widgets/base",
      "model_module_version": "1.2.0",
      "model_name": "LayoutModel",
      "state": {}
     },
     "e550b83f3d1342a589555b9ea5fff6c4": {
      "model_module": "@jupyter-widgets/base",
      "model_module_version": "1.2.0",
      "model_name": "LayoutModel",
      "state": {}
     },
     "e5ebafdb8e4a4949842d3eb2415b1008": {
      "model_module": "@jupyter-widgets/controls",
      "model_module_version": "1.5.0",
      "model_name": "FloatProgressModel",
      "state": {
       "bar_style": "success",
       "description": "Calculating control matrix: 100%",
       "layout": "IPY_MODEL_4f53e78928944596ae655bb7601be04c",
       "max": 250,
       "style": "IPY_MODEL_2b1db76992fc4aeab66647f3c1256c92",
       "value": 250
      }
     },
     "e6419211aba0471d8401b705ecc233ba": {
      "model_module": "@jupyter-widgets/controls",
      "model_module_version": "1.5.0",
      "model_name": "DescriptionStyleModel",
      "state": {
       "description_width": ""
      }
     },
     "e66453e743054dedb04adb9877e8708c": {
      "model_module": "@jupyter-widgets/base",
      "model_module_version": "1.2.0",
      "model_name": "LayoutModel",
      "state": {}
     },
     "e6725e1448a84ef3937c7139da7fc192": {
      "model_module": "@jupyter-widgets/controls",
      "model_module_version": "1.5.0",
      "model_name": "HBoxModel",
      "state": {
       "children": [
        "IPY_MODEL_7c4d49960fd94b27a2af44cad1f60be0",
        "IPY_MODEL_077dbd79885945fba8d4c40032f33716"
       ],
       "layout": "IPY_MODEL_ac51a214d70543889492a82cd8b9237d"
      }
     },
     "e67e41125ac046f2b985e308babec027": {
      "model_module": "@jupyter-widgets/controls",
      "model_module_version": "1.5.0",
      "model_name": "DescriptionStyleModel",
      "state": {
       "description_width": ""
      }
     },
     "e6853e878fe64639a968c38a866d759d": {
      "model_module": "@jupyter-widgets/controls",
      "model_module_version": "1.5.0",
      "model_name": "ProgressStyleModel",
      "state": {
       "description_width": ""
      }
     },
     "e6deabb3392040c282c712aefc0e08d8": {
      "model_module": "@jupyter-widgets/controls",
      "model_module_version": "1.5.0",
      "model_name": "DescriptionStyleModel",
      "state": {
       "description_width": ""
      }
     },
     "e7a2dbafa4034b27a80a70938b8116fe": {
      "model_module": "@jupyter-widgets/controls",
      "model_module_version": "1.5.0",
      "model_name": "HTMLModel",
      "state": {
       "layout": "IPY_MODEL_0b0b723302134f82b6c2bc9d03109257",
       "style": "IPY_MODEL_515749e2b24046db8cff3aa6cbf14d65",
       "value": "Calculating control matrix: 100%"
      }
     },
     "e7aff010b8aa4c1d8f33053fa4a208ce": {
      "model_module": "@jupyter-widgets/controls",
      "model_module_version": "1.5.0",
      "model_name": "HTMLModel",
      "state": {
       "layout": "IPY_MODEL_96cec666c257494684f2d83db6d12d6a",
       "style": "IPY_MODEL_ac1245348fe1475785d419dba0beed59",
       "value": "Calculating control matrix: 100%"
      }
     },
     "e86b0e2315e14234917b452296f712b1": {
      "model_module": "@jupyter-widgets/base",
      "model_module_version": "1.2.0",
      "model_name": "LayoutModel",
      "state": {}
     },
     "e92bcb3a21c64781ae83bc53789bda46": {
      "model_module": "@jupyter-widgets/controls",
      "model_module_version": "1.5.0",
      "model_name": "HBoxModel",
      "state": {
       "children": [
        "IPY_MODEL_dbfe9488e215404f86597e2db96fc41d",
        "IPY_MODEL_ac6ed85234924dc5adc05a6eabd4b1a6",
        "IPY_MODEL_6658b7b5e6004e6ca781f0c32a38c561"
       ],
       "layout": "IPY_MODEL_c88f7e9fb92348fea3172e2a3841451d"
      }
     },
     "ea53e40fa0ae470c944633c4fb807836": {
      "model_module": "@jupyter-widgets/base",
      "model_module_version": "1.2.0",
      "model_name": "LayoutModel",
      "state": {}
     },
     "eb2ca4e4eabc49e5bec6d877ff0f6aa1": {
      "model_module": "@jupyter-widgets/controls",
      "model_module_version": "1.5.0",
      "model_name": "HTMLModel",
      "state": {
       "layout": "IPY_MODEL_147a75f63b9f41998ec3e61a67b19f58",
       "style": "IPY_MODEL_a02215daecd74ee58f17b329fb4b8c53",
       "value": " 250/250 [00:01&lt;00:00, 203.52it/s]"
      }
     },
     "eb911820fd7b4287a72a7343806d08b4": {
      "model_module": "@jupyter-widgets/controls",
      "model_module_version": "1.5.0",
      "model_name": "DescriptionStyleModel",
      "state": {
       "description_width": ""
      }
     },
     "ebb999ba151d4a90b7917e61dee69ae0": {
      "model_module": "@jupyter-widgets/controls",
      "model_module_version": "1.5.0",
      "model_name": "FloatProgressModel",
      "state": {
       "bar_style": "success",
       "description": "Calculating control matrix: 100%",
       "layout": "IPY_MODEL_8fc1aff1588e49a980af284d87f94e5d",
       "style": "IPY_MODEL_8c090ca1fb234f1cae4b1a1ec3690bd1",
       "value": 100
      }
     },
     "ec4f4e8d26f04171b96e62b579c51724": {
      "model_module": "@jupyter-widgets/controls",
      "model_module_version": "1.5.0",
      "model_name": "DescriptionStyleModel",
      "state": {
       "description_width": ""
      }
     },
     "ecb8d338d3044f42b2e6284385b9b141": {
      "model_module": "@jupyter-widgets/controls",
      "model_module_version": "1.5.0",
      "model_name": "HBoxModel",
      "state": {
       "children": [
        "IPY_MODEL_e5ebafdb8e4a4949842d3eb2415b1008",
        "IPY_MODEL_f0c69fa9ec32410e83140f8bd6f14924"
       ],
       "layout": "IPY_MODEL_504df4491dfe4de9a6f0cb6a83c4acdd"
      }
     },
     "ed5e25dec46b4d2fb51a8ea59d0d8a44": {
      "model_module": "@jupyter-widgets/controls",
      "model_module_version": "1.5.0",
      "model_name": "HBoxModel",
      "state": {
       "children": [
        "IPY_MODEL_cdb03500d95d427fb2019f8e972460e2",
        "IPY_MODEL_ad742738ab524e108cbcaa8e7a822636",
        "IPY_MODEL_afa11ea71fbe4b6a8baef755f1bcfc64"
       ],
       "layout": "IPY_MODEL_d5b366f0bac446a586b3d925f038ae18"
      }
     },
     "edbd3b05bbdc493090132eef01ede114": {
      "model_module": "@jupyter-widgets/controls",
      "model_module_version": "1.5.0",
      "model_name": "FloatProgressModel",
      "state": {
       "bar_style": "success",
       "layout": "IPY_MODEL_03e89ad9308543d980cf86c3d20a70cc",
       "style": "IPY_MODEL_6c08d70a1ec949e6818e74945aa318cf",
       "value": 100
      }
     },
     "ee309959db034e81929a263c9863f444": {
      "model_module": "@jupyter-widgets/controls",
      "model_module_version": "1.5.0",
      "model_name": "HTMLModel",
      "state": {
       "layout": "IPY_MODEL_2f23a70515744a7cb1575695d1b676d8",
       "style": "IPY_MODEL_a55324c8c94346b68b0aeae577e1191f",
       "value": " 100/100 [00:00&lt;00:00, 341.23it/s]"
      }
     },
     "eee129c3d29543fea0216f612b116ee7": {
      "model_module": "@jupyter-widgets/base",
      "model_module_version": "1.2.0",
      "model_name": "LayoutModel",
      "state": {}
     },
     "ef0d0e1104534626ae5992b10ab18c0c": {
      "model_module": "@jupyter-widgets/controls",
      "model_module_version": "1.5.0",
      "model_name": "ProgressStyleModel",
      "state": {
       "description_width": "initial"
      }
     },
     "ef85d932ff724922b9ddad7a7987a58a": {
      "model_module": "@jupyter-widgets/controls",
      "model_module_version": "1.5.0",
      "model_name": "DescriptionStyleModel",
      "state": {
       "description_width": ""
      }
     },
     "efb81ac2fc83448cbfa8b35bb5bdf662": {
      "model_module": "@jupyter-widgets/controls",
      "model_module_version": "1.5.0",
      "model_name": "HTMLModel",
      "state": {
       "layout": "IPY_MODEL_4d50b1a6eafd402489a5da8582282367",
       "style": "IPY_MODEL_615b83b8f71d46c98c60a888aa8ade30",
       "value": " 100/100 [00:00&lt;00:00, 427.64it/s]"
      }
     },
     "f0c69fa9ec32410e83140f8bd6f14924": {
      "model_module": "@jupyter-widgets/controls",
      "model_module_version": "1.5.0",
      "model_name": "HTMLModel",
      "state": {
       "layout": "IPY_MODEL_5e7f1a0b62814e24bd16f80ade80fd6b",
       "style": "IPY_MODEL_4beea64560f7486187447f7abfb691e5",
       "value": " 250/250 [00:02&lt;00:00, 118.46it/s]"
      }
     },
     "f13e62871f22488ba5c5547fec20f4a7": {
      "model_module": "@jupyter-widgets/controls",
      "model_module_version": "1.5.0",
      "model_name": "FloatProgressModel",
      "state": {
       "bar_style": "success",
       "description": "Calculating control matrix: 100%",
       "layout": "IPY_MODEL_1dc3491e8213471a969247d4b0f6dfe5",
       "max": 250,
       "style": "IPY_MODEL_98c61252c52c4104a9f9e17ac4d51567",
       "value": 250
      }
     },
     "f19f32564d6c4fe386e7efa28b809e11": {
      "model_module": "@jupyter-widgets/base",
      "model_module_version": "1.2.0",
      "model_name": "LayoutModel",
      "state": {}
     },
     "f2227a2cbbac433d935091dd1708c938": {
      "model_module": "@jupyter-widgets/controls",
      "model_module_version": "1.5.0",
      "model_name": "HTMLModel",
      "state": {
       "layout": "IPY_MODEL_d174ff26283045f9b90986b63e202f61",
       "style": "IPY_MODEL_0762953ce076440987c6e38195ce83c9",
       "value": " 100/100 [00:01&lt;00:00, 67.95it/s]"
      }
     },
     "f29f4e64a3c240bfb9407ada724f8945": {
      "model_module": "@jupyter-widgets/controls",
      "model_module_version": "1.5.0",
      "model_name": "ProgressStyleModel",
      "state": {
       "description_width": "initial"
      }
     },
     "f2b102211c914dcd886d9bfa5e57ba28": {
      "model_module": "@jupyter-widgets/controls",
      "model_module_version": "1.5.0",
      "model_name": "DescriptionStyleModel",
      "state": {
       "description_width": ""
      }
     },
     "f2b839c695cd4331a458d7669c3618be": {
      "model_module": "@jupyter-widgets/base",
      "model_module_version": "1.2.0",
      "model_name": "LayoutModel",
      "state": {}
     },
     "f3019291f347489ab0a4336ee1ce9cbb": {
      "model_module": "@jupyter-widgets/controls",
      "model_module_version": "1.5.0",
      "model_name": "HTMLModel",
      "state": {
       "value": " 100/100 [00:00&lt;00:00, 286.99it/s]"
      }
     },
     "f43aaee98b3543039922495cd53d0c33": {
      "model_module": "@jupyter-widgets/controls",
      "model_module_version": "1.5.0",
      "model_name": "FloatProgressModel",
      "state": {
       "bar_style": "success",
       "description": "Calculating control matrix: 100%",
       "layout": "IPY_MODEL_b8efcbe25a1a48e98aa776f57b5c0362",
       "style": "IPY_MODEL_f7d03d9541b34d8281defe2a35176bbc",
       "value": 100
      }
     },
     "f4eae7193e494a3ea4a01bec535e5db9": {
      "model_module": "@jupyter-widgets/controls",
      "model_module_version": "1.5.0",
      "model_name": "DescriptionStyleModel",
      "state": {
       "description_width": ""
      }
     },
     "f5e08944a82f49a58fe64ee18d8de852": {
      "model_module": "@jupyter-widgets/controls",
      "model_module_version": "1.5.0",
      "model_name": "DescriptionStyleModel",
      "state": {
       "description_width": ""
      }
     },
     "f5ffae168348477881030361f04ce1f9": {
      "model_module": "@jupyter-widgets/controls",
      "model_module_version": "1.5.0",
      "model_name": "HBoxModel",
      "state": {
       "children": [
        "IPY_MODEL_4f605084e3144caf990cdc1407cdaa99",
        "IPY_MODEL_8eef468e64a34ae68b425d16a191c813",
        "IPY_MODEL_97bd59be80c44225a08731c052509caf"
       ],
       "layout": "IPY_MODEL_6b8dafe839da4f70973849f12f7a243b"
      }
     },
     "f740bae29d1f4e17ba1f51e6f0203a8b": {
      "model_module": "@jupyter-widgets/base",
      "model_module_version": "1.2.0",
      "model_name": "LayoutModel",
      "state": {}
     },
     "f7d03d9541b34d8281defe2a35176bbc": {
      "model_module": "@jupyter-widgets/controls",
      "model_module_version": "1.5.0",
      "model_name": "ProgressStyleModel",
      "state": {
       "description_width": "initial"
      }
     },
     "f7d4b3f898014eb7aeeba3cc50944f67": {
      "model_module": "@jupyter-widgets/base",
      "model_module_version": "1.2.0",
      "model_name": "LayoutModel",
      "state": {}
     },
     "f820ad6b70cb48648defcc94f745a951": {
      "model_module": "@jupyter-widgets/controls",
      "model_module_version": "1.5.0",
      "model_name": "HTMLModel",
      "state": {
       "layout": "IPY_MODEL_78fe6f0ea2c04e2ebe74f9e4faf2dcfb",
       "style": "IPY_MODEL_0dc28bbab3114ad78a4593090933e8cd",
       "value": " 100/100 [00:00&lt;00:00, 155.00it/s]"
      }
     },
     "f8e6da6c52fa46c38bffa320e46065e6": {
      "model_module": "@jupyter-widgets/controls",
      "model_module_version": "1.5.0",
      "model_name": "FloatProgressModel",
      "state": {
       "bar_style": "success",
       "description": "Calculating control matrix: 100%",
       "layout": "IPY_MODEL_dea9efba30824a419ff15eba2782b521",
       "style": "IPY_MODEL_08468d9aac9048c79585de8f9ff16191",
       "value": 100
      }
     },
     "f8e76ad75de94507b2d927a3b905c26e": {
      "model_module": "@jupyter-widgets/controls",
      "model_module_version": "1.5.0",
      "model_name": "ProgressStyleModel",
      "state": {
       "description_width": ""
      }
     },
     "f95bb7b88b1f4923a3bcdeb26814f288": {
      "model_module": "@jupyter-widgets/controls",
      "model_module_version": "1.5.0",
      "model_name": "DescriptionStyleModel",
      "state": {
       "description_width": ""
      }
     },
     "f96125325d2c44f98d720f8e49bca8e4": {
      "model_module": "@jupyter-widgets/base",
      "model_module_version": "1.2.0",
      "model_name": "LayoutModel",
      "state": {}
     },
     "f9c4e1ee6c324211845bb9e9beb0ced1": {
      "model_module": "@jupyter-widgets/controls",
      "model_module_version": "1.5.0",
      "model_name": "ProgressStyleModel",
      "state": {
       "description_width": "initial"
      }
     },
     "fa3076a1f46c42cdaf403e954636a5a3": {
      "model_module": "@jupyter-widgets/controls",
      "model_module_version": "1.5.0",
      "model_name": "DescriptionStyleModel",
      "state": {
       "description_width": ""
      }
     },
     "fb020e66422a48a991ed391e98df7bc1": {
      "model_module": "@jupyter-widgets/controls",
      "model_module_version": "1.5.0",
      "model_name": "FloatProgressModel",
      "state": {
       "bar_style": "success",
       "layout": "IPY_MODEL_fbc4be2fa9d24b069c011715219d4c75",
       "style": "IPY_MODEL_700235b4b79644a2bbb71c4af0913559",
       "value": 100
      }
     },
     "fb40eec3a61542b6a5c74bd9216fac21": {
      "model_module": "@jupyter-widgets/controls",
      "model_module_version": "1.5.0",
      "model_name": "HBoxModel",
      "state": {
       "children": [
        null,
        "IPY_MODEL_d23d505e256a469c87f876003bf63d18",
        "IPY_MODEL_804cf1ad2dd94cce898566c27616dc52"
       ],
       "layout": "IPY_MODEL_8a4b1dd95b01415eb4e85d98d47233bd"
      }
     },
     "fbc4be2fa9d24b069c011715219d4c75": {
      "model_module": "@jupyter-widgets/base",
      "model_module_version": "1.2.0",
      "model_name": "LayoutModel",
      "state": {}
     },
     "fbf49844666d43bfb04be6212dc9b267": {
      "model_module": "@jupyter-widgets/base",
      "model_module_version": "1.2.0",
      "model_name": "LayoutModel",
      "state": {}
     },
     "fd0f19709ac3402ea1d591d1afadc3cd": {
      "model_module": "@jupyter-widgets/base",
      "model_module_version": "1.2.0",
      "model_name": "LayoutModel",
      "state": {}
     },
     "fd2f2ec4391f47f59782ba0baf34a5eb": {
      "model_module": "@jupyter-widgets/controls",
      "model_module_version": "1.5.0",
      "model_name": "FloatProgressModel",
      "state": {
       "bar_style": "success",
       "layout": "IPY_MODEL_8a3cca53bdcd4e2ab16e888b79c5cd81",
       "style": "IPY_MODEL_3a97ce6562154ac5a6ca74ca8d621fcf",
       "value": 100
      }
     },
     "fd3049739d764a54ab52eaaf41cf5124": {
      "model_module": "@jupyter-widgets/controls",
      "model_module_version": "1.5.0",
      "model_name": "FloatProgressModel",
      "state": {
       "bar_style": "success",
       "layout": "IPY_MODEL_4a3f1f8ef2554d4da53859e07fe8af9b",
       "value": 100
      }
     },
     "fd3b104f4cd742ef8283cabd35778a3e": {
      "model_module": "@jupyter-widgets/controls",
      "model_module_version": "1.5.0",
      "model_name": "DescriptionStyleModel",
      "state": {
       "description_width": ""
      }
     },
     "fde014a6364841ef97f45b568b6e282f": {
      "model_module": "@jupyter-widgets/controls",
      "model_module_version": "1.5.0",
      "model_name": "HBoxModel",
      "state": {
       "children": [
        "IPY_MODEL_d7e3a79a322c40dfb1a9f92f597f7f7c",
        "IPY_MODEL_e3d363e6f39041358b34b072b11473ba"
       ],
       "layout": "IPY_MODEL_49c4727113ba471581e203c36704e746"
      }
     },
     "fe4353d7aa5b4f1899bf1f0ee8aca7f8": {
      "model_module": "@jupyter-widgets/base",
      "model_module_version": "1.2.0",
      "model_name": "LayoutModel",
      "state": {}
     },
     "feafc0ba21b04c30bf13087f4db8c9f9": {
      "model_module": "@jupyter-widgets/base",
      "model_module_version": "1.2.0",
      "model_name": "LayoutModel",
      "state": {}
     },
     "fed7ae2c33224c6b89673e84a462f8b7": {
      "model_module": "@jupyter-widgets/controls",
      "model_module_version": "1.5.0",
      "model_name": "HTMLModel",
      "state": {
       "layout": "IPY_MODEL_951ab5a32e2e4fe2b5d6a3bd4ac2fdfa",
       "style": "IPY_MODEL_a896fc57e9724a71ba7e8048f213f604",
       "value": " 100/100 [00:35&lt;00:00,  2.76it/s]"
      }
     }
    },
    "version_major": 2,
    "version_minor": 0
   }
  }
 },
 "nbformat": 4,
 "nbformat_minor": 4
}
