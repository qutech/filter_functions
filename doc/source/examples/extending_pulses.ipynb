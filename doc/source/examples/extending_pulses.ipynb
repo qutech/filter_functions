{
 "cells": [
  {
   "cell_type": "markdown",
   "metadata": {},
   "source": [
    "# Extending pulses\n",
    "This example notebook demonstrates how to remap and extend pulses to different qubits. That is, we can map several ``PulseSequence`` instances to different qubits, thus extending existing pulses defined on different Hilbert spaces, or permute the qubit register a pulse is defined on, without having to define new pulses on the larger Hilbert space.\n",
    "\n",
    "The functionality is provided by `remap` and `extend`, which, similar to `concatenate`, automatically cache the control matrix and diagonalization attributes for the extended pulse if they are also cached for the mapped pulses. This is only possible for separable bases, that is, bases that can be written as $\\mathcal{C}_n = \\mathcal{C}_1^{\\otimes n}$ with $\\mathcal{C}_1$ the basis for a single qubit. Currently, the only implemented basis that fulfills this criterium is the Pauli basis $\\mathcal{P}_n = \\lbrace\\mathbb{1},\\sigma_x,\\sigma_y,\\sigma_z\\rbrace^{\\otimes n}/d^\\frac{n}{2}$.\n",
    "\n",
    "Concretely, we will define a simple SWAP pulse that will swap the outer two and inner two qubits of a four-qubit register, such as is needed in a QFT.\n",
    "\n",
    "We start by defining some one- and two-qubit pulses that we would like to map together to form a single pulse on a four-qubit register."
   ]
  },
  {
   "cell_type": "code",
   "execution_count": null,
   "metadata": {},
   "outputs": [],
   "source": [
    "import numpy as np\n",
    "from qutip.qip import operations\n",
    "\n",
    "import filter_functions as ff\n",
    "from filter_functions import util\n",
    "\n",
    "I, X, Y, Z = util.paulis\n",
    "\n",
    "# In order to be able to remap cached filter functions, we need a separable\n",
    "# basis like the Pauli basis\n",
    "hadamard_1 = ff.PulseSequence(\n",
    "    [[X, [np.pi/2/np.sqrt(2)], 'X'],\n",
    "     [Z, [np.pi/2/np.sqrt(2)], 'Z']],\n",
    "    [[X, [1], 'X'],\n",
    "     [Z, [1], 'Z']],\n",
    "    [1],\n",
    "    basis=ff.Basis.pauli(1)\n",
    ")\n",
    "\n",
    "cphase_12 = ff.PulseSequence(\n",
    "    [[util.tensor(Z, Z), [np.pi/4], 'ZZ'],\n",
    "     [util.tensor(Z, I), [-np.pi/4], 'ZI'],\n",
    "     [util.tensor(I, Z), [-np.pi/4], 'IZ']],\n",
    "    [[util.tensor(X, I), [1], 'XI'],\n",
    "     [util.tensor(Z, I), [1], 'ZI'],\n",
    "     [util.tensor(I, X), [1], 'IX'],\n",
    "     [util.tensor(I, Z), [1], 'IZ']],\n",
    "    [1],\n",
    "    basis=ff.Basis.pauli(2)\n",
    ")"
   ]
  },
  {
   "cell_type": "markdown",
   "metadata": {},
   "source": [
    "We now have all the atomic pulses that are required for a SWAP gate. In order to do as little computational work as possible, we cache the filter functions of those pulses now so that we do not need to explicitly calculate them again for the SWAP pulse."
   ]
  },
  {
   "cell_type": "code",
   "execution_count": null,
   "metadata": {},
   "outputs": [],
   "source": [
    "omega = np.geomspace(1/20, 20, 1001)\n",
    "hadamard_1.cache_filter_function(omega)\n",
    "cphase_12.cache_filter_function(omega)"
   ]
  },
  {
   "cell_type": "markdown",
   "metadata": {},
   "source": [
    "Now in order to build the SWAP gate we first have to extend the Hadamard pulse to two qubits in order to transform the controlled-Z gate to a controlled-X gate. As mentioned above, this can be achieved using ``extend``. The function's only positional argument is a mapping of ``PulseSequence``s to qubits in a list of lists format similar to the Hamiltonian format required by the ``PulseSequence`` constructor. In this case, we want to map the Hadamard pulse to the second qubit (indexed by `1`). By default, operator identifiers are mapped by appending the qubit index to the identifier. We can also supply a custom mapping as a third element of each tuple, ``(pulse, qubit, mapping)``.\n",
    "\n",
    "Moreover, we want to keep track of the same noise operators on the first qubit as we do for `cphase_12`, i.e. $\\sigma_x\\otimes\\mathbb{1}$ and $\\sigma_z\\otimes\\mathbb{1}$ and thus pass those to the function as an additional noise Hamiltonian (by default, only the original single-qubit noise operators would be extended to the second qubit, that is, $\\mathbb{1}\\otimes\\sigma_x$ and $\\mathbb{1}\\otimes\\sigma_z$)."
   ]
  },
  {
   "cell_type": "code",
   "execution_count": null,
   "metadata": {},
   "outputs": [],
   "source": [
    "hadamard_2 = ff.extend(\n",
    "    [(hadamard_1, 1, dict(X='IX', Z='IZ'))],\n",
    "    additional_noise_Hamiltonian=[[util.tensor(X, I), [1], 'XI'],\n",
    "                                  [util.tensor(Z, I), [1], 'ZI']]\n",
    ")"
   ]
  },
  {
   "cell_type": "markdown",
   "metadata": {},
   "source": [
    "Since ``hadamard`` has cached filter functions, they are also automatically cached for the extended pulse,"
   ]
  },
  {
   "cell_type": "code",
   "execution_count": null,
   "metadata": {},
   "outputs": [],
   "source": [
    "print(hadamard_2.is_cached('F'))"
   ]
  },
  {
   "cell_type": "markdown",
   "metadata": {},
   "source": [
    "and the extended pulse has the following control and noise operators:"
   ]
  },
  {
   "cell_type": "code",
   "execution_count": null,
   "metadata": {},
   "outputs": [],
   "source": [
    "print(hadamard_2.c_oper_identifiers)\n",
    "print(hadamard_2.n_oper_identifiers)"
   ]
  },
  {
   "cell_type": "markdown",
   "metadata": {},
   "source": [
    "We can now sandwich the CZ pulse between two Hadamards to transform it to a CNOT and assert the pulse does what it is supposed to by checking the total propagator:"
   ]
  },
  {
   "cell_type": "code",
   "execution_count": null,
   "metadata": {},
   "outputs": [],
   "source": [
    "cnot_12 = hadamard_2 @ cphase_12 @ hadamard_2\n",
    "util.oper_equiv(cnot_12.total_Q, operations.cnot(control=0, target=1))"
   ]
  },
  {
   "cell_type": "markdown",
   "metadata": {},
   "source": [
    "The SWAP gates that we want to implement can be compiled from three CNOTs like follows:\n",
    "\n",
    "$$\n",
    "\\text{SWAP}(1, 2) = \\text{CNOT}(1, 2)\\circ\\text{CNOT}(2, 1)\\circ\\text{CNOT}(1, 2)\n",
    "$$\n",
    "\n",
    "Thus, we need to reverse the qubits that `cnot_12` is defined on. For this, we use `remap`, which takes a `PulseSequence` instance and a permutation as arguments. Again, we can optionally supply an identifier mapping. In our case, since we only want to reverse the order of the qubits, we map the first to the second and the second to the last qubit and again check the total propagator:"
   ]
  },
  {
   "cell_type": "code",
   "execution_count": null,
   "metadata": {},
   "outputs": [],
   "source": [
    "mapping = {}\n",
    "# We just reverse the order of the qubits, so just reverse the identifiers\n",
    "mapping.update({i: i[::-1] for i in cnot_12.c_oper_identifiers})\n",
    "mapping.update({i: i[::-1] for i in cnot_12.n_oper_identifiers})\n",
    "\n",
    "cnot_21 = ff.remap(cnot_12, (1, 0), oper_identifier_mapping=mapping)\n",
    "\n",
    "util.oper_equiv(cnot_21.total_Q, operations.cnot(control=1, target=0))\n",
    "print(cnot_21.c_oper_identifiers, cnot_21.n_oper_identifiers, sep='\\t')"
   ]
  },
  {
   "cell_type": "markdown",
   "metadata": {},
   "source": [
    "Finally, we can define the SWAP gate and use `extend` to get the pulse that swaps the first two and last two qubits on a four-qubit register."
   ]
  },
  {
   "cell_type": "code",
   "execution_count": null,
   "metadata": {},
   "outputs": [],
   "source": [
    "swap_12 = ff.concatenate((cnot_12, cnot_21, cnot_12))\n",
    "all_identifiers = (cnot_21.c_oper_identifiers.tolist() +\n",
    "                   cnot_21.n_oper_identifiers.tolist())\n",
    "\n",
    "swap_14_23 = ff.extend(\n",
    "    [(swap_12, (0, 3), {i: i[0] + 'II' + i[1] for i in all_identifiers}),\n",
    "     (swap_12, (1, 2), {i: 'I' + i + 'I' for i in all_identifiers})]\n",
    ")\n",
    "print(swap_14_23.c_oper_identifiers, swap_14_23.n_oper_identifiers, sep='\\n')"
   ]
  },
  {
   "cell_type": "markdown",
   "metadata": {},
   "source": [
    "As before, the filter function is already cached:"
   ]
  },
  {
   "cell_type": "code",
   "execution_count": null,
   "metadata": {},
   "outputs": [],
   "source": [
    "from filter_functions import plotting\n",
    "\n",
    "print(swap_14_23.is_cached('F'))\n",
    "_ = plotting.plot_filter_function(swap_14_23)"
   ]
  }
 ],
 "metadata": {
  "kernelspec": {
   "display_name": "Python 3",
   "language": "python",
   "name": "python3"
  },
  "language_info": {
   "codemirror_mode": {
    "name": "ipython",
    "version": 3
   },
   "file_extension": ".py",
   "mimetype": "text/x-python",
   "name": "python",
   "nbconvert_exporter": "python",
   "pygments_lexer": "ipython3",
   "version": "3.8.3"
  }
 },
 "nbformat": 4,
 "nbformat_minor": 2
}
